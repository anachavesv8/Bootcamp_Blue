{
 "cells": [
  {
   "cell_type": "code",
   "execution_count": 120,
   "metadata": {},
   "outputs": [],
   "source": [
    "import pandas as pd\n",
    "import random \n",
    "import numpy as np\n",
    "import re\n"
   ]
  },
  {
   "cell_type": "code",
   "execution_count": 121,
   "metadata": {},
   "outputs": [],
   "source": [
    "from sklearn.model_selection import train_test_split\n",
    "from sklearn.feature_extraction.text import TfidfVectorizer, CountVectorizer\n",
    "from sklearn.preprocessing import OneHotEncoder\n",
    "from sklearn.compose import ColumnTransformer, make_column_transformer\n",
    "from sklearn.pipeline import Pipeline, make_pipeline\n"
   ]
  },
  {
   "cell_type": "code",
   "execution_count": 122,
   "metadata": {},
   "outputs": [],
   "source": [
    "import spacy\n",
    "from spacy import displacy\n",
    "nlp = spacy.load('en_core_web_sm')"
   ]
  },
  {
   "cell_type": "code",
   "execution_count": 155,
   "metadata": {},
   "outputs": [],
   "source": [
    "from sklearn.linear_model import LinearRegression\n",
    "from sklearn.ensemble import RandomForestRegressor"
   ]
  },
  {
   "cell_type": "code",
   "execution_count": 124,
   "metadata": {},
   "outputs": [],
   "source": [
    "train = pd.read_csv(r\"C:\\Users\\angel\\Desktop\\bootcamp\\train.tsv\", sep='\\t')\n",
    "test = pd.read_csv(r\"C:\\Users\\angel\\Desktop\\bootcamp\\test.tsv\", sep='\\t')"
   ]
  },
  {
   "cell_type": "code",
   "execution_count": 125,
   "metadata": {},
   "outputs": [],
   "source": [
    "\n",
    "def data(n, seed):\n",
    "\n",
    "    datas = []\n",
    "    \n",
    "    random.seed(seed)\n",
    "    for i in range(n):\n",
    "        dia_maximo = 30\n",
    "        dia_minimo = 1\n",
    "        mes_maximo = 12\n",
    "        mes_minimo = 1\n",
    "        \n",
    "        dia = int(round(random.random() * (dia_maximo - dia_minimo) + dia_minimo, 0))\n",
    "        mes = int(round(random.random() * (mes_maximo - mes_minimo) + mes_minimo, 0))\n",
    "        \n",
    "        datas.append(str(dia)+'-'+str(mes)+'-2018')\n",
    "        \n",
    "    return datas\n",
    "\n",
    "def estoque(n, seed):\n",
    "\n",
    "    np.random.seed(seed)\n",
    "    mu, sigma = 1, 20\n",
    "    s = np.random.normal(mu, sigma, n)\n",
    "    s[s < 0] = s[s < 0] * -0.5\n",
    "    s = s.astype(int)\n",
    "    s[s < 1] = 1\n",
    "    \n",
    "    return s\n",
    "\n",
    "train['date']  = data(n = train.shape[0], seed = 10)\n",
    "train['stock'] = estoque(n = train.shape[0], seed = 10)\n",
    "\n",
    "test['date']  = data(n = test.shape[0], seed = 15)\n",
    "test['stock'] = estoque(n = test.shape[0], seed = 15)\n",
    "\n",
    "train.drop('train_id', axis=1, inplace=True)\n",
    "train['item_condition_id'] = train['item_condition_id'].astype('str')"
   ]
  },
  {
   "cell_type": "code",
   "execution_count": 126,
   "metadata": {},
   "outputs": [],
   "source": [
    "from numpy.lib.function_base import delete\n",
    "\n",
    "rotulos = [i for i in train['category_name'].fillna('missing/missing/missing').str.split(\"/\")]\n",
    "rotulos\n",
    "\n",
    "gen_cat = []\n",
    "sub1_cat = []\n",
    "sub2_cat = []\n",
    "\n",
    "for i in range(0,len(rotulos)):\n",
    "  gen_cat.append(rotulos[i][0])\n",
    "  sub1_cat.append(rotulos[i][1])\n",
    "  sub2_cat.append(rotulos[i][2])\n",
    "\n",
    "train['gen_cat'] = gen_cat\n",
    "train['sub1_cat'] = sub1_cat\n",
    "train['sub2_cat'] = sub2_cat\n",
    "\n",
    "del gen_cat\n",
    "del sub1_cat\n",
    "del sub2_cat"
   ]
  },
  {
   "cell_type": "code",
   "execution_count": 127,
   "metadata": {},
   "outputs": [
    {
     "data": {
      "text/html": [
       "<div>\n",
       "<style scoped>\n",
       "    .dataframe tbody tr th:only-of-type {\n",
       "        vertical-align: middle;\n",
       "    }\n",
       "\n",
       "    .dataframe tbody tr th {\n",
       "        vertical-align: top;\n",
       "    }\n",
       "\n",
       "    .dataframe thead th {\n",
       "        text-align: right;\n",
       "    }\n",
       "</style>\n",
       "<table border=\"1\" class=\"dataframe\">\n",
       "  <thead>\n",
       "    <tr style=\"text-align: right;\">\n",
       "      <th></th>\n",
       "      <th>name</th>\n",
       "      <th>item_condition_id</th>\n",
       "      <th>category_name</th>\n",
       "      <th>brand_name</th>\n",
       "      <th>price</th>\n",
       "      <th>shipping</th>\n",
       "      <th>item_description</th>\n",
       "      <th>date</th>\n",
       "      <th>stock</th>\n",
       "      <th>gen_cat</th>\n",
       "      <th>sub1_cat</th>\n",
       "      <th>sub2_cat</th>\n",
       "    </tr>\n",
       "  </thead>\n",
       "  <tbody>\n",
       "    <tr>\n",
       "      <th>0</th>\n",
       "      <td>MLB Cincinnati Reds T Shirt Size XL</td>\n",
       "      <td>3</td>\n",
       "      <td>Men/Tops/T-shirts</td>\n",
       "      <td>NaN</td>\n",
       "      <td>10.0</td>\n",
       "      <td>1</td>\n",
       "      <td>No description yet</td>\n",
       "      <td>18-6-2018</td>\n",
       "      <td>27</td>\n",
       "      <td>Men</td>\n",
       "      <td>Tops</td>\n",
       "      <td>T-shirts</td>\n",
       "    </tr>\n",
       "    <tr>\n",
       "      <th>1</th>\n",
       "      <td>Razer BlackWidow Chroma Keyboard</td>\n",
       "      <td>3</td>\n",
       "      <td>Electronics/Computers &amp; Tablets/Components &amp; P...</td>\n",
       "      <td>Razer</td>\n",
       "      <td>52.0</td>\n",
       "      <td>0</td>\n",
       "      <td>This keyboard is in great condition and works ...</td>\n",
       "      <td>18-3-2018</td>\n",
       "      <td>15</td>\n",
       "      <td>Electronics</td>\n",
       "      <td>Computers &amp; Tablets</td>\n",
       "      <td>Components &amp; Parts</td>\n",
       "    </tr>\n",
       "    <tr>\n",
       "      <th>2</th>\n",
       "      <td>AVA-VIV Blouse</td>\n",
       "      <td>1</td>\n",
       "      <td>Women/Tops &amp; Blouses/Blouse</td>\n",
       "      <td>Target</td>\n",
       "      <td>10.0</td>\n",
       "      <td>1</td>\n",
       "      <td>Adorable top with a hint of lace and a key hol...</td>\n",
       "      <td>25-10-2018</td>\n",
       "      <td>14</td>\n",
       "      <td>Women</td>\n",
       "      <td>Tops &amp; Blouses</td>\n",
       "      <td>Blouse</td>\n",
       "    </tr>\n",
       "    <tr>\n",
       "      <th>3</th>\n",
       "      <td>Leather Horse Statues</td>\n",
       "      <td>1</td>\n",
       "      <td>Home/Home Décor/Home Décor Accents</td>\n",
       "      <td>NaN</td>\n",
       "      <td>35.0</td>\n",
       "      <td>1</td>\n",
       "      <td>New with tags. Leather horses. Retail for [rm]...</td>\n",
       "      <td>20-3-2018</td>\n",
       "      <td>1</td>\n",
       "      <td>Home</td>\n",
       "      <td>Home Décor</td>\n",
       "      <td>Home Décor Accents</td>\n",
       "    </tr>\n",
       "    <tr>\n",
       "      <th>4</th>\n",
       "      <td>24K GOLD plated rose</td>\n",
       "      <td>1</td>\n",
       "      <td>Women/Jewelry/Necklaces</td>\n",
       "      <td>NaN</td>\n",
       "      <td>44.0</td>\n",
       "      <td>0</td>\n",
       "      <td>Complete with certificate of authenticity</td>\n",
       "      <td>16-5-2018</td>\n",
       "      <td>13</td>\n",
       "      <td>Women</td>\n",
       "      <td>Jewelry</td>\n",
       "      <td>Necklaces</td>\n",
       "    </tr>\n",
       "  </tbody>\n",
       "</table>\n",
       "</div>"
      ],
      "text/plain": [
       "                                  name item_condition_id  \\\n",
       "0  MLB Cincinnati Reds T Shirt Size XL                 3   \n",
       "1     Razer BlackWidow Chroma Keyboard                 3   \n",
       "2                       AVA-VIV Blouse                 1   \n",
       "3                Leather Horse Statues                 1   \n",
       "4                 24K GOLD plated rose                 1   \n",
       "\n",
       "                                       category_name brand_name  price  \\\n",
       "0                                  Men/Tops/T-shirts        NaN   10.0   \n",
       "1  Electronics/Computers & Tablets/Components & P...      Razer   52.0   \n",
       "2                        Women/Tops & Blouses/Blouse     Target   10.0   \n",
       "3                 Home/Home Décor/Home Décor Accents        NaN   35.0   \n",
       "4                            Women/Jewelry/Necklaces        NaN   44.0   \n",
       "\n",
       "   shipping                                   item_description        date  \\\n",
       "0         1                                 No description yet   18-6-2018   \n",
       "1         0  This keyboard is in great condition and works ...   18-3-2018   \n",
       "2         1  Adorable top with a hint of lace and a key hol...  25-10-2018   \n",
       "3         1  New with tags. Leather horses. Retail for [rm]...   20-3-2018   \n",
       "4         0          Complete with certificate of authenticity   16-5-2018   \n",
       "\n",
       "   stock      gen_cat             sub1_cat            sub2_cat  \n",
       "0     27          Men                 Tops            T-shirts  \n",
       "1     15  Electronics  Computers & Tablets  Components & Parts  \n",
       "2     14        Women       Tops & Blouses              Blouse  \n",
       "3      1         Home           Home Décor  Home Décor Accents  \n",
       "4     13        Women              Jewelry           Necklaces  "
      ]
     },
     "execution_count": 127,
     "metadata": {},
     "output_type": "execute_result"
    }
   ],
   "source": [
    "train.head()"
   ]
  },
  {
   "cell_type": "code",
   "execution_count": 128,
   "metadata": {},
   "outputs": [],
   "source": [
    "train.drop(\"category_name\", axis = 1, inplace=True)"
   ]
  },
  {
   "cell_type": "code",
   "execution_count": 129,
   "metadata": {},
   "outputs": [
    {
     "name": "stdout",
     "output_type": "stream",
     "text": [
      "<class 'pandas.core.frame.DataFrame'>\n",
      "RangeIndex: 1482535 entries, 0 to 1482534\n",
      "Data columns (total 11 columns):\n",
      " #   Column             Non-Null Count    Dtype  \n",
      "---  ------             --------------    -----  \n",
      " 0   name               1482535 non-null  object \n",
      " 1   item_condition_id  1482535 non-null  object \n",
      " 2   brand_name         849853 non-null   object \n",
      " 3   price              1482535 non-null  float64\n",
      " 4   shipping           1482535 non-null  int64  \n",
      " 5   item_description   1482531 non-null  object \n",
      " 6   date               1482535 non-null  object \n",
      " 7   stock              1482535 non-null  int32  \n",
      " 8   gen_cat            1482535 non-null  object \n",
      " 9   sub1_cat           1482535 non-null  object \n",
      " 10  sub2_cat           1482535 non-null  object \n",
      "dtypes: float64(1), int32(1), int64(1), object(8)\n",
      "memory usage: 118.8+ MB\n"
     ]
    }
   ],
   "source": [
    "train.info()"
   ]
  },
  {
   "cell_type": "code",
   "execution_count": 130,
   "metadata": {},
   "outputs": [
    {
     "data": {
      "text/html": [
       "<div>\n",
       "<style scoped>\n",
       "    .dataframe tbody tr th:only-of-type {\n",
       "        vertical-align: middle;\n",
       "    }\n",
       "\n",
       "    .dataframe tbody tr th {\n",
       "        vertical-align: top;\n",
       "    }\n",
       "\n",
       "    .dataframe thead th {\n",
       "        text-align: right;\n",
       "    }\n",
       "</style>\n",
       "<table border=\"1\" class=\"dataframe\">\n",
       "  <thead>\n",
       "    <tr style=\"text-align: right;\">\n",
       "      <th></th>\n",
       "      <th>price</th>\n",
       "      <th>shipping</th>\n",
       "      <th>stock</th>\n",
       "    </tr>\n",
       "  </thead>\n",
       "  <tbody>\n",
       "    <tr>\n",
       "      <th>count</th>\n",
       "      <td>1.482535e+06</td>\n",
       "      <td>1.482535e+06</td>\n",
       "      <td>1.482535e+06</td>\n",
       "    </tr>\n",
       "    <tr>\n",
       "      <th>mean</th>\n",
       "      <td>2.673752e+01</td>\n",
       "      <td>4.472744e-01</td>\n",
       "      <td>1.178544e+01</td>\n",
       "    </tr>\n",
       "    <tr>\n",
       "      <th>std</th>\n",
       "      <td>3.858607e+01</td>\n",
       "      <td>4.972124e-01</td>\n",
       "      <td>1.056072e+01</td>\n",
       "    </tr>\n",
       "    <tr>\n",
       "      <th>min</th>\n",
       "      <td>0.000000e+00</td>\n",
       "      <td>0.000000e+00</td>\n",
       "      <td>1.000000e+00</td>\n",
       "    </tr>\n",
       "    <tr>\n",
       "      <th>25%</th>\n",
       "      <td>1.000000e+01</td>\n",
       "      <td>0.000000e+00</td>\n",
       "      <td>4.000000e+00</td>\n",
       "    </tr>\n",
       "    <tr>\n",
       "      <th>50%</th>\n",
       "      <td>1.700000e+01</td>\n",
       "      <td>0.000000e+00</td>\n",
       "      <td>9.000000e+00</td>\n",
       "    </tr>\n",
       "    <tr>\n",
       "      <th>75%</th>\n",
       "      <td>2.900000e+01</td>\n",
       "      <td>1.000000e+00</td>\n",
       "      <td>1.700000e+01</td>\n",
       "    </tr>\n",
       "    <tr>\n",
       "      <th>max</th>\n",
       "      <td>2.009000e+03</td>\n",
       "      <td>1.000000e+00</td>\n",
       "      <td>9.500000e+01</td>\n",
       "    </tr>\n",
       "  </tbody>\n",
       "</table>\n",
       "</div>"
      ],
      "text/plain": [
       "              price      shipping         stock\n",
       "count  1.482535e+06  1.482535e+06  1.482535e+06\n",
       "mean   2.673752e+01  4.472744e-01  1.178544e+01\n",
       "std    3.858607e+01  4.972124e-01  1.056072e+01\n",
       "min    0.000000e+00  0.000000e+00  1.000000e+00\n",
       "25%    1.000000e+01  0.000000e+00  4.000000e+00\n",
       "50%    1.700000e+01  0.000000e+00  9.000000e+00\n",
       "75%    2.900000e+01  1.000000e+00  1.700000e+01\n",
       "max    2.009000e+03  1.000000e+00  9.500000e+01"
      ]
     },
     "execution_count": 130,
     "metadata": {},
     "output_type": "execute_result"
    }
   ],
   "source": [
    "train.describe()"
   ]
  },
  {
   "cell_type": "code",
   "execution_count": 131,
   "metadata": {},
   "outputs": [
    {
     "data": {
      "text/plain": [
       "name                      0\n",
       "item_condition_id         0\n",
       "brand_name           632682\n",
       "price                     0\n",
       "shipping                  0\n",
       "item_description          4\n",
       "date                      0\n",
       "stock                     0\n",
       "gen_cat                   0\n",
       "sub1_cat                  0\n",
       "sub2_cat                  0\n",
       "dtype: int64"
      ]
     },
     "execution_count": 131,
     "metadata": {},
     "output_type": "execute_result"
    }
   ],
   "source": [
    "train.isnull().sum()"
   ]
  },
  {
   "cell_type": "code",
   "execution_count": 132,
   "metadata": {},
   "outputs": [
    {
     "data": {
      "text/plain": [
       "0"
      ]
     },
     "execution_count": 132,
     "metadata": {},
     "output_type": "execute_result"
    }
   ],
   "source": [
    "train.duplicated().sum()"
   ]
  },
  {
   "cell_type": "code",
   "execution_count": 133,
   "metadata": {},
   "outputs": [],
   "source": [
    "train[\"brand_name\"].fillna(\"missing\", inplace=True)"
   ]
  },
  {
   "cell_type": "code",
   "execution_count": 134,
   "metadata": {},
   "outputs": [],
   "source": [
    "train = train.dropna()"
   ]
  },
  {
   "cell_type": "code",
   "execution_count": 135,
   "metadata": {},
   "outputs": [
    {
     "data": {
      "text/plain": [
       "array([[<AxesSubplot:title={'center':'price'}>,\n",
       "        <AxesSubplot:title={'center':'shipping'}>],\n",
       "       [<AxesSubplot:title={'center':'stock'}>, <AxesSubplot:>]],\n",
       "      dtype=object)"
      ]
     },
     "execution_count": 135,
     "metadata": {},
     "output_type": "execute_result"
    },
    {
     "data": {
      "image/png": "[encoded data removed]",
      "text/plain": [
       "<Figure size 1152x576 with 4 Axes>"
      ]
     },
     "metadata": {
      "needs_background": "light"
     },
     "output_type": "display_data"
    }
   ],
   "source": [
    "train.hist(figsize=(16,8))"
   ]
  },
  {
   "cell_type": "code",
   "execution_count": 136,
   "metadata": {},
   "outputs": [],
   "source": [
    "X = train.drop(\"price\", axis = 1)\n",
    "y = train[\"price\"]"
   ]
  },
  {
   "cell_type": "code",
   "execution_count": 137,
   "metadata": {},
   "outputs": [],
   "source": [
    "Xtrain, Xval, ytrain, yval = train_test_split(X, y, test_size=0.1, random_state=10)"
   ]
  },
  {
   "cell_type": "code",
   "execution_count": 138,
   "metadata": {},
   "outputs": [
    {
     "data": {
      "text/plain": [
       "<AxesSubplot:>"
      ]
     },
     "execution_count": 138,
     "metadata": {},
     "output_type": "execute_result"
    },
    {
     "data": {
      "image/png": "[encoded data removed]",
      "text/plain": [
       "<Figure size 432x288 with 1 Axes>"
      ]
     },
     "metadata": {
      "needs_background": "light"
     },
     "output_type": "display_data"
    }
   ],
   "source": [
    "y_log =  np.log1p(y)\n",
    "y_log.hist()"
   ]
  },
  {
   "cell_type": "code",
   "execution_count": 139,
   "metadata": {},
   "outputs": [],
   "source": [
    "Xtrain.drop(\"date\", axis=1, inplace=True)"
   ]
  },
  {
   "cell_type": "code",
   "execution_count": 140,
   "metadata": {},
   "outputs": [
    {
     "name": "stdout",
     "output_type": "stream",
     "text": [
      "<class 'pandas.core.frame.DataFrame'>\n",
      "Int64Index: 1334277 entries, 1307655 to 1393933\n",
      "Data columns (total 9 columns):\n",
      " #   Column             Non-Null Count    Dtype \n",
      "---  ------             --------------    ----- \n",
      " 0   name               1334277 non-null  object\n",
      " 1   item_condition_id  1334277 non-null  object\n",
      " 2   brand_name         1334277 non-null  object\n",
      " 3   shipping           1334277 non-null  int64 \n",
      " 4   item_description   1334277 non-null  object\n",
      " 5   stock              1334277 non-null  int32 \n",
      " 6   gen_cat            1334277 non-null  object\n",
      " 7   sub1_cat           1334277 non-null  object\n",
      " 8   sub2_cat           1334277 non-null  object\n",
      "dtypes: int32(1), int64(1), object(7)\n",
      "memory usage: 96.7+ MB\n"
     ]
    }
   ],
   "source": [
    "Xtrain.info()"
   ]
  },
  {
   "cell_type": "code",
   "execution_count": 141,
   "metadata": {},
   "outputs": [
    {
     "data": {
      "text/html": [
       "<div>\n",
       "<style scoped>\n",
       "    .dataframe tbody tr th:only-of-type {\n",
       "        vertical-align: middle;\n",
       "    }\n",
       "\n",
       "    .dataframe tbody tr th {\n",
       "        vertical-align: top;\n",
       "    }\n",
       "\n",
       "    .dataframe thead th {\n",
       "        text-align: right;\n",
       "    }\n",
       "</style>\n",
       "<table border=\"1\" class=\"dataframe\">\n",
       "  <thead>\n",
       "    <tr style=\"text-align: right;\">\n",
       "      <th></th>\n",
       "      <th>name</th>\n",
       "      <th>item_condition_id</th>\n",
       "      <th>brand_name</th>\n",
       "      <th>shipping</th>\n",
       "      <th>item_description</th>\n",
       "      <th>stock</th>\n",
       "      <th>gen_cat</th>\n",
       "      <th>sub1_cat</th>\n",
       "      <th>sub2_cat</th>\n",
       "    </tr>\n",
       "  </thead>\n",
       "  <tbody>\n",
       "    <tr>\n",
       "      <th>1307655</th>\n",
       "      <td>Funko Cookie Monster New York Comic Con</td>\n",
       "      <td>1</td>\n",
       "      <td>missing</td>\n",
       "      <td>1</td>\n",
       "      <td>New in box Funko Flocked Cookie Monster New Yo...</td>\n",
       "      <td>15</td>\n",
       "      <td>Vintage &amp; Collectibles</td>\n",
       "      <td>Collectibles</td>\n",
       "      <td>Other</td>\n",
       "    </tr>\n",
       "    <tr>\n",
       "      <th>529568</th>\n",
       "      <td>Nike lebrons James toddler shoes bundle</td>\n",
       "      <td>3</td>\n",
       "      <td>Nike</td>\n",
       "      <td>1</td>\n",
       "      <td>In excellent condition nike lebrons No box. Si...</td>\n",
       "      <td>13</td>\n",
       "      <td>Kids</td>\n",
       "      <td>Boys 2T-5T</td>\n",
       "      <td>Shoes</td>\n",
       "    </tr>\n",
       "    <tr>\n",
       "      <th>88301</th>\n",
       "      <td>TOMS flat shoes sz 8 denim look</td>\n",
       "      <td>3</td>\n",
       "      <td>TOMS</td>\n",
       "      <td>1</td>\n",
       "      <td>TOMS flat shoes sz 8 denim look Great Conditio...</td>\n",
       "      <td>20</td>\n",
       "      <td>Women</td>\n",
       "      <td>Shoes</td>\n",
       "      <td>Loafers &amp; Slip-Ons</td>\n",
       "    </tr>\n",
       "    <tr>\n",
       "      <th>555225</th>\n",
       "      <td>Red Plaid Blanket Vest LARGE</td>\n",
       "      <td>1</td>\n",
       "      <td>missing</td>\n",
       "      <td>0</td>\n",
       "      <td>Up your vest game this season with this Plaid ...</td>\n",
       "      <td>7</td>\n",
       "      <td>Women</td>\n",
       "      <td>Coats &amp; Jackets</td>\n",
       "      <td>Vest</td>\n",
       "    </tr>\n",
       "    <tr>\n",
       "      <th>647485</th>\n",
       "      <td>Clinique foundation</td>\n",
       "      <td>2</td>\n",
       "      <td>Clinique</td>\n",
       "      <td>0</td>\n",
       "      <td>New in box! Foundation +concealer Color is 0.5...</td>\n",
       "      <td>22</td>\n",
       "      <td>Beauty</td>\n",
       "      <td>Skin Care</td>\n",
       "      <td>Face</td>\n",
       "    </tr>\n",
       "  </tbody>\n",
       "</table>\n",
       "</div>"
      ],
      "text/plain": [
       "                                            name item_condition_id brand_name  \\\n",
       "1307655  Funko Cookie Monster New York Comic Con                 1    missing   \n",
       "529568   Nike lebrons James toddler shoes bundle                 3       Nike   \n",
       "88301            TOMS flat shoes sz 8 denim look                 3       TOMS   \n",
       "555225              Red Plaid Blanket Vest LARGE                 1    missing   \n",
       "647485                       Clinique foundation                 2   Clinique   \n",
       "\n",
       "         shipping                                   item_description  stock  \\\n",
       "1307655         1  New in box Funko Flocked Cookie Monster New Yo...     15   \n",
       "529568          1  In excellent condition nike lebrons No box. Si...     13   \n",
       "88301           1  TOMS flat shoes sz 8 denim look Great Conditio...     20   \n",
       "555225          0  Up your vest game this season with this Plaid ...      7   \n",
       "647485          0  New in box! Foundation +concealer Color is 0.5...     22   \n",
       "\n",
       "                        gen_cat         sub1_cat            sub2_cat  \n",
       "1307655  Vintage & Collectibles     Collectibles               Other  \n",
       "529568                     Kids       Boys 2T-5T               Shoes  \n",
       "88301                     Women            Shoes  Loafers & Slip-Ons  \n",
       "555225                    Women  Coats & Jackets                Vest  \n",
       "647485                   Beauty        Skin Care                Face  "
      ]
     },
     "execution_count": 141,
     "metadata": {},
     "output_type": "execute_result"
    }
   ],
   "source": [
    "Xtrain.head()"
   ]
  },
  {
   "cell_type": "code",
   "execution_count": 169,
   "metadata": {},
   "outputs": [],
   "source": [
    "\n",
    "ColumnTransformer = make_column_transformer(\n",
    "    (OneHotEncoder(sparse=False),[\"shipping\",\"gen_cat\",\"sub1_cat\",\"sub2_cat\"]),\n",
    "    (TfidfVectorizer(),\"name\" ),\n",
    "    (TfidfVectorizer(),\"item_description\" ),\n",
    "    remainder=\"passthrough\",\n",
    "    sparse_threshold=0\n",
    ")"
   ]
  },
  {
   "cell_type": "code",
   "execution_count": 173,
   "metadata": {},
   "outputs": [],
   "source": [
    "rf = RandomForestRegressor(n_estimators=1000, n_jobs=-1)\n",
    "Lr = LinearRegression()"
   ]
  },
  {
   "cell_type": "code",
   "execution_count": 176,
   "metadata": {},
   "outputs": [],
   "source": [
    "pipe = make_pipeline(ColumnTransformer, Lr)"
   ]
  },
  {
   "cell_type": "code",
   "execution_count": null,
   "metadata": {},
   "outputs": [],
   "source": [
    "model = pipe.fit(Xtrain,y_log)"
   ]
  }
 ],
 "metadata": {
  "kernelspec": {
   "display_name": "Python 3.10.4 ('venv': venv)",
   "language": "python",
   "name": "python3"
  },
  "language_info": {
   "codemirror_mode": {
    "name": "ipython",
    "version": 3
   },
   "file_extension": ".py",
   "mimetype": "text/x-python",
   "name": "python",
   "nbconvert_exporter": "python",
   "pygments_lexer": "ipython3",
   "version": "3.10.4"
  },
  "orig_nbformat": 4,
  "vscode": {
   "interpreter": {
    "hash": "e31806f217dd3659a898472d172c6523b4167dde6a8e37d2cd7a062948a5ecc4"
   }
  }
 },
 "nbformat": 4,
 "nbformat_minor": 2
}
