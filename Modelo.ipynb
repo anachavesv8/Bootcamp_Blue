{
 "cells": [
  {
   "cell_type": "code",
   "execution_count": 58,
   "metadata": {},
   "outputs": [],
   "source": [
    "import pandas as pd\n",
    "import random \n",
    "import numpy as np\n",
    "import re"
   ]
  },
  {
   "cell_type": "code",
   "execution_count": 59,
   "metadata": {},
   "outputs": [],
   "source": [
    "\n",
    "from sklearn.model_selection import train_test_split\n",
    "from sklearn.feature_extraction.text import TfidfVectorizer\n",
    "from sklearn.preprocessing import OneHotEncoder\n",
    "from sklearn.compose import ColumnTransformer, make_column_transformer\n",
    "from sklearn.pipeline import Pipeline, make_pipeline"
   ]
  },
  {
   "cell_type": "code",
   "execution_count": 61,
   "metadata": {},
   "outputs": [],
   "source": [
    "from sklearn.linear_model import LinearRegression\n",
    "from sklearn.ensemble import RandomForestRegressor"
   ]
  },
  {
   "cell_type": "code",
   "execution_count": 62,
   "metadata": {},
   "outputs": [],
   "source": [
    "train = pd.read_csv(r\"C:\\Users\\angel\\Desktop\\bootcamp\\train.tsv\", sep='\\t')\n",
    "test = pd.read_csv(r\"C:\\Users\\angel\\Desktop\\bootcamp\\test.tsv\", sep='\\t')"
   ]
  },
  {
   "cell_type": "code",
   "execution_count": 63,
   "metadata": {},
   "outputs": [],
   "source": [
    "#Função elaborada para criação de colunas de data e estoque dos produtos,\n",
    "\n",
    "def data(n, seed):\n",
    "\n",
    "    datas = []\n",
    "    \n",
    "    random.seed(seed)\n",
    "    for i in range(n):\n",
    "        dia_maximo = 30\n",
    "        dia_minimo = 1\n",
    "        mes_maximo = 12\n",
    "        mes_minimo = 1\n",
    "        \n",
    "        dia = int(round(random.random() * (dia_maximo - dia_minimo) + dia_minimo, 0))\n",
    "        mes = int(round(random.random() * (mes_maximo - mes_minimo) + mes_minimo, 0))\n",
    "        \n",
    "        datas.append(str(dia)+'-'+str(mes)+'-2018')\n",
    "        \n",
    "    return datas\n",
    "\n",
    "def estoque(n, seed):\n",
    "\n",
    "    np.random.seed(seed)\n",
    "    mu, sigma = 1, 20\n",
    "    s = np.random.normal(mu, sigma, n)\n",
    "    s[s < 0] = s[s < 0] * -0.5\n",
    "    s = s.astype(int)\n",
    "    s[s < 1] = 1\n",
    "    \n",
    "    return s\n",
    "\n",
    "train['date']  = data(n = train.shape[0], seed = 10)\n",
    "train['stock'] = estoque(n = train.shape[0], seed = 10)\n",
    "\n",
    "test['date']  = data(n = test.shape[0], seed = 15)\n",
    "test['stock'] = estoque(n = test.shape[0], seed = 15)\n",
    "\n",
    "train.drop('train_id', axis=1, inplace=True)\n"
   ]
  },
  {
   "cell_type": "code",
   "execution_count": 64,
   "metadata": {},
   "outputs": [],
   "source": [
    "#Função criada para dividirmos as categorias em 3 colunas.\n",
    "\n",
    "from numpy.lib.function_base import delete\n",
    "rotulos = [i for i in train['category_name'].fillna('missing/missing/missing').str.split(\"/\")]\n",
    "rotulos\n",
    "\n",
    "gen_cat = []\n",
    "sub1_cat = []\n",
    "sub2_cat = []\n",
    "\n",
    "for i in range(0,len(rotulos)):\n",
    "  gen_cat.append(rotulos[i][0])\n",
    "  sub1_cat.append(rotulos[i][1])\n",
    "  sub2_cat.append(rotulos[i][2])\n",
    "\n",
    "train['gen_cat'] = gen_cat\n",
    "train['sub1_cat'] = sub1_cat\n",
    "train['sub2_cat'] = sub2_cat\n",
    "\n",
    "del gen_cat\n",
    "del sub1_cat\n",
    "del sub2_cat"
   ]
  },
  {
   "cell_type": "code",
   "execution_count": 65,
   "metadata": {},
   "outputs": [
    {
     "name": "stdout",
     "output_type": "stream",
     "text": [
      "<class 'pandas.core.frame.DataFrame'>\n",
      "RangeIndex: 1482535 entries, 0 to 1482534\n",
      "Data columns (total 12 columns):\n",
      " #   Column             Non-Null Count    Dtype  \n",
      "---  ------             --------------    -----  \n",
      " 0   name               1482535 non-null  object \n",
      " 1   item_condition_id  1482535 non-null  int64  \n",
      " 2   category_name      1476208 non-null  object \n",
      " 3   brand_name         849853 non-null   object \n",
      " 4   price              1482535 non-null  float64\n",
      " 5   shipping           1482535 non-null  int64  \n",
      " 6   item_description   1482531 non-null  object \n",
      " 7   date               1482535 non-null  object \n",
      " 8   stock              1482535 non-null  int32  \n",
      " 9   gen_cat            1482535 non-null  object \n",
      " 10  sub1_cat           1482535 non-null  object \n",
      " 11  sub2_cat           1482535 non-null  object \n",
      "dtypes: float64(1), int32(1), int64(2), object(8)\n",
      "memory usage: 130.1+ MB\n"
     ]
    }
   ],
   "source": [
    "train.info()"
   ]
  },
  {
   "cell_type": "code",
   "execution_count": 66,
   "metadata": {},
   "outputs": [
    {
     "data": {
      "text/html": [
       "<div>\n",
       "<style scoped>\n",
       "    .dataframe tbody tr th:only-of-type {\n",
       "        vertical-align: middle;\n",
       "    }\n",
       "\n",
       "    .dataframe tbody tr th {\n",
       "        vertical-align: top;\n",
       "    }\n",
       "\n",
       "    .dataframe thead th {\n",
       "        text-align: right;\n",
       "    }\n",
       "</style>\n",
       "<table border=\"1\" class=\"dataframe\">\n",
       "  <thead>\n",
       "    <tr style=\"text-align: right;\">\n",
       "      <th></th>\n",
       "      <th>name</th>\n",
       "      <th>item_condition_id</th>\n",
       "      <th>category_name</th>\n",
       "      <th>brand_name</th>\n",
       "      <th>price</th>\n",
       "      <th>shipping</th>\n",
       "      <th>item_description</th>\n",
       "      <th>date</th>\n",
       "      <th>stock</th>\n",
       "      <th>gen_cat</th>\n",
       "      <th>sub1_cat</th>\n",
       "      <th>sub2_cat</th>\n",
       "    </tr>\n",
       "  </thead>\n",
       "  <tbody>\n",
       "    <tr>\n",
       "      <th>0</th>\n",
       "      <td>MLB Cincinnati Reds T Shirt Size XL</td>\n",
       "      <td>3</td>\n",
       "      <td>Men/Tops/T-shirts</td>\n",
       "      <td>NaN</td>\n",
       "      <td>10.0</td>\n",
       "      <td>1</td>\n",
       "      <td>No description yet</td>\n",
       "      <td>18-6-2018</td>\n",
       "      <td>27</td>\n",
       "      <td>Men</td>\n",
       "      <td>Tops</td>\n",
       "      <td>T-shirts</td>\n",
       "    </tr>\n",
       "    <tr>\n",
       "      <th>1</th>\n",
       "      <td>Razer BlackWidow Chroma Keyboard</td>\n",
       "      <td>3</td>\n",
       "      <td>Electronics/Computers &amp; Tablets/Components &amp; P...</td>\n",
       "      <td>Razer</td>\n",
       "      <td>52.0</td>\n",
       "      <td>0</td>\n",
       "      <td>This keyboard is in great condition and works ...</td>\n",
       "      <td>18-3-2018</td>\n",
       "      <td>15</td>\n",
       "      <td>Electronics</td>\n",
       "      <td>Computers &amp; Tablets</td>\n",
       "      <td>Components &amp; Parts</td>\n",
       "    </tr>\n",
       "    <tr>\n",
       "      <th>2</th>\n",
       "      <td>AVA-VIV Blouse</td>\n",
       "      <td>1</td>\n",
       "      <td>Women/Tops &amp; Blouses/Blouse</td>\n",
       "      <td>Target</td>\n",
       "      <td>10.0</td>\n",
       "      <td>1</td>\n",
       "      <td>Adorable top with a hint of lace and a key hol...</td>\n",
       "      <td>25-10-2018</td>\n",
       "      <td>14</td>\n",
       "      <td>Women</td>\n",
       "      <td>Tops &amp; Blouses</td>\n",
       "      <td>Blouse</td>\n",
       "    </tr>\n",
       "    <tr>\n",
       "      <th>3</th>\n",
       "      <td>Leather Horse Statues</td>\n",
       "      <td>1</td>\n",
       "      <td>Home/Home Décor/Home Décor Accents</td>\n",
       "      <td>NaN</td>\n",
       "      <td>35.0</td>\n",
       "      <td>1</td>\n",
       "      <td>New with tags. Leather horses. Retail for [rm]...</td>\n",
       "      <td>20-3-2018</td>\n",
       "      <td>1</td>\n",
       "      <td>Home</td>\n",
       "      <td>Home Décor</td>\n",
       "      <td>Home Décor Accents</td>\n",
       "    </tr>\n",
       "    <tr>\n",
       "      <th>4</th>\n",
       "      <td>24K GOLD plated rose</td>\n",
       "      <td>1</td>\n",
       "      <td>Women/Jewelry/Necklaces</td>\n",
       "      <td>NaN</td>\n",
       "      <td>44.0</td>\n",
       "      <td>0</td>\n",
       "      <td>Complete with certificate of authenticity</td>\n",
       "      <td>16-5-2018</td>\n",
       "      <td>13</td>\n",
       "      <td>Women</td>\n",
       "      <td>Jewelry</td>\n",
       "      <td>Necklaces</td>\n",
       "    </tr>\n",
       "  </tbody>\n",
       "</table>\n",
       "</div>"
      ],
      "text/plain": [
       "                                  name  item_condition_id  \\\n",
       "0  MLB Cincinnati Reds T Shirt Size XL                  3   \n",
       "1     Razer BlackWidow Chroma Keyboard                  3   \n",
       "2                       AVA-VIV Blouse                  1   \n",
       "3                Leather Horse Statues                  1   \n",
       "4                 24K GOLD plated rose                  1   \n",
       "\n",
       "                                       category_name brand_name  price  \\\n",
       "0                                  Men/Tops/T-shirts        NaN   10.0   \n",
       "1  Electronics/Computers & Tablets/Components & P...      Razer   52.0   \n",
       "2                        Women/Tops & Blouses/Blouse     Target   10.0   \n",
       "3                 Home/Home Décor/Home Décor Accents        NaN   35.0   \n",
       "4                            Women/Jewelry/Necklaces        NaN   44.0   \n",
       "\n",
       "   shipping                                   item_description        date  \\\n",
       "0         1                                 No description yet   18-6-2018   \n",
       "1         0  This keyboard is in great condition and works ...   18-3-2018   \n",
       "2         1  Adorable top with a hint of lace and a key hol...  25-10-2018   \n",
       "3         1  New with tags. Leather horses. Retail for [rm]...   20-3-2018   \n",
       "4         0          Complete with certificate of authenticity   16-5-2018   \n",
       "\n",
       "   stock      gen_cat             sub1_cat            sub2_cat  \n",
       "0     27          Men                 Tops            T-shirts  \n",
       "1     15  Electronics  Computers & Tablets  Components & Parts  \n",
       "2     14        Women       Tops & Blouses              Blouse  \n",
       "3      1         Home           Home Décor  Home Décor Accents  \n",
       "4     13        Women              Jewelry           Necklaces  "
      ]
     },
     "execution_count": 66,
     "metadata": {},
     "output_type": "execute_result"
    }
   ],
   "source": [
    "train.head()"
   ]
  },
  {
   "cell_type": "code",
   "execution_count": 67,
   "metadata": {},
   "outputs": [
    {
     "data": {
      "text/html": [
       "<div>\n",
       "<style scoped>\n",
       "    .dataframe tbody tr th:only-of-type {\n",
       "        vertical-align: middle;\n",
       "    }\n",
       "\n",
       "    .dataframe tbody tr th {\n",
       "        vertical-align: top;\n",
       "    }\n",
       "\n",
       "    .dataframe thead th {\n",
       "        text-align: right;\n",
       "    }\n",
       "</style>\n",
       "<table border=\"1\" class=\"dataframe\">\n",
       "  <thead>\n",
       "    <tr style=\"text-align: right;\">\n",
       "      <th></th>\n",
       "      <th>item_condition_id</th>\n",
       "      <th>price</th>\n",
       "      <th>shipping</th>\n",
       "      <th>stock</th>\n",
       "    </tr>\n",
       "  </thead>\n",
       "  <tbody>\n",
       "    <tr>\n",
       "      <th>count</th>\n",
       "      <td>1.482535e+06</td>\n",
       "      <td>1.482535e+06</td>\n",
       "      <td>1.482535e+06</td>\n",
       "      <td>1.482535e+06</td>\n",
       "    </tr>\n",
       "    <tr>\n",
       "      <th>mean</th>\n",
       "      <td>1.907380e+00</td>\n",
       "      <td>2.673752e+01</td>\n",
       "      <td>4.472744e-01</td>\n",
       "      <td>1.178544e+01</td>\n",
       "    </tr>\n",
       "    <tr>\n",
       "      <th>std</th>\n",
       "      <td>9.031586e-01</td>\n",
       "      <td>3.858607e+01</td>\n",
       "      <td>4.972124e-01</td>\n",
       "      <td>1.056072e+01</td>\n",
       "    </tr>\n",
       "    <tr>\n",
       "      <th>min</th>\n",
       "      <td>1.000000e+00</td>\n",
       "      <td>0.000000e+00</td>\n",
       "      <td>0.000000e+00</td>\n",
       "      <td>1.000000e+00</td>\n",
       "    </tr>\n",
       "    <tr>\n",
       "      <th>25%</th>\n",
       "      <td>1.000000e+00</td>\n",
       "      <td>1.000000e+01</td>\n",
       "      <td>0.000000e+00</td>\n",
       "      <td>4.000000e+00</td>\n",
       "    </tr>\n",
       "    <tr>\n",
       "      <th>50%</th>\n",
       "      <td>2.000000e+00</td>\n",
       "      <td>1.700000e+01</td>\n",
       "      <td>0.000000e+00</td>\n",
       "      <td>9.000000e+00</td>\n",
       "    </tr>\n",
       "    <tr>\n",
       "      <th>75%</th>\n",
       "      <td>3.000000e+00</td>\n",
       "      <td>2.900000e+01</td>\n",
       "      <td>1.000000e+00</td>\n",
       "      <td>1.700000e+01</td>\n",
       "    </tr>\n",
       "    <tr>\n",
       "      <th>max</th>\n",
       "      <td>5.000000e+00</td>\n",
       "      <td>2.009000e+03</td>\n",
       "      <td>1.000000e+00</td>\n",
       "      <td>9.500000e+01</td>\n",
       "    </tr>\n",
       "  </tbody>\n",
       "</table>\n",
       "</div>"
      ],
      "text/plain": [
       "       item_condition_id         price      shipping         stock\n",
       "count       1.482535e+06  1.482535e+06  1.482535e+06  1.482535e+06\n",
       "mean        1.907380e+00  2.673752e+01  4.472744e-01  1.178544e+01\n",
       "std         9.031586e-01  3.858607e+01  4.972124e-01  1.056072e+01\n",
       "min         1.000000e+00  0.000000e+00  0.000000e+00  1.000000e+00\n",
       "25%         1.000000e+00  1.000000e+01  0.000000e+00  4.000000e+00\n",
       "50%         2.000000e+00  1.700000e+01  0.000000e+00  9.000000e+00\n",
       "75%         3.000000e+00  2.900000e+01  1.000000e+00  1.700000e+01\n",
       "max         5.000000e+00  2.009000e+03  1.000000e+00  9.500000e+01"
      ]
     },
     "execution_count": 67,
     "metadata": {},
     "output_type": "execute_result"
    }
   ],
   "source": [
    "train.describe()"
   ]
  },
  {
   "cell_type": "code",
   "execution_count": 68,
   "metadata": {},
   "outputs": [
    {
     "data": {
      "text/plain": [
       "name                      0\n",
       "item_condition_id         0\n",
       "category_name          6327\n",
       "brand_name           632682\n",
       "price                     0\n",
       "shipping                  0\n",
       "item_description          4\n",
       "date                      0\n",
       "stock                     0\n",
       "gen_cat                   0\n",
       "sub1_cat                  0\n",
       "sub2_cat                  0\n",
       "dtype: int64"
      ]
     },
     "execution_count": 68,
     "metadata": {},
     "output_type": "execute_result"
    }
   ],
   "source": [
    "train.isnull().sum()"
   ]
  },
  {
   "cell_type": "code",
   "execution_count": 69,
   "metadata": {},
   "outputs": [
    {
     "data": {
      "text/plain": [
       "0"
      ]
     },
     "execution_count": 69,
     "metadata": {},
     "output_type": "execute_result"
    }
   ],
   "source": [
    "train.duplicated().sum()"
   ]
  },
  {
   "cell_type": "code",
   "execution_count": 70,
   "metadata": {},
   "outputs": [],
   "source": [
    "#Para um primeiro momento, elaborando um baseline, serão adiconados \"missing\" em valores nulos.\n",
    "\n",
    "train[\"brand_name\"].fillna(\"missing\", inplace=True)\n",
    "train[\"category_name\"].fillna(\"missing\", inplace=True)\n",
    "train[\"item_description \"].fillna(\"missing\", inplace=True)"
   ]
  },
  {
   "cell_type": "code",
   "execution_count": 72,
   "metadata": {},
   "outputs": [
    {
     "data": {
      "text/plain": [
       "name                 0\n",
       "item_condition_id    0\n",
       "category_name        0\n",
       "brand_name           0\n",
       "price                0\n",
       "shipping             0\n",
       "item_description     0\n",
       "date                 0\n",
       "stock                0\n",
       "gen_cat              0\n",
       "sub1_cat             0\n",
       "sub2_cat             0\n",
       "dtype: int64"
      ]
     },
     "execution_count": 72,
     "metadata": {},
     "output_type": "execute_result"
    }
   ],
   "source": [
    "train.isnull().sum()"
   ]
  },
  {
   "cell_type": "code",
   "execution_count": 73,
   "metadata": {},
   "outputs": [
    {
     "data": {
      "text/plain": [
       "array([[<AxesSubplot:title={'center':'item_condition_id'}>,\n",
       "        <AxesSubplot:title={'center':'price'}>],\n",
       "       [<AxesSubplot:title={'center':'shipping'}>,\n",
       "        <AxesSubplot:title={'center':'stock'}>]], dtype=object)"
      ]
     },
     "execution_count": 73,
     "metadata": {},
     "output_type": "execute_result"
    },
    {
     "data": {
      "image/png": "[encoded data removed]",
      "text/plain": [
       "<Figure size 720x360 with 4 Axes>"
      ]
     },
     "metadata": {
      "needs_background": "light"
     },
     "output_type": "display_data"
    }
   ],
   "source": [
    "train.hist(figsize=(10,5))"
   ]
  },
  {
   "cell_type": "code",
   "execution_count": 74,
   "metadata": {},
   "outputs": [],
   "source": [
    "X = train.drop(\"price\", axis = 1)\n",
    "y = train[\"price\"]"
   ]
  },
  {
   "cell_type": "code",
   "execution_count": 75,
   "metadata": {},
   "outputs": [],
   "source": [
    "#Separação em treino e teste para começarmos as transformaçõs, protegendo nossos dados de validação de possíveis vazamentos. \n",
    "\n",
    "Xtrain, Xval, ytrain, yval = train_test_split(X, y, test_size=0.2, random_state=10) #Divisão em 80/20"
   ]
  },
  {
   "cell_type": "code",
   "execution_count": 76,
   "metadata": {},
   "outputs": [
    {
     "data": {
      "text/plain": [
       "<AxesSubplot:>"
      ]
     },
     "execution_count": 76,
     "metadata": {},
     "output_type": "execute_result"
    },
    {
     "data": {
      "image/png": "[encoded data removed]",
      "text/plain": [
       "<Figure size 432x288 with 1 Axes>"
      ]
     },
     "metadata": {
      "needs_background": "light"
     },
     "output_type": "display_data"
    }
   ],
   "source": [
    "#Normalizando, com log, o target (price), foi realizado de forma separada para nao terem dados vazados.\n",
    "\n",
    "ytrain =  np.log1p(ytrain)\n",
    "yval =  np.log1p(yval)\n",
    "ytrain.hist()"
   ]
  },
  {
   "cell_type": "code",
   "execution_count": 77,
   "metadata": {},
   "outputs": [
    {
     "data": {
      "text/html": [
       "<div>\n",
       "<style scoped>\n",
       "    .dataframe tbody tr th:only-of-type {\n",
       "        vertical-align: middle;\n",
       "    }\n",
       "\n",
       "    .dataframe tbody tr th {\n",
       "        vertical-align: top;\n",
       "    }\n",
       "\n",
       "    .dataframe thead th {\n",
       "        text-align: right;\n",
       "    }\n",
       "</style>\n",
       "<table border=\"1\" class=\"dataframe\">\n",
       "  <thead>\n",
       "    <tr style=\"text-align: right;\">\n",
       "      <th></th>\n",
       "      <th>name</th>\n",
       "      <th>item_condition_id</th>\n",
       "      <th>category_name</th>\n",
       "      <th>brand_name</th>\n",
       "      <th>shipping</th>\n",
       "      <th>item_description</th>\n",
       "      <th>date</th>\n",
       "      <th>stock</th>\n",
       "      <th>gen_cat</th>\n",
       "      <th>sub1_cat</th>\n",
       "      <th>sub2_cat</th>\n",
       "    </tr>\n",
       "  </thead>\n",
       "  <tbody>\n",
       "    <tr>\n",
       "      <th>494714</th>\n",
       "      <td>Victoria's Secret IPhone 6/6s Case</td>\n",
       "      <td>1</td>\n",
       "      <td>Electronics/Cell Phones &amp; Accessories/Cases, C...</td>\n",
       "      <td>missing</td>\n",
       "      <td>1</td>\n",
       "      <td>New in packaging. Gold glitter leopard print. ...</td>\n",
       "      <td>30-9-2018</td>\n",
       "      <td>3</td>\n",
       "      <td>Electronics</td>\n",
       "      <td>Cell Phones &amp; Accessories</td>\n",
       "      <td>Cases, Covers &amp; Skins</td>\n",
       "    </tr>\n",
       "    <tr>\n",
       "      <th>1336732</th>\n",
       "      <td>Toddler size 7 boys velcro top shoes</td>\n",
       "      <td>3</td>\n",
       "      <td>Kids/Boys 2T-5T/Shoes</td>\n",
       "      <td>missing</td>\n",
       "      <td>1</td>\n",
       "      <td>In great used condition. Size 7 grey velcro bo...</td>\n",
       "      <td>22-3-2018</td>\n",
       "      <td>22</td>\n",
       "      <td>Kids</td>\n",
       "      <td>Boys 2T-5T</td>\n",
       "      <td>Shoes</td>\n",
       "    </tr>\n",
       "    <tr>\n",
       "      <th>1162122</th>\n",
       "      <td>GAP Thermal Pullover - Striped</td>\n",
       "      <td>2</td>\n",
       "      <td>Men/Sweats &amp; Hoodies/Sweatshirt, Pullover</td>\n",
       "      <td>Gap</td>\n",
       "      <td>1</td>\n",
       "      <td>Dark blue with white stripes. Made of that str...</td>\n",
       "      <td>14-1-2018</td>\n",
       "      <td>12</td>\n",
       "      <td>Men</td>\n",
       "      <td>Sweats &amp; Hoodies</td>\n",
       "      <td>Sweatshirt, Pullover</td>\n",
       "    </tr>\n",
       "    <tr>\n",
       "      <th>1417690</th>\n",
       "      <td>Jordan XI 11 Retro Wool size 9</td>\n",
       "      <td>1</td>\n",
       "      <td>Men/Shoes/Athletic</td>\n",
       "      <td>Air Jordan</td>\n",
       "      <td>1</td>\n",
       "      <td>Brand New!!! without box size us 9 (42.5)</td>\n",
       "      <td>21-8-2018</td>\n",
       "      <td>2</td>\n",
       "      <td>Men</td>\n",
       "      <td>Shoes</td>\n",
       "      <td>Athletic</td>\n",
       "    </tr>\n",
       "    <tr>\n",
       "      <th>913521</th>\n",
       "      <td>YSL Foundation</td>\n",
       "      <td>3</td>\n",
       "      <td>Beauty/Makeup/Face</td>\n",
       "      <td>Yves Saint Laurent</td>\n",
       "      <td>1</td>\n",
       "      <td>Touche eclat foundation. Shade B50 has 75% lef...</td>\n",
       "      <td>1-5-2018</td>\n",
       "      <td>18</td>\n",
       "      <td>Beauty</td>\n",
       "      <td>Makeup</td>\n",
       "      <td>Face</td>\n",
       "    </tr>\n",
       "  </tbody>\n",
       "</table>\n",
       "</div>"
      ],
      "text/plain": [
       "                                         name  item_condition_id  \\\n",
       "494714     Victoria's Secret IPhone 6/6s Case                  1   \n",
       "1336732  Toddler size 7 boys velcro top shoes                  3   \n",
       "1162122        GAP Thermal Pullover - Striped                  2   \n",
       "1417690        Jordan XI 11 Retro Wool size 9                  1   \n",
       "913521                         YSL Foundation                  3   \n",
       "\n",
       "                                             category_name  \\\n",
       "494714   Electronics/Cell Phones & Accessories/Cases, C...   \n",
       "1336732                              Kids/Boys 2T-5T/Shoes   \n",
       "1162122          Men/Sweats & Hoodies/Sweatshirt, Pullover   \n",
       "1417690                                 Men/Shoes/Athletic   \n",
       "913521                                  Beauty/Makeup/Face   \n",
       "\n",
       "                 brand_name  shipping  \\\n",
       "494714              missing         1   \n",
       "1336732             missing         1   \n",
       "1162122                 Gap         1   \n",
       "1417690          Air Jordan         1   \n",
       "913521   Yves Saint Laurent         1   \n",
       "\n",
       "                                          item_description       date  stock  \\\n",
       "494714   New in packaging. Gold glitter leopard print. ...  30-9-2018      3   \n",
       "1336732  In great used condition. Size 7 grey velcro bo...  22-3-2018     22   \n",
       "1162122  Dark blue with white stripes. Made of that str...  14-1-2018     12   \n",
       "1417690          Brand New!!! without box size us 9 (42.5)  21-8-2018      2   \n",
       "913521   Touche eclat foundation. Shade B50 has 75% lef...   1-5-2018     18   \n",
       "\n",
       "             gen_cat                   sub1_cat               sub2_cat  \n",
       "494714   Electronics  Cell Phones & Accessories  Cases, Covers & Skins  \n",
       "1336732         Kids                 Boys 2T-5T                  Shoes  \n",
       "1162122          Men           Sweats & Hoodies   Sweatshirt, Pullover  \n",
       "1417690          Men                      Shoes               Athletic  \n",
       "913521        Beauty                     Makeup                   Face  "
      ]
     },
     "execution_count": 77,
     "metadata": {},
     "output_type": "execute_result"
    }
   ],
   "source": [
    "Xtrain.head()"
   ]
  },
  {
   "cell_type": "code",
   "execution_count": 78,
   "metadata": {},
   "outputs": [
    {
     "data": {
      "text/html": [
       "<div>\n",
       "<style scoped>\n",
       "    .dataframe tbody tr th:only-of-type {\n",
       "        vertical-align: middle;\n",
       "    }\n",
       "\n",
       "    .dataframe tbody tr th {\n",
       "        vertical-align: top;\n",
       "    }\n",
       "\n",
       "    .dataframe thead th {\n",
       "        text-align: right;\n",
       "    }\n",
       "</style>\n",
       "<table border=\"1\" class=\"dataframe\">\n",
       "  <thead>\n",
       "    <tr style=\"text-align: right;\">\n",
       "      <th></th>\n",
       "      <th>name</th>\n",
       "      <th>item_condition_id</th>\n",
       "      <th>category_name</th>\n",
       "      <th>brand_name</th>\n",
       "      <th>shipping</th>\n",
       "      <th>item_description</th>\n",
       "      <th>date</th>\n",
       "      <th>stock</th>\n",
       "      <th>gen_cat</th>\n",
       "      <th>sub1_cat</th>\n",
       "      <th>sub2_cat</th>\n",
       "    </tr>\n",
       "  </thead>\n",
       "  <tbody>\n",
       "    <tr>\n",
       "      <th>774893</th>\n",
       "      <td>Mario and luigi</td>\n",
       "      <td>1</td>\n",
       "      <td>Kids/Toys/Dress Up &amp; Pretend Play</td>\n",
       "      <td>missing</td>\n",
       "      <td>1</td>\n",
       "      <td>Girls costumes. I can separate or i will sell ...</td>\n",
       "      <td>25-7-2018</td>\n",
       "      <td>1</td>\n",
       "      <td>Kids</td>\n",
       "      <td>Toys</td>\n",
       "      <td>Dress Up &amp; Pretend Play</td>\n",
       "    </tr>\n",
       "    <tr>\n",
       "      <th>431736</th>\n",
       "      <td>Air Jordan Baron 9</td>\n",
       "      <td>3</td>\n",
       "      <td>Men/Shoes/Athletic</td>\n",
       "      <td>Jordan</td>\n",
       "      <td>0</td>\n",
       "      <td>Sz 10.5 Good preowned condition Includes origi...</td>\n",
       "      <td>30-7-2018</td>\n",
       "      <td>4</td>\n",
       "      <td>Men</td>\n",
       "      <td>Shoes</td>\n",
       "      <td>Athletic</td>\n",
       "    </tr>\n",
       "    <tr>\n",
       "      <th>693618</th>\n",
       "      <td>Pokémon Sun Moon Ruby Sapphire 3DS</td>\n",
       "      <td>3</td>\n",
       "      <td>Electronics/Video Games &amp; Consoles/Games</td>\n",
       "      <td>Nintendo</td>\n",
       "      <td>0</td>\n",
       "      <td>Pokémon Moon Nintendo 3DS Pokémon Sun Nintendo...</td>\n",
       "      <td>13-6-2018</td>\n",
       "      <td>9</td>\n",
       "      <td>Electronics</td>\n",
       "      <td>Video Games &amp; Consoles</td>\n",
       "      <td>Games</td>\n",
       "    </tr>\n",
       "    <tr>\n",
       "      <th>1453767</th>\n",
       "      <td>11 lows</td>\n",
       "      <td>2</td>\n",
       "      <td>Men/Shoes/Athletic</td>\n",
       "      <td>Jordan</td>\n",
       "      <td>0</td>\n",
       "      <td>Excellent condition</td>\n",
       "      <td>21-1-2018</td>\n",
       "      <td>8</td>\n",
       "      <td>Men</td>\n",
       "      <td>Shoes</td>\n",
       "      <td>Athletic</td>\n",
       "    </tr>\n",
       "    <tr>\n",
       "      <th>1180239</th>\n",
       "      <td>Princess house</td>\n",
       "      <td>1</td>\n",
       "      <td>Home/Kitchen &amp; Dining/Kitchen Utensils &amp; Gadgets</td>\n",
       "      <td>missing</td>\n",
       "      <td>0</td>\n",
       "      <td>Drying mat Microfiber towel Sponge Set of 3</td>\n",
       "      <td>15-7-2018</td>\n",
       "      <td>3</td>\n",
       "      <td>Home</td>\n",
       "      <td>Kitchen &amp; Dining</td>\n",
       "      <td>Kitchen Utensils &amp; Gadgets</td>\n",
       "    </tr>\n",
       "  </tbody>\n",
       "</table>\n",
       "</div>"
      ],
      "text/plain": [
       "                                       name  item_condition_id  \\\n",
       "774893                      Mario and luigi                  1   \n",
       "431736                   Air Jordan Baron 9                  3   \n",
       "693618   Pokémon Sun Moon Ruby Sapphire 3DS                  3   \n",
       "1453767                             11 lows                  2   \n",
       "1180239                      Princess house                  1   \n",
       "\n",
       "                                            category_name brand_name  \\\n",
       "774893                  Kids/Toys/Dress Up & Pretend Play    missing   \n",
       "431736                                 Men/Shoes/Athletic     Jordan   \n",
       "693618           Electronics/Video Games & Consoles/Games   Nintendo   \n",
       "1453767                                Men/Shoes/Athletic     Jordan   \n",
       "1180239  Home/Kitchen & Dining/Kitchen Utensils & Gadgets    missing   \n",
       "\n",
       "         shipping                                   item_description  \\\n",
       "774893          1  Girls costumes. I can separate or i will sell ...   \n",
       "431736          0  Sz 10.5 Good preowned condition Includes origi...   \n",
       "693618          0  Pokémon Moon Nintendo 3DS Pokémon Sun Nintendo...   \n",
       "1453767         0                                Excellent condition   \n",
       "1180239         0        Drying mat Microfiber towel Sponge Set of 3   \n",
       "\n",
       "              date  stock      gen_cat                sub1_cat  \\\n",
       "774893   25-7-2018      1         Kids                    Toys   \n",
       "431736   30-7-2018      4          Men                   Shoes   \n",
       "693618   13-6-2018      9  Electronics  Video Games & Consoles   \n",
       "1453767  21-1-2018      8          Men                   Shoes   \n",
       "1180239  15-7-2018      3         Home        Kitchen & Dining   \n",
       "\n",
       "                           sub2_cat  \n",
       "774893      Dress Up & Pretend Play  \n",
       "431736                     Athletic  \n",
       "693618                        Games  \n",
       "1453767                    Athletic  \n",
       "1180239  Kitchen Utensils & Gadgets  "
      ]
     },
     "execution_count": 78,
     "metadata": {},
     "output_type": "execute_result"
    }
   ],
   "source": [
    "Xval.head()"
   ]
  },
  {
   "cell_type": "code",
   "execution_count": 79,
   "metadata": {},
   "outputs": [],
   "source": [
    "#Objeto para transformações de pré processamento\n",
    "\n",
    "ColumnTransformer = make_column_transformer(\n",
    "    (OneHotEncoder(sparse=False),[\"shipping\",\"gen_cat\",\"sub1_cat\",\"sub2_cat\"]), #transformando categoricas em colunas separadas(\"dummy\")\n",
    "    (TfidfVectorizer(),\"name\" ), #vetorizando a coluna de texto \"name\"\n",
    "    (TfidfVectorizer(),\"item_description\" ), #vetorizando a coluna de texto \"item_description\"\n",
    "    remainder=\"passthrough\", #Pulando colunas que não terão transformações\n",
    "    sparse_threshold=0        # Ajustando a densidade da matrix\n",
    ")\n"
   ]
  },
  {
   "cell_type": "code",
   "execution_count": 80,
   "metadata": {},
   "outputs": [],
   "source": [
    "\n",
    "rf = RandomForestRegressor(n_estimators=1000, n_jobs=-1)\n",
    "Lr = LinearRegression()"
   ]
  },
  {
   "cell_type": "code",
   "execution_count": 81,
   "metadata": {},
   "outputs": [],
   "source": [
    "pipe = make_pipeline(ColumnTransformer, Lr) #pipeline para regressão linear"
   ]
  },
  {
   "cell_type": "code",
   "execution_count": 82,
   "metadata": {},
   "outputs": [
    {
     "ename": "MemoryError",
     "evalue": "Unable to allocate 828. GiB for an array with shape (1186024, 93673) and data type float64",
     "output_type": "error",
     "traceback": [
      "\u001b[1;31m---------------------------------------------------------------------------\u001b[0m",
      "\u001b[1;31mMemoryError\u001b[0m                               Traceback (most recent call last)",
      "\u001b[1;32mc:\\Users\\angel\\Documents\\GitHub\\Bootcamp_Blue\\Modelo.ipynb Célula: 25\u001b[0m in \u001b[0;36m<cell line: 1>\u001b[1;34m()\u001b[0m\n\u001b[1;32m----> <a href='vscode-notebook-cell:/c%3A/Users/angel/Documents/GitHub/Bootcamp_Blue/Modelo.ipynb#X50sZmlsZQ%3D%3D?line=0'>1</a>\u001b[0m model \u001b[39m=\u001b[39m pipe\u001b[39m.\u001b[39;49mfit(Xtrain,ytrain)\n",
      "File \u001b[1;32mc:\\Users\\angel\\Desktop\\Data science\\vscode_projetos\\venv\\lib\\site-packages\\sklearn\\pipeline.py:390\u001b[0m, in \u001b[0;36mPipeline.fit\u001b[1;34m(self, X, y, **fit_params)\u001b[0m\n\u001b[0;32m    364\u001b[0m \u001b[39m\"\"\"Fit the model.\u001b[39;00m\n\u001b[0;32m    365\u001b[0m \n\u001b[0;32m    366\u001b[0m \u001b[39mFit all the transformers one after the other and transform the\u001b[39;00m\n\u001b[1;32m   (...)\u001b[0m\n\u001b[0;32m    387\u001b[0m \u001b[39m    Pipeline with fitted steps.\u001b[39;00m\n\u001b[0;32m    388\u001b[0m \u001b[39m\"\"\"\u001b[39;00m\n\u001b[0;32m    389\u001b[0m fit_params_steps \u001b[39m=\u001b[39m \u001b[39mself\u001b[39m\u001b[39m.\u001b[39m_check_fit_params(\u001b[39m*\u001b[39m\u001b[39m*\u001b[39mfit_params)\n\u001b[1;32m--> 390\u001b[0m Xt \u001b[39m=\u001b[39m \u001b[39mself\u001b[39m\u001b[39m.\u001b[39m_fit(X, y, \u001b[39m*\u001b[39m\u001b[39m*\u001b[39mfit_params_steps)\n\u001b[0;32m    391\u001b[0m \u001b[39mwith\u001b[39;00m _print_elapsed_time(\u001b[39m\"\u001b[39m\u001b[39mPipeline\u001b[39m\u001b[39m\"\u001b[39m, \u001b[39mself\u001b[39m\u001b[39m.\u001b[39m_log_message(\u001b[39mlen\u001b[39m(\u001b[39mself\u001b[39m\u001b[39m.\u001b[39msteps) \u001b[39m-\u001b[39m \u001b[39m1\u001b[39m)):\n\u001b[0;32m    392\u001b[0m     \u001b[39mif\u001b[39;00m \u001b[39mself\u001b[39m\u001b[39m.\u001b[39m_final_estimator \u001b[39m!=\u001b[39m \u001b[39m\"\u001b[39m\u001b[39mpassthrough\u001b[39m\u001b[39m\"\u001b[39m:\n",
      "File \u001b[1;32mc:\\Users\\angel\\Desktop\\Data science\\vscode_projetos\\venv\\lib\\site-packages\\sklearn\\pipeline.py:348\u001b[0m, in \u001b[0;36mPipeline._fit\u001b[1;34m(self, X, y, **fit_params_steps)\u001b[0m\n\u001b[0;32m    346\u001b[0m     cloned_transformer \u001b[39m=\u001b[39m clone(transformer)\n\u001b[0;32m    347\u001b[0m \u001b[39m# Fit or load from cache the current transformer\u001b[39;00m\n\u001b[1;32m--> 348\u001b[0m X, fitted_transformer \u001b[39m=\u001b[39m fit_transform_one_cached(\n\u001b[0;32m    349\u001b[0m     cloned_transformer,\n\u001b[0;32m    350\u001b[0m     X,\n\u001b[0;32m    351\u001b[0m     y,\n\u001b[0;32m    352\u001b[0m     \u001b[39mNone\u001b[39;00m,\n\u001b[0;32m    353\u001b[0m     message_clsname\u001b[39m=\u001b[39m\u001b[39m\"\u001b[39m\u001b[39mPipeline\u001b[39m\u001b[39m\"\u001b[39m,\n\u001b[0;32m    354\u001b[0m     message\u001b[39m=\u001b[39m\u001b[39mself\u001b[39m\u001b[39m.\u001b[39m_log_message(step_idx),\n\u001b[0;32m    355\u001b[0m     \u001b[39m*\u001b[39m\u001b[39m*\u001b[39mfit_params_steps[name],\n\u001b[0;32m    356\u001b[0m )\n\u001b[0;32m    357\u001b[0m \u001b[39m# Replace the transformer of the step with the fitted\u001b[39;00m\n\u001b[0;32m    358\u001b[0m \u001b[39m# transformer. This is necessary when loading the transformer\u001b[39;00m\n\u001b[0;32m    359\u001b[0m \u001b[39m# from the cache.\u001b[39;00m\n\u001b[0;32m    360\u001b[0m \u001b[39mself\u001b[39m\u001b[39m.\u001b[39msteps[step_idx] \u001b[39m=\u001b[39m (name, fitted_transformer)\n",
      "File \u001b[1;32mc:\\Users\\angel\\Desktop\\Data science\\vscode_projetos\\venv\\lib\\site-packages\\joblib\\memory.py:349\u001b[0m, in \u001b[0;36mNotMemorizedFunc.__call__\u001b[1;34m(self, *args, **kwargs)\u001b[0m\n\u001b[0;32m    348\u001b[0m \u001b[39mdef\u001b[39;00m \u001b[39m__call__\u001b[39m(\u001b[39mself\u001b[39m, \u001b[39m*\u001b[39margs, \u001b[39m*\u001b[39m\u001b[39m*\u001b[39mkwargs):\n\u001b[1;32m--> 349\u001b[0m     \u001b[39mreturn\u001b[39;00m \u001b[39mself\u001b[39m\u001b[39m.\u001b[39mfunc(\u001b[39m*\u001b[39margs, \u001b[39m*\u001b[39m\u001b[39m*\u001b[39mkwargs)\n",
      "File \u001b[1;32mc:\\Users\\angel\\Desktop\\Data science\\vscode_projetos\\venv\\lib\\site-packages\\sklearn\\pipeline.py:893\u001b[0m, in \u001b[0;36m_fit_transform_one\u001b[1;34m(transformer, X, y, weight, message_clsname, message, **fit_params)\u001b[0m\n\u001b[0;32m    891\u001b[0m \u001b[39mwith\u001b[39;00m _print_elapsed_time(message_clsname, message):\n\u001b[0;32m    892\u001b[0m     \u001b[39mif\u001b[39;00m \u001b[39mhasattr\u001b[39m(transformer, \u001b[39m\"\u001b[39m\u001b[39mfit_transform\u001b[39m\u001b[39m\"\u001b[39m):\n\u001b[1;32m--> 893\u001b[0m         res \u001b[39m=\u001b[39m transformer\u001b[39m.\u001b[39mfit_transform(X, y, \u001b[39m*\u001b[39m\u001b[39m*\u001b[39mfit_params)\n\u001b[0;32m    894\u001b[0m     \u001b[39melse\u001b[39;00m:\n\u001b[0;32m    895\u001b[0m         res \u001b[39m=\u001b[39m transformer\u001b[39m.\u001b[39mfit(X, y, \u001b[39m*\u001b[39m\u001b[39m*\u001b[39mfit_params)\u001b[39m.\u001b[39mtransform(X)\n",
      "File \u001b[1;32mc:\\Users\\angel\\Desktop\\Data science\\vscode_projetos\\venv\\lib\\site-packages\\sklearn\\compose\\_column_transformer.py:699\u001b[0m, in \u001b[0;36mColumnTransformer.fit_transform\u001b[1;34m(self, X, y)\u001b[0m\n\u001b[0;32m    696\u001b[0m \u001b[39mself\u001b[39m\u001b[39m.\u001b[39m_validate_output(Xs)\n\u001b[0;32m    697\u001b[0m \u001b[39mself\u001b[39m\u001b[39m.\u001b[39m_record_output_indices(Xs)\n\u001b[1;32m--> 699\u001b[0m \u001b[39mreturn\u001b[39;00m \u001b[39mself\u001b[39;49m\u001b[39m.\u001b[39;49m_hstack(\u001b[39mlist\u001b[39;49m(Xs))\n",
      "File \u001b[1;32mc:\\Users\\angel\\Desktop\\Data science\\vscode_projetos\\venv\\lib\\site-packages\\sklearn\\compose\\_column_transformer.py:790\u001b[0m, in \u001b[0;36mColumnTransformer._hstack\u001b[1;34m(self, Xs)\u001b[0m\n\u001b[0;32m    788\u001b[0m     \u001b[39mreturn\u001b[39;00m sparse\u001b[39m.\u001b[39mhstack(converted_Xs)\u001b[39m.\u001b[39mtocsr()\n\u001b[0;32m    789\u001b[0m \u001b[39melse\u001b[39;00m:\n\u001b[1;32m--> 790\u001b[0m     Xs \u001b[39m=\u001b[39m [f\u001b[39m.\u001b[39mtoarray() \u001b[39mif\u001b[39;00m sparse\u001b[39m.\u001b[39missparse(f) \u001b[39melse\u001b[39;00m f \u001b[39mfor\u001b[39;00m f \u001b[39min\u001b[39;00m Xs]\n\u001b[0;32m    791\u001b[0m     \u001b[39mreturn\u001b[39;00m np\u001b[39m.\u001b[39mhstack(Xs)\n",
      "File \u001b[1;32mc:\\Users\\angel\\Desktop\\Data science\\vscode_projetos\\venv\\lib\\site-packages\\sklearn\\compose\\_column_transformer.py:790\u001b[0m, in \u001b[0;36m<listcomp>\u001b[1;34m(.0)\u001b[0m\n\u001b[0;32m    788\u001b[0m     \u001b[39mreturn\u001b[39;00m sparse\u001b[39m.\u001b[39mhstack(converted_Xs)\u001b[39m.\u001b[39mtocsr()\n\u001b[0;32m    789\u001b[0m \u001b[39melse\u001b[39;00m:\n\u001b[1;32m--> 790\u001b[0m     Xs \u001b[39m=\u001b[39m [f\u001b[39m.\u001b[39;49mtoarray() \u001b[39mif\u001b[39;00m sparse\u001b[39m.\u001b[39missparse(f) \u001b[39melse\u001b[39;00m f \u001b[39mfor\u001b[39;00m f \u001b[39min\u001b[39;00m Xs]\n\u001b[0;32m    791\u001b[0m     \u001b[39mreturn\u001b[39;00m np\u001b[39m.\u001b[39mhstack(Xs)\n",
      "File \u001b[1;32mc:\\Users\\angel\\Desktop\\Data science\\vscode_projetos\\venv\\lib\\site-packages\\scipy\\sparse\\_compressed.py:1051\u001b[0m, in \u001b[0;36m_cs_matrix.toarray\u001b[1;34m(self, order, out)\u001b[0m\n\u001b[0;32m   1049\u001b[0m \u001b[39mif\u001b[39;00m out \u001b[39mis\u001b[39;00m \u001b[39mNone\u001b[39;00m \u001b[39mand\u001b[39;00m order \u001b[39mis\u001b[39;00m \u001b[39mNone\u001b[39;00m:\n\u001b[0;32m   1050\u001b[0m     order \u001b[39m=\u001b[39m \u001b[39mself\u001b[39m\u001b[39m.\u001b[39m_swap(\u001b[39m'\u001b[39m\u001b[39mcf\u001b[39m\u001b[39m'\u001b[39m)[\u001b[39m0\u001b[39m]\n\u001b[1;32m-> 1051\u001b[0m out \u001b[39m=\u001b[39m \u001b[39mself\u001b[39;49m\u001b[39m.\u001b[39;49m_process_toarray_args(order, out)\n\u001b[0;32m   1052\u001b[0m \u001b[39mif\u001b[39;00m \u001b[39mnot\u001b[39;00m (out\u001b[39m.\u001b[39mflags\u001b[39m.\u001b[39mc_contiguous \u001b[39mor\u001b[39;00m out\u001b[39m.\u001b[39mflags\u001b[39m.\u001b[39mf_contiguous):\n\u001b[0;32m   1053\u001b[0m     \u001b[39mraise\u001b[39;00m \u001b[39mValueError\u001b[39;00m(\u001b[39m'\u001b[39m\u001b[39mOutput array must be C or F contiguous\u001b[39m\u001b[39m'\u001b[39m)\n",
      "File \u001b[1;32mc:\\Users\\angel\\Desktop\\Data science\\vscode_projetos\\venv\\lib\\site-packages\\scipy\\sparse\\_base.py:1288\u001b[0m, in \u001b[0;36mspmatrix._process_toarray_args\u001b[1;34m(self, order, out)\u001b[0m\n\u001b[0;32m   1286\u001b[0m     \u001b[39mreturn\u001b[39;00m out\n\u001b[0;32m   1287\u001b[0m \u001b[39melse\u001b[39;00m:\n\u001b[1;32m-> 1288\u001b[0m     \u001b[39mreturn\u001b[39;00m np\u001b[39m.\u001b[39;49mzeros(\u001b[39mself\u001b[39;49m\u001b[39m.\u001b[39;49mshape, dtype\u001b[39m=\u001b[39;49m\u001b[39mself\u001b[39;49m\u001b[39m.\u001b[39;49mdtype, order\u001b[39m=\u001b[39;49morder)\n",
      "\u001b[1;31mMemoryError\u001b[0m: Unable to allocate 828. GiB for an array with shape (1186024, 93673) and data type float64"
     ]
    }
   ],
   "source": [
    "model = pipe.fit(Xtrain,ytrain)"
   ]
  },
  {
   "cell_type": "markdown",
   "metadata": {},
   "source": [
    "Primeira elaboração do pipeline com problemas de memórias, vamos fazer mais pré processamentos e limpezas para mitigar."
   ]
  }
 ],
 "metadata": {
  "kernelspec": {
   "display_name": "Python 3.10.4 ('venv': venv)",
   "language": "python",
   "name": "python3"
  },
  "language_info": {
   "codemirror_mode": {
    "name": "ipython",
    "version": 3
   },
   "file_extension": ".py",
   "mimetype": "text/x-python",
   "name": "python",
   "nbconvert_exporter": "python",
   "pygments_lexer": "ipython3",
   "version": "3.10.4"
  },
  "orig_nbformat": 4,
  "vscode": {
   "interpreter": {
    "hash": "e31806f217dd3659a898472d172c6523b4167dde6a8e37d2cd7a062948a5ecc4"
   }
  }
 },
 "nbformat": 4,
 "nbformat_minor": 2
}
