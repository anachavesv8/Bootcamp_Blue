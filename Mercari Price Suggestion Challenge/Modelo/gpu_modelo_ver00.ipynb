{
  "cells": [
    {
      "cell_type": "markdown",
      "metadata": {
        "id": "5Rku4g_4Gn17"
      },
      "source": [
        "#   Bibliotecas"
      ]
    },
    {
      "cell_type": "markdown",
      "metadata": {
        "id": "DayDpVmRGn19"
      },
      "source": [
        "- Versões das bibliotecas no README"
      ]
    },
    {
      "cell_type": "code",
      "execution_count": 1,
      "metadata": {
        "id": "y66TPEKfGn1-"
      },
      "outputs": [],
      "source": [
        "import pandas as pd\n",
        "import random \n",
        "import numpy as np\n",
        "import re\n",
        "from scipy.sparse import hstack #utilizada para a junção de matrizes\n"
      ]
    },
    {
      "cell_type": "code",
      "execution_count": 2,
      "metadata": {
        "id": "71_w3oqnGn1_"
      },
      "outputs": [],
      "source": [
        "#Pré processamento de colunas\n",
        "\n",
        "from sklearn.model_selection import train_test_split #Divisão do dataset entre treino e teste\n",
        "from sklearn.feature_extraction.text import TfidfVectorizer #vetorização do dataset\n",
        "from sklearn.preprocessing import OneHotEncoder #aplicação de dummy"
      ]
    },
    {
      "cell_type": "code",
      "execution_count": 3,
      "metadata": {
        "colab": {
          "base_uri": "https://localhost:8080/"
        },
        "id": "ZBHjB5sXGn1_",
        "outputId": "754742a8-0416-4784-d722-0918a9e3fb5a"
      },
      "outputs": [
        {
          "name": "stderr",
          "output_type": "stream",
          "text": [
            "[nltk_data] Downloading package stopwords to\n",
            "[nltk_data]     C:\\Users\\angel\\AppData\\Roaming\\nltk_data...\n",
            "[nltk_data]   Package stopwords is already up-to-date!\n",
            "[nltk_data] Downloading package punkt to\n",
            "[nltk_data]     C:\\Users\\angel\\AppData\\Roaming\\nltk_data...\n",
            "[nltk_data]   Package punkt is already up-to-date!\n",
            "[nltk_data] Downloading package stopwords to\n",
            "[nltk_data]     C:\\Users\\angel\\AppData\\Roaming\\nltk_data...\n",
            "[nltk_data]   Package stopwords is already up-to-date!\n",
            "[nltk_data] Downloading package wordnet to\n",
            "[nltk_data]     C:\\Users\\angel\\AppData\\Roaming\\nltk_data...\n",
            "[nltk_data]   Package wordnet is already up-to-date!\n"
          ]
        },
        {
          "data": {
            "text/plain": [
              "True"
            ]
          },
          "execution_count": 3,
          "metadata": {},
          "output_type": "execute_result"
        }
      ],
      "source": [
        "#Pré processamento de texto\n",
        "\n",
        "\n",
        "import nltk\n",
        "from nltk import word_tokenize #tokenizador\n",
        "from nltk.stem import PorterStemmer\n",
        "from nltk.corpus import stopwords   #stopword\n",
        "\n",
        "nltk.download('stopwords')\n",
        "nltk.download('punkt')\n",
        "stop_words = stopwords.words('english')\n",
        "nltk.download('stopwords')\n",
        "nltk.download('wordnet')"
      ]
    },
    {
      "cell_type": "code",
      "execution_count": 4,
      "metadata": {
        "id": "VYj_P6dBGn2A"
      },
      "outputs": [],
      "source": [
        "#import de funções do script de pre_processamento\n",
        "\n",
        "from pre_processamento import pre_processamento, text_preprocess, textcolumns_junct,stemming"
      ]
    },
    {
      "cell_type": "code",
      "execution_count": 5,
      "metadata": {},
      "outputs": [],
      "source": [
        "import tensorflow as tf"
      ]
    },
    {
      "cell_type": "code",
      "execution_count": 6,
      "metadata": {
        "id": "PTsY1PnlGn2B"
      },
      "outputs": [],
      "source": [
        "# Modelo a ser testado\n",
        "import tensorflow as tf\n",
        "from tensorflow.keras.layers import Input, Dense\n",
        "from tensorflow.keras.models import Model\n",
        "from tensorflow.keras.metrics import RootMeanSquaredError"
      ]
    },
    {
      "cell_type": "code",
      "execution_count": 7,
      "metadata": {},
      "outputs": [
        {
          "name": "stdout",
          "output_type": "stream",
          "text": [
            "[name: \"/device:CPU:0\"\n",
            "device_type: \"CPU\"\n",
            "memory_limit: 268435456\n",
            "locality {\n",
            "}\n",
            "incarnation: 14213384562929486210\n",
            "xla_global_id: -1\n",
            ", name: \"/device:GPU:0\"\n",
            "device_type: \"GPU\"\n",
            "memory_limit: 2252026676\n",
            "locality {\n",
            "  bus_id: 1\n",
            "  links {\n",
            "  }\n",
            "}\n",
            "incarnation: 4456145180758486111\n",
            "physical_device_desc: \"device: 0, name: NVIDIA GeForce GTX 1650, pci bus id: 0000:01:00.0, compute capability: 7.5\"\n",
            "xla_global_id: 416903419\n",
            "]\n"
          ]
        }
      ],
      "source": [
        "from tensorflow.python.client import device_lib\n",
        "print(device_lib.list_local_devices())"
      ]
    },
    {
      "cell_type": "code",
      "execution_count": 8,
      "metadata": {
        "id": "RND40SOTGn2B"
      },
      "outputs": [],
      "source": [
        "#metricas\n",
        "\n",
        "from sklearn.metrics import mean_squared_error, mean_absolute_error, mean_squared_log_error"
      ]
    },
    {
      "cell_type": "code",
      "execution_count": 9,
      "metadata": {
        "colab": {
          "base_uri": "https://localhost:8080/"
        },
        "id": "FwePyN4tGn2B",
        "outputId": "7c8293d7-9190-4070-ec5d-1fd9dd42f476"
      },
      "outputs": [],
      "source": [
        "train = pd.read_csv(r\"C:\\Users\\angel\\Desktop\\bootcamp\\train.tsv\", sep='\\t')\n",
        "test = pd.read_csv(r\"C:\\Users\\angel\\Desktop\\bootcamp\\test.tsv\", sep='\\t')"
      ]
    },
    {
      "cell_type": "code",
      "execution_count": 10,
      "metadata": {
        "id": "SWuFw8ubGn2B"
      },
      "outputs": [],
      "source": [
        "train,test = pre_processamento(train,test)"
      ]
    },
    {
      "cell_type": "markdown",
      "metadata": {
        "id": "8AvGoui2Gn2C"
      },
      "source": [
        "#   Pré-processamento "
      ]
    },
    {
      "cell_type": "code",
      "execution_count": 11,
      "metadata": {
        "id": "FtY37E9SGn2C"
      },
      "outputs": [],
      "source": [
        "train = textcolumns_junct(train) #Função pra juntar as colunas de texto em uma só coluna"
      ]
    },
    {
      "cell_type": "code",
      "execution_count": 12,
      "metadata": {
        "id": "Pz6TL_wJGn2C"
      },
      "outputs": [],
      "source": [
        "#Convertendo tudo para string\n",
        "\n",
        "train[\"item_description\"] = train[\"item_description\"].astype(str)"
      ]
    },
    {
      "cell_type": "code",
      "execution_count": 13,
      "metadata": {
        "id": "nqcPKqwGGn2D"
      },
      "outputs": [],
      "source": [
        "train[\"item_description\"] = train[\"item_description\"].apply(lambda x: text_preprocess(x)) #Limpando texto com regex."
      ]
    },
    {
      "cell_type": "code",
      "execution_count": 14,
      "metadata": {
        "id": "Jc00qvDKGn2D"
      },
      "outputs": [],
      "source": [
        "train[\"item_description\"] = train[\"item_description\"].apply(lambda x: word_tokenize(x)) #tokenizando"
      ]
    },
    {
      "cell_type": "code",
      "execution_count": 15,
      "metadata": {
        "id": "Ek7HQOsrGn2D"
      },
      "outputs": [],
      "source": [
        "train[\"item_description\"] = train[\"item_description\"].apply(lambda x: stemming(x))"
      ]
    },
    {
      "cell_type": "code",
      "execution_count": 16,
      "metadata": {
        "id": "a5CskUD2Gn2D"
      },
      "outputs": [],
      "source": [
        "train[\"item_description\"]=[\" \".join(review) for review in train[\"item_description\"].values]"
      ]
    },
    {
      "cell_type": "code",
      "execution_count": 17,
      "metadata": {
        "colab": {
          "base_uri": "https://localhost:8080/"
        },
        "id": "uTRGAwVWGn2D",
        "outputId": "1c0659fc-8c0c-420f-a86b-72fe5f436f7b"
      },
      "outputs": [
        {
          "data": {
            "text/plain": [
              "0              mlb cincinnati red shirt size xl descript yet\n",
              "1          razer blackwidow chroma keyboard razer keyboar...\n",
              "2          ava viv blous target ador top hint lace key ho...\n",
              "3          leather hors statu new tag . leather hors . re...\n",
              "4                 24k gold plate rose complet certif authent\n",
              "                                 ...                        \n",
              "1482530    free peopl inspir dress free peopl lace say si...\n",
              "1482531    littl mermaid handmad dress disney littl merma...\n",
              "1482532    21 day fix contain eat plan use twice still gr...\n",
              "1482533    world market lantern 2 one see 2 red 2 orang 2...\n",
              "1482534    brand new lux de vill wallet new tag red spark...\n",
              "Name: item_description, Length: 1481661, dtype: object"
            ]
          },
          "execution_count": 17,
          "metadata": {},
          "output_type": "execute_result"
        }
      ],
      "source": [
        "train[\"item_description\"]"
      ]
    },
    {
      "cell_type": "code",
      "execution_count": 18,
      "metadata": {
        "colab": {
          "base_uri": "https://localhost:8080/"
        },
        "id": "gY4cXOjLGn2E",
        "outputId": "273e80ae-21ce-436c-82a0-bb4eadab5e58"
      },
      "outputs": [
        {
          "data": {
            "text/plain": [
              "(1481661, 11)"
            ]
          },
          "execution_count": 18,
          "metadata": {},
          "output_type": "execute_result"
        }
      ],
      "source": [
        "train.shape"
      ]
    },
    {
      "cell_type": "markdown",
      "metadata": {
        "id": "mXL_ddlbGn2E"
      },
      "source": [
        "#   Split"
      ]
    },
    {
      "cell_type": "code",
      "execution_count": 19,
      "metadata": {
        "id": "lJsVqLFxGn2E"
      },
      "outputs": [],
      "source": [
        "train1 = train.drop(train[~((train['price'] > 0) & (train['price'] <= 250))].index)"
      ]
    },
    {
      "cell_type": "code",
      "execution_count": 20,
      "metadata": {
        "colab": {
          "base_uri": "https://localhost:8080/"
        },
        "id": "tVGLF-izGn2E",
        "outputId": "f6a0f112-93ef-442f-eaa1-c0ff4ab606fb"
      },
      "outputs": [
        {
          "data": {
            "text/plain": [
              "(1475534, 11)"
            ]
          },
          "execution_count": 20,
          "metadata": {},
          "output_type": "execute_result"
        }
      ],
      "source": [
        "train1.shape"
      ]
    },
    {
      "cell_type": "code",
      "execution_count": 21,
      "metadata": {
        "id": "qTsFlK3JGn2F"
      },
      "outputs": [],
      "source": [
        "X = train1.drop(\"price\", axis = 1)\n",
        "y = train1[\"price\"]"
      ]
    },
    {
      "cell_type": "code",
      "execution_count": 22,
      "metadata": {
        "id": "nIzG--iOGn2F"
      },
      "outputs": [],
      "source": [
        "#Separação em treino e teste para começarmos as transformaçõs, protegendo nossos dados de teste de possíveis vazamentos e das mudanças de hyperparametros. \n",
        "\n",
        "X1, Xtest, y1, ytest = train_test_split(X, y, test_size=0.1, random_state=10) #Divisão em 90/10"
      ]
    },
    {
      "cell_type": "code",
      "execution_count": 23,
      "metadata": {
        "id": "sly2uShzGn2F"
      },
      "outputs": [],
      "source": [
        "#Separação em treino e teste para começarmos as transformaçõs, protegendo nossos dados de validação de possíveis vazamentos. \n",
        "\n",
        "Xtrain, Xval, ytrain, yval = train_test_split(X1, y1, test_size=0.2, random_state=10) #Divisão em 80/20"
      ]
    },
    {
      "cell_type": "code",
      "execution_count": 24,
      "metadata": {
        "colab": {
          "base_uri": "https://localhost:8080/",
          "height": 282
        },
        "id": "_petHHctGn2F",
        "outputId": "8c6f3cdf-b819-4ee0-fcbd-f73e77ff739a"
      },
      "outputs": [
        {
          "data": {
            "text/plain": [
              "<AxesSubplot: >"
            ]
          },
          "execution_count": 24,
          "metadata": {},
          "output_type": "execute_result"
        },
        {
          "data": {
            "image/png": "[encoded data removed]",
            "text/plain": [
              "<Figure size 640x480 with 1 Axes>"
            ]
          },
          "metadata": {},
          "output_type": "display_data"
        }
      ],
      "source": [
        "#Normalizando, com log, o target (price), foi realizado de forma separada para nao terem dados vazados.\n",
        "\n",
        "ytrain =  np.log1p(ytrain)\n",
        "ytrain.hist()"
      ]
    },
    {
      "cell_type": "code",
      "execution_count": 25,
      "metadata": {
        "colab": {
          "base_uri": "https://localhost:8080/"
        },
        "id": "RuvdIbRDGn2G",
        "outputId": "522359bd-0c42-442f-f5f7-4cf8a7f5b280"
      },
      "outputs": [
        {
          "name": "stdout",
          "output_type": "stream",
          "text": [
            "(1062384, 10) (1062384,)\n",
            "(265596, 10) (265596,)\n",
            "(147554, 10) (147554,)\n"
          ]
        }
      ],
      "source": [
        "print(Xtrain.shape,ytrain.shape) \n",
        "print(Xval.shape,yval.shape)\n",
        "print(Xtest.shape,ytest.shape)"
      ]
    },
    {
      "cell_type": "markdown",
      "metadata": {
        "id": "FBC11xTJGn2G"
      },
      "source": [
        "# Transformadores"
      ]
    },
    {
      "cell_type": "code",
      "execution_count": 26,
      "metadata": {
        "id": "MvFXb5faGn2G"
      },
      "outputs": [],
      "source": [
        "vec = TfidfVectorizer(stop_words=stop_words, ngram_range=(1,2), max_features=25000) #vetorização, com stop word. "
      ]
    },
    {
      "cell_type": "code",
      "execution_count": 27,
      "metadata": {
        "colab": {
          "base_uri": "https://localhost:8080/"
        },
        "id": "wL69TwBCGn2G",
        "outputId": "9ef4993f-558a-48fd-e5d4-bd3ddfbfa4c5"
      },
      "outputs": [
        {
          "data": {
            "text/plain": [
              "<1062384x25000 sparse matrix of type '<class 'numpy.float64'>'\n",
              "\twith 26265778 stored elements in Compressed Sparse Row format>"
            ]
          },
          "execution_count": 27,
          "metadata": {},
          "output_type": "execute_result"
        }
      ],
      "source": [
        "vec_train = vec.fit_transform(Xtrain[\"item_description\"])\n",
        "\n",
        "vec_train"
      ]
    },
    {
      "cell_type": "code",
      "execution_count": 28,
      "metadata": {
        "colab": {
          "base_uri": "https://localhost:8080/"
        },
        "id": "-21rjZ-WGn2H",
        "outputId": "b78fa120-474a-4e72-af9f-0b6c182dfc28"
      },
      "outputs": [
        {
          "data": {
            "text/plain": [
              "<265596x25000 sparse matrix of type '<class 'numpy.float64'>'\n",
              "\twith 6566046 stored elements in Compressed Sparse Row format>"
            ]
          },
          "execution_count": 28,
          "metadata": {},
          "output_type": "execute_result"
        }
      ],
      "source": [
        "vec_val = vec.transform(Xval[\"item_description\"])\n",
        "\n",
        "vec_val"
      ]
    },
    {
      "cell_type": "code",
      "execution_count": 29,
      "metadata": {
        "colab": {
          "base_uri": "https://localhost:8080/"
        },
        "id": "kYExq31AGn2H",
        "outputId": "cbecfdc4-07cb-43c2-c183-29b82d7e5336"
      },
      "outputs": [
        {
          "data": {
            "text/plain": [
              "<1062384x985 sparse matrix of type '<class 'numpy.float64'>'\n",
              "\twith 5311920 stored elements in Compressed Sparse Row format>"
            ]
          },
          "execution_count": 29,
          "metadata": {},
          "output_type": "execute_result"
        }
      ],
      "source": [
        "ohe = OneHotEncoder(handle_unknown=\"ignore\")\n",
        "\n",
        "#aplicação dummy nas colunas categóricas.\n",
        "\n",
        "ohe_train = ohe.fit_transform(Xtrain[[\"item_condition_id\",   \n",
        "                                         \"shipping\",\n",
        "                                         \"gen_cat\",\n",
        "                                         \"sub1_cat\",\n",
        "                                         \"sub2_cat\", \n",
        "                                                    ]])\n",
        "                            \n",
        "ohe_train"
      ]
    },
    {
      "cell_type": "code",
      "execution_count": 30,
      "metadata": {
        "colab": {
          "base_uri": "https://localhost:8080/"
        },
        "id": "ivtsbypDGn2H",
        "outputId": "70dfce11-ba96-430d-812e-a46edc25a9ca"
      },
      "outputs": [
        {
          "data": {
            "text/plain": [
              "<265596x985 sparse matrix of type '<class 'numpy.float64'>'\n",
              "\twith 1327960 stored elements in Compressed Sparse Row format>"
            ]
          },
          "execution_count": 30,
          "metadata": {},
          "output_type": "execute_result"
        }
      ],
      "source": [
        "ohe_val = ohe.transform(Xval[[\"item_condition_id\",   \n",
        "                                         \"shipping\",\n",
        "                                         \"gen_cat\",\n",
        "                                         \"sub1_cat\",\n",
        "                                         \"sub2_cat\", \n",
        "                                                    ]])\n",
        "\n",
        "ohe_val"
      ]
    },
    {
      "cell_type": "code",
      "execution_count": 31,
      "metadata": {
        "colab": {
          "base_uri": "https://localhost:8080/"
        },
        "id": "fIJbWBMGGn2I",
        "outputId": "cf636a8c-de7d-4d34-ef62-0d663ef0b3a3"
      },
      "outputs": [
        {
          "data": {
            "text/plain": [
              "<1062384x25985 sparse matrix of type '<class 'numpy.float64'>'\n",
              "\twith 31577698 stored elements in Compressed Sparse Row format>"
            ]
          },
          "execution_count": 31,
          "metadata": {},
          "output_type": "execute_result"
        }
      ],
      "source": [
        "#juntando cada matrix gerada por cada pré-processamento\n",
        "\n",
        "x_train = hstack([\n",
        "                 (vec_train),\n",
        "                 (ohe_train)\n",
        "                            ], format='csr') \n",
        "x_train"
      ]
    },
    {
      "cell_type": "code",
      "execution_count": 32,
      "metadata": {
        "colab": {
          "base_uri": "https://localhost:8080/"
        },
        "id": "BC6wPKWWGn2I",
        "outputId": "16da68fd-f493-4e0d-9478-a5514fcf1ab9"
      },
      "outputs": [
        {
          "data": {
            "text/plain": [
              "<265596x25985 sparse matrix of type '<class 'numpy.float64'>'\n",
              "\twith 7894006 stored elements in Compressed Sparse Row format>"
            ]
          },
          "execution_count": 32,
          "metadata": {},
          "output_type": "execute_result"
        }
      ],
      "source": [
        "x_val = hstack([\n",
        "                 (vec_val),\n",
        "                 (ohe_val)\n",
        "                             ], format='csr') \n",
        "x_val"
      ]
    },
    {
      "cell_type": "markdown",
      "metadata": {
        "id": "Pw_6GQyvGn2I"
      },
      "source": [
        "# Modelo"
      ]
    },
    {
      "cell_type": "code",
      "execution_count": 33,
      "metadata": {},
      "outputs": [],
      "source": [
        "#del model  # for avoid any trace on aigen\n",
        "tf.keras.backend.clear_session()  # removing session, it will instance another"
      ]
    },
    {
      "cell_type": "code",
      "execution_count": 34,
      "metadata": {
        "colab": {
          "base_uri": "https://localhost:8080/"
        },
        "id": "g7QnnlhvGn2I",
        "outputId": "d3de2819-1135-4901-c790-a528f932e27f"
      },
      "outputs": [
        {
          "name": "stdout",
          "output_type": "stream",
          "text": [
            "Model: \"model\"\n",
            "_________________________________________________________________\n",
            " Layer (type)                Output Shape              Param #   \n",
            "=================================================================\n",
            " sparse (InputLayer)         [(None, 25985)]           0         \n",
            "                                                                 \n",
            " dense (Dense)               (None, 2500)              64965000  \n",
            "                                                                 \n",
            " dense_1 (Dense)             (None, 1250)              3126250   \n",
            "                                                                 \n",
            " dense_2 (Dense)             (None, 600)               750600    \n",
            "                                                                 \n",
            " dense_3 (Dense)             (None, 300)               180300    \n",
            "                                                                 \n",
            " dense_4 (Dense)             (None, 100)               30100     \n",
            "                                                                 \n",
            " dense_5 (Dense)             (None, 1)                 101       \n",
            "                                                                 \n",
            "=================================================================\n",
            "Total params: 69,052,351\n",
            "Trainable params: 69,052,351\n",
            "Non-trainable params: 0\n",
            "_________________________________________________________________\n"
          ]
        }
      ],
      "source": [
        "input = Input(shape=(x_train.shape[-1]), sparse=True, name='sparse')\n",
        "dense3 = Dense(2500, activation=\"relu\") (input)\n",
        "dense4 = Dense(1250, activation=\"relu\") (dense3)\n",
        "dense5 = Dense(600, activation=\"relu\") (dense4)\n",
        "dense6 = Dense(300, activation=\"relu\") (dense5)\n",
        "dense7 = Dense(100, activation=\"relu\") (dense6)\n",
        "\n",
        "out = Dense(1) (dense7)\n",
        "\n",
        "model = Model(inputs = input, outputs = out)\n",
        "\n",
        "model.summary()"
      ]
    },
    {
      "cell_type": "code",
      "execution_count": 35,
      "metadata": {
        "id": "H_rjzWn7KIx7"
      },
      "outputs": [],
      "source": [
        "model.compile(loss=\"mean_squared_error\", \n",
        "              metrics=['mean_squared_error', RootMeanSquaredError()], \n",
        "              optimizer = 'Adam')\n",
        "\n"
      ]
    },
    {
      "cell_type": "code",
      "execution_count": 36,
      "metadata": {},
      "outputs": [],
      "source": [
        "x_train.sort_indices()"
      ]
    },
    {
      "cell_type": "code",
      "execution_count": 37,
      "metadata": {},
      "outputs": [
        {
          "name": "stdout",
          "output_type": "stream",
          "text": [
            "Epoch 1/20\n"
          ]
        },
        {
          "name": "stderr",
          "output_type": "stream",
          "text": [
            "c:\\Users\\angel\\Desktop\\Data science\\venv\\blue_bootcamp\\lib\\site-packages\\tensorflow\\python\\framework\\indexed_slices.py:444: UserWarning: Converting sparse IndexedSlices(IndexedSlices(indices=Tensor(\"gradient_tape/model/dense/embedding_lookup_sparse/Reshape_1:0\", shape=(None,), dtype=int32), values=Tensor(\"gradient_tape/model/dense/embedding_lookup_sparse/Reshape:0\", shape=(None, 2500), dtype=float32), dense_shape=Tensor(\"gradient_tape/model/dense/embedding_lookup_sparse/Cast:0\", shape=(2,), dtype=int32))) to a dense Tensor of unknown shape. This may consume a large amount of memory.\n",
            "  warnings.warn(\n"
          ]
        },
        {
          "name": "stdout",
          "output_type": "stream",
          "text": [
            "1038/1038 [==============================] - 117s 107ms/step - loss: 0.2783 - mean_squared_error: 0.2783 - root_mean_squared_error: 0.5275\n",
            "Epoch 2/20\n",
            "1038/1038 [==============================] - 115s 108ms/step - loss: 0.1747 - mean_squared_error: 0.1747 - root_mean_squared_error: 0.4180\n",
            "Epoch 3/20\n",
            "1038/1038 [==============================] - 114s 107ms/step - loss: 0.1234 - mean_squared_error: 0.1234 - root_mean_squared_error: 0.3512\n",
            "Epoch 4/20\n",
            "1038/1038 [==============================] - 116s 109ms/step - loss: 0.0786 - mean_squared_error: 0.0786 - root_mean_squared_error: 0.2804\n",
            "Epoch 5/20\n",
            "1038/1038 [==============================] - 115s 107ms/step - loss: 0.0525 - mean_squared_error: 0.0525 - root_mean_squared_error: 0.2291\n",
            "Epoch 6/20\n",
            "1038/1038 [==============================] - 113s 106ms/step - loss: 0.0391 - mean_squared_error: 0.0391 - root_mean_squared_error: 0.1978\n",
            "Epoch 7/20\n",
            "1038/1038 [==============================] - 115s 108ms/step - loss: 0.0316 - mean_squared_error: 0.0316 - root_mean_squared_error: 0.1777\n",
            "Epoch 8/20\n",
            "1038/1038 [==============================] - 115s 108ms/step - loss: 0.0271 - mean_squared_error: 0.0271 - root_mean_squared_error: 0.1645\n",
            "Epoch 9/20\n",
            "1038/1038 [==============================] - 114s 107ms/step - loss: 0.0243 - mean_squared_error: 0.0243 - root_mean_squared_error: 0.1558\n",
            "Epoch 10/20\n",
            "1038/1038 [==============================] - 114s 108ms/step - loss: 0.0218 - mean_squared_error: 0.0218 - root_mean_squared_error: 0.1477\n",
            "Epoch 11/20\n",
            "1038/1038 [==============================] - 115s 108ms/step - loss: 0.0195 - mean_squared_error: 0.0195 - root_mean_squared_error: 0.1397\n",
            "Epoch 12/20\n",
            "1038/1038 [==============================] - 115s 107ms/step - loss: 0.0177 - mean_squared_error: 0.0177 - root_mean_squared_error: 0.1331\n",
            "Epoch 13/20\n",
            "1038/1038 [==============================] - 115s 108ms/step - loss: 0.0166 - mean_squared_error: 0.0166 - root_mean_squared_error: 0.1290\n",
            "Epoch 14/20\n",
            "1038/1038 [==============================] - 114s 107ms/step - loss: 0.0154 - mean_squared_error: 0.0154 - root_mean_squared_error: 0.1242\n",
            "Epoch 15/20\n",
            "1038/1038 [==============================] - 115s 108ms/step - loss: 0.0142 - mean_squared_error: 0.0142 - root_mean_squared_error: 0.1194\n",
            "Epoch 16/20\n",
            "1038/1038 [==============================] - 115s 108ms/step - loss: 0.0134 - mean_squared_error: 0.0134 - root_mean_squared_error: 0.1158\n",
            "Epoch 17/20\n",
            "1038/1038 [==============================] - 115s 108ms/step - loss: 0.0126 - mean_squared_error: 0.0126 - root_mean_squared_error: 0.1121\n",
            "Epoch 18/20\n",
            "1038/1038 [==============================] - 114s 107ms/step - loss: 0.0119 - mean_squared_error: 0.0119 - root_mean_squared_error: 0.1090\n",
            "Epoch 19/20\n",
            "1038/1038 [==============================] - 116s 109ms/step - loss: 0.0112 - mean_squared_error: 0.0112 - root_mean_squared_error: 0.1060\n",
            "Epoch 20/20\n",
            "1038/1038 [==============================] - 114s 107ms/step - loss: 0.0107 - mean_squared_error: 0.0107 - root_mean_squared_error: 0.1032\n"
          ]
        }
      ],
      "source": [
        "\n",
        "history =  model.fit(x_train,\n",
        "                     ytrain.values, \n",
        "                     batch_size=1024,\n",
        "                     epochs=20, \n",
        "                     verbose=True)"
      ]
    },
    {
      "cell_type": "code",
      "execution_count": 38,
      "metadata": {},
      "outputs": [],
      "source": [
        "x_val.sort_indices()"
      ]
    },
    {
      "cell_type": "code",
      "execution_count": 39,
      "metadata": {
        "id": "kiGPp2kuGn2J"
      },
      "outputs": [
        {
          "name": "stdout",
          "output_type": "stream",
          "text": [
            "8300/8300 [==============================] - 34s 4ms/step\n"
          ]
        }
      ],
      "source": [
        "ypredict = model.predict(x_val)"
      ]
    },
    {
      "cell_type": "code",
      "execution_count": 40,
      "metadata": {
        "id": "0Q_tsJVXGn2J"
      },
      "outputs": [],
      "source": [
        "ypredict = np.expm1(ypredict)\n"
      ]
    },
    {
      "cell_type": "markdown",
      "metadata": {
        "id": "mOFRMW29Gn2J"
      },
      "source": [
        "#   Resultado"
      ]
    },
    {
      "cell_type": "markdown",
      "metadata": {
        "id": "gHuVHyXSGn2J"
      },
      "source": [
        "- predict validação"
      ]
    },
    {
      "cell_type": "code",
      "execution_count": 41,
      "metadata": {
        "id": "p-WVZAnfGn2K"
      },
      "outputs": [
        {
          "name": "stdout",
          "output_type": "stream",
          "text": [
            "MAE: $ 9.11\n",
            "RMSE:  $ 17.33\n",
            "RMSLE: 0.201505\n"
          ]
        }
      ],
      "source": [
        "print('MAE: $ %.2f' %  mean_absolute_error(yval,ypredict))\n",
        "print('RMSE:  $ %.2f' %  (mean_squared_error(yval,ypredict)**0.5))\n",
        "print('RMSLE: %2f' % mean_squared_log_error(yval,ypredict))\n"
      ]
    }
  ],
  "metadata": {
    "colab": {
      "provenance": []
    },
    "kernelspec": {
      "display_name": "Python 3.10.8 ('blue_bootcamp': venv)",
      "language": "python",
      "name": "python3"
    },
    "language_info": {
      "codemirror_mode": {
        "name": "ipython",
        "version": 3
      },
      "file_extension": ".py",
      "mimetype": "text/x-python",
      "name": "python",
      "nbconvert_exporter": "python",
      "pygments_lexer": "ipython3",
      "version": "3.10.8"
    },
    "orig_nbformat": 4,
    "vscode": {
      "interpreter": {
        "hash": "0cba9dc48216265c7a67d52538187b6a360d3b2963a1f5a8f0947f5a3cb43c1c"
      }
    }
  },
  "nbformat": 4,
  "nbformat_minor": 0
}
