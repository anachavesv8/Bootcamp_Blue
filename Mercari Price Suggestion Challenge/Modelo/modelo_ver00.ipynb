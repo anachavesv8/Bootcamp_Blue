{
  "cells": [
    {
      "cell_type": "markdown",
      "metadata": {
        "id": "5Rku4g_4Gn17"
      },
      "source": [
        "#   Bibliotecas"
      ]
    },
    {
      "cell_type": "markdown",
      "metadata": {
        "id": "DayDpVmRGn19"
      },
      "source": [
        "- Versões das bibliotecas no README"
      ]
    },
    {
      "cell_type": "code",
      "execution_count": 1,
      "metadata": {
        "id": "y66TPEKfGn1-"
      },
      "outputs": [],
      "source": [
        "import pandas as pd\n",
        "import random \n",
        "import numpy as np\n",
        "import re\n",
        "from scipy.sparse import hstack #utilizada para a junção de matrizes"
      ]
    },
    {
      "cell_type": "code",
      "execution_count": 2,
      "metadata": {
        "id": "71_w3oqnGn1_"
      },
      "outputs": [],
      "source": [
        "#Pré processamento de colunas\n",
        "\n",
        "from sklearn.model_selection import train_test_split #Divisão do dataset entre treino e teste\n",
        "from sklearn.feature_extraction.text import TfidfVectorizer #vetorização do dataset\n",
        "from sklearn.preprocessing import OneHotEncoder #aplicação de dummy"
      ]
    },
    {
      "cell_type": "code",
      "execution_count": 3,
      "metadata": {
        "id": "ZBHjB5sXGn1_",
        "outputId": "754742a8-0416-4784-d722-0918a9e3fb5a",
        "colab": {
          "base_uri": "https://localhost:8080/"
        }
      },
      "outputs": [
        {
          "output_type": "stream",
          "name": "stderr",
          "text": [
            "[nltk_data] Downloading package stopwords to /root/nltk_data...\n",
            "[nltk_data]   Unzipping corpora/stopwords.zip.\n",
            "[nltk_data] Downloading package punkt to /root/nltk_data...\n",
            "[nltk_data]   Unzipping tokenizers/punkt.zip.\n",
            "[nltk_data] Downloading package stopwords to /root/nltk_data...\n",
            "[nltk_data]   Package stopwords is already up-to-date!\n",
            "[nltk_data] Downloading package wordnet to /root/nltk_data...\n"
          ]
        },
        {
          "output_type": "execute_result",
          "data": {
            "text/plain": [
              "True"
            ]
          },
          "metadata": {},
          "execution_count": 3
        }
      ],
      "source": [
        "#Pré processamento de texto\n",
        "\n",
        "\n",
        "import nltk\n",
        "from nltk import word_tokenize #tokenizador\n",
        "from nltk.stem import PorterStemmer\n",
        "from nltk.corpus import stopwords   #stopword\n",
        "\n",
        "nltk.download('stopwords')\n",
        "nltk.download('punkt')\n",
        "stop_words = stopwords.words('english')\n",
        "nltk.download('stopwords')\n",
        "nltk.download('wordnet')"
      ]
    },
    {
      "cell_type": "code",
      "execution_count": 6,
      "metadata": {
        "id": "VYj_P6dBGn2A"
      },
      "outputs": [],
      "source": [
        "#import de funções do script de pre_processamento\n",
        "\n",
        "from pre_processamento import pre_processamento, text_preprocess, textcolumns_junct,stemming"
      ]
    },
    {
      "cell_type": "code",
      "execution_count": 7,
      "metadata": {
        "id": "PTsY1PnlGn2B"
      },
      "outputs": [],
      "source": [
        "# Modelo a ser testado\n",
        "\n",
        "from keras.layers import Input, Dense\n",
        "from keras.models import Model\n",
        "from tensorflow.keras.metrics import RootMeanSquaredError"
      ]
    },
    {
      "cell_type": "code",
      "execution_count": 8,
      "metadata": {
        "id": "RND40SOTGn2B"
      },
      "outputs": [],
      "source": [
        "#metricas\n",
        "\n",
        "from sklearn.metrics import mean_squared_error, mean_absolute_error, mean_squared_log_error"
      ]
    },
    {
      "cell_type": "code",
      "execution_count": 9,
      "metadata": {
        "id": "FwePyN4tGn2B",
        "outputId": "7c8293d7-9190-4070-ec5d-1fd9dd42f476",
        "colab": {
          "base_uri": "https://localhost:8080/"
        }
      },
      "outputs": [
        {
          "output_type": "stream",
          "name": "stdout",
          "text": [
            "Mounted at /content/drive\n"
          ]
        }
      ],
      "source": [
        "from google.colab import drive\n",
        "drive.mount('/content/drive',  force_remount=True)\n",
        "\n",
        "train = pd.read_csv(r\"/content/drive/MyDrive/Datasets/train.tsv\", sep='\\t')\n",
        "test = pd.read_csv('/content/drive/MyDrive/Datasets/test.tsv', sep = '\\t')"
      ]
    },
    {
      "cell_type": "code",
      "execution_count": 10,
      "metadata": {
        "id": "SWuFw8ubGn2B"
      },
      "outputs": [],
      "source": [
        "train,test = pre_processamento(train,test)"
      ]
    },
    {
      "cell_type": "markdown",
      "metadata": {
        "id": "8AvGoui2Gn2C"
      },
      "source": [
        "#   Pré-processamento "
      ]
    },
    {
      "cell_type": "code",
      "execution_count": 11,
      "metadata": {
        "id": "FtY37E9SGn2C"
      },
      "outputs": [],
      "source": [
        "train = textcolumns_junct(train) #Função pra juntar as colunas de texto em uma só coluna"
      ]
    },
    {
      "cell_type": "code",
      "execution_count": 12,
      "metadata": {
        "id": "Pz6TL_wJGn2C"
      },
      "outputs": [],
      "source": [
        "#Convertendo tudo para string\n",
        "\n",
        "train[\"item_description\"] = train[\"item_description\"].astype(str)"
      ]
    },
    {
      "cell_type": "code",
      "execution_count": 13,
      "metadata": {
        "id": "nqcPKqwGGn2D"
      },
      "outputs": [],
      "source": [
        "train[\"item_description\"] = train[\"item_description\"].apply(lambda x: text_preprocess(x)) #Limpando texto com regex."
      ]
    },
    {
      "cell_type": "code",
      "execution_count": 14,
      "metadata": {
        "id": "Jc00qvDKGn2D"
      },
      "outputs": [],
      "source": [
        "train[\"item_description\"] = train[\"item_description\"].apply(lambda x: word_tokenize(x)) #tokenizando"
      ]
    },
    {
      "cell_type": "code",
      "execution_count": 15,
      "metadata": {
        "id": "Ek7HQOsrGn2D"
      },
      "outputs": [],
      "source": [
        "train[\"item_description\"] = train[\"item_description\"].apply(lambda x: stemming(x))"
      ]
    },
    {
      "cell_type": "code",
      "execution_count": 16,
      "metadata": {
        "id": "a5CskUD2Gn2D"
      },
      "outputs": [],
      "source": [
        "train[\"item_description\"]=[\" \".join(review) for review in train[\"item_description\"].values]"
      ]
    },
    {
      "cell_type": "code",
      "execution_count": 17,
      "metadata": {
        "id": "uTRGAwVWGn2D",
        "outputId": "1c0659fc-8c0c-420f-a86b-72fe5f436f7b",
        "colab": {
          "base_uri": "https://localhost:8080/"
        }
      },
      "outputs": [
        {
          "output_type": "execute_result",
          "data": {
            "text/plain": [
              "0              mlb cincinnati red shirt size xl descript yet\n",
              "1          razer blackwidow chroma keyboard razer keyboar...\n",
              "2          ava viv blous target ador top hint lace key ho...\n",
              "3          leather hors statu new tag . leather hors . re...\n",
              "4                 24k gold plate rose complet certif authent\n",
              "                                 ...                        \n",
              "1482530    free peopl inspir dress free peopl lace say si...\n",
              "1482531    littl mermaid handmad dress disney littl merma...\n",
              "1482532    21 day fix contain eat plan use twice still gr...\n",
              "1482533    world market lantern 2 one see 2 red 2 orang 2...\n",
              "1482534    brand new lux de vill wallet new tag red spark...\n",
              "Name: item_description, Length: 1481661, dtype: object"
            ]
          },
          "metadata": {},
          "execution_count": 17
        }
      ],
      "source": [
        "train[\"item_description\"]"
      ]
    },
    {
      "cell_type": "code",
      "execution_count": 18,
      "metadata": {
        "id": "gY4cXOjLGn2E",
        "outputId": "273e80ae-21ce-436c-82a0-bb4eadab5e58",
        "colab": {
          "base_uri": "https://localhost:8080/"
        }
      },
      "outputs": [
        {
          "output_type": "execute_result",
          "data": {
            "text/plain": [
              "(1481661, 11)"
            ]
          },
          "metadata": {},
          "execution_count": 18
        }
      ],
      "source": [
        "train.shape"
      ]
    },
    {
      "cell_type": "markdown",
      "metadata": {
        "id": "mXL_ddlbGn2E"
      },
      "source": [
        "#   Split"
      ]
    },
    {
      "cell_type": "code",
      "execution_count": 19,
      "metadata": {
        "id": "lJsVqLFxGn2E"
      },
      "outputs": [],
      "source": [
        "train1 = train.drop(train[~((train['price'] > 0) & (train['price'] <= 250))].index)"
      ]
    },
    {
      "cell_type": "code",
      "execution_count": 20,
      "metadata": {
        "id": "tVGLF-izGn2E",
        "outputId": "f6a0f112-93ef-442f-eaa1-c0ff4ab606fb",
        "colab": {
          "base_uri": "https://localhost:8080/"
        }
      },
      "outputs": [
        {
          "output_type": "execute_result",
          "data": {
            "text/plain": [
              "(1475534, 11)"
            ]
          },
          "metadata": {},
          "execution_count": 20
        }
      ],
      "source": [
        "train1.shape"
      ]
    },
    {
      "cell_type": "code",
      "execution_count": 21,
      "metadata": {
        "id": "qTsFlK3JGn2F"
      },
      "outputs": [],
      "source": [
        "X = train1.drop(\"price\", axis = 1)\n",
        "y = train1[\"price\"]"
      ]
    },
    {
      "cell_type": "code",
      "execution_count": 22,
      "metadata": {
        "id": "nIzG--iOGn2F"
      },
      "outputs": [],
      "source": [
        "#Separação em treino e teste para começarmos as transformaçõs, protegendo nossos dados de teste de possíveis vazamentos e das mudanças de hyperparametros. \n",
        "\n",
        "X1, Xtest, y1, ytest = train_test_split(X, y, test_size=0.1, random_state=10) #Divisão em 90/10"
      ]
    },
    {
      "cell_type": "code",
      "execution_count": 23,
      "metadata": {
        "id": "sly2uShzGn2F"
      },
      "outputs": [],
      "source": [
        "#Separação em treino e teste para começarmos as transformaçõs, protegendo nossos dados de validação de possíveis vazamentos. \n",
        "\n",
        "Xtrain, Xval, ytrain, yval = train_test_split(X1, y1, test_size=0.2, random_state=10) #Divisão em 80/20"
      ]
    },
    {
      "cell_type": "code",
      "execution_count": 24,
      "metadata": {
        "id": "_petHHctGn2F",
        "outputId": "8c6f3cdf-b819-4ee0-fcbd-f73e77ff739a",
        "colab": {
          "base_uri": "https://localhost:8080/",
          "height": 282
        }
      },
      "outputs": [
        {
          "output_type": "execute_result",
          "data": {
            "text/plain": [
              "<matplotlib.axes._subplots.AxesSubplot at 0x7fd2c41ef510>"
            ]
          },
          "metadata": {},
          "execution_count": 24
        },
        {
          "output_type": "display_data",
          "data": {
            "text/plain": [
              "<Figure size 432x288 with 1 Axes>"
            ],
            "image/png": "[encoded data removed]"
          },
          "metadata": {
            "needs_background": "light"
          }
        }
      ],
      "source": [
        "#Normalizando, com log, o target (price), foi realizado de forma separada para nao terem dados vazados.\n",
        "\n",
        "ytrain =  np.log1p(ytrain)\n",
        "ytrain.hist()"
      ]
    },
    {
      "cell_type": "code",
      "execution_count": 25,
      "metadata": {
        "id": "RuvdIbRDGn2G",
        "outputId": "522359bd-0c42-442f-f5f7-4cf8a7f5b280",
        "colab": {
          "base_uri": "https://localhost:8080/"
        }
      },
      "outputs": [
        {
          "output_type": "stream",
          "name": "stdout",
          "text": [
            "(1062384, 10) (1062384,)\n",
            "(265596, 10) (265596,)\n",
            "(147554, 10) (147554,)\n"
          ]
        }
      ],
      "source": [
        "print(Xtrain.shape,ytrain.shape) \n",
        "print(Xval.shape,yval.shape)\n",
        "print(Xtest.shape,ytest.shape)"
      ]
    },
    {
      "cell_type": "markdown",
      "metadata": {
        "id": "FBC11xTJGn2G"
      },
      "source": [
        "# Transformadores"
      ]
    },
    {
      "cell_type": "code",
      "execution_count": 26,
      "metadata": {
        "id": "MvFXb5faGn2G"
      },
      "outputs": [],
      "source": [
        "vec = TfidfVectorizer(stop_words=stop_words, ngram_range=(1,2), max_features=50000) #vetorização, com stop word. "
      ]
    },
    {
      "cell_type": "code",
      "execution_count": 27,
      "metadata": {
        "id": "wL69TwBCGn2G",
        "outputId": "9ef4993f-558a-48fd-e5d4-bd3ddfbfa4c5",
        "colab": {
          "base_uri": "https://localhost:8080/"
        }
      },
      "outputs": [
        {
          "output_type": "execute_result",
          "data": {
            "text/plain": [
              "<1062384x50000 sparse matrix of type '<class 'numpy.float64'>'\n",
              "\twith 28444564 stored elements in Compressed Sparse Row format>"
            ]
          },
          "metadata": {},
          "execution_count": 27
        }
      ],
      "source": [
        "vec_train = vec.fit_transform(Xtrain[\"item_description\"])\n",
        "\n",
        "vec_train"
      ]
    },
    {
      "cell_type": "code",
      "execution_count": 28,
      "metadata": {
        "id": "-21rjZ-WGn2H",
        "outputId": "b78fa120-474a-4e72-af9f-0b6c182dfc28",
        "colab": {
          "base_uri": "https://localhost:8080/"
        }
      },
      "outputs": [
        {
          "output_type": "execute_result",
          "data": {
            "text/plain": [
              "<265596x50000 sparse matrix of type '<class 'numpy.float64'>'\n",
              "\twith 7105732 stored elements in Compressed Sparse Row format>"
            ]
          },
          "metadata": {},
          "execution_count": 28
        }
      ],
      "source": [
        "vec_val = vec.transform(Xval[\"item_description\"])\n",
        "\n",
        "vec_val"
      ]
    },
    {
      "cell_type": "code",
      "execution_count": 29,
      "metadata": {
        "id": "kYExq31AGn2H",
        "outputId": "cbecfdc4-07cb-43c2-c183-29b82d7e5336",
        "colab": {
          "base_uri": "https://localhost:8080/"
        }
      },
      "outputs": [
        {
          "output_type": "execute_result",
          "data": {
            "text/plain": [
              "<1062384x985 sparse matrix of type '<class 'numpy.float64'>'\n",
              "\twith 5311920 stored elements in Compressed Sparse Row format>"
            ]
          },
          "metadata": {},
          "execution_count": 29
        }
      ],
      "source": [
        "ohe = OneHotEncoder(handle_unknown=\"ignore\")\n",
        "\n",
        "#aplicação dummy nas colunas categóricas.\n",
        "\n",
        "ohe_train = ohe.fit_transform(Xtrain[[\"item_condition_id\",   \n",
        "                                         \"shipping\",\n",
        "                                         \"gen_cat\",\n",
        "                                         \"sub1_cat\",\n",
        "                                         \"sub2_cat\", \n",
        "                                                    ]])\n",
        "                            \n",
        "ohe_train"
      ]
    },
    {
      "cell_type": "code",
      "execution_count": 30,
      "metadata": {
        "id": "ivtsbypDGn2H",
        "outputId": "70dfce11-ba96-430d-812e-a46edc25a9ca",
        "colab": {
          "base_uri": "https://localhost:8080/"
        }
      },
      "outputs": [
        {
          "output_type": "execute_result",
          "data": {
            "text/plain": [
              "<265596x985 sparse matrix of type '<class 'numpy.float64'>'\n",
              "\twith 1327960 stored elements in Compressed Sparse Row format>"
            ]
          },
          "metadata": {},
          "execution_count": 30
        }
      ],
      "source": [
        "ohe_val = ohe.transform(Xval[[\"item_condition_id\",   \n",
        "                                         \"shipping\",\n",
        "                                         \"gen_cat\",\n",
        "                                         \"sub1_cat\",\n",
        "                                         \"sub2_cat\", \n",
        "                                                    ]])\n",
        "\n",
        "ohe_val"
      ]
    },
    {
      "cell_type": "code",
      "execution_count": 31,
      "metadata": {
        "id": "fIJbWBMGGn2I",
        "outputId": "cf636a8c-de7d-4d34-ef62-0d663ef0b3a3",
        "colab": {
          "base_uri": "https://localhost:8080/"
        }
      },
      "outputs": [
        {
          "output_type": "execute_result",
          "data": {
            "text/plain": [
              "<1062384x50985 sparse matrix of type '<class 'numpy.float64'>'\n",
              "\twith 33756484 stored elements in Compressed Sparse Row format>"
            ]
          },
          "metadata": {},
          "execution_count": 31
        }
      ],
      "source": [
        "#juntando cada matrix gerada por cada pré-processamento\n",
        "\n",
        "x_train = hstack([\n",
        "                 (vec_train),\n",
        "                 (ohe_train)\n",
        "                            ], format='csr') \n",
        "x_train"
      ]
    },
    {
      "cell_type": "code",
      "execution_count": 32,
      "metadata": {
        "id": "BC6wPKWWGn2I",
        "outputId": "16da68fd-f493-4e0d-9478-a5514fcf1ab9",
        "colab": {
          "base_uri": "https://localhost:8080/"
        }
      },
      "outputs": [
        {
          "output_type": "execute_result",
          "data": {
            "text/plain": [
              "<265596x50985 sparse matrix of type '<class 'numpy.float64'>'\n",
              "\twith 8433692 stored elements in Compressed Sparse Row format>"
            ]
          },
          "metadata": {},
          "execution_count": 32
        }
      ],
      "source": [
        "x_val = hstack([\n",
        "                 (vec_val),\n",
        "                 (ohe_val)\n",
        "                             ], format='csr') \n",
        "x_val"
      ]
    },
    {
      "cell_type": "markdown",
      "metadata": {
        "id": "Pw_6GQyvGn2I"
      },
      "source": [
        "# Modelo"
      ]
    },
    {
      "cell_type": "code",
      "execution_count": 33,
      "metadata": {
        "id": "g7QnnlhvGn2I",
        "outputId": "d3de2819-1135-4901-c790-a528f932e27f",
        "colab": {
          "base_uri": "https://localhost:8080/"
        }
      },
      "outputs": [
        {
          "output_type": "stream",
          "name": "stdout",
          "text": [
            "Model: \"model\"\n",
            "_________________________________________________________________\n",
            " Layer (type)                Output Shape              Param #   \n",
            "=================================================================\n",
            " sparse (InputLayer)         [(None, 50985)]           0         \n",
            "                                                                 \n",
            " dense (Dense)               (None, 1024)              52209664  \n",
            "                                                                 \n",
            " dense_1 (Dense)             (None, 512)               524800    \n",
            "                                                                 \n",
            " dense_2 (Dense)             (None, 256)               131328    \n",
            "                                                                 \n",
            " dense_3 (Dense)             (None, 1)                 257       \n",
            "                                                                 \n",
            "=================================================================\n",
            "Total params: 52,866,049\n",
            "Trainable params: 52,866,049\n",
            "Non-trainable params: 0\n",
            "_________________________________________________________________\n"
          ]
        }
      ],
      "source": [
        "input = Input(shape=(x_train.shape[-1]), sparse=True, name='sparse')\n",
        "dense3 = Dense(1024, activation=\"relu\") (input)\n",
        "dense4 = Dense(512, activation=\"relu\") (dense3)\n",
        "dense5 = Dense(256, activation=\"relu\") (dense4)\n",
        "out = Dense(1) (dense5)\n",
        "\n",
        "model = Model(inputs = input, outputs = out)\n",
        "\n",
        "model.summary()"
      ]
    },
    {
      "cell_type": "code",
      "source": [
        "model.compile(loss=\"mean_squared_error\", metrics=['mean_squared_error', 'mean_squared_logarithmic_error', RootMeanSquaredError()], optimizer = 'Adam')\n",
        "history1 = model.fit(x_train, ytrain.values, batch_size=2048, epochs=10, verbose=True)"
      ],
      "metadata": {
        "id": "H_rjzWn7KIx7"
      },
      "execution_count": null,
      "outputs": []
    },
    {
      "cell_type": "code",
      "execution_count": null,
      "metadata": {
        "id": "kiGPp2kuGn2J"
      },
      "outputs": [],
      "source": [
        "ypredict = model.predict(x_val)"
      ]
    },
    {
      "cell_type": "code",
      "execution_count": null,
      "metadata": {
        "id": "yZAh9xuKGn2J"
      },
      "outputs": [],
      "source": [
        "ypredict_train = model.predict(x_train)"
      ]
    },
    {
      "cell_type": "code",
      "execution_count": null,
      "metadata": {
        "id": "0Q_tsJVXGn2J"
      },
      "outputs": [],
      "source": [
        "ypredict = np.expm1(ypredict)\n",
        "ypredict_train = np.expm1(ypredict_train)"
      ]
    },
    {
      "cell_type": "markdown",
      "metadata": {
        "id": "mOFRMW29Gn2J"
      },
      "source": [
        "#   Resultado"
      ]
    },
    {
      "cell_type": "markdown",
      "metadata": {
        "id": "gHuVHyXSGn2J"
      },
      "source": [
        "- predict validação"
      ]
    },
    {
      "cell_type": "code",
      "execution_count": null,
      "metadata": {
        "id": "p-WVZAnfGn2K"
      },
      "outputs": [],
      "source": [
        "print('MAE: $ %.2f' %  mean_absolute_error(yval,ypredict))\n",
        "print('RMSE:  $ %.2f' %  (mean_squared_error(yval,ypredict)**0.5))\n",
        "print('RMSLE: %2f' % mean_squared_log_error(yval,ypredict))\n"
      ]
    },
    {
      "cell_type": "markdown",
      "metadata": {
        "id": "677LOgJjGn2K"
      },
      "source": [
        "- predict treino"
      ]
    },
    {
      "cell_type": "code",
      "source": [
        "import matplotlib.pyplot as plt\n",
        "import seaborn as sns\n",
        "\n",
        "plt.figure(figsize=(10,10))\n",
        "sns.scatterplot(x=yval, y=[i[0] for i in ypredict.tolist()], alpha=0.03)\n",
        "\n",
        "sns.lineplot(x=yval, y=yval, color='red')"
      ],
      "metadata": {
        "id": "qiXPpdDXHPMK"
      },
      "execution_count": null,
      "outputs": []
    },
    {
      "cell_type": "code",
      "execution_count": null,
      "metadata": {
        "id": "oEVEV5y7Gn2K"
      },
      "outputs": [],
      "source": [
        "print('MAE_train: $%2f' % mean_absolute_error(np.expm1(ytrain),np.expm1(ypredict_train)))\n",
        "print('RMSE_train: $%2f' % (mean_squared_error(np.expm1(ytrain),np.expm1(ypredict_train))**0.5))\n",
        "print('RMSLE_train: %2f' % mean_squared_log_error(np.expm1(ytrain),np.expm1(ypredict_train)))"
      ]
    },
    {
      "cell_type": "code",
      "source": [
        "import matplotlib.pyplot as plt\n",
        "import seaborn as sns\n",
        "\n",
        "plt.figure(figsize=(10,10))\n",
        "sns.scatterplot(x=np.expm1(ytrain), y=[i[0] for i in np.expm1(ypredict_train).tolist()], alpha=0.03)\n",
        "\n",
        "sns.lineplot(x=np.expm1(ytrain), y=np.expm1(ytrain), color='red')"
      ],
      "metadata": {
        "id": "xblr-9MgHP7P"
      },
      "execution_count": null,
      "outputs": []
    }
  ],
  "metadata": {
    "kernelspec": {
      "display_name": "Python 3.10.4 ('venv': venv)",
      "language": "python",
      "name": "python3"
    },
    "language_info": {
      "codemirror_mode": {
        "name": "ipython",
        "version": 3
      },
      "file_extension": ".py",
      "mimetype": "text/x-python",
      "name": "python",
      "nbconvert_exporter": "python",
      "pygments_lexer": "ipython3",
      "version": "3.10.4"
    },
    "orig_nbformat": 4,
    "vscode": {
      "interpreter": {
        "hash": "2d8c3cde89636b2df73e0f3dfab6fb2dd7e3ffc595873bef1184e6edd25d1b40"
      }
    },
    "colab": {
      "provenance": []
    }
  },
  "nbformat": 4,
  "nbformat_minor": 0
}