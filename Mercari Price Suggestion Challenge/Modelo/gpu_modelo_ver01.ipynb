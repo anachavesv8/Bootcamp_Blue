{
  "cells": [
    {
      "cell_type": "markdown",
      "metadata": {
        "id": "5Rku4g_4Gn17"
      },
      "source": [
        "#   Bibliotecas"
      ]
    },
    {
      "cell_type": "markdown",
      "metadata": {
        "id": "DayDpVmRGn19"
      },
      "source": [
        "- Versões das bibliotecas no README"
      ]
    },
    {
      "cell_type": "code",
      "execution_count": 1,
      "metadata": {
        "id": "y66TPEKfGn1-"
      },
      "outputs": [],
      "source": [
        "import pandas as pd\n",
        "import random \n",
        "import numpy as np\n",
        "import re\n",
        "from scipy.sparse import hstack #utilizada para a junção de matrizes\n"
      ]
    },
    {
      "cell_type": "code",
      "execution_count": 2,
      "metadata": {
        "id": "71_w3oqnGn1_"
      },
      "outputs": [],
      "source": [
        "#Pré processamento de colunas\n",
        "\n",
        "from sklearn.model_selection import train_test_split #Divisão do dataset entre treino e teste\n",
        "from sklearn.feature_extraction.text import TfidfVectorizer #vetorização do dataset\n",
        "from sklearn.preprocessing import OneHotEncoder #aplicação de dummy"
      ]
    },
    {
      "cell_type": "code",
      "execution_count": 3,
      "metadata": {
        "colab": {
          "base_uri": "https://localhost:8080/"
        },
        "id": "ZBHjB5sXGn1_",
        "outputId": "b8f4b191-ab0b-4abb-eaf5-d83e6015de55"
      },
      "outputs": [
        {
          "output_type": "stream",
          "name": "stderr",
          "text": [
            "[nltk_data] Downloading package stopwords to /root/nltk_data...\n",
            "[nltk_data]   Unzipping corpora/stopwords.zip.\n",
            "[nltk_data] Downloading package punkt to /root/nltk_data...\n",
            "[nltk_data]   Unzipping tokenizers/punkt.zip.\n",
            "[nltk_data] Downloading package stopwords to /root/nltk_data...\n",
            "[nltk_data]   Package stopwords is already up-to-date!\n",
            "[nltk_data] Downloading package wordnet to /root/nltk_data...\n"
          ]
        },
        {
          "output_type": "execute_result",
          "data": {
            "text/plain": [
              "True"
            ]
          },
          "metadata": {},
          "execution_count": 3
        }
      ],
      "source": [
        "#Pré processamento de texto\n",
        "\n",
        "\n",
        "import nltk\n",
        "from nltk import word_tokenize #tokenizador\n",
        "from nltk.stem import PorterStemmer\n",
        "from nltk.corpus import stopwords   #stopword\n",
        "\n",
        "nltk.download('stopwords')\n",
        "nltk.download('punkt')\n",
        "stop_words = stopwords.words('english')\n",
        "nltk.download('stopwords')\n",
        "nltk.download('wordnet')"
      ]
    },
    {
      "cell_type": "code",
      "execution_count": 4,
      "metadata": {
        "id": "VYj_P6dBGn2A"
      },
      "outputs": [],
      "source": [
        "#import de funções do script de pre_processamento\n",
        "\n",
        "from pre_processamento import pre_processamento, text_preprocess, textcolumns_junct,stemming"
      ]
    },
    {
      "cell_type": "code",
      "source": [
        "from google.colab import drive\n",
        "drive.mount('/content/drive', force_remount=True)"
      ],
      "metadata": {
        "id": "PDrf4YP3L-gx",
        "outputId": "af40aafc-cabb-4dcf-c629-216003be0b8c",
        "colab": {
          "base_uri": "https://localhost:8080/"
        }
      },
      "execution_count": 6,
      "outputs": [
        {
          "output_type": "stream",
          "name": "stdout",
          "text": [
            "Mounted at /content/drive\n"
          ]
        }
      ]
    },
    {
      "cell_type": "code",
      "execution_count": 7,
      "metadata": {
        "id": "5jhcuygELsTH"
      },
      "outputs": [],
      "source": [
        "import tensorflow as tf"
      ]
    },
    {
      "cell_type": "code",
      "execution_count": 8,
      "metadata": {
        "id": "PTsY1PnlGn2B"
      },
      "outputs": [],
      "source": [
        "# Modelo a ser testado\n",
        "import tensorflow as tf\n",
        "from keras import layers\n",
        "from tensorflow.keras.layers import Input, Dense\n",
        "from tensorflow.keras.models import Model, Sequential\n",
        "from tensorflow.keras.metrics import RootMeanSquaredError"
      ]
    },
    {
      "cell_type": "code",
      "execution_count": 9,
      "metadata": {
        "id": "GKekR1E7LsTJ",
        "outputId": "b968a6a7-aa74-4253-f838-efa599fd19b7",
        "colab": {
          "base_uri": "https://localhost:8080/"
        }
      },
      "outputs": [
        {
          "output_type": "stream",
          "name": "stdout",
          "text": [
            "[name: \"/device:CPU:0\"\n",
            "device_type: \"CPU\"\n",
            "memory_limit: 268435456\n",
            "locality {\n",
            "}\n",
            "incarnation: 811995725537835362\n",
            "xla_global_id: -1\n",
            ", name: \"/device:GPU:0\"\n",
            "device_type: \"GPU\"\n",
            "memory_limit: 14415560704\n",
            "locality {\n",
            "  bus_id: 1\n",
            "  links {\n",
            "  }\n",
            "}\n",
            "incarnation: 9003764608995599941\n",
            "physical_device_desc: \"device: 0, name: Tesla T4, pci bus id: 0000:00:04.0, compute capability: 7.5\"\n",
            "xla_global_id: 416903419\n",
            "]\n"
          ]
        }
      ],
      "source": [
        "from tensorflow.python.client import device_lib\n",
        "print(device_lib.list_local_devices())"
      ]
    },
    {
      "cell_type": "code",
      "execution_count": 10,
      "metadata": {
        "id": "RND40SOTGn2B"
      },
      "outputs": [],
      "source": [
        "#metricas\n",
        "\n",
        "from sklearn.metrics import mean_squared_error, mean_absolute_error, mean_squared_log_error"
      ]
    },
    {
      "cell_type": "code",
      "execution_count": null,
      "metadata": {
        "id": "FwePyN4tGn2B"
      },
      "outputs": [],
      "source": [
        "train = pd.read_csv(r\"C:\\Users\\angel\\Desktop\\bootcamp\\train.tsv\", sep='\\t')\n",
        "test = pd.read_csv(r\"C:\\Users\\angel\\Desktop\\bootcamp\\test.tsv\", sep='\\t')"
      ]
    },
    {
      "cell_type": "code",
      "execution_count": null,
      "metadata": {
        "id": "SWuFw8ubGn2B"
      },
      "outputs": [],
      "source": [
        "train,test = pre_processamento(train,test)"
      ]
    },
    {
      "cell_type": "markdown",
      "metadata": {
        "id": "8AvGoui2Gn2C"
      },
      "source": [
        "#   Pré-processamento "
      ]
    },
    {
      "cell_type": "code",
      "execution_count": null,
      "metadata": {
        "id": "FtY37E9SGn2C"
      },
      "outputs": [],
      "source": [
        "train = textcolumns_junct(train) #Função pra juntar as colunas de texto em uma só coluna"
      ]
    },
    {
      "cell_type": "code",
      "execution_count": null,
      "metadata": {
        "id": "Pz6TL_wJGn2C"
      },
      "outputs": [],
      "source": [
        "#Convertendo tudo para string\n",
        "\n",
        "train[\"item_description\"] = train[\"item_description\"].astype(str)"
      ]
    },
    {
      "cell_type": "code",
      "execution_count": null,
      "metadata": {
        "id": "nqcPKqwGGn2D"
      },
      "outputs": [],
      "source": [
        "train[\"item_description\"] = train[\"item_description\"].apply(lambda x: text_preprocess(x)) #Limpando texto com regex."
      ]
    },
    {
      "cell_type": "code",
      "execution_count": null,
      "metadata": {
        "id": "Jc00qvDKGn2D"
      },
      "outputs": [],
      "source": [
        "train[\"item_description\"] = train[\"item_description\"].apply(lambda x: word_tokenize(x)) #tokenizando"
      ]
    },
    {
      "cell_type": "code",
      "execution_count": null,
      "metadata": {
        "id": "Ek7HQOsrGn2D"
      },
      "outputs": [],
      "source": [
        "train[\"item_description\"] = train[\"item_description\"].apply(lambda x: stemming(x))"
      ]
    },
    {
      "cell_type": "code",
      "execution_count": null,
      "metadata": {
        "id": "a5CskUD2Gn2D"
      },
      "outputs": [],
      "source": [
        "train[\"item_description\"]=[\" \".join(review) for review in train[\"item_description\"].values]"
      ]
    },
    {
      "cell_type": "code",
      "execution_count": null,
      "metadata": {
        "id": "uTRGAwVWGn2D"
      },
      "outputs": [],
      "source": [
        "train[\"item_description\"]"
      ]
    },
    {
      "cell_type": "code",
      "execution_count": null,
      "metadata": {
        "id": "gY4cXOjLGn2E"
      },
      "outputs": [],
      "source": [
        "train.shape"
      ]
    },
    {
      "cell_type": "code",
      "source": [
        "train = pd.read_pickle(\"/content/drive/MyDrive/Datasets/train.pkl\") "
      ],
      "metadata": {
        "id": "cPFDWN-6MJOG"
      },
      "execution_count": 11,
      "outputs": []
    },
    {
      "cell_type": "markdown",
      "metadata": {
        "id": "mXL_ddlbGn2E"
      },
      "source": [
        "#   Split"
      ]
    },
    {
      "cell_type": "code",
      "execution_count": 12,
      "metadata": {
        "id": "lJsVqLFxGn2E"
      },
      "outputs": [],
      "source": [
        "#treinando o modelo com valores até $50, que representam 89% do dataset\n",
        "train1 = train.drop(train[~((train['price'] > 0) & (train['price'] <= 250))].index)"
      ]
    },
    {
      "cell_type": "code",
      "execution_count": 13,
      "metadata": {
        "id": "PzQUlydULsTT",
        "outputId": "b04e6342-d9c4-49cf-e565-ec414502d053",
        "colab": {
          "base_uri": "https://localhost:8080/"
        }
      },
      "outputs": [
        {
          "output_type": "execute_result",
          "data": {
            "text/plain": [
              "(1481661, 11)"
            ]
          },
          "metadata": {},
          "execution_count": 13
        }
      ],
      "source": [
        "train.shape"
      ]
    },
    {
      "cell_type": "code",
      "execution_count": 14,
      "metadata": {
        "id": "qTsFlK3JGn2F"
      },
      "outputs": [],
      "source": [
        "X = train1.drop(\"price\", axis = 1)\n",
        "y = train1[\"price\"]"
      ]
    },
    {
      "cell_type": "code",
      "execution_count": 15,
      "metadata": {
        "id": "nIzG--iOGn2F"
      },
      "outputs": [],
      "source": [
        "#Separação em treino e teste para começarmos as transformaçõs, protegendo nossos dados de teste de possíveis vazamentos e das mudanças de hyperparametros. \n",
        "\n",
        "X1, Xtest, y1, ytest = train_test_split(X, y, test_size=0.1, random_state=10) #Divisão em 90/10"
      ]
    },
    {
      "cell_type": "code",
      "execution_count": 16,
      "metadata": {
        "id": "sly2uShzGn2F"
      },
      "outputs": [],
      "source": [
        "#Separação em treino e teste para começarmos as transformaçõs, protegendo nossos dados de validação de possíveis vazamentos. \n",
        "\n",
        "Xtrain, Xval, ytrain, yval = train_test_split(X1, y1, test_size=0.2, random_state=10) #Divisão em 80/20"
      ]
    },
    {
      "cell_type": "code",
      "execution_count": 17,
      "metadata": {
        "colab": {
          "base_uri": "https://localhost:8080/",
          "height": 282
        },
        "id": "_petHHctGn2F",
        "outputId": "77bd7395-2c75-4165-9bb4-8970ab4f5a7e"
      },
      "outputs": [
        {
          "output_type": "execute_result",
          "data": {
            "text/plain": [
              "<matplotlib.axes._subplots.AxesSubplot at 0x7f230b6dac90>"
            ]
          },
          "metadata": {},
          "execution_count": 17
        },
        {
          "output_type": "display_data",
          "data": {
            "text/plain": [
              "<Figure size 432x288 with 1 Axes>"
            ],
            "image/png": "[encoded data removed]"
          },
          "metadata": {
            "needs_background": "light"
          }
        }
      ],
      "source": [
        "#Normalizando, com log, o target (price), foi realizado de forma separada para nao terem dados vazados.\n",
        "\n",
        "ytrain =  np.log1p(ytrain)\n",
        "ytrain.hist()"
      ]
    },
    {
      "cell_type": "code",
      "execution_count": 18,
      "metadata": {
        "colab": {
          "base_uri": "https://localhost:8080/"
        },
        "id": "RuvdIbRDGn2G",
        "outputId": "811ea3e0-f90d-435e-f497-4cbac512146d"
      },
      "outputs": [
        {
          "output_type": "stream",
          "name": "stdout",
          "text": [
            "(1062384, 10) (1062384,)\n",
            "(265596, 10) (265596,)\n",
            "(147554, 10) (147554,)\n"
          ]
        }
      ],
      "source": [
        "print(Xtrain.shape,ytrain.shape) \n",
        "print(Xval.shape,yval.shape)\n",
        "print(Xtest.shape,ytest.shape)"
      ]
    },
    {
      "cell_type": "markdown",
      "metadata": {
        "id": "FBC11xTJGn2G"
      },
      "source": [
        "# Transformadores"
      ]
    },
    {
      "cell_type": "code",
      "execution_count": 19,
      "metadata": {
        "id": "MvFXb5faGn2G"
      },
      "outputs": [],
      "source": [
        "vec = TfidfVectorizer(stop_words=stop_words, ngram_range=(1,2), max_features=25000) #vetorização, com stop word. "
      ]
    },
    {
      "cell_type": "code",
      "execution_count": 20,
      "metadata": {
        "colab": {
          "base_uri": "https://localhost:8080/"
        },
        "id": "wL69TwBCGn2G",
        "outputId": "c0218561-7a21-4782-9caf-1e94b07c4fe9"
      },
      "outputs": [
        {
          "output_type": "execute_result",
          "data": {
            "text/plain": [
              "<1062384x25000 sparse matrix of type '<class 'numpy.float64'>'\n",
              "\twith 26265778 stored elements in Compressed Sparse Row format>"
            ]
          },
          "metadata": {},
          "execution_count": 20
        }
      ],
      "source": [
        "vec_train = vec.fit_transform(Xtrain[\"item_description\"])\n",
        "\n",
        "vec_train"
      ]
    },
    {
      "cell_type": "code",
      "execution_count": 21,
      "metadata": {
        "colab": {
          "base_uri": "https://localhost:8080/"
        },
        "id": "-21rjZ-WGn2H",
        "outputId": "cd989935-05ae-42ea-b528-e9b9fdb75a7e"
      },
      "outputs": [
        {
          "output_type": "execute_result",
          "data": {
            "text/plain": [
              "<265596x25000 sparse matrix of type '<class 'numpy.float64'>'\n",
              "\twith 6566046 stored elements in Compressed Sparse Row format>"
            ]
          },
          "metadata": {},
          "execution_count": 21
        }
      ],
      "source": [
        "vec_val = vec.transform(Xval[\"item_description\"])\n",
        "\n",
        "vec_val"
      ]
    },
    {
      "cell_type": "code",
      "execution_count": 22,
      "metadata": {
        "colab": {
          "base_uri": "https://localhost:8080/"
        },
        "id": "kYExq31AGn2H",
        "outputId": "5e8608d2-0488-4703-9627-d2ff30fa2d30"
      },
      "outputs": [
        {
          "output_type": "execute_result",
          "data": {
            "text/plain": [
              "<1062384x985 sparse matrix of type '<class 'numpy.float64'>'\n",
              "\twith 5311920 stored elements in Compressed Sparse Row format>"
            ]
          },
          "metadata": {},
          "execution_count": 22
        }
      ],
      "source": [
        "ohe = OneHotEncoder(handle_unknown=\"ignore\")\n",
        "\n",
        "#aplicação dummy nas colunas categóricas.\n",
        "\n",
        "ohe_train = ohe.fit_transform(Xtrain[[\"item_condition_id\",   \n",
        "                                         \"shipping\",\n",
        "                                         \"gen_cat\",\n",
        "                                         \"sub1_cat\",\n",
        "                                         \"sub2_cat\", \n",
        "                                                    ]])\n",
        "                            \n",
        "ohe_train"
      ]
    },
    {
      "cell_type": "code",
      "execution_count": 23,
      "metadata": {
        "colab": {
          "base_uri": "https://localhost:8080/"
        },
        "id": "ivtsbypDGn2H",
        "outputId": "7534800e-5c5f-4d35-ed4c-929fc63d3a7a"
      },
      "outputs": [
        {
          "output_type": "execute_result",
          "data": {
            "text/plain": [
              "<265596x985 sparse matrix of type '<class 'numpy.float64'>'\n",
              "\twith 1327960 stored elements in Compressed Sparse Row format>"
            ]
          },
          "metadata": {},
          "execution_count": 23
        }
      ],
      "source": [
        "ohe_val = ohe.transform(Xval[[\"item_condition_id\",   \n",
        "                                         \"shipping\",\n",
        "                                         \"gen_cat\",\n",
        "                                         \"sub1_cat\",\n",
        "                                         \"sub2_cat\", \n",
        "                                                    ]])\n",
        "\n",
        "ohe_val"
      ]
    },
    {
      "cell_type": "code",
      "execution_count": 24,
      "metadata": {
        "colab": {
          "base_uri": "https://localhost:8080/"
        },
        "id": "fIJbWBMGGn2I",
        "outputId": "432e5539-205b-4d17-dcba-889227a5caf9"
      },
      "outputs": [
        {
          "output_type": "execute_result",
          "data": {
            "text/plain": [
              "<1062384x25985 sparse matrix of type '<class 'numpy.float64'>'\n",
              "\twith 31577698 stored elements in Compressed Sparse Row format>"
            ]
          },
          "metadata": {},
          "execution_count": 24
        }
      ],
      "source": [
        "#juntando cada matrix gerada por cada pré-processamento\n",
        "\n",
        "x_train = hstack([\n",
        "                 (vec_train),\n",
        "                 (ohe_train)\n",
        "                            ], format='csr') \n",
        "x_train"
      ]
    },
    {
      "cell_type": "code",
      "execution_count": 25,
      "metadata": {
        "colab": {
          "base_uri": "https://localhost:8080/"
        },
        "id": "BC6wPKWWGn2I",
        "outputId": "285658f9-9320-433c-b995-769442b5386f"
      },
      "outputs": [
        {
          "output_type": "execute_result",
          "data": {
            "text/plain": [
              "<265596x25985 sparse matrix of type '<class 'numpy.float64'>'\n",
              "\twith 7894006 stored elements in Compressed Sparse Row format>"
            ]
          },
          "metadata": {},
          "execution_count": 25
        }
      ],
      "source": [
        "x_val = hstack([\n",
        "                 (vec_val),\n",
        "                 (ohe_val)\n",
        "                             ], format='csr') \n",
        "x_val"
      ]
    },
    {
      "cell_type": "markdown",
      "metadata": {
        "id": "Pw_6GQyvGn2I"
      },
      "source": [
        "# Modelo"
      ]
    },
    {
      "cell_type": "code",
      "execution_count": 26,
      "metadata": {
        "id": "P_jCp1XqLsTY"
      },
      "outputs": [],
      "source": [
        "#del model  # for avoid any trace on aigen\n",
        "tf.keras.backend.clear_session()  # removing session, it will instance another"
      ]
    },
    {
      "cell_type": "code",
      "execution_count": 27,
      "metadata": {
        "colab": {
          "base_uri": "https://localhost:8080/"
        },
        "id": "g7QnnlhvGn2I",
        "outputId": "1c977546-c2a0-42f6-de2a-8a202248f290"
      },
      "outputs": [
        {
          "output_type": "stream",
          "name": "stdout",
          "text": [
            "Model: \"model\"\n",
            "_________________________________________________________________\n",
            " Layer (type)                Output Shape              Param #   \n",
            "=================================================================\n",
            " sparse (InputLayer)         [(None, 25985)]           0         \n",
            "                                                                 \n",
            " dense (Dense)               (None, 1024)              26609664  \n",
            "                                                                 \n",
            " dense_1 (Dense)             (None, 1024)              1049600   \n",
            "                                                                 \n",
            " dense_2 (Dense)             (None, 1024)              1049600   \n",
            "                                                                 \n",
            " dense_3 (Dense)             (None, 1)                 1025      \n",
            "                                                                 \n",
            "=================================================================\n",
            "Total params: 28,709,889\n",
            "Trainable params: 28,709,889\n",
            "Non-trainable params: 0\n",
            "_________________________________________________________________\n"
          ]
        }
      ],
      "source": [
        "input = Input(shape=(x_train.shape[-1]), sparse=True, name='sparse')\n",
        "dense3 = Dense(1024, activation=\"relu\") (input)\n",
        "dense4 = Dense(1024, activation=\"relu\") (dense3)\n",
        "dense5 = Dense(1024, activation=\"relu\") (dense4)\n",
        "out = Dense(1) (dense5)\n",
        "\n",
        "model = Model(inputs = input, outputs = out)\n",
        "\n",
        "model.summary()\n",
        "\n"
      ]
    },
    {
      "cell_type": "code",
      "execution_count": 28,
      "metadata": {
        "id": "H_rjzWn7KIx7"
      },
      "outputs": [],
      "source": [
        "model.compile(loss=\"mean_squared_error\", \n",
        "              metrics=['mean_squared_error', RootMeanSquaredError()], \n",
        "              optimizer = 'Adam')\n",
        "\n"
      ]
    },
    {
      "cell_type": "code",
      "execution_count": 29,
      "metadata": {
        "id": "qO56uSZ1LsTZ"
      },
      "outputs": [],
      "source": [
        "x_train.sort_indices()"
      ]
    },
    {
      "cell_type": "code",
      "execution_count": 30,
      "metadata": {
        "id": "tndzJnIuLsTZ",
        "outputId": "cd8c5705-bfaf-4837-e6f2-2845347bf29e",
        "colab": {
          "base_uri": "https://localhost:8080/"
        }
      },
      "outputs": [
        {
          "output_type": "stream",
          "name": "stdout",
          "text": [
            "Epoch 1/25\n"
          ]
        },
        {
          "output_type": "stream",
          "name": "stderr",
          "text": [
            "/usr/local/lib/python3.7/dist-packages/tensorflow/python/framework/indexed_slices.py:446: UserWarning: Converting sparse IndexedSlices(IndexedSlices(indices=Tensor(\"gradient_tape/model/dense/embedding_lookup_sparse/Reshape_1:0\", shape=(None,), dtype=int32), values=Tensor(\"gradient_tape/model/dense/embedding_lookup_sparse/Reshape:0\", shape=(None, 1024), dtype=float32), dense_shape=Tensor(\"gradient_tape/model/dense/embedding_lookup_sparse/Cast:0\", shape=(2,), dtype=int32))) to a dense Tensor of unknown shape. This may consume a large amount of memory.\n",
            "  \"shape. This may consume a large amount of memory.\" % value)\n"
          ]
        },
        {
          "output_type": "stream",
          "name": "stdout",
          "text": [
            "519/519 [==============================] - 28s 45ms/step - loss: 0.2944 - mean_squared_error: 0.2944 - root_mean_squared_error: 0.5426\n",
            "Epoch 2/25\n",
            "519/519 [==============================] - 26s 46ms/step - loss: 0.1775 - mean_squared_error: 0.1775 - root_mean_squared_error: 0.4213\n",
            "Epoch 3/25\n",
            "519/519 [==============================] - 26s 45ms/step - loss: 0.1336 - mean_squared_error: 0.1336 - root_mean_squared_error: 0.3655\n",
            "Epoch 4/25\n",
            "519/519 [==============================] - 26s 45ms/step - loss: 0.0923 - mean_squared_error: 0.0923 - root_mean_squared_error: 0.3038\n",
            "Epoch 5/25\n",
            "519/519 [==============================] - 26s 45ms/step - loss: 0.0646 - mean_squared_error: 0.0646 - root_mean_squared_error: 0.2541\n",
            "Epoch 6/25\n",
            "519/519 [==============================] - 26s 45ms/step - loss: 0.0480 - mean_squared_error: 0.0480 - root_mean_squared_error: 0.2191\n",
            "Epoch 7/25\n",
            "519/519 [==============================] - 26s 46ms/step - loss: 0.0380 - mean_squared_error: 0.0380 - root_mean_squared_error: 0.1950\n",
            "Epoch 8/25\n",
            "519/519 [==============================] - 26s 45ms/step - loss: 0.0317 - mean_squared_error: 0.0317 - root_mean_squared_error: 0.1781\n",
            "Epoch 9/25\n",
            "519/519 [==============================] - 26s 45ms/step - loss: 0.0269 - mean_squared_error: 0.0269 - root_mean_squared_error: 0.1640\n",
            "Epoch 10/25\n",
            "519/519 [==============================] - 26s 45ms/step - loss: 0.0238 - mean_squared_error: 0.0238 - root_mean_squared_error: 0.1542\n",
            "Epoch 11/25\n",
            "519/519 [==============================] - 26s 45ms/step - loss: 0.0215 - mean_squared_error: 0.0215 - root_mean_squared_error: 0.1467\n",
            "Epoch 12/25\n",
            "519/519 [==============================] - 26s 45ms/step - loss: 0.0199 - mean_squared_error: 0.0199 - root_mean_squared_error: 0.1409\n",
            "Epoch 13/25\n",
            "519/519 [==============================] - 26s 45ms/step - loss: 0.0186 - mean_squared_error: 0.0186 - root_mean_squared_error: 0.1364\n",
            "Epoch 14/25\n",
            "519/519 [==============================] - 26s 46ms/step - loss: 0.0173 - mean_squared_error: 0.0173 - root_mean_squared_error: 0.1315\n",
            "Epoch 15/25\n",
            "519/519 [==============================] - 26s 45ms/step - loss: 0.0165 - mean_squared_error: 0.0165 - root_mean_squared_error: 0.1283\n",
            "Epoch 16/25\n",
            "519/519 [==============================] - 26s 45ms/step - loss: 0.0153 - mean_squared_error: 0.0153 - root_mean_squared_error: 0.1236\n",
            "Epoch 17/25\n",
            "519/519 [==============================] - 26s 45ms/step - loss: 0.0143 - mean_squared_error: 0.0143 - root_mean_squared_error: 0.1196\n",
            "Epoch 18/25\n",
            "519/519 [==============================] - 26s 45ms/step - loss: 0.0138 - mean_squared_error: 0.0138 - root_mean_squared_error: 0.1175\n",
            "Epoch 19/25\n",
            "519/519 [==============================] - 26s 45ms/step - loss: 0.0132 - mean_squared_error: 0.0132 - root_mean_squared_error: 0.1147\n",
            "Epoch 20/25\n",
            "519/519 [==============================] - 26s 45ms/step - loss: 0.0124 - mean_squared_error: 0.0124 - root_mean_squared_error: 0.1114\n",
            "Epoch 21/25\n",
            "519/519 [==============================] - 26s 45ms/step - loss: 0.0118 - mean_squared_error: 0.0118 - root_mean_squared_error: 0.1085\n",
            "Epoch 22/25\n",
            "519/519 [==============================] - 25s 45ms/step - loss: 0.0114 - mean_squared_error: 0.0114 - root_mean_squared_error: 0.1065\n",
            "Epoch 23/25\n",
            "519/519 [==============================] - 26s 45ms/step - loss: 0.0109 - mean_squared_error: 0.0109 - root_mean_squared_error: 0.1043\n",
            "Epoch 24/25\n",
            "519/519 [==============================] - 26s 45ms/step - loss: 0.0103 - mean_squared_error: 0.0103 - root_mean_squared_error: 0.1015\n",
            "Epoch 25/25\n",
            "519/519 [==============================] - 26s 45ms/step - loss: 0.0098 - mean_squared_error: 0.0098 - root_mean_squared_error: 0.0992\n"
          ]
        }
      ],
      "source": [
        "\n",
        "history =  model.fit(x_train,\n",
        "                     ytrain.values, \n",
        "                     batch_size=2048,\n",
        "                     epochs=25, \n",
        "                     verbose=True)"
      ]
    },
    {
      "cell_type": "code",
      "execution_count": 31,
      "metadata": {
        "id": "NbBd1ScQLsTZ"
      },
      "outputs": [],
      "source": [
        "x_val.sort_indices()"
      ]
    },
    {
      "cell_type": "code",
      "execution_count": 32,
      "metadata": {
        "id": "kiGPp2kuGn2J",
        "outputId": "c45d997a-1595-4309-e3c3-604fa9107ff3",
        "colab": {
          "base_uri": "https://localhost:8080/"
        }
      },
      "outputs": [
        {
          "output_type": "stream",
          "name": "stdout",
          "text": [
            "8300/8300 [==============================] - 21s 2ms/step\n"
          ]
        }
      ],
      "source": [
        "ypredict = model.predict(x_val)"
      ]
    },
    {
      "cell_type": "code",
      "execution_count": 33,
      "metadata": {
        "id": "0Q_tsJVXGn2J"
      },
      "outputs": [],
      "source": [
        "ypredict = np.expm1(ypredict)\n"
      ]
    },
    {
      "cell_type": "markdown",
      "metadata": {
        "id": "mOFRMW29Gn2J"
      },
      "source": [
        "#   Resultado"
      ]
    },
    {
      "cell_type": "markdown",
      "metadata": {
        "id": "gHuVHyXSGn2J"
      },
      "source": [
        "- predict validação"
      ]
    },
    {
      "cell_type": "code",
      "execution_count": 34,
      "metadata": {
        "id": "p-WVZAnfGn2K",
        "outputId": "f217e093-87e1-4cb8-874e-c67328bb6da7",
        "colab": {
          "base_uri": "https://localhost:8080/"
        }
      },
      "outputs": [
        {
          "output_type": "stream",
          "name": "stdout",
          "text": [
            "MAE: $ 9.34\n",
            "RMSE:  $ 17.99\n",
            "RMSLE: 0.212418\n"
          ]
        }
      ],
      "source": [
        "print('MAE: $ %.2f' %  mean_absolute_error(yval,ypredict))\n",
        "print('RMSE:  $ %.2f' %  (mean_squared_error(yval,ypredict)**0.5))\n",
        "print('RMSLE: %2f' % mean_squared_log_error(yval,ypredict))\n"
      ]
    },
    {
      "cell_type": "markdown",
      "metadata": {
        "id": "rls_Kd68LsTa"
      },
      "source": [
        "#   Predição no teste"
      ]
    },
    {
      "cell_type": "code",
      "execution_count": 35,
      "metadata": {
        "id": "wj9bwuwILsTb"
      },
      "outputs": [],
      "source": [
        "vec_test = vec.transform(Xtest[\"item_description\"])"
      ]
    },
    {
      "cell_type": "code",
      "execution_count": 36,
      "metadata": {
        "id": "xuUse5MDLsTb",
        "outputId": "94bba0ab-33bd-4c7e-ea28-573e859746c5",
        "colab": {
          "base_uri": "https://localhost:8080/"
        }
      },
      "outputs": [
        {
          "output_type": "execute_result",
          "data": {
            "text/plain": [
              "<147554x985 sparse matrix of type '<class 'numpy.float64'>'\n",
              "\twith 737763 stored elements in Compressed Sparse Row format>"
            ]
          },
          "metadata": {},
          "execution_count": 36
        }
      ],
      "source": [
        "ohe_test = ohe.transform(Xtest[[\"item_condition_id\",   \n",
        "                                         \"shipping\",\n",
        "                                         \"gen_cat\",\n",
        "                                         \"sub1_cat\",\n",
        "                                         \"sub2_cat\", \n",
        "                                                    ]])\n",
        "                            \n",
        "ohe_test"
      ]
    },
    {
      "cell_type": "code",
      "execution_count": 37,
      "metadata": {
        "id": "R5g6Fwo7LsTb",
        "outputId": "6deca49c-5bb0-495e-b7e5-8bb6c76e826d",
        "colab": {
          "base_uri": "https://localhost:8080/"
        }
      },
      "outputs": [
        {
          "output_type": "execute_result",
          "data": {
            "text/plain": [
              "<147554x25985 sparse matrix of type '<class 'numpy.float64'>'\n",
              "\twith 4396900 stored elements in Compressed Sparse Row format>"
            ]
          },
          "metadata": {},
          "execution_count": 37
        }
      ],
      "source": [
        "xtest = hstack([\n",
        "                 (vec_test),\n",
        "                 (ohe_test)\n",
        "                             ], format='csr') \n",
        "xtest"
      ]
    },
    {
      "cell_type": "code",
      "execution_count": 38,
      "metadata": {
        "id": "n7tWYlbJLsTb"
      },
      "outputs": [],
      "source": [
        "xtest.sort_indices()"
      ]
    },
    {
      "cell_type": "code",
      "execution_count": 58,
      "metadata": {
        "id": "O4Ux-F17LsTb",
        "outputId": "af078096-8a57-4c63-e704-aa2b95834baf",
        "colab": {
          "base_uri": "https://localhost:8080/"
        }
      },
      "outputs": [
        {
          "output_type": "stream",
          "name": "stdout",
          "text": [
            "4612/4612 [==============================] - 12s 3ms/step\n"
          ]
        }
      ],
      "source": [
        "ypredict_test = model.predict(xtest)\n",
        "ypredict_test = np.expm1(ypredict_test)"
      ]
    },
    {
      "cell_type": "code",
      "execution_count": 59,
      "metadata": {
        "id": "rMEn3Z85LsTc",
        "outputId": "fc068123-3e39-4c34-b560-fed849b11ef2",
        "colab": {
          "base_uri": "https://localhost:8080/"
        }
      },
      "outputs": [
        {
          "output_type": "stream",
          "name": "stdout",
          "text": [
            "MAE: $ 9.36\n",
            "RMSE:  $ 18.14\n",
            "RMSLE: 0.211265\n"
          ]
        }
      ],
      "source": [
        "print('MAE: $ %.2f' %  mean_absolute_error(ytest,ypredict_test))\n",
        "print('RMSE:  $ %.2f' %  (mean_squared_error(ytest,ypredict_test)**0.5))\n",
        "print('RMSLE: %2f' % mean_squared_log_error(ytest,ypredict_test))"
      ]
    },
    {
      "cell_type": "markdown",
      "metadata": {
        "id": "GdTNlq2SLsTc"
      },
      "source": [
        "# Teste para produtos até $50"
      ]
    },
    {
      "cell_type": "code",
      "execution_count": 60,
      "metadata": {
        "id": "Hb0wJicTLsTc"
      },
      "outputs": [],
      "source": [
        "teste50 = pd.concat([Xtest,ytest], axis=1)\n",
        "teste50 = teste50.loc[teste50[\"price\"]<=50]"
      ]
    },
    {
      "cell_type": "code",
      "execution_count": 61,
      "metadata": {
        "id": "LneuM0vpLsTd"
      },
      "outputs": [],
      "source": [
        "X50 = teste50.drop(\"price\", axis = 1)\n",
        "y50 = teste50 [\"price\"]"
      ]
    },
    {
      "cell_type": "code",
      "execution_count": 62,
      "metadata": {
        "id": "eV8Xt2AQLsTd"
      },
      "outputs": [],
      "source": [
        "vec50 = vec.transform(X50[\"item_description\"])"
      ]
    },
    {
      "cell_type": "code",
      "execution_count": 63,
      "metadata": {
        "id": "9x3MPCfsLsTd",
        "outputId": "3dfd459d-8c2b-4a96-f0c2-ff4d0484a6db",
        "colab": {
          "base_uri": "https://localhost:8080/"
        }
      },
      "outputs": [
        {
          "output_type": "execute_result",
          "data": {
            "text/plain": [
              "<133179x985 sparse matrix of type '<class 'numpy.float64'>'\n",
              "\twith 665890 stored elements in Compressed Sparse Row format>"
            ]
          },
          "metadata": {},
          "execution_count": 63
        }
      ],
      "source": [
        "ohe50 = ohe.transform(X50[[\"item_condition_id\",   \n",
        "                                         \"shipping\",\n",
        "                                         \"gen_cat\",\n",
        "                                         \"sub1_cat\",\n",
        "                                         \"sub2_cat\", \n",
        "                                                    ]])\n",
        "                            \n",
        "ohe50"
      ]
    },
    {
      "cell_type": "code",
      "execution_count": 64,
      "metadata": {
        "id": "5LWIYBDuLsTe",
        "outputId": "afc1871b-e744-45c7-8d06-d191034c7235",
        "colab": {
          "base_uri": "https://localhost:8080/"
        }
      },
      "outputs": [
        {
          "output_type": "execute_result",
          "data": {
            "text/plain": [
              "<133179x25985 sparse matrix of type '<class 'numpy.float64'>'\n",
              "\twith 3938402 stored elements in Compressed Sparse Row format>"
            ]
          },
          "metadata": {},
          "execution_count": 64
        }
      ],
      "source": [
        "x50 = hstack([\n",
        "                 (vec50),\n",
        "                 (ohe50)\n",
        "                             ], format='csr') \n",
        "x50"
      ]
    },
    {
      "cell_type": "code",
      "execution_count": 65,
      "metadata": {
        "id": "zeU5EdWWLsTf"
      },
      "outputs": [],
      "source": [
        "x50.sort_indices()"
      ]
    },
    {
      "cell_type": "code",
      "execution_count": 66,
      "metadata": {
        "id": "3G9pg9-yLsTf",
        "outputId": "a1596724-1cbb-4dac-9a37-e1737bf0f5e1",
        "colab": {
          "base_uri": "https://localhost:8080/"
        }
      },
      "outputs": [
        {
          "output_type": "stream",
          "name": "stdout",
          "text": [
            "4162/4162 [==============================] - 10s 3ms/step\n"
          ]
        }
      ],
      "source": [
        "ypredict50 = model.predict(x50)\n",
        "ypredict50 = np.expm1(ypredict50)"
      ]
    },
    {
      "cell_type": "code",
      "execution_count": 67,
      "metadata": {
        "id": "ASax1YPPLsTh",
        "outputId": "3f4ce2ea-0eb6-4424-b193-527b0e401238",
        "colab": {
          "base_uri": "https://localhost:8080/"
        }
      },
      "outputs": [
        {
          "output_type": "stream",
          "name": "stdout",
          "text": [
            "MAE: $ 6.39\n",
            "RMSE:  $ 9.78\n",
            "RMSLE: 0.177031\n"
          ]
        }
      ],
      "source": [
        "print('MAE: $ %.2f' %  mean_absolute_error(y50,ypredict50))\n",
        "print('RMSE:  $ %.2f' %  (mean_squared_error(y50,ypredict50)**0.5))\n",
        "print('RMSLE: %2f' % mean_squared_log_error(y50,ypredict50))"
      ]
    },
    {
      "cell_type": "markdown",
      "metadata": {
        "id": "t8YcVRISLsTh"
      },
      "source": [
        "# Teste para produtos entre 50 e 250"
      ]
    },
    {
      "cell_type": "code",
      "execution_count": 68,
      "metadata": {
        "id": "GTiJxm06LsTh"
      },
      "outputs": [],
      "source": [
        "teste250 = pd.concat([Xtest,ytest], axis=1)\n",
        "teste250 = teste250.loc[(teste250[\"price\"]>50) & (teste250[\"price\"]<=250)]"
      ]
    },
    {
      "cell_type": "code",
      "execution_count": 69,
      "metadata": {
        "id": "toUjMuVkLsTh"
      },
      "outputs": [],
      "source": [
        "X250 = teste250.drop(\"price\", axis = 1)\n",
        "y250 = teste250 [\"price\"]"
      ]
    },
    {
      "cell_type": "code",
      "execution_count": 70,
      "metadata": {
        "id": "ryjtdJYFLsTi",
        "outputId": "ce05dbb1-fe01-44d2-f1cc-e3e672dca5cd",
        "colab": {
          "base_uri": "https://localhost:8080/"
        }
      },
      "outputs": [
        {
          "output_type": "execute_result",
          "data": {
            "text/plain": [
              "(14375, 10)"
            ]
          },
          "metadata": {},
          "execution_count": 70
        }
      ],
      "source": [
        "X250.shape"
      ]
    },
    {
      "cell_type": "code",
      "execution_count": 71,
      "metadata": {
        "id": "ttMGvpgpLsTi"
      },
      "outputs": [],
      "source": [
        "vec250 = vec.transform(X250[\"item_description\"])"
      ]
    },
    {
      "cell_type": "code",
      "execution_count": 72,
      "metadata": {
        "id": "A43iPf2mLsTi",
        "outputId": "3d6d08ce-6062-4505-c421-444b10f4b839",
        "colab": {
          "base_uri": "https://localhost:8080/"
        }
      },
      "outputs": [
        {
          "output_type": "execute_result",
          "data": {
            "text/plain": [
              "<14375x985 sparse matrix of type '<class 'numpy.float64'>'\n",
              "\twith 71873 stored elements in Compressed Sparse Row format>"
            ]
          },
          "metadata": {},
          "execution_count": 72
        }
      ],
      "source": [
        "ohe250 = ohe.transform(X250[[\"item_condition_id\",   \n",
        "                                         \"shipping\",\n",
        "                                         \"gen_cat\",\n",
        "                                         \"sub1_cat\",\n",
        "                                         \"sub2_cat\", \n",
        "                                                    ]])\n",
        "                            \n",
        "ohe250"
      ]
    },
    {
      "cell_type": "code",
      "execution_count": 73,
      "metadata": {
        "id": "u57BqR1dLsTj",
        "outputId": "07cd8e7b-ffee-41eb-9d0f-457647d671a5",
        "colab": {
          "base_uri": "https://localhost:8080/"
        }
      },
      "outputs": [
        {
          "output_type": "execute_result",
          "data": {
            "text/plain": [
              "<14375x25985 sparse matrix of type '<class 'numpy.float64'>'\n",
              "\twith 458498 stored elements in Compressed Sparse Row format>"
            ]
          },
          "metadata": {},
          "execution_count": 73
        }
      ],
      "source": [
        "x250 = hstack([\n",
        "                 (vec250),\n",
        "                 (ohe250)\n",
        "                             ], format='csr') \n",
        "x250"
      ]
    },
    {
      "cell_type": "code",
      "execution_count": 74,
      "metadata": {
        "id": "3QZ_ykC7LsTj"
      },
      "outputs": [],
      "source": [
        "x250.sort_indices()"
      ]
    },
    {
      "cell_type": "code",
      "execution_count": 75,
      "metadata": {
        "id": "-6jAWUkhLsTj",
        "outputId": "df8859e6-ca22-4ad0-8ee7-11bfa2249d6c",
        "colab": {
          "base_uri": "https://localhost:8080/"
        }
      },
      "outputs": [
        {
          "output_type": "stream",
          "name": "stdout",
          "text": [
            "450/450 [==============================] - 1s 3ms/step\n"
          ]
        }
      ],
      "source": [
        "ypredict250 = model.predict(x250)\n",
        "ypredict250 = np.expm1(ypredict250)"
      ]
    },
    {
      "cell_type": "code",
      "execution_count": 76,
      "metadata": {
        "id": "-ZXnzS3uLsTj",
        "outputId": "82557ea2-6924-4e66-f740-2f2094372da4",
        "colab": {
          "base_uri": "https://localhost:8080/"
        }
      },
      "outputs": [
        {
          "output_type": "stream",
          "name": "stdout",
          "text": [
            "MAE: $ 36.83\n",
            "RMSE:  $ 49.91\n",
            "RMSLE: 0.528429\n"
          ]
        }
      ],
      "source": [
        "print('MAE: $ %.2f' %  mean_absolute_error(y250,ypredict250))\n",
        "print('RMSE:  $ %.2f' %  (mean_squared_error(y250,ypredict250)**0.5))\n",
        "print('RMSLE: %2f' % mean_squared_log_error(y250,ypredict250))"
      ]
    },
    {
      "cell_type": "markdown",
      "metadata": {
        "id": "h8HIeoN9LsTj"
      },
      "source": [
        "Aparente sinal de overfitting"
      ]
    }
  ],
  "metadata": {
    "colab": {
      "provenance": []
    },
    "kernelspec": {
      "display_name": "Python 3.10.8 ('blue_bootcamp': venv)",
      "language": "python",
      "name": "python3"
    },
    "language_info": {
      "codemirror_mode": {
        "name": "ipython",
        "version": 3
      },
      "file_extension": ".py",
      "mimetype": "text/x-python",
      "name": "python",
      "nbconvert_exporter": "python",
      "pygments_lexer": "ipython3",
      "version": "3.10.8"
    },
    "orig_nbformat": 4,
    "vscode": {
      "interpreter": {
        "hash": "0cba9dc48216265c7a67d52538187b6a360d3b2963a1f5a8f0947f5a3cb43c1c"
      }
    },
    "accelerator": "GPU",
    "gpuClass": "standard"
  },
  "nbformat": 4,
  "nbformat_minor": 0
}