{
  "cells": [
    {
      "cell_type": "markdown",
      "metadata": {
        "id": "5Rku4g_4Gn17"
      },
      "source": [
        "#   Bibliotecas"
      ]
    },
    {
      "cell_type": "markdown",
      "metadata": {
        "id": "DayDpVmRGn19"
      },
      "source": [
        "- Versões das bibliotecas no README"
      ]
    },
    {
      "cell_type": "code",
      "execution_count": 1,
      "metadata": {
        "id": "y66TPEKfGn1-"
      },
      "outputs": [],
      "source": [
        "import pandas as pd\n",
        "import random \n",
        "import numpy as np\n",
        "import re\n",
        "from scipy.sparse import hstack #utilizada para a junção de matrizes\n"
      ]
    },
    {
      "cell_type": "code",
      "execution_count": 2,
      "metadata": {
        "id": "71_w3oqnGn1_"
      },
      "outputs": [],
      "source": [
        "#Pré processamento de colunas\n",
        "\n",
        "from sklearn.model_selection import train_test_split #Divisão do dataset entre treino e teste\n",
        "from sklearn.feature_extraction.text import TfidfVectorizer #vetorização do dataset\n",
        "from sklearn.preprocessing import OneHotEncoder #aplicação de dummy"
      ]
    },
    {
      "cell_type": "code",
      "execution_count": 3,
      "metadata": {
        "colab": {
          "base_uri": "https://localhost:8080/"
        },
        "id": "ZBHjB5sXGn1_",
        "outputId": "754742a8-0416-4784-d722-0918a9e3fb5a"
      },
      "outputs": [
        {
          "name": "stderr",
          "output_type": "stream",
          "text": [
            "[nltk_data] Downloading package stopwords to\n",
            "[nltk_data]     C:\\Users\\angel\\AppData\\Roaming\\nltk_data...\n",
            "[nltk_data]   Package stopwords is already up-to-date!\n",
            "[nltk_data] Downloading package punkt to\n",
            "[nltk_data]     C:\\Users\\angel\\AppData\\Roaming\\nltk_data...\n",
            "[nltk_data]   Package punkt is already up-to-date!\n",
            "[nltk_data] Downloading package stopwords to\n",
            "[nltk_data]     C:\\Users\\angel\\AppData\\Roaming\\nltk_data...\n",
            "[nltk_data]   Package stopwords is already up-to-date!\n",
            "[nltk_data] Downloading package wordnet to\n",
            "[nltk_data]     C:\\Users\\angel\\AppData\\Roaming\\nltk_data...\n",
            "[nltk_data]   Package wordnet is already up-to-date!\n"
          ]
        },
        {
          "data": {
            "text/plain": [
              "True"
            ]
          },
          "execution_count": 3,
          "metadata": {},
          "output_type": "execute_result"
        }
      ],
      "source": [
        "#Pré processamento de texto\n",
        "\n",
        "\n",
        "import nltk\n",
        "from nltk import word_tokenize #tokenizador\n",
        "from nltk.stem import PorterStemmer\n",
        "from nltk.corpus import stopwords   #stopword\n",
        "\n",
        "nltk.download('stopwords')\n",
        "nltk.download('punkt')\n",
        "stop_words = stopwords.words('english')\n",
        "nltk.download('stopwords')\n",
        "nltk.download('wordnet')"
      ]
    },
    {
      "cell_type": "code",
      "execution_count": 4,
      "metadata": {
        "id": "VYj_P6dBGn2A"
      },
      "outputs": [],
      "source": [
        "#import de funções do script de pre_processamento\n",
        "\n",
        "from pre_processamento import pre_processamento, text_preprocess, textcolumns_junct,stemming"
      ]
    },
    {
      "cell_type": "code",
      "execution_count": 5,
      "metadata": {},
      "outputs": [],
      "source": [
        "import tensorflow as tf"
      ]
    },
    {
      "cell_type": "code",
      "execution_count": 6,
      "metadata": {
        "id": "PTsY1PnlGn2B"
      },
      "outputs": [],
      "source": [
        "# Modelo a ser testado\n",
        "import tensorflow as tf\n",
        "from keras import layers\n",
        "from tensorflow.keras.layers import Input, Dense\n",
        "from tensorflow.keras.models import Model, Sequential\n",
        "from tensorflow.keras.metrics import RootMeanSquaredError"
      ]
    },
    {
      "cell_type": "code",
      "execution_count": 7,
      "metadata": {},
      "outputs": [
        {
          "name": "stdout",
          "output_type": "stream",
          "text": [
            "[name: \"/device:CPU:0\"\n",
            "device_type: \"CPU\"\n",
            "memory_limit: 268435456\n",
            "locality {\n",
            "}\n",
            "incarnation: 13763017345504131641\n",
            "xla_global_id: -1\n",
            ", name: \"/device:GPU:0\"\n",
            "device_type: \"GPU\"\n",
            "memory_limit: 2252026676\n",
            "locality {\n",
            "  bus_id: 1\n",
            "  links {\n",
            "  }\n",
            "}\n",
            "incarnation: 12594230100610785223\n",
            "physical_device_desc: \"device: 0, name: NVIDIA GeForce GTX 1650, pci bus id: 0000:01:00.0, compute capability: 7.5\"\n",
            "xla_global_id: 416903419\n",
            "]\n"
          ]
        }
      ],
      "source": [
        "from tensorflow.python.client import device_lib\n",
        "print(device_lib.list_local_devices())"
      ]
    },
    {
      "cell_type": "code",
      "execution_count": 8,
      "metadata": {
        "id": "RND40SOTGn2B"
      },
      "outputs": [],
      "source": [
        "#metricas\n",
        "\n",
        "from sklearn.metrics import mean_squared_error, mean_absolute_error, mean_squared_log_error"
      ]
    },
    {
      "cell_type": "code",
      "execution_count": 9,
      "metadata": {
        "colab": {
          "base_uri": "https://localhost:8080/"
        },
        "id": "FwePyN4tGn2B",
        "outputId": "7c8293d7-9190-4070-ec5d-1fd9dd42f476"
      },
      "outputs": [],
      "source": [
        "train = pd.read_csv(r\"C:\\Users\\angel\\Desktop\\bootcamp\\train.tsv\", sep='\\t')\n",
        "test = pd.read_csv(r\"C:\\Users\\angel\\Desktop\\bootcamp\\test.tsv\", sep='\\t')"
      ]
    },
    {
      "cell_type": "code",
      "execution_count": 10,
      "metadata": {
        "id": "SWuFw8ubGn2B"
      },
      "outputs": [],
      "source": [
        "train,test = pre_processamento(train,test)"
      ]
    },
    {
      "cell_type": "markdown",
      "metadata": {
        "id": "8AvGoui2Gn2C"
      },
      "source": [
        "#   Pré-processamento "
      ]
    },
    {
      "cell_type": "code",
      "execution_count": 11,
      "metadata": {
        "id": "FtY37E9SGn2C"
      },
      "outputs": [],
      "source": [
        "train = textcolumns_junct(train) #Função pra juntar as colunas de texto em uma só coluna"
      ]
    },
    {
      "cell_type": "code",
      "execution_count": 12,
      "metadata": {
        "id": "Pz6TL_wJGn2C"
      },
      "outputs": [],
      "source": [
        "#Convertendo tudo para string\n",
        "\n",
        "train[\"item_description\"] = train[\"item_description\"].astype(str)"
      ]
    },
    {
      "cell_type": "code",
      "execution_count": 13,
      "metadata": {
        "id": "nqcPKqwGGn2D"
      },
      "outputs": [],
      "source": [
        "train[\"item_description\"] = train[\"item_description\"].apply(lambda x: text_preprocess(x)) #Limpando texto com regex."
      ]
    },
    {
      "cell_type": "code",
      "execution_count": 14,
      "metadata": {
        "id": "Jc00qvDKGn2D"
      },
      "outputs": [],
      "source": [
        "train[\"item_description\"] = train[\"item_description\"].apply(lambda x: word_tokenize(x)) #tokenizando"
      ]
    },
    {
      "cell_type": "code",
      "execution_count": 15,
      "metadata": {
        "id": "Ek7HQOsrGn2D"
      },
      "outputs": [],
      "source": [
        "train[\"item_description\"] = train[\"item_description\"].apply(lambda x: stemming(x))"
      ]
    },
    {
      "cell_type": "code",
      "execution_count": 16,
      "metadata": {
        "id": "a5CskUD2Gn2D"
      },
      "outputs": [],
      "source": [
        "train[\"item_description\"]=[\" \".join(review) for review in train[\"item_description\"].values]"
      ]
    },
    {
      "cell_type": "code",
      "execution_count": 17,
      "metadata": {
        "colab": {
          "base_uri": "https://localhost:8080/"
        },
        "id": "uTRGAwVWGn2D",
        "outputId": "1c0659fc-8c0c-420f-a86b-72fe5f436f7b"
      },
      "outputs": [
        {
          "data": {
            "text/plain": [
              "0              mlb cincinnati red shirt size xl descript yet\n",
              "1          razer blackwidow chroma keyboard razer keyboar...\n",
              "2          ava viv blous target ador top hint lace key ho...\n",
              "3          leather hors statu new tag . leather hors . re...\n",
              "4                 24k gold plate rose complet certif authent\n",
              "                                 ...                        \n",
              "1482530    free peopl inspir dress free peopl lace say si...\n",
              "1482531    littl mermaid handmad dress disney littl merma...\n",
              "1482532    21 day fix contain eat plan use twice still gr...\n",
              "1482533    world market lantern 2 one see 2 red 2 orang 2...\n",
              "1482534    brand new lux de vill wallet new tag red spark...\n",
              "Name: item_description, Length: 1481661, dtype: object"
            ]
          },
          "execution_count": 17,
          "metadata": {},
          "output_type": "execute_result"
        }
      ],
      "source": [
        "train[\"item_description\"]"
      ]
    },
    {
      "cell_type": "code",
      "execution_count": 18,
      "metadata": {
        "colab": {
          "base_uri": "https://localhost:8080/"
        },
        "id": "gY4cXOjLGn2E",
        "outputId": "273e80ae-21ce-436c-82a0-bb4eadab5e58"
      },
      "outputs": [
        {
          "data": {
            "text/plain": [
              "(1481661, 11)"
            ]
          },
          "execution_count": 18,
          "metadata": {},
          "output_type": "execute_result"
        }
      ],
      "source": [
        "train.shape"
      ]
    },
    {
      "cell_type": "markdown",
      "metadata": {
        "id": "mXL_ddlbGn2E"
      },
      "source": [
        "#   Split"
      ]
    },
    {
      "cell_type": "code",
      "execution_count": 19,
      "metadata": {
        "id": "lJsVqLFxGn2E"
      },
      "outputs": [],
      "source": [
        "#treinando o modelo com valores até $50, que representam 89% do dataset\n",
        "train1 = train.drop(train[~((train['price'] > 0) & (train['price'] <= 50))].index)"
      ]
    },
    {
      "cell_type": "code",
      "execution_count": 51,
      "metadata": {},
      "outputs": [
        {
          "data": {
            "text/plain": [
              "(1481661, 11)"
            ]
          },
          "execution_count": 51,
          "metadata": {},
          "output_type": "execute_result"
        }
      ],
      "source": [
        "train.shape"
      ]
    },
    {
      "cell_type": "code",
      "execution_count": 61,
      "metadata": {
        "colab": {
          "base_uri": "https://localhost:8080/"
        },
        "id": "tVGLF-izGn2E",
        "outputId": "f6a0f112-93ef-442f-eaa1-c0ff4ab606fb"
      },
      "outputs": [
        {
          "data": {
            "text/html": [
              "<div>\n",
              "<style scoped>\n",
              "    .dataframe tbody tr th:only-of-type {\n",
              "        vertical-align: middle;\n",
              "    }\n",
              "\n",
              "    .dataframe tbody tr th {\n",
              "        vertical-align: top;\n",
              "    }\n",
              "\n",
              "    .dataframe thead th {\n",
              "        text-align: right;\n",
              "    }\n",
              "</style>\n",
              "<table border=\"1\" class=\"dataframe\">\n",
              "  <thead>\n",
              "    <tr style=\"text-align: right;\">\n",
              "      <th></th>\n",
              "      <th>item_condition_id</th>\n",
              "      <th>category_name</th>\n",
              "      <th>price</th>\n",
              "      <th>shipping</th>\n",
              "      <th>item_description</th>\n",
              "      <th>stock</th>\n",
              "      <th>gen_cat</th>\n",
              "      <th>sub1_cat</th>\n",
              "      <th>sub2_cat</th>\n",
              "      <th>datetime_month</th>\n",
              "      <th>datetime_year</th>\n",
              "    </tr>\n",
              "  </thead>\n",
              "  <tbody>\n",
              "    <tr>\n",
              "      <th>1</th>\n",
              "      <td>3</td>\n",
              "      <td>Electronics/Computers &amp; Tablets/Components &amp; P...</td>\n",
              "      <td>52.0</td>\n",
              "      <td>0</td>\n",
              "      <td>razer blackwidow chroma keyboard razer keyboar...</td>\n",
              "      <td>15</td>\n",
              "      <td>Electronics</td>\n",
              "      <td>Computers &amp; Tablets</td>\n",
              "      <td>Components &amp; Parts</td>\n",
              "      <td>3.0</td>\n",
              "      <td>2018.0</td>\n",
              "    </tr>\n",
              "    <tr>\n",
              "      <th>5</th>\n",
              "      <td>3</td>\n",
              "      <td>Women/Other/Other</td>\n",
              "      <td>59.0</td>\n",
              "      <td>0</td>\n",
              "      <td>bundl item request ruie banana republ bottom c...</td>\n",
              "      <td>6</td>\n",
              "      <td>Women</td>\n",
              "      <td>Other</td>\n",
              "      <td>Other</td>\n",
              "      <td>11.0</td>\n",
              "      <td>2018.0</td>\n",
              "    </tr>\n",
              "    <tr>\n",
              "      <th>6</th>\n",
              "      <td>3</td>\n",
              "      <td>Women/Swimwear/Two-Piece</td>\n",
              "      <td>64.0</td>\n",
              "      <td>0</td>\n",
              "      <td>acacia pacif tide santorini top acacia swimwea...</td>\n",
              "      <td>6</td>\n",
              "      <td>Women</td>\n",
              "      <td>Swimwear</td>\n",
              "      <td>Two-Piece</td>\n",
              "      <td>1.0</td>\n",
              "      <td>2018.0</td>\n",
              "    </tr>\n",
              "    <tr>\n",
              "      <th>25</th>\n",
              "      <td>3</td>\n",
              "      <td>Men/Shoes/Athletic</td>\n",
              "      <td>66.0</td>\n",
              "      <td>0</td>\n",
              "      <td>air jordan carmin 6s air jordan percent authen...</td>\n",
              "      <td>34</td>\n",
              "      <td>Men</td>\n",
              "      <td>Shoes</td>\n",
              "      <td>Athletic</td>\n",
              "      <td>5.0</td>\n",
              "      <td>2018.0</td>\n",
              "    </tr>\n",
              "    <tr>\n",
              "      <th>36</th>\n",
              "      <td>3</td>\n",
              "      <td>Women/Women's Handbags/Totes &amp; Shoppers</td>\n",
              "      <td>209.0</td>\n",
              "      <td>0</td>\n",
              "      <td>black bag 30 pre own . light scratch hardwar c...</td>\n",
              "      <td>9</td>\n",
              "      <td>Women</td>\n",
              "      <td>Women's Handbags</td>\n",
              "      <td>Totes &amp; Shoppers</td>\n",
              "      <td>6.0</td>\n",
              "      <td>2018.0</td>\n",
              "    </tr>\n",
              "  </tbody>\n",
              "</table>\n",
              "</div>"
            ],
            "text/plain": [
              "    item_condition_id                                      category_name  \\\n",
              "1                   3  Electronics/Computers & Tablets/Components & P...   \n",
              "5                   3                                  Women/Other/Other   \n",
              "6                   3                           Women/Swimwear/Two-Piece   \n",
              "25                  3                                 Men/Shoes/Athletic   \n",
              "36                  3            Women/Women's Handbags/Totes & Shoppers   \n",
              "\n",
              "    price  shipping                                   item_description  stock  \\\n",
              "1    52.0         0  razer blackwidow chroma keyboard razer keyboar...     15   \n",
              "5    59.0         0  bundl item request ruie banana republ bottom c...      6   \n",
              "6    64.0         0  acacia pacif tide santorini top acacia swimwea...      6   \n",
              "25   66.0         0  air jordan carmin 6s air jordan percent authen...     34   \n",
              "36  209.0         0  black bag 30 pre own . light scratch hardwar c...      9   \n",
              "\n",
              "        gen_cat             sub1_cat            sub2_cat  datetime_month  \\\n",
              "1   Electronics  Computers & Tablets  Components & Parts             3.0   \n",
              "5         Women                Other               Other            11.0   \n",
              "6         Women             Swimwear           Two-Piece             1.0   \n",
              "25          Men                Shoes            Athletic             5.0   \n",
              "36        Women     Women's Handbags    Totes & Shoppers             6.0   \n",
              "\n",
              "    datetime_year  \n",
              "1          2018.0  \n",
              "5          2018.0  \n",
              "6          2018.0  \n",
              "25         2018.0  \n",
              "36         2018.0  "
            ]
          },
          "execution_count": 61,
          "metadata": {},
          "output_type": "execute_result"
        }
      ],
      "source": [
        "Test_extrapolation_50_250.head()"
      ]
    },
    {
      "cell_type": "code",
      "execution_count": 22,
      "metadata": {
        "id": "qTsFlK3JGn2F"
      },
      "outputs": [],
      "source": [
        "X = train1.drop(\"price\", axis = 1)\n",
        "y = train1[\"price\"]"
      ]
    },
    {
      "cell_type": "code",
      "execution_count": 23,
      "metadata": {
        "id": "nIzG--iOGn2F"
      },
      "outputs": [],
      "source": [
        "#Separação em treino e teste para começarmos as transformaçõs, protegendo nossos dados de teste de possíveis vazamentos e das mudanças de hyperparametros. \n",
        "\n",
        "X1, Xtest, y1, ytest = train_test_split(X, y, test_size=0.1, random_state=10) #Divisão em 90/10"
      ]
    },
    {
      "cell_type": "code",
      "execution_count": 24,
      "metadata": {
        "id": "sly2uShzGn2F"
      },
      "outputs": [],
      "source": [
        "#Separação em treino e teste para começarmos as transformaçõs, protegendo nossos dados de validação de possíveis vazamentos. \n",
        "\n",
        "Xtrain, Xval, ytrain, yval = train_test_split(X1, y1, test_size=0.2, random_state=10) #Divisão em 80/20"
      ]
    },
    {
      "cell_type": "code",
      "execution_count": 25,
      "metadata": {
        "colab": {
          "base_uri": "https://localhost:8080/",
          "height": 282
        },
        "id": "_petHHctGn2F",
        "outputId": "8c6f3cdf-b819-4ee0-fcbd-f73e77ff739a"
      },
      "outputs": [
        {
          "data": {
            "text/plain": [
              "<AxesSubplot: >"
            ]
          },
          "execution_count": 25,
          "metadata": {},
          "output_type": "execute_result"
        },
        {
          "data": {
            "image/png": "[encoded data removed]",
            "text/plain": [
              "<Figure size 640x480 with 1 Axes>"
            ]
          },
          "metadata": {},
          "output_type": "display_data"
        }
      ],
      "source": [
        "#Normalizando, com log, o target (price), foi realizado de forma separada para nao terem dados vazados.\n",
        "\n",
        "ytrain =  np.log1p(ytrain)\n",
        "ytrain.hist()"
      ]
    },
    {
      "cell_type": "code",
      "execution_count": 26,
      "metadata": {
        "colab": {
          "base_uri": "https://localhost:8080/"
        },
        "id": "RuvdIbRDGn2G",
        "outputId": "522359bd-0c42-442f-f5f7-4cf8a7f5b280"
      },
      "outputs": [
        {
          "name": "stdout",
          "output_type": "stream",
          "text": [
            "(958913, 10) (958913,)\n",
            "(239729, 10) (239729,)\n",
            "(133183, 10) (133183,)\n"
          ]
        }
      ],
      "source": [
        "print(Xtrain.shape,ytrain.shape) \n",
        "print(Xval.shape,yval.shape)\n",
        "print(Xtest.shape,ytest.shape)"
      ]
    },
    {
      "cell_type": "markdown",
      "metadata": {
        "id": "FBC11xTJGn2G"
      },
      "source": [
        "# Transformadores"
      ]
    },
    {
      "cell_type": "code",
      "execution_count": 27,
      "metadata": {
        "id": "MvFXb5faGn2G"
      },
      "outputs": [],
      "source": [
        "vec = TfidfVectorizer(stop_words=stop_words, ngram_range=(1,2), max_features=25000) #vetorização, com stop word. "
      ]
    },
    {
      "cell_type": "code",
      "execution_count": 28,
      "metadata": {
        "colab": {
          "base_uri": "https://localhost:8080/"
        },
        "id": "wL69TwBCGn2G",
        "outputId": "9ef4993f-558a-48fd-e5d4-bd3ddfbfa4c5"
      },
      "outputs": [
        {
          "data": {
            "text/plain": [
              "<958913x25000 sparse matrix of type '<class 'numpy.float64'>'\n",
              "\twith 23516690 stored elements in Compressed Sparse Row format>"
            ]
          },
          "execution_count": 28,
          "metadata": {},
          "output_type": "execute_result"
        }
      ],
      "source": [
        "vec_train = vec.fit_transform(Xtrain[\"item_description\"])\n",
        "\n",
        "vec_train"
      ]
    },
    {
      "cell_type": "code",
      "execution_count": 29,
      "metadata": {
        "colab": {
          "base_uri": "https://localhost:8080/"
        },
        "id": "-21rjZ-WGn2H",
        "outputId": "b78fa120-474a-4e72-af9f-0b6c182dfc28"
      },
      "outputs": [
        {
          "data": {
            "text/plain": [
              "<239729x25000 sparse matrix of type '<class 'numpy.float64'>'\n",
              "\twith 5859743 stored elements in Compressed Sparse Row format>"
            ]
          },
          "execution_count": 29,
          "metadata": {},
          "output_type": "execute_result"
        }
      ],
      "source": [
        "vec_val = vec.transform(Xval[\"item_description\"])\n",
        "\n",
        "vec_val"
      ]
    },
    {
      "cell_type": "code",
      "execution_count": 30,
      "metadata": {
        "colab": {
          "base_uri": "https://localhost:8080/"
        },
        "id": "kYExq31AGn2H",
        "outputId": "cbecfdc4-07cb-43c2-c183-29b82d7e5336"
      },
      "outputs": [
        {
          "data": {
            "text/plain": [
              "<958913x988 sparse matrix of type '<class 'numpy.float64'>'\n",
              "\twith 4794565 stored elements in Compressed Sparse Row format>"
            ]
          },
          "execution_count": 30,
          "metadata": {},
          "output_type": "execute_result"
        }
      ],
      "source": [
        "ohe = OneHotEncoder(handle_unknown=\"ignore\")\n",
        "\n",
        "#aplicação dummy nas colunas categóricas.\n",
        "\n",
        "ohe_train = ohe.fit_transform(Xtrain[[\"item_condition_id\",   \n",
        "                                         \"shipping\",\n",
        "                                         \"gen_cat\",\n",
        "                                         \"sub1_cat\",\n",
        "                                         \"sub2_cat\", \n",
        "                                                    ]])\n",
        "                            \n",
        "ohe_train"
      ]
    },
    {
      "cell_type": "code",
      "execution_count": 31,
      "metadata": {
        "colab": {
          "base_uri": "https://localhost:8080/"
        },
        "id": "ivtsbypDGn2H",
        "outputId": "70dfce11-ba96-430d-812e-a46edc25a9ca"
      },
      "outputs": [
        {
          "data": {
            "text/plain": [
              "<239729x988 sparse matrix of type '<class 'numpy.float64'>'\n",
              "\twith 1198633 stored elements in Compressed Sparse Row format>"
            ]
          },
          "execution_count": 31,
          "metadata": {},
          "output_type": "execute_result"
        }
      ],
      "source": [
        "ohe_val = ohe.transform(Xval[[\"item_condition_id\",   \n",
        "                                         \"shipping\",\n",
        "                                         \"gen_cat\",\n",
        "                                         \"sub1_cat\",\n",
        "                                         \"sub2_cat\", \n",
        "                                                    ]])\n",
        "\n",
        "ohe_val"
      ]
    },
    {
      "cell_type": "code",
      "execution_count": 32,
      "metadata": {
        "colab": {
          "base_uri": "https://localhost:8080/"
        },
        "id": "fIJbWBMGGn2I",
        "outputId": "cf636a8c-de7d-4d34-ef62-0d663ef0b3a3"
      },
      "outputs": [
        {
          "data": {
            "text/plain": [
              "<958913x25988 sparse matrix of type '<class 'numpy.float64'>'\n",
              "\twith 28311255 stored elements in Compressed Sparse Row format>"
            ]
          },
          "execution_count": 32,
          "metadata": {},
          "output_type": "execute_result"
        }
      ],
      "source": [
        "#juntando cada matrix gerada por cada pré-processamento\n",
        "\n",
        "x_train = hstack([\n",
        "                 (vec_train),\n",
        "                 (ohe_train)\n",
        "                            ], format='csr') \n",
        "x_train"
      ]
    },
    {
      "cell_type": "code",
      "execution_count": 33,
      "metadata": {
        "colab": {
          "base_uri": "https://localhost:8080/"
        },
        "id": "BC6wPKWWGn2I",
        "outputId": "16da68fd-f493-4e0d-9478-a5514fcf1ab9"
      },
      "outputs": [
        {
          "data": {
            "text/plain": [
              "<239729x25988 sparse matrix of type '<class 'numpy.float64'>'\n",
              "\twith 7058376 stored elements in Compressed Sparse Row format>"
            ]
          },
          "execution_count": 33,
          "metadata": {},
          "output_type": "execute_result"
        }
      ],
      "source": [
        "x_val = hstack([\n",
        "                 (vec_val),\n",
        "                 (ohe_val)\n",
        "                             ], format='csr') \n",
        "x_val"
      ]
    },
    {
      "cell_type": "markdown",
      "metadata": {
        "id": "Pw_6GQyvGn2I"
      },
      "source": [
        "# Modelo"
      ]
    },
    {
      "cell_type": "code",
      "execution_count": 34,
      "metadata": {},
      "outputs": [],
      "source": [
        "#del model  # for avoid any trace on aigen\n",
        "tf.keras.backend.clear_session()  # removing session, it will instance another"
      ]
    },
    {
      "cell_type": "code",
      "execution_count": 35,
      "metadata": {
        "colab": {
          "base_uri": "https://localhost:8080/"
        },
        "id": "g7QnnlhvGn2I",
        "outputId": "d3de2819-1135-4901-c790-a528f932e27f"
      },
      "outputs": [
        {
          "name": "stdout",
          "output_type": "stream",
          "text": [
            "Model: \"model\"\n",
            "_________________________________________________________________\n",
            " Layer (type)                Output Shape              Param #   \n",
            "=================================================================\n",
            " sparse (InputLayer)         [(None, 25988)]           0         \n",
            "                                                                 \n",
            " dense (Dense)               (None, 1024)              26612736  \n",
            "                                                                 \n",
            " dense_1 (Dense)             (None, 1024)              1049600   \n",
            "                                                                 \n",
            " dense_2 (Dense)             (None, 1024)              1049600   \n",
            "                                                                 \n",
            " dense_3 (Dense)             (None, 1)                 1025      \n",
            "                                                                 \n",
            "=================================================================\n",
            "Total params: 28,712,961\n",
            "Trainable params: 28,712,961\n",
            "Non-trainable params: 0\n",
            "_________________________________________________________________\n"
          ]
        }
      ],
      "source": [
        "input = Input(shape=(x_train.shape[-1]), sparse=True, name='sparse')\n",
        "dense3 = Dense(1024, activation=\"relu\") (input)\n",
        "dense4 = Dense(1024, activation=\"relu\") (dense3)\n",
        "dense5 = Dense(1024, activation=\"relu\") (dense4)\n",
        "out = Dense(1) (dense5)\n",
        "\n",
        "model = Model(inputs = input, outputs = out)\n",
        "\n",
        "model.summary()\n",
        "\n"
      ]
    },
    {
      "cell_type": "code",
      "execution_count": 36,
      "metadata": {
        "id": "H_rjzWn7KIx7"
      },
      "outputs": [],
      "source": [
        "model.compile(loss=\"mean_squared_error\", \n",
        "              metrics=['mean_squared_error', RootMeanSquaredError()], \n",
        "              optimizer = 'Adam')\n",
        "\n"
      ]
    },
    {
      "cell_type": "code",
      "execution_count": 37,
      "metadata": {},
      "outputs": [],
      "source": [
        "x_train.sort_indices()"
      ]
    },
    {
      "cell_type": "code",
      "execution_count": 38,
      "metadata": {},
      "outputs": [
        {
          "name": "stdout",
          "output_type": "stream",
          "text": [
            "Epoch 1/20\n"
          ]
        },
        {
          "name": "stderr",
          "output_type": "stream",
          "text": [
            "c:\\Users\\angel\\Desktop\\Data science\\venv\\blue_bootcamp\\lib\\site-packages\\tensorflow\\python\\framework\\indexed_slices.py:444: UserWarning: Converting sparse IndexedSlices(IndexedSlices(indices=Tensor(\"gradient_tape/model/dense/embedding_lookup_sparse/Reshape_1:0\", shape=(None,), dtype=int32), values=Tensor(\"gradient_tape/model/dense/embedding_lookup_sparse/Reshape:0\", shape=(None, 1024), dtype=float32), dense_shape=Tensor(\"gradient_tape/model/dense/embedding_lookup_sparse/Cast:0\", shape=(2,), dtype=int32))) to a dense Tensor of unknown shape. This may consume a large amount of memory.\n",
            "  warnings.warn(\n"
          ]
        },
        {
          "name": "stdout",
          "output_type": "stream",
          "text": [
            "937/937 [==============================] - 49s 47ms/step - loss: 0.1985 - mean_squared_error: 0.1985 - root_mean_squared_error: 0.4455\n",
            "Epoch 2/20\n",
            "937/937 [==============================] - 47s 48ms/step - loss: 0.1322 - mean_squared_error: 0.1322 - root_mean_squared_error: 0.3635\n",
            "Epoch 3/20\n",
            "937/937 [==============================] - 47s 48ms/step - loss: 0.0987 - mean_squared_error: 0.0987 - root_mean_squared_error: 0.3142\n",
            "Epoch 4/20\n",
            "937/937 [==============================] - 47s 47ms/step - loss: 0.0673 - mean_squared_error: 0.0673 - root_mean_squared_error: 0.2594\n",
            "Epoch 5/20\n",
            "937/937 [==============================] - 47s 47ms/step - loss: 0.0459 - mean_squared_error: 0.0459 - root_mean_squared_error: 0.2141\n",
            "Epoch 6/20\n",
            "937/937 [==============================] - 47s 47ms/step - loss: 0.0337 - mean_squared_error: 0.0337 - root_mean_squared_error: 0.1837\n",
            "Epoch 7/20\n",
            "937/937 [==============================] - 47s 47ms/step - loss: 0.0269 - mean_squared_error: 0.0269 - root_mean_squared_error: 0.1639\n",
            "Epoch 8/20\n",
            "937/937 [==============================] - 47s 47ms/step - loss: 0.0228 - mean_squared_error: 0.0228 - root_mean_squared_error: 0.1511\n",
            "Epoch 9/20\n",
            "937/937 [==============================] - 47s 47ms/step - loss: 0.0202 - mean_squared_error: 0.0202 - root_mean_squared_error: 0.1422\n",
            "Epoch 10/20\n",
            "937/937 [==============================] - 47s 47ms/step - loss: 0.0181 - mean_squared_error: 0.0181 - root_mean_squared_error: 0.1344\n",
            "Epoch 11/20\n",
            "937/937 [==============================] - 47s 47ms/step - loss: 0.0164 - mean_squared_error: 0.0164 - root_mean_squared_error: 0.1282\n",
            "Epoch 12/20\n",
            "937/937 [==============================] - 46s 47ms/step - loss: 0.0150 - mean_squared_error: 0.0150 - root_mean_squared_error: 0.1223\n",
            "Epoch 13/20\n",
            "937/937 [==============================] - 46s 47ms/step - loss: 0.0137 - mean_squared_error: 0.0137 - root_mean_squared_error: 0.1171\n",
            "Epoch 14/20\n",
            "937/937 [==============================] - 47s 48ms/step - loss: 0.0127 - mean_squared_error: 0.0127 - root_mean_squared_error: 0.1127\n",
            "Epoch 15/20\n",
            "937/937 [==============================] - 45s 46ms/step - loss: 0.0119 - mean_squared_error: 0.0119 - root_mean_squared_error: 0.1090\n",
            "Epoch 16/20\n",
            "937/937 [==============================] - 46s 47ms/step - loss: 0.0111 - mean_squared_error: 0.0111 - root_mean_squared_error: 0.1055\n",
            "Epoch 17/20\n",
            "937/937 [==============================] - 47s 47ms/step - loss: 0.0104 - mean_squared_error: 0.0104 - root_mean_squared_error: 0.1017\n",
            "Epoch 18/20\n",
            "937/937 [==============================] - 47s 48ms/step - loss: 0.0098 - mean_squared_error: 0.0098 - root_mean_squared_error: 0.0992\n",
            "Epoch 19/20\n",
            "937/937 [==============================] - 47s 47ms/step - loss: 0.0093 - mean_squared_error: 0.0093 - root_mean_squared_error: 0.0962\n",
            "Epoch 20/20\n",
            "937/937 [==============================] - 47s 47ms/step - loss: 0.0088 - mean_squared_error: 0.0088 - root_mean_squared_error: 0.0936\n"
          ]
        }
      ],
      "source": [
        "\n",
        "history =  model.fit(x_train,\n",
        "                     ytrain.values, \n",
        "                     batch_size=1024,\n",
        "                     epochs=20, \n",
        "                     verbose=True)"
      ]
    },
    {
      "cell_type": "code",
      "execution_count": 39,
      "metadata": {},
      "outputs": [],
      "source": [
        "x_val.sort_indices()"
      ]
    },
    {
      "cell_type": "code",
      "execution_count": 40,
      "metadata": {
        "id": "kiGPp2kuGn2J"
      },
      "outputs": [
        {
          "name": "stdout",
          "output_type": "stream",
          "text": [
            "7492/7492 [==============================] - 28s 4ms/step\n"
          ]
        }
      ],
      "source": [
        "ypredict = model.predict(x_val)"
      ]
    },
    {
      "cell_type": "code",
      "execution_count": 41,
      "metadata": {
        "id": "0Q_tsJVXGn2J"
      },
      "outputs": [],
      "source": [
        "ypredict = np.expm1(ypredict)\n"
      ]
    },
    {
      "cell_type": "markdown",
      "metadata": {
        "id": "mOFRMW29Gn2J"
      },
      "source": [
        "#   Resultado"
      ]
    },
    {
      "cell_type": "markdown",
      "metadata": {
        "id": "gHuVHyXSGn2J"
      },
      "source": [
        "- predict validação"
      ]
    },
    {
      "cell_type": "code",
      "execution_count": 42,
      "metadata": {
        "id": "p-WVZAnfGn2K"
      },
      "outputs": [
        {
          "name": "stdout",
          "output_type": "stream",
          "text": [
            "MAE: $ 5.75\n",
            "RMSE:  $ 8.10\n",
            "RMSLE: 0.159376\n"
          ]
        }
      ],
      "source": [
        "print('MAE: $ %.2f' %  mean_absolute_error(yval,ypredict))\n",
        "print('RMSE:  $ %.2f' %  (mean_squared_error(yval,ypredict)**0.5))\n",
        "print('RMSLE: %2f' % mean_squared_log_error(yval,ypredict))\n"
      ]
    },
    {
      "cell_type": "markdown",
      "metadata": {},
      "source": []
    }
  ],
  "metadata": {
    "colab": {
      "provenance": []
    },
    "kernelspec": {
      "display_name": "Python 3.10.8 ('blue_bootcamp': venv)",
      "language": "python",
      "name": "python3"
    },
    "language_info": {
      "codemirror_mode": {
        "name": "ipython",
        "version": 3
      },
      "file_extension": ".py",
      "mimetype": "text/x-python",
      "name": "python",
      "nbconvert_exporter": "python",
      "pygments_lexer": "ipython3",
      "version": "3.10.8"
    },
    "orig_nbformat": 4,
    "vscode": {
      "interpreter": {
        "hash": "0cba9dc48216265c7a67d52538187b6a360d3b2963a1f5a8f0947f5a3cb43c1c"
      }
    }
  },
  "nbformat": 4,
  "nbformat_minor": 0
}
