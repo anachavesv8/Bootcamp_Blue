{
  "nbformat": 4,
  "nbformat_minor": 0,
  "metadata": {
    "colab": {
      "provenance": [],
      "authorship_tag": "ABX9TyMg1mnmZ+lRVIBa0/UaThRh"
    },
    "kernelspec": {
      "name": "python3",
      "display_name": "Python 3"
    },
    "language_info": {
      "name": "python"
    },
    "accelerator": "GPU"
  },
  "cells": [
    {
      "cell_type": "markdown",
      "source": [
        "# Ajustes para rodar os modelos no colab"
      ],
      "metadata": {
        "id": "CQkREMUKgQ3p"
      }
    },
    {
      "cell_type": "code",
      "source": [
        "! git clone --recursive https://github.com/Microsoft/LightGBM"
      ],
      "metadata": {
        "id": "TUUUYR_4gUtc",
        "colab": {
          "base_uri": "https://localhost:8080/"
        },
        "outputId": "7cbb6def-3e7b-453d-ef83-423fd8108f18"
      },
      "execution_count": 1,
      "outputs": [
        {
          "output_type": "stream",
          "name": "stdout",
          "text": [
            "Cloning into 'LightGBM'...\n",
            "remote: Enumerating objects: 27692, done.\u001b[K\n",
            "remote: Counting objects: 100% (290/290), done.\u001b[K\n",
            "remote: Compressing objects: 100% (198/198), done.\u001b[K\n",
            "remote: Total 27692 (delta 146), reused 189 (delta 87), pack-reused 27402\u001b[K\n",
            "Receiving objects: 100% (27692/27692), 19.87 MiB | 2.95 MiB/s, done.\n",
            "Resolving deltas: 100% (20449/20449), done.\n",
            "Submodule 'include/boost/compute' (https://github.com/boostorg/compute) registered for path 'external_libs/compute'\n",
            "Submodule 'eigen' (https://gitlab.com/libeigen/eigen.git) registered for path 'external_libs/eigen'\n",
            "Submodule 'external_libs/fast_double_parser' (https://github.com/lemire/fast_double_parser.git) registered for path 'external_libs/fast_double_parser'\n",
            "Submodule 'external_libs/fmt' (https://github.com/fmtlib/fmt.git) registered for path 'external_libs/fmt'\n",
            "Cloning into '/content/LightGBM/external_libs/compute'...\n",
            "remote: Enumerating objects: 21733, done.        \n",
            "remote: Counting objects: 100% (5/5), done.        \n",
            "remote: Compressing objects: 100% (4/4), done.        \n",
            "remote: Total 21733 (delta 1), reused 3 (delta 1), pack-reused 21728        \n",
            "Receiving objects: 100% (21733/21733), 8.51 MiB | 15.59 MiB/s, done.\n",
            "Resolving deltas: 100% (17567/17567), done.\n",
            "Cloning into '/content/LightGBM/external_libs/eigen'...\n",
            "remote: Enumerating objects: 117148, done.        \n",
            "remote: Counting objects: 100% (241/241), done.        \n",
            "remote: Compressing objects: 100% (115/115), done.        \n",
            "remote: Total 117148 (delta 135), reused 217 (delta 124), pack-reused 116907        \n",
            "Receiving objects: 100% (117148/117148), 102.75 MiB | 27.47 MiB/s, done.\n",
            "Resolving deltas: 100% (96710/96710), done.\n",
            "Cloning into '/content/LightGBM/external_libs/fast_double_parser'...\n",
            "remote: Enumerating objects: 730, done.        \n",
            "remote: Counting objects: 100% (129/129), done.        \n",
            "remote: Compressing objects: 100% (34/34), done.        \n",
            "remote: Total 730 (delta 101), reused 103 (delta 91), pack-reused 601        \n",
            "Receiving objects: 100% (730/730), 822.43 KiB | 21.09 MiB/s, done.\n",
            "Resolving deltas: 100% (372/372), done.\n",
            "Cloning into '/content/LightGBM/external_libs/fmt'...\n",
            "remote: Enumerating objects: 30726, done.        \n",
            "remote: Counting objects: 100% (44/44), done.        \n",
            "remote: Compressing objects: 100% (29/29), done.        \n",
            "remote: Total 30726 (delta 16), reused 33 (delta 10), pack-reused 30682        \n",
            "Receiving objects: 100% (30726/30726), 14.59 MiB | 18.20 MiB/s, done.\n",
            "Resolving deltas: 100% (20747/20747), done.\n",
            "Submodule path 'external_libs/compute': checked out '36350b7de849300bd3d72a05d8bf890ca405a014'\n",
            "Submodule path 'external_libs/eigen': checked out '3147391d946bb4b6c68edd901f2add6ac1f31f8c'\n",
            "Submodule path 'external_libs/fast_double_parser': checked out 'ace60646c02dc54c57f19d644e49a61e7e7758ec'\n",
            "Submodule 'benchmark/dependencies/abseil-cpp' (https://github.com/abseil/abseil-cpp.git) registered for path 'external_libs/fast_double_parser/benchmarks/dependencies/abseil-cpp'\n",
            "Submodule 'benchmark/dependencies/double-conversion' (https://github.com/google/double-conversion.git) registered for path 'external_libs/fast_double_parser/benchmarks/dependencies/double-conversion'\n",
            "Cloning into '/content/LightGBM/external_libs/fast_double_parser/benchmarks/dependencies/abseil-cpp'...\n",
            "remote: Enumerating objects: 18713, done.        \n",
            "remote: Counting objects: 100% (1003/1003), done.        \n",
            "remote: Compressing objects: 100% (585/585), done.        \n",
            "remote: Total 18713 (delta 434), reused 475 (delta 418), pack-reused 17710        \n",
            "Receiving objects: 100% (18713/18713), 11.57 MiB | 18.95 MiB/s, done.\n",
            "Resolving deltas: 100% (14587/14587), done.\n",
            "Cloning into '/content/LightGBM/external_libs/fast_double_parser/benchmarks/dependencies/double-conversion'...\n",
            "remote: Enumerating objects: 1352, done.        \n",
            "remote: Counting objects: 100% (196/196), done.        \n",
            "remote: Compressing objects: 100% (103/103), done.        \n",
            "remote: Total 1352 (delta 108), reused 156 (delta 86), pack-reused 1156        \n",
            "Receiving objects: 100% (1352/1352), 7.15 MiB | 13.03 MiB/s, done.\n",
            "Resolving deltas: 100% (880/880), done.\n",
            "Submodule path 'external_libs/fast_double_parser/benchmarks/dependencies/abseil-cpp': checked out 'd936052d32a5b7ca08b0199a6724724aea432309'\n",
            "Submodule path 'external_libs/fast_double_parser/benchmarks/dependencies/double-conversion': checked out 'f4cb2384efa55dee0e6652f8674b05763441ab09'\n",
            "Submodule path 'external_libs/fmt': checked out 'b6f4ceaed0a0a24ccf575fab6c56dd50ccf6f1a9'\n"
          ]
        }
      ]
    },
    {
      "cell_type": "code",
      "source": [
        "! cd LightGBM && rm -rf build && mkdir build && cd build && cmake -DUSE_GPU=1 ../../LightGBM && make -j4 && cd ../python-package && python3 setup.py install --precompile --gpu;"
      ],
      "metadata": {
        "id": "SXlYJFkqgbvB",
        "colab": {
          "base_uri": "https://localhost:8080/"
        },
        "outputId": "c4cc3130-bd91-4521-9e9d-c65acdcd8b74"
      },
      "execution_count": 2,
      "outputs": [
        {
          "output_type": "stream",
          "name": "stdout",
          "text": [
            "-- The C compiler identification is GNU 7.5.0\n",
            "-- The CXX compiler identification is GNU 7.5.0\n",
            "-- Detecting C compiler ABI info\n",
            "-- Detecting C compiler ABI info - done\n",
            "-- Check for working C compiler: /usr/bin/cc - skipped\n",
            "-- Detecting C compile features\n",
            "-- Detecting C compile features - done\n",
            "-- Detecting CXX compiler ABI info\n",
            "-- Detecting CXX compiler ABI info - done\n",
            "-- Check for working CXX compiler: /usr/bin/c++ - skipped\n",
            "-- Detecting CXX compile features\n",
            "-- Detecting CXX compile features - done\n",
            "-- Found OpenMP_C: -fopenmp (found version \"4.5\") \n",
            "-- Found OpenMP_CXX: -fopenmp (found version \"4.5\") \n",
            "-- Found OpenMP: TRUE (found version \"4.5\")  \n",
            "-- Looking for CL_VERSION_2_2\n",
            "-- Looking for CL_VERSION_2_2 - found\n",
            "-- Found OpenCL: /usr/lib/x86_64-linux-gnu/libOpenCL.so (found version \"2.2\") \n",
            "-- OpenCL include directory: /usr/include\n",
            "-- Found Boost: /usr/include (found suitable version \"1.65.1\", minimum required is \"1.56.0\") found components: filesystem system \n",
            "-- Performing Test MM_PREFETCH\n",
            "-- Performing Test MM_PREFETCH - Success\n",
            "-- Using _mm_prefetch\n",
            "-- Performing Test MM_MALLOC\n",
            "-- Performing Test MM_MALLOC - Success\n",
            "-- Using _mm_malloc\n",
            "-- Configuring done\n",
            "-- Generating done\n",
            "-- Build files have been written to: /content/LightGBM/build\n",
            "[  1%] \u001b[32mBuilding CXX object CMakeFiles/lightgbm_capi_objs.dir/src/c_api.cpp.o\u001b[0m\n",
            "[  3%] \u001b[32mBuilding CXX object CMakeFiles/lightgbm_objs.dir/src/boosting/boosting.cpp.o\u001b[0m\n",
            "[  7%] \u001b[32mBuilding CXX object CMakeFiles/lightgbm_objs.dir/src/boosting/cuda/cuda_score_updater.cpp.o\u001b[0m\n",
            "[  7%] \u001b[32mBuilding CXX object CMakeFiles/lightgbm_objs.dir/src/boosting/gbdt.cpp.o\u001b[0m\n",
            "[  9%] \u001b[32mBuilding CXX object CMakeFiles/lightgbm_objs.dir/src/boosting/gbdt_model_text.cpp.o\u001b[0m\n",
            "[ 11%] \u001b[32mBuilding CXX object CMakeFiles/lightgbm_objs.dir/src/boosting/gbdt_prediction.cpp.o\u001b[0m\n",
            "[ 13%] \u001b[32mBuilding CXX object CMakeFiles/lightgbm_objs.dir/src/boosting/prediction_early_stop.cpp.o\u001b[0m\n",
            "[ 15%] \u001b[32mBuilding CXX object CMakeFiles/lightgbm_objs.dir/src/cuda/cuda_utils.cpp.o\u001b[0m\n",
            "[ 17%] \u001b[32mBuilding CXX object CMakeFiles/lightgbm_objs.dir/src/io/bin.cpp.o\u001b[0m\n",
            "[ 19%] \u001b[32mBuilding CXX object CMakeFiles/lightgbm_objs.dir/src/io/config.cpp.o\u001b[0m\n",
            "[ 21%] \u001b[32mBuilding CXX object CMakeFiles/lightgbm_objs.dir/src/io/config_auto.cpp.o\u001b[0m\n",
            "[ 21%] Built target lightgbm_capi_objs\n",
            "[ 23%] \u001b[32mBuilding CXX object CMakeFiles/lightgbm_objs.dir/src/io/cuda/cuda_column_data.cpp.o\u001b[0m\n",
            "[ 25%] \u001b[32mBuilding CXX object CMakeFiles/lightgbm_objs.dir/src/io/cuda/cuda_metadata.cpp.o\u001b[0m\n",
            "[ 27%] \u001b[32mBuilding CXX object CMakeFiles/lightgbm_objs.dir/src/io/cuda/cuda_row_data.cpp.o\u001b[0m\n",
            "[ 29%] \u001b[32mBuilding CXX object CMakeFiles/lightgbm_objs.dir/src/io/cuda/cuda_tree.cpp.o\u001b[0m\n",
            "[ 31%] \u001b[32mBuilding CXX object CMakeFiles/lightgbm_objs.dir/src/io/dataset.cpp.o\u001b[0m\n",
            "[ 33%] \u001b[32mBuilding CXX object CMakeFiles/lightgbm_objs.dir/src/io/dataset_loader.cpp.o\u001b[0m\n",
            "[ 35%] \u001b[32mBuilding CXX object CMakeFiles/lightgbm_objs.dir/src/io/file_io.cpp.o\u001b[0m\n",
            "[ 37%] \u001b[32mBuilding CXX object CMakeFiles/lightgbm_objs.dir/src/io/json11.cpp.o\u001b[0m\n",
            "[ 39%] \u001b[32mBuilding CXX object CMakeFiles/lightgbm_objs.dir/src/io/metadata.cpp.o\u001b[0m\n",
            "[ 41%] \u001b[32mBuilding CXX object CMakeFiles/lightgbm_objs.dir/src/io/parser.cpp.o\u001b[0m\n",
            "[ 43%] \u001b[32mBuilding CXX object CMakeFiles/lightgbm_objs.dir/src/io/train_share_states.cpp.o\u001b[0m\n",
            "[ 45%] \u001b[32mBuilding CXX object CMakeFiles/lightgbm_objs.dir/src/io/tree.cpp.o\u001b[0m\n",
            "[ 47%] \u001b[32mBuilding CXX object CMakeFiles/lightgbm_objs.dir/src/metric/dcg_calculator.cpp.o\u001b[0m\n",
            "[ 49%] \u001b[32mBuilding CXX object CMakeFiles/lightgbm_objs.dir/src/metric/metric.cpp.o\u001b[0m\n",
            "[ 50%] \u001b[32mBuilding CXX object CMakeFiles/lightgbm_objs.dir/src/network/linker_topo.cpp.o\u001b[0m\n",
            "[ 52%] \u001b[32mBuilding CXX object CMakeFiles/lightgbm_objs.dir/src/network/linkers_mpi.cpp.o\u001b[0m\n",
            "[ 54%] \u001b[32mBuilding CXX object CMakeFiles/lightgbm_objs.dir/src/network/linkers_socket.cpp.o\u001b[0m\n",
            "[ 56%] \u001b[32mBuilding CXX object CMakeFiles/lightgbm_objs.dir/src/network/network.cpp.o\u001b[0m\n",
            "[ 58%] \u001b[32mBuilding CXX object CMakeFiles/lightgbm_objs.dir/src/objective/cuda/cuda_binary_objective.cpp.o\u001b[0m\n",
            "[ 60%] \u001b[32mBuilding CXX object CMakeFiles/lightgbm_objs.dir/src/objective/cuda/cuda_multiclass_objective.cpp.o\u001b[0m\n",
            "[ 62%] \u001b[32mBuilding CXX object CMakeFiles/lightgbm_objs.dir/src/objective/cuda/cuda_rank_objective.cpp.o\u001b[0m\n",
            "[ 64%] \u001b[32mBuilding CXX object CMakeFiles/lightgbm_objs.dir/src/objective/cuda/cuda_regression_objective.cpp.o\u001b[0m\n",
            "[ 66%] \u001b[32mBuilding CXX object CMakeFiles/lightgbm_objs.dir/src/objective/objective_function.cpp.o\u001b[0m\n",
            "[ 68%] \u001b[32mBuilding CXX object CMakeFiles/lightgbm_objs.dir/src/treelearner/cuda/cuda_best_split_finder.cpp.o\u001b[0m\n",
            "[ 70%] \u001b[32mBuilding CXX object CMakeFiles/lightgbm_objs.dir/src/treelearner/cuda/cuda_data_partition.cpp.o\u001b[0m\n",
            "[ 72%] \u001b[32mBuilding CXX object CMakeFiles/lightgbm_objs.dir/src/treelearner/cuda/cuda_histogram_constructor.cpp.o\u001b[0m\n",
            "[ 74%] \u001b[32mBuilding CXX object CMakeFiles/lightgbm_objs.dir/src/treelearner/cuda/cuda_leaf_splits.cpp.o\u001b[0m\n",
            "[ 76%] \u001b[32mBuilding CXX object CMakeFiles/lightgbm_objs.dir/src/treelearner/cuda/cuda_single_gpu_tree_learner.cpp.o\u001b[0m\n",
            "[ 78%] \u001b[32mBuilding CXX object CMakeFiles/lightgbm_objs.dir/src/treelearner/cuda_tree_learner.cpp.o\u001b[0m\n",
            "[ 80%] \u001b[32mBuilding CXX object CMakeFiles/lightgbm_objs.dir/src/treelearner/data_parallel_tree_learner.cpp.o\u001b[0m\n",
            "[ 82%] \u001b[32mBuilding CXX object CMakeFiles/lightgbm_objs.dir/src/treelearner/feature_parallel_tree_learner.cpp.o\u001b[0m\n",
            "[ 84%] \u001b[32mBuilding CXX object CMakeFiles/lightgbm_objs.dir/src/treelearner/gpu_tree_learner.cpp.o\u001b[0m\n",
            "[ 86%] \u001b[32mBuilding CXX object CMakeFiles/lightgbm_objs.dir/src/treelearner/linear_tree_learner.cpp.o\u001b[0m\n",
            "[ 88%] \u001b[32mBuilding CXX object CMakeFiles/lightgbm_objs.dir/src/treelearner/serial_tree_learner.cpp.o\u001b[0m\n",
            "[ 90%] \u001b[32mBuilding CXX object CMakeFiles/lightgbm_objs.dir/src/treelearner/tree_learner.cpp.o\u001b[0m\n",
            "[ 92%] \u001b[32mBuilding CXX object CMakeFiles/lightgbm_objs.dir/src/treelearner/voting_parallel_tree_learner.cpp.o\u001b[0m\n",
            "[ 92%] Built target lightgbm_objs\n",
            "[ 94%] \u001b[32m\u001b[1mLinking CXX shared library ../lib_lightgbm.so\u001b[0m\n",
            "[ 96%] \u001b[32mBuilding CXX object CMakeFiles/lightgbm.dir/src/application/application.cpp.o\u001b[0m\n",
            "[ 98%] \u001b[32mBuilding CXX object CMakeFiles/lightgbm.dir/src/main.cpp.o\u001b[0m\n",
            "[ 98%] Built target _lightgbm\n",
            "[100%] \u001b[32m\u001b[1mLinking CXX executable ../lightgbm\u001b[0m\n",
            "[100%] Built target lightgbm\n",
            "running install\n",
            "running build\n",
            "running build_py\n",
            "INFO:root:Generating grammar tables from /usr/lib/python3.7/lib2to3/Grammar.txt\n",
            "INFO:root:Generating grammar tables from /usr/lib/python3.7/lib2to3/PatternGrammar.txt\n",
            "creating build\n",
            "creating build/lib\n",
            "creating build/lib/lightgbm\n",
            "copying lightgbm/callback.py -> build/lib/lightgbm\n",
            "copying lightgbm/compat.py -> build/lib/lightgbm\n",
            "copying lightgbm/dask.py -> build/lib/lightgbm\n",
            "copying lightgbm/__init__.py -> build/lib/lightgbm\n",
            "copying lightgbm/basic.py -> build/lib/lightgbm\n",
            "copying lightgbm/engine.py -> build/lib/lightgbm\n",
            "copying lightgbm/sklearn.py -> build/lib/lightgbm\n",
            "copying lightgbm/plotting.py -> build/lib/lightgbm\n",
            "copying lightgbm/libpath.py -> build/lib/lightgbm\n",
            "running egg_info\n",
            "creating lightgbm.egg-info\n",
            "writing lightgbm.egg-info/PKG-INFO\n",
            "writing dependency_links to lightgbm.egg-info/dependency_links.txt\n",
            "writing requirements to lightgbm.egg-info/requires.txt\n",
            "writing top-level names to lightgbm.egg-info/top_level.txt\n",
            "writing manifest file 'lightgbm.egg-info/SOURCES.txt'\n",
            "reading manifest template 'MANIFEST.in'\n",
            "no previously-included directories found matching 'build'\n",
            "warning: no files found matching 'LICENSE'\n",
            "warning: no files found matching '*.txt'\n",
            "warning: no files found matching '*.so' under directory 'lightgbm'\n",
            "warning: no files found matching 'compile/CMakeLists.txt'\n",
            "warning: no files found matching 'compile/cmake/IntegratedOpenCL.cmake'\n",
            "warning: no files found matching '*.so' under directory 'compile'\n",
            "warning: no files found matching '*.dll' under directory 'compile/Release'\n",
            "warning: no files found matching 'compile/external_libs/compute/CMakeLists.txt'\n",
            "warning: no files found matching '*' under directory 'compile/external_libs/compute/cmake'\n",
            "warning: no files found matching '*' under directory 'compile/external_libs/compute/include'\n",
            "warning: no files found matching '*' under directory 'compile/external_libs/compute/meta'\n",
            "warning: no files found matching 'compile/external_libs/eigen/CMakeLists.txt'\n",
            "warning: no files found matching 'compile/external_libs/eigen/Eigen/Cholesky'\n",
            "warning: no files found matching 'compile/external_libs/eigen/Eigen/Core'\n",
            "warning: no files found matching 'compile/external_libs/eigen/Eigen/Dense'\n",
            "warning: no files found matching 'compile/external_libs/eigen/Eigen/Eigenvalues'\n",
            "warning: no files found matching 'compile/external_libs/eigen/Eigen/Geometry'\n",
            "warning: no files found matching 'compile/external_libs/eigen/Eigen/Householder'\n",
            "warning: no files found matching 'compile/external_libs/eigen/Eigen/Jacobi'\n",
            "warning: no files found matching 'compile/external_libs/eigen/Eigen/LU'\n",
            "warning: no files found matching 'compile/external_libs/eigen/Eigen/QR'\n",
            "warning: no files found matching 'compile/external_libs/eigen/Eigen/SVD'\n",
            "warning: no files found matching '*' under directory 'compile/external_libs/eigen/Eigen/src/Cholesky'\n",
            "warning: no files found matching '*' under directory 'compile/external_libs/eigen/Eigen/src/Core'\n",
            "warning: no files found matching '*' under directory 'compile/external_libs/eigen/Eigen/src/Eigenvalues'\n",
            "warning: no files found matching '*' under directory 'compile/external_libs/eigen/Eigen/src/Geometry'\n",
            "warning: no files found matching '*' under directory 'compile/external_libs/eigen/Eigen/src/Householder'\n",
            "warning: no files found matching '*' under directory 'compile/external_libs/eigen/Eigen/src/Jacobi'\n",
            "warning: no files found matching '*' under directory 'compile/external_libs/eigen/Eigen/src/LU'\n",
            "warning: no files found matching '*' under directory 'compile/external_libs/eigen/Eigen/src/misc'\n",
            "warning: no files found matching '*' under directory 'compile/external_libs/eigen/Eigen/src/plugins'\n",
            "warning: no files found matching '*' under directory 'compile/external_libs/eigen/Eigen/src/QR'\n",
            "warning: no files found matching '*' under directory 'compile/external_libs/eigen/Eigen/src/SVD'\n",
            "warning: no files found matching 'compile/external_libs/fast_double_parser/CMakeLists.txt'\n",
            "warning: no files found matching 'compile/external_libs/fast_double_parser/LICENSE'\n",
            "warning: no files found matching 'compile/external_libs/fast_double_parser/LICENSE.BSL'\n",
            "warning: no files found matching '*' under directory 'compile/external_libs/fast_double_parser/include'\n",
            "warning: no files found matching 'compile/external_libs/fmt/CMakeLists.txt'\n",
            "warning: no files found matching 'compile/external_libs/fmt/LICENSE.rst'\n",
            "warning: no files found matching '*' under directory 'compile/external_libs/fmt/include'\n",
            "warning: no files found matching '*' under directory 'compile/include'\n",
            "warning: no files found matching '*' under directory 'compile/src'\n",
            "warning: no files found matching 'LightGBM.sln' under directory 'compile/windows'\n",
            "warning: no files found matching 'LightGBM.vcxproj' under directory 'compile/windows'\n",
            "warning: no files found matching '*.dll' under directory 'compile/windows/x64/DLL'\n",
            "warning: no previously-included files matching '*.py[co]' found anywhere in distribution\n",
            "warning: no previously-included files found matching 'compile/external_libs/compute/.git'\n",
            "writing manifest file 'lightgbm.egg-info/SOURCES.txt'\n",
            "copying lightgbm/VERSION.txt -> build/lib/lightgbm\n",
            "running install_lib\n",
            "copying build/lib/lightgbm/callback.py -> /usr/local/lib/python3.7/dist-packages/lightgbm\n",
            "copying build/lib/lightgbm/compat.py -> /usr/local/lib/python3.7/dist-packages/lightgbm\n",
            "copying build/lib/lightgbm/dask.py -> /usr/local/lib/python3.7/dist-packages/lightgbm\n",
            "copying build/lib/lightgbm/__init__.py -> /usr/local/lib/python3.7/dist-packages/lightgbm\n",
            "copying build/lib/lightgbm/basic.py -> /usr/local/lib/python3.7/dist-packages/lightgbm\n",
            "copying build/lib/lightgbm/engine.py -> /usr/local/lib/python3.7/dist-packages/lightgbm\n",
            "copying build/lib/lightgbm/sklearn.py -> /usr/local/lib/python3.7/dist-packages/lightgbm\n",
            "copying build/lib/lightgbm/plotting.py -> /usr/local/lib/python3.7/dist-packages/lightgbm\n",
            "copying build/lib/lightgbm/libpath.py -> /usr/local/lib/python3.7/dist-packages/lightgbm\n",
            "copying build/lib/lightgbm/VERSION.txt -> /usr/local/lib/python3.7/dist-packages/lightgbm\n",
            "INFO:LightGBM:Installing lib_lightgbm from: ['/content/LightGBM/lib_lightgbm.so']\n",
            "copying /content/LightGBM/lib_lightgbm.so -> /usr/local/lib/python3.7/dist-packages/lightgbm\n",
            "byte-compiling /usr/local/lib/python3.7/dist-packages/lightgbm/callback.py to callback.cpython-37.pyc\n",
            "byte-compiling /usr/local/lib/python3.7/dist-packages/lightgbm/compat.py to compat.cpython-37.pyc\n",
            "byte-compiling /usr/local/lib/python3.7/dist-packages/lightgbm/dask.py to dask.cpython-37.pyc\n",
            "byte-compiling /usr/local/lib/python3.7/dist-packages/lightgbm/__init__.py to __init__.cpython-37.pyc\n",
            "byte-compiling /usr/local/lib/python3.7/dist-packages/lightgbm/basic.py to basic.cpython-37.pyc\n",
            "byte-compiling /usr/local/lib/python3.7/dist-packages/lightgbm/engine.py to engine.cpython-37.pyc\n",
            "byte-compiling /usr/local/lib/python3.7/dist-packages/lightgbm/sklearn.py to sklearn.cpython-37.pyc\n",
            "byte-compiling /usr/local/lib/python3.7/dist-packages/lightgbm/plotting.py to plotting.cpython-37.pyc\n",
            "byte-compiling /usr/local/lib/python3.7/dist-packages/lightgbm/libpath.py to libpath.cpython-37.pyc\n",
            "running install_egg_info\n",
            "Copying lightgbm.egg-info to /usr/local/lib/python3.7/dist-packages/lightgbm-3.3.2.99-py3.7.egg-info\n",
            "running install_scripts\n"
          ]
        }
      ]
    },
    {
      "cell_type": "code",
      "source": [
        "!pip install -U xgboost"
      ],
      "metadata": {
        "id": "GAAWSm79hYwc",
        "colab": {
          "base_uri": "https://localhost:8080/"
        },
        "outputId": "02ad4bb9-5302-421e-d789-b5314753ebe9"
      },
      "execution_count": 3,
      "outputs": [
        {
          "output_type": "stream",
          "name": "stdout",
          "text": [
            "Looking in indexes: https://pypi.org/simple, https://us-python.pkg.dev/colab-wheels/public/simple/\n",
            "Requirement already satisfied: xgboost in /usr/local/lib/python3.7/dist-packages (0.90)\n",
            "Collecting xgboost\n",
            "  Downloading xgboost-1.6.2-py3-none-manylinux2014_x86_64.whl (255.9 MB)\n",
            "\u001b[K     |████████████████████████████████| 255.9 MB 46 kB/s \n",
            "\u001b[?25hRequirement already satisfied: numpy in /usr/local/lib/python3.7/dist-packages (from xgboost) (1.21.6)\n",
            "Requirement already satisfied: scipy in /usr/local/lib/python3.7/dist-packages (from xgboost) (1.7.3)\n",
            "Installing collected packages: xgboost\n",
            "  Attempting uninstall: xgboost\n",
            "    Found existing installation: xgboost 0.90\n",
            "    Uninstalling xgboost-0.90:\n",
            "      Successfully uninstalled xgboost-0.90\n",
            "Successfully installed xgboost-1.6.2\n"
          ]
        }
      ]
    },
    {
      "cell_type": "markdown",
      "metadata": {
        "id": "vY-qp-cGglgc"
      },
      "source": [
        "#   Bibliotecas"
      ]
    },
    {
      "cell_type": "code",
      "execution_count": 4,
      "metadata": {
        "id": "arnDOIXUglgi"
      },
      "outputs": [],
      "source": [
        "import pandas as pd\n",
        "import random \n",
        "import numpy as np\n",
        "import re\n",
        "from scipy.sparse import hstack #utilizada para a junção de matrizes"
      ]
    },
    {
      "cell_type": "code",
      "execution_count": 5,
      "metadata": {
        "id": "z-N1W7Luglgk"
      },
      "outputs": [],
      "source": [
        "#Pré processamento de colunas\n",
        "\n",
        "from sklearn.model_selection import train_test_split #Divisão do dataset entre treino e teste\n",
        "from sklearn.feature_extraction.text import TfidfVectorizer #vetorização do dataset\n",
        "from sklearn.preprocessing import OneHotEncoder #aplicação de dummy"
      ]
    },
    {
      "cell_type": "code",
      "execution_count": 6,
      "metadata": {
        "id": "_JBIjHQ6glgm",
        "outputId": "c5982b1d-7caa-4444-dbfd-fcb52d2f79c2",
        "colab": {
          "base_uri": "https://localhost:8080/"
        }
      },
      "outputs": [
        {
          "output_type": "stream",
          "name": "stderr",
          "text": [
            "[nltk_data] Downloading package stopwords to /root/nltk_data...\n",
            "[nltk_data]   Unzipping corpora/stopwords.zip.\n",
            "[nltk_data] Downloading package punkt to /root/nltk_data...\n",
            "[nltk_data]   Unzipping tokenizers/punkt.zip.\n",
            "[nltk_data] Downloading package stopwords to /root/nltk_data...\n",
            "[nltk_data]   Package stopwords is already up-to-date!\n",
            "[nltk_data] Downloading package wordnet to /root/nltk_data...\n"
          ]
        },
        {
          "output_type": "execute_result",
          "data": {
            "text/plain": [
              "True"
            ]
          },
          "metadata": {},
          "execution_count": 6
        }
      ],
      "source": [
        "#Pré processamento de texto\n",
        "\n",
        "\n",
        "import nltk\n",
        "from nltk import word_tokenize #tokenizador\n",
        "from nltk.stem import PorterStemmer\n",
        "from nltk.corpus import stopwords   #stopword\n",
        "\n",
        "nltk.download('stopwords')\n",
        "nltk.download('punkt')\n",
        "stop_words = stopwords.words('english')\n",
        "nltk.download('stopwords')\n",
        "nltk.download('wordnet')\n"
      ]
    },
    {
      "cell_type": "code",
      "execution_count": 7,
      "metadata": {
        "id": "BoEA4tjDglgn"
      },
      "outputs": [],
      "source": [
        "#import de funções do arquivo pre_processamento\n",
        "\n",
        "from pre_processamento import pre_processamento, text_preprocess, textcolumns_junct,stemming"
      ]
    },
    {
      "cell_type": "code",
      "execution_count": 8,
      "metadata": {
        "id": "JAsKT1rxglgo"
      },
      "outputs": [],
      "source": [
        "# Modelo a ser testado\n",
        "\n",
        "from keras.layers import Input, Dense\n",
        "from keras.models import Model"
      ]
    },
    {
      "cell_type": "code",
      "execution_count": 9,
      "metadata": {
        "id": "-R8qJsJXglgp"
      },
      "outputs": [],
      "source": [
        "#metricas\n",
        "\n",
        "from sklearn.metrics import mean_squared_error, mean_absolute_error, mean_squared_log_error"
      ]
    },
    {
      "cell_type": "code",
      "execution_count": 10,
      "metadata": {
        "id": "bhhIAyYNglgq",
        "outputId": "50ea57b4-3217-480a-dd91-b1568733e943",
        "colab": {
          "base_uri": "https://localhost:8080/"
        }
      },
      "outputs": [
        {
          "output_type": "stream",
          "name": "stdout",
          "text": [
            "Mounted at /content/drive\n"
          ]
        }
      ],
      "source": [
        "from google.colab import drive\n",
        "drive.mount('/content/drive', force_remount=True)\n",
        "\n",
        "train = pd.read_csv('/content/drive/MyDrive/train.tsv', sep = '\\t')\n",
        "test = pd.read_csv('/content/drive/MyDrive/test.tsv', sep = '\\t')"
      ]
    },
    {
      "cell_type": "code",
      "execution_count": 11,
      "metadata": {
        "id": "lb6XkvpRglgr"
      },
      "outputs": [],
      "source": [
        "train,test = pre_processamento(train,test)"
      ]
    },
    {
      "cell_type": "markdown",
      "metadata": {
        "id": "eklUwESMglgs"
      },
      "source": [
        "#   Análise estatística"
      ]
    },
    {
      "cell_type": "code",
      "execution_count": 12,
      "metadata": {
        "id": "X0CS0mkQglgt",
        "outputId": "73fc0b99-37d2-4049-881a-9f6f003de9e6",
        "colab": {
          "base_uri": "https://localhost:8080/",
          "height": 320
        }
      },
      "outputs": [
        {
          "output_type": "execute_result",
          "data": {
            "text/plain": [
              "                                  name  item_condition_id  \\\n",
              "0  MLB Cincinnati Reds T Shirt Size XL                  3   \n",
              "1     Razer BlackWidow Chroma Keyboard                  3   \n",
              "2                       AVA-VIV Blouse                  1   \n",
              "3                Leather Horse Statues                  1   \n",
              "4                 24K GOLD plated rose                  1   \n",
              "\n",
              "                                       category_name brand_name  price  \\\n",
              "0                                  Men/Tops/T-shirts        NaN   10.0   \n",
              "1  Electronics/Computers & Tablets/Components & P...      Razer   52.0   \n",
              "2                        Women/Tops & Blouses/Blouse     Target   10.0   \n",
              "3                 Home/Home Décor/Home Décor Accents        NaN   35.0   \n",
              "4                            Women/Jewelry/Necklaces        NaN   44.0   \n",
              "\n",
              "   shipping                                   item_description  stock  \\\n",
              "0         1                                 No description yet     27   \n",
              "1         0  This keyboard is in great condition and works ...     15   \n",
              "2         1  Adorable top with a hint of lace and a key hol...     14   \n",
              "3         1  New with tags. Leather horses. Retail for [rm]...      1   \n",
              "4         0          Complete with certificate of authenticity     13   \n",
              "\n",
              "       gen_cat             sub1_cat            sub2_cat  datetime_month  \\\n",
              "0          Men                 Tops            T-shirts             6.0   \n",
              "1  Electronics  Computers & Tablets  Components & Parts             3.0   \n",
              "2        Women       Tops & Blouses              Blouse            10.0   \n",
              "3         Home           Home Décor  Home Décor Accents             3.0   \n",
              "4        Women              Jewelry           Necklaces             5.0   \n",
              "\n",
              "   datetime_year  \n",
              "0         2018.0  \n",
              "1         2018.0  \n",
              "2         2018.0  \n",
              "3         2018.0  \n",
              "4         2018.0  "
            ],
            "text/html": [
              "\n",
              "  <div id=\"df-88aa63b7-6dda-4104-af26-9a349c029883\">\n",
              "    <div class=\"colab-df-container\">\n",
              "      <div>\n",
              "<style scoped>\n",
              "    .dataframe tbody tr th:only-of-type {\n",
              "        vertical-align: middle;\n",
              "    }\n",
              "\n",
              "    .dataframe tbody tr th {\n",
              "        vertical-align: top;\n",
              "    }\n",
              "\n",
              "    .dataframe thead th {\n",
              "        text-align: right;\n",
              "    }\n",
              "</style>\n",
              "<table border=\"1\" class=\"dataframe\">\n",
              "  <thead>\n",
              "    <tr style=\"text-align: right;\">\n",
              "      <th></th>\n",
              "      <th>name</th>\n",
              "      <th>item_condition_id</th>\n",
              "      <th>category_name</th>\n",
              "      <th>brand_name</th>\n",
              "      <th>price</th>\n",
              "      <th>shipping</th>\n",
              "      <th>item_description</th>\n",
              "      <th>stock</th>\n",
              "      <th>gen_cat</th>\n",
              "      <th>sub1_cat</th>\n",
              "      <th>sub2_cat</th>\n",
              "      <th>datetime_month</th>\n",
              "      <th>datetime_year</th>\n",
              "    </tr>\n",
              "  </thead>\n",
              "  <tbody>\n",
              "    <tr>\n",
              "      <th>0</th>\n",
              "      <td>MLB Cincinnati Reds T Shirt Size XL</td>\n",
              "      <td>3</td>\n",
              "      <td>Men/Tops/T-shirts</td>\n",
              "      <td>NaN</td>\n",
              "      <td>10.0</td>\n",
              "      <td>1</td>\n",
              "      <td>No description yet</td>\n",
              "      <td>27</td>\n",
              "      <td>Men</td>\n",
              "      <td>Tops</td>\n",
              "      <td>T-shirts</td>\n",
              "      <td>6.0</td>\n",
              "      <td>2018.0</td>\n",
              "    </tr>\n",
              "    <tr>\n",
              "      <th>1</th>\n",
              "      <td>Razer BlackWidow Chroma Keyboard</td>\n",
              "      <td>3</td>\n",
              "      <td>Electronics/Computers &amp; Tablets/Components &amp; P...</td>\n",
              "      <td>Razer</td>\n",
              "      <td>52.0</td>\n",
              "      <td>0</td>\n",
              "      <td>This keyboard is in great condition and works ...</td>\n",
              "      <td>15</td>\n",
              "      <td>Electronics</td>\n",
              "      <td>Computers &amp; Tablets</td>\n",
              "      <td>Components &amp; Parts</td>\n",
              "      <td>3.0</td>\n",
              "      <td>2018.0</td>\n",
              "    </tr>\n",
              "    <tr>\n",
              "      <th>2</th>\n",
              "      <td>AVA-VIV Blouse</td>\n",
              "      <td>1</td>\n",
              "      <td>Women/Tops &amp; Blouses/Blouse</td>\n",
              "      <td>Target</td>\n",
              "      <td>10.0</td>\n",
              "      <td>1</td>\n",
              "      <td>Adorable top with a hint of lace and a key hol...</td>\n",
              "      <td>14</td>\n",
              "      <td>Women</td>\n",
              "      <td>Tops &amp; Blouses</td>\n",
              "      <td>Blouse</td>\n",
              "      <td>10.0</td>\n",
              "      <td>2018.0</td>\n",
              "    </tr>\n",
              "    <tr>\n",
              "      <th>3</th>\n",
              "      <td>Leather Horse Statues</td>\n",
              "      <td>1</td>\n",
              "      <td>Home/Home Décor/Home Décor Accents</td>\n",
              "      <td>NaN</td>\n",
              "      <td>35.0</td>\n",
              "      <td>1</td>\n",
              "      <td>New with tags. Leather horses. Retail for [rm]...</td>\n",
              "      <td>1</td>\n",
              "      <td>Home</td>\n",
              "      <td>Home Décor</td>\n",
              "      <td>Home Décor Accents</td>\n",
              "      <td>3.0</td>\n",
              "      <td>2018.0</td>\n",
              "    </tr>\n",
              "    <tr>\n",
              "      <th>4</th>\n",
              "      <td>24K GOLD plated rose</td>\n",
              "      <td>1</td>\n",
              "      <td>Women/Jewelry/Necklaces</td>\n",
              "      <td>NaN</td>\n",
              "      <td>44.0</td>\n",
              "      <td>0</td>\n",
              "      <td>Complete with certificate of authenticity</td>\n",
              "      <td>13</td>\n",
              "      <td>Women</td>\n",
              "      <td>Jewelry</td>\n",
              "      <td>Necklaces</td>\n",
              "      <td>5.0</td>\n",
              "      <td>2018.0</td>\n",
              "    </tr>\n",
              "  </tbody>\n",
              "</table>\n",
              "</div>\n",
              "      <button class=\"colab-df-convert\" onclick=\"convertToInteractive('df-88aa63b7-6dda-4104-af26-9a349c029883')\"\n",
              "              title=\"Convert this dataframe to an interactive table.\"\n",
              "              style=\"display:none;\">\n",
              "        \n",
              "  <svg xmlns=\"http://www.w3.org/2000/svg\" height=\"24px\"viewBox=\"0 0 24 24\"\n",
              "       width=\"24px\">\n",
              "    <path d=\"M0 0h24v24H0V0z\" fill=\"none\"/>\n",
              "    <path d=\"M18.56 5.44l.94 2.06.94-2.06 2.06-.94-2.06-.94-.94-2.06-.94 2.06-2.06.94zm-11 1L8.5 8.5l.94-2.06 2.06-.94-2.06-.94L8.5 2.5l-.94 2.06-2.06.94zm10 10l.94 2.06.94-2.06 2.06-.94-2.06-.94-.94-2.06-.94 2.06-2.06.94z\"/><path d=\"M17.41 7.96l-1.37-1.37c-.4-.4-.92-.59-1.43-.59-.52 0-1.04.2-1.43.59L10.3 9.45l-7.72 7.72c-.78.78-.78 2.05 0 2.83L4 21.41c.39.39.9.59 1.41.59.51 0 1.02-.2 1.41-.59l7.78-7.78 2.81-2.81c.8-.78.8-2.07 0-2.86zM5.41 20L4 18.59l7.72-7.72 1.47 1.35L5.41 20z\"/>\n",
              "  </svg>\n",
              "      </button>\n",
              "      \n",
              "  <style>\n",
              "    .colab-df-container {\n",
              "      display:flex;\n",
              "      flex-wrap:wrap;\n",
              "      gap: 12px;\n",
              "    }\n",
              "\n",
              "    .colab-df-convert {\n",
              "      background-color: #E8F0FE;\n",
              "      border: none;\n",
              "      border-radius: 50%;\n",
              "      cursor: pointer;\n",
              "      display: none;\n",
              "      fill: #1967D2;\n",
              "      height: 32px;\n",
              "      padding: 0 0 0 0;\n",
              "      width: 32px;\n",
              "    }\n",
              "\n",
              "    .colab-df-convert:hover {\n",
              "      background-color: #E2EBFA;\n",
              "      box-shadow: 0px 1px 2px rgba(60, 64, 67, 0.3), 0px 1px 3px 1px rgba(60, 64, 67, 0.15);\n",
              "      fill: #174EA6;\n",
              "    }\n",
              "\n",
              "    [theme=dark] .colab-df-convert {\n",
              "      background-color: #3B4455;\n",
              "      fill: #D2E3FC;\n",
              "    }\n",
              "\n",
              "    [theme=dark] .colab-df-convert:hover {\n",
              "      background-color: #434B5C;\n",
              "      box-shadow: 0px 1px 3px 1px rgba(0, 0, 0, 0.15);\n",
              "      filter: drop-shadow(0px 1px 2px rgba(0, 0, 0, 0.3));\n",
              "      fill: #FFFFFF;\n",
              "    }\n",
              "  </style>\n",
              "\n",
              "      <script>\n",
              "        const buttonEl =\n",
              "          document.querySelector('#df-88aa63b7-6dda-4104-af26-9a349c029883 button.colab-df-convert');\n",
              "        buttonEl.style.display =\n",
              "          google.colab.kernel.accessAllowed ? 'block' : 'none';\n",
              "\n",
              "        async function convertToInteractive(key) {\n",
              "          const element = document.querySelector('#df-88aa63b7-6dda-4104-af26-9a349c029883');\n",
              "          const dataTable =\n",
              "            await google.colab.kernel.invokeFunction('convertToInteractive',\n",
              "                                                     [key], {});\n",
              "          if (!dataTable) return;\n",
              "\n",
              "          const docLinkHtml = 'Like what you see? Visit the ' +\n",
              "            '<a target=\"_blank\" href=https://colab.research.google.com/notebooks/data_table.ipynb>data table notebook</a>'\n",
              "            + ' to learn more about interactive tables.';\n",
              "          element.innerHTML = '';\n",
              "          dataTable['output_type'] = 'display_data';\n",
              "          await google.colab.output.renderOutput(dataTable, element);\n",
              "          const docLink = document.createElement('div');\n",
              "          docLink.innerHTML = docLinkHtml;\n",
              "          element.appendChild(docLink);\n",
              "        }\n",
              "      </script>\n",
              "    </div>\n",
              "  </div>\n",
              "  "
            ]
          },
          "metadata": {},
          "execution_count": 12
        }
      ],
      "source": [
        "train.head()"
      ]
    },
    {
      "cell_type": "code",
      "execution_count": 13,
      "metadata": {
        "id": "ikjaL45Nglgt",
        "outputId": "4f311ca5-5dd6-4f17-fd86-756542d7de84",
        "colab": {
          "base_uri": "https://localhost:8080/",
          "height": 320
        }
      },
      "outputs": [
        {
          "output_type": "execute_result",
          "data": {
            "text/plain": [
              "                                  name  item_condition_id  \\\n",
              "0  MLB Cincinnati Reds T Shirt Size XL                  3   \n",
              "1     Razer BlackWidow Chroma Keyboard                  3   \n",
              "2                       AVA-VIV Blouse                  1   \n",
              "3                Leather Horse Statues                  1   \n",
              "4                 24K GOLD plated rose                  1   \n",
              "\n",
              "                                       category_name brand_name  price  \\\n",
              "0                                  Men/Tops/T-shirts        NaN   10.0   \n",
              "1  Electronics/Computers & Tablets/Components & P...      Razer   52.0   \n",
              "2                        Women/Tops & Blouses/Blouse     Target   10.0   \n",
              "3                 Home/Home Décor/Home Décor Accents        NaN   35.0   \n",
              "4                            Women/Jewelry/Necklaces        NaN   44.0   \n",
              "\n",
              "   shipping                                   item_description  stock  \\\n",
              "0         1                                 No description yet     27   \n",
              "1         0  This keyboard is in great condition and works ...     15   \n",
              "2         1  Adorable top with a hint of lace and a key hol...     14   \n",
              "3         1  New with tags. Leather horses. Retail for [rm]...      1   \n",
              "4         0          Complete with certificate of authenticity     13   \n",
              "\n",
              "       gen_cat             sub1_cat            sub2_cat  datetime_month  \\\n",
              "0          Men                 Tops            T-shirts             6.0   \n",
              "1  Electronics  Computers & Tablets  Components & Parts             3.0   \n",
              "2        Women       Tops & Blouses              Blouse            10.0   \n",
              "3         Home           Home Décor  Home Décor Accents             3.0   \n",
              "4        Women              Jewelry           Necklaces             5.0   \n",
              "\n",
              "   datetime_year  \n",
              "0         2018.0  \n",
              "1         2018.0  \n",
              "2         2018.0  \n",
              "3         2018.0  \n",
              "4         2018.0  "
            ],
            "text/html": [
              "\n",
              "  <div id=\"df-9a38cae8-7ad3-4bfa-87a9-45339da9071c\">\n",
              "    <div class=\"colab-df-container\">\n",
              "      <div>\n",
              "<style scoped>\n",
              "    .dataframe tbody tr th:only-of-type {\n",
              "        vertical-align: middle;\n",
              "    }\n",
              "\n",
              "    .dataframe tbody tr th {\n",
              "        vertical-align: top;\n",
              "    }\n",
              "\n",
              "    .dataframe thead th {\n",
              "        text-align: right;\n",
              "    }\n",
              "</style>\n",
              "<table border=\"1\" class=\"dataframe\">\n",
              "  <thead>\n",
              "    <tr style=\"text-align: right;\">\n",
              "      <th></th>\n",
              "      <th>name</th>\n",
              "      <th>item_condition_id</th>\n",
              "      <th>category_name</th>\n",
              "      <th>brand_name</th>\n",
              "      <th>price</th>\n",
              "      <th>shipping</th>\n",
              "      <th>item_description</th>\n",
              "      <th>stock</th>\n",
              "      <th>gen_cat</th>\n",
              "      <th>sub1_cat</th>\n",
              "      <th>sub2_cat</th>\n",
              "      <th>datetime_month</th>\n",
              "      <th>datetime_year</th>\n",
              "    </tr>\n",
              "  </thead>\n",
              "  <tbody>\n",
              "    <tr>\n",
              "      <th>0</th>\n",
              "      <td>MLB Cincinnati Reds T Shirt Size XL</td>\n",
              "      <td>3</td>\n",
              "      <td>Men/Tops/T-shirts</td>\n",
              "      <td>NaN</td>\n",
              "      <td>10.0</td>\n",
              "      <td>1</td>\n",
              "      <td>No description yet</td>\n",
              "      <td>27</td>\n",
              "      <td>Men</td>\n",
              "      <td>Tops</td>\n",
              "      <td>T-shirts</td>\n",
              "      <td>6.0</td>\n",
              "      <td>2018.0</td>\n",
              "    </tr>\n",
              "    <tr>\n",
              "      <th>1</th>\n",
              "      <td>Razer BlackWidow Chroma Keyboard</td>\n",
              "      <td>3</td>\n",
              "      <td>Electronics/Computers &amp; Tablets/Components &amp; P...</td>\n",
              "      <td>Razer</td>\n",
              "      <td>52.0</td>\n",
              "      <td>0</td>\n",
              "      <td>This keyboard is in great condition and works ...</td>\n",
              "      <td>15</td>\n",
              "      <td>Electronics</td>\n",
              "      <td>Computers &amp; Tablets</td>\n",
              "      <td>Components &amp; Parts</td>\n",
              "      <td>3.0</td>\n",
              "      <td>2018.0</td>\n",
              "    </tr>\n",
              "    <tr>\n",
              "      <th>2</th>\n",
              "      <td>AVA-VIV Blouse</td>\n",
              "      <td>1</td>\n",
              "      <td>Women/Tops &amp; Blouses/Blouse</td>\n",
              "      <td>Target</td>\n",
              "      <td>10.0</td>\n",
              "      <td>1</td>\n",
              "      <td>Adorable top with a hint of lace and a key hol...</td>\n",
              "      <td>14</td>\n",
              "      <td>Women</td>\n",
              "      <td>Tops &amp; Blouses</td>\n",
              "      <td>Blouse</td>\n",
              "      <td>10.0</td>\n",
              "      <td>2018.0</td>\n",
              "    </tr>\n",
              "    <tr>\n",
              "      <th>3</th>\n",
              "      <td>Leather Horse Statues</td>\n",
              "      <td>1</td>\n",
              "      <td>Home/Home Décor/Home Décor Accents</td>\n",
              "      <td>NaN</td>\n",
              "      <td>35.0</td>\n",
              "      <td>1</td>\n",
              "      <td>New with tags. Leather horses. Retail for [rm]...</td>\n",
              "      <td>1</td>\n",
              "      <td>Home</td>\n",
              "      <td>Home Décor</td>\n",
              "      <td>Home Décor Accents</td>\n",
              "      <td>3.0</td>\n",
              "      <td>2018.0</td>\n",
              "    </tr>\n",
              "    <tr>\n",
              "      <th>4</th>\n",
              "      <td>24K GOLD plated rose</td>\n",
              "      <td>1</td>\n",
              "      <td>Women/Jewelry/Necklaces</td>\n",
              "      <td>NaN</td>\n",
              "      <td>44.0</td>\n",
              "      <td>0</td>\n",
              "      <td>Complete with certificate of authenticity</td>\n",
              "      <td>13</td>\n",
              "      <td>Women</td>\n",
              "      <td>Jewelry</td>\n",
              "      <td>Necklaces</td>\n",
              "      <td>5.0</td>\n",
              "      <td>2018.0</td>\n",
              "    </tr>\n",
              "  </tbody>\n",
              "</table>\n",
              "</div>\n",
              "      <button class=\"colab-df-convert\" onclick=\"convertToInteractive('df-9a38cae8-7ad3-4bfa-87a9-45339da9071c')\"\n",
              "              title=\"Convert this dataframe to an interactive table.\"\n",
              "              style=\"display:none;\">\n",
              "        \n",
              "  <svg xmlns=\"http://www.w3.org/2000/svg\" height=\"24px\"viewBox=\"0 0 24 24\"\n",
              "       width=\"24px\">\n",
              "    <path d=\"M0 0h24v24H0V0z\" fill=\"none\"/>\n",
              "    <path d=\"M18.56 5.44l.94 2.06.94-2.06 2.06-.94-2.06-.94-.94-2.06-.94 2.06-2.06.94zm-11 1L8.5 8.5l.94-2.06 2.06-.94-2.06-.94L8.5 2.5l-.94 2.06-2.06.94zm10 10l.94 2.06.94-2.06 2.06-.94-2.06-.94-.94-2.06-.94 2.06-2.06.94z\"/><path d=\"M17.41 7.96l-1.37-1.37c-.4-.4-.92-.59-1.43-.59-.52 0-1.04.2-1.43.59L10.3 9.45l-7.72 7.72c-.78.78-.78 2.05 0 2.83L4 21.41c.39.39.9.59 1.41.59.51 0 1.02-.2 1.41-.59l7.78-7.78 2.81-2.81c.8-.78.8-2.07 0-2.86zM5.41 20L4 18.59l7.72-7.72 1.47 1.35L5.41 20z\"/>\n",
              "  </svg>\n",
              "      </button>\n",
              "      \n",
              "  <style>\n",
              "    .colab-df-container {\n",
              "      display:flex;\n",
              "      flex-wrap:wrap;\n",
              "      gap: 12px;\n",
              "    }\n",
              "\n",
              "    .colab-df-convert {\n",
              "      background-color: #E8F0FE;\n",
              "      border: none;\n",
              "      border-radius: 50%;\n",
              "      cursor: pointer;\n",
              "      display: none;\n",
              "      fill: #1967D2;\n",
              "      height: 32px;\n",
              "      padding: 0 0 0 0;\n",
              "      width: 32px;\n",
              "    }\n",
              "\n",
              "    .colab-df-convert:hover {\n",
              "      background-color: #E2EBFA;\n",
              "      box-shadow: 0px 1px 2px rgba(60, 64, 67, 0.3), 0px 1px 3px 1px rgba(60, 64, 67, 0.15);\n",
              "      fill: #174EA6;\n",
              "    }\n",
              "\n",
              "    [theme=dark] .colab-df-convert {\n",
              "      background-color: #3B4455;\n",
              "      fill: #D2E3FC;\n",
              "    }\n",
              "\n",
              "    [theme=dark] .colab-df-convert:hover {\n",
              "      background-color: #434B5C;\n",
              "      box-shadow: 0px 1px 3px 1px rgba(0, 0, 0, 0.15);\n",
              "      filter: drop-shadow(0px 1px 2px rgba(0, 0, 0, 0.3));\n",
              "      fill: #FFFFFF;\n",
              "    }\n",
              "  </style>\n",
              "\n",
              "      <script>\n",
              "        const buttonEl =\n",
              "          document.querySelector('#df-9a38cae8-7ad3-4bfa-87a9-45339da9071c button.colab-df-convert');\n",
              "        buttonEl.style.display =\n",
              "          google.colab.kernel.accessAllowed ? 'block' : 'none';\n",
              "\n",
              "        async function convertToInteractive(key) {\n",
              "          const element = document.querySelector('#df-9a38cae8-7ad3-4bfa-87a9-45339da9071c');\n",
              "          const dataTable =\n",
              "            await google.colab.kernel.invokeFunction('convertToInteractive',\n",
              "                                                     [key], {});\n",
              "          if (!dataTable) return;\n",
              "\n",
              "          const docLinkHtml = 'Like what you see? Visit the ' +\n",
              "            '<a target=\"_blank\" href=https://colab.research.google.com/notebooks/data_table.ipynb>data table notebook</a>'\n",
              "            + ' to learn more about interactive tables.';\n",
              "          element.innerHTML = '';\n",
              "          dataTable['output_type'] = 'display_data';\n",
              "          await google.colab.output.renderOutput(dataTable, element);\n",
              "          const docLink = document.createElement('div');\n",
              "          docLink.innerHTML = docLinkHtml;\n",
              "          element.appendChild(docLink);\n",
              "        }\n",
              "      </script>\n",
              "    </div>\n",
              "  </div>\n",
              "  "
            ]
          },
          "metadata": {},
          "execution_count": 13
        }
      ],
      "source": [
        "train.head()"
      ]
    },
    {
      "cell_type": "code",
      "execution_count": 14,
      "metadata": {
        "id": "ePTcr9Iqglgu",
        "outputId": "ebbda544-9402-45a0-85cc-af69909d50a5",
        "colab": {
          "base_uri": "https://localhost:8080/",
          "height": 300
        }
      },
      "outputs": [
        {
          "output_type": "execute_result",
          "data": {
            "text/plain": [
              "       item_condition_id         price      shipping         stock  \\\n",
              "count       1.481661e+06  1.481661e+06  1.481661e+06  1.481661e+06   \n",
              "mean        1.907322e+00  2.675329e+01  4.473257e-01  1.178550e+01   \n",
              "std         9.031759e-01  3.859198e+01  4.972178e-01  1.056099e+01   \n",
              "min         1.000000e+00  3.000000e+00  0.000000e+00  1.000000e+00   \n",
              "25%         1.000000e+00  1.000000e+01  0.000000e+00  4.000000e+00   \n",
              "50%         2.000000e+00  1.700000e+01  0.000000e+00  9.000000e+00   \n",
              "75%         3.000000e+00  2.900000e+01  1.000000e+00  1.700000e+01   \n",
              "max         5.000000e+00  2.009000e+03  1.000000e+00  9.500000e+01   \n",
              "\n",
              "       datetime_month  datetime_year  \n",
              "count    1.474770e+06      1474770.0  \n",
              "mean     6.517894e+00         2018.0  \n",
              "std      3.194489e+00            0.0  \n",
              "min      1.000000e+00         2018.0  \n",
              "25%      4.000000e+00         2018.0  \n",
              "50%      7.000000e+00         2018.0  \n",
              "75%      9.000000e+00         2018.0  \n",
              "max      1.200000e+01         2018.0  "
            ],
            "text/html": [
              "\n",
              "  <div id=\"df-5e1f9b47-d460-433a-b829-ca8610d36b28\">\n",
              "    <div class=\"colab-df-container\">\n",
              "      <div>\n",
              "<style scoped>\n",
              "    .dataframe tbody tr th:only-of-type {\n",
              "        vertical-align: middle;\n",
              "    }\n",
              "\n",
              "    .dataframe tbody tr th {\n",
              "        vertical-align: top;\n",
              "    }\n",
              "\n",
              "    .dataframe thead th {\n",
              "        text-align: right;\n",
              "    }\n",
              "</style>\n",
              "<table border=\"1\" class=\"dataframe\">\n",
              "  <thead>\n",
              "    <tr style=\"text-align: right;\">\n",
              "      <th></th>\n",
              "      <th>item_condition_id</th>\n",
              "      <th>price</th>\n",
              "      <th>shipping</th>\n",
              "      <th>stock</th>\n",
              "      <th>datetime_month</th>\n",
              "      <th>datetime_year</th>\n",
              "    </tr>\n",
              "  </thead>\n",
              "  <tbody>\n",
              "    <tr>\n",
              "      <th>count</th>\n",
              "      <td>1.481661e+06</td>\n",
              "      <td>1.481661e+06</td>\n",
              "      <td>1.481661e+06</td>\n",
              "      <td>1.481661e+06</td>\n",
              "      <td>1.474770e+06</td>\n",
              "      <td>1474770.0</td>\n",
              "    </tr>\n",
              "    <tr>\n",
              "      <th>mean</th>\n",
              "      <td>1.907322e+00</td>\n",
              "      <td>2.675329e+01</td>\n",
              "      <td>4.473257e-01</td>\n",
              "      <td>1.178550e+01</td>\n",
              "      <td>6.517894e+00</td>\n",
              "      <td>2018.0</td>\n",
              "    </tr>\n",
              "    <tr>\n",
              "      <th>std</th>\n",
              "      <td>9.031759e-01</td>\n",
              "      <td>3.859198e+01</td>\n",
              "      <td>4.972178e-01</td>\n",
              "      <td>1.056099e+01</td>\n",
              "      <td>3.194489e+00</td>\n",
              "      <td>0.0</td>\n",
              "    </tr>\n",
              "    <tr>\n",
              "      <th>min</th>\n",
              "      <td>1.000000e+00</td>\n",
              "      <td>3.000000e+00</td>\n",
              "      <td>0.000000e+00</td>\n",
              "      <td>1.000000e+00</td>\n",
              "      <td>1.000000e+00</td>\n",
              "      <td>2018.0</td>\n",
              "    </tr>\n",
              "    <tr>\n",
              "      <th>25%</th>\n",
              "      <td>1.000000e+00</td>\n",
              "      <td>1.000000e+01</td>\n",
              "      <td>0.000000e+00</td>\n",
              "      <td>4.000000e+00</td>\n",
              "      <td>4.000000e+00</td>\n",
              "      <td>2018.0</td>\n",
              "    </tr>\n",
              "    <tr>\n",
              "      <th>50%</th>\n",
              "      <td>2.000000e+00</td>\n",
              "      <td>1.700000e+01</td>\n",
              "      <td>0.000000e+00</td>\n",
              "      <td>9.000000e+00</td>\n",
              "      <td>7.000000e+00</td>\n",
              "      <td>2018.0</td>\n",
              "    </tr>\n",
              "    <tr>\n",
              "      <th>75%</th>\n",
              "      <td>3.000000e+00</td>\n",
              "      <td>2.900000e+01</td>\n",
              "      <td>1.000000e+00</td>\n",
              "      <td>1.700000e+01</td>\n",
              "      <td>9.000000e+00</td>\n",
              "      <td>2018.0</td>\n",
              "    </tr>\n",
              "    <tr>\n",
              "      <th>max</th>\n",
              "      <td>5.000000e+00</td>\n",
              "      <td>2.009000e+03</td>\n",
              "      <td>1.000000e+00</td>\n",
              "      <td>9.500000e+01</td>\n",
              "      <td>1.200000e+01</td>\n",
              "      <td>2018.0</td>\n",
              "    </tr>\n",
              "  </tbody>\n",
              "</table>\n",
              "</div>\n",
              "      <button class=\"colab-df-convert\" onclick=\"convertToInteractive('df-5e1f9b47-d460-433a-b829-ca8610d36b28')\"\n",
              "              title=\"Convert this dataframe to an interactive table.\"\n",
              "              style=\"display:none;\">\n",
              "        \n",
              "  <svg xmlns=\"http://www.w3.org/2000/svg\" height=\"24px\"viewBox=\"0 0 24 24\"\n",
              "       width=\"24px\">\n",
              "    <path d=\"M0 0h24v24H0V0z\" fill=\"none\"/>\n",
              "    <path d=\"M18.56 5.44l.94 2.06.94-2.06 2.06-.94-2.06-.94-.94-2.06-.94 2.06-2.06.94zm-11 1L8.5 8.5l.94-2.06 2.06-.94-2.06-.94L8.5 2.5l-.94 2.06-2.06.94zm10 10l.94 2.06.94-2.06 2.06-.94-2.06-.94-.94-2.06-.94 2.06-2.06.94z\"/><path d=\"M17.41 7.96l-1.37-1.37c-.4-.4-.92-.59-1.43-.59-.52 0-1.04.2-1.43.59L10.3 9.45l-7.72 7.72c-.78.78-.78 2.05 0 2.83L4 21.41c.39.39.9.59 1.41.59.51 0 1.02-.2 1.41-.59l7.78-7.78 2.81-2.81c.8-.78.8-2.07 0-2.86zM5.41 20L4 18.59l7.72-7.72 1.47 1.35L5.41 20z\"/>\n",
              "  </svg>\n",
              "      </button>\n",
              "      \n",
              "  <style>\n",
              "    .colab-df-container {\n",
              "      display:flex;\n",
              "      flex-wrap:wrap;\n",
              "      gap: 12px;\n",
              "    }\n",
              "\n",
              "    .colab-df-convert {\n",
              "      background-color: #E8F0FE;\n",
              "      border: none;\n",
              "      border-radius: 50%;\n",
              "      cursor: pointer;\n",
              "      display: none;\n",
              "      fill: #1967D2;\n",
              "      height: 32px;\n",
              "      padding: 0 0 0 0;\n",
              "      width: 32px;\n",
              "    }\n",
              "\n",
              "    .colab-df-convert:hover {\n",
              "      background-color: #E2EBFA;\n",
              "      box-shadow: 0px 1px 2px rgba(60, 64, 67, 0.3), 0px 1px 3px 1px rgba(60, 64, 67, 0.15);\n",
              "      fill: #174EA6;\n",
              "    }\n",
              "\n",
              "    [theme=dark] .colab-df-convert {\n",
              "      background-color: #3B4455;\n",
              "      fill: #D2E3FC;\n",
              "    }\n",
              "\n",
              "    [theme=dark] .colab-df-convert:hover {\n",
              "      background-color: #434B5C;\n",
              "      box-shadow: 0px 1px 3px 1px rgba(0, 0, 0, 0.15);\n",
              "      filter: drop-shadow(0px 1px 2px rgba(0, 0, 0, 0.3));\n",
              "      fill: #FFFFFF;\n",
              "    }\n",
              "  </style>\n",
              "\n",
              "      <script>\n",
              "        const buttonEl =\n",
              "          document.querySelector('#df-5e1f9b47-d460-433a-b829-ca8610d36b28 button.colab-df-convert');\n",
              "        buttonEl.style.display =\n",
              "          google.colab.kernel.accessAllowed ? 'block' : 'none';\n",
              "\n",
              "        async function convertToInteractive(key) {\n",
              "          const element = document.querySelector('#df-5e1f9b47-d460-433a-b829-ca8610d36b28');\n",
              "          const dataTable =\n",
              "            await google.colab.kernel.invokeFunction('convertToInteractive',\n",
              "                                                     [key], {});\n",
              "          if (!dataTable) return;\n",
              "\n",
              "          const docLinkHtml = 'Like what you see? Visit the ' +\n",
              "            '<a target=\"_blank\" href=https://colab.research.google.com/notebooks/data_table.ipynb>data table notebook</a>'\n",
              "            + ' to learn more about interactive tables.';\n",
              "          element.innerHTML = '';\n",
              "          dataTable['output_type'] = 'display_data';\n",
              "          await google.colab.output.renderOutput(dataTable, element);\n",
              "          const docLink = document.createElement('div');\n",
              "          docLink.innerHTML = docLinkHtml;\n",
              "          element.appendChild(docLink);\n",
              "        }\n",
              "      </script>\n",
              "    </div>\n",
              "  </div>\n",
              "  "
            ]
          },
          "metadata": {},
          "execution_count": 14
        }
      ],
      "source": [
        "train.describe()"
      ]
    },
    {
      "cell_type": "code",
      "execution_count": 15,
      "metadata": {
        "id": "WgYJePmqglgv",
        "outputId": "249db00d-4d88-47c5-e521-4c32137a9fe6",
        "colab": {
          "base_uri": "https://localhost:8080/"
        }
      },
      "outputs": [
        {
          "output_type": "execute_result",
          "data": {
            "text/plain": [
              "name                      0\n",
              "item_condition_id         0\n",
              "category_name          6314\n",
              "brand_name           632336\n",
              "price                     0\n",
              "shipping                  0\n",
              "item_description          4\n",
              "stock                     0\n",
              "gen_cat                   0\n",
              "sub1_cat                  0\n",
              "sub2_cat                  0\n",
              "datetime_month         6891\n",
              "datetime_year          6891\n",
              "dtype: int64"
            ]
          },
          "metadata": {},
          "execution_count": 15
        }
      ],
      "source": [
        "train.isnull().sum()  #necessário valair forma de tratar os valores nulos."
      ]
    },
    {
      "cell_type": "code",
      "execution_count": 16,
      "metadata": {
        "id": "xj_HmfIBglgv",
        "outputId": "0395cc75-10d7-4b16-d45c-6f1f7354288b",
        "colab": {
          "base_uri": "https://localhost:8080/"
        }
      },
      "outputs": [
        {
          "output_type": "execute_result",
          "data": {
            "text/plain": [
              "0"
            ]
          },
          "metadata": {},
          "execution_count": 16
        }
      ],
      "source": [
        "train.duplicated().sum()"
      ]
    },
    {
      "cell_type": "code",
      "source": [
        "# train = train.drop(train[~((train['price'] > 0) & (train['price'] < 250))].index)"
      ],
      "metadata": {
        "id": "HiLIp6uyq4ps"
      },
      "execution_count": 17,
      "outputs": []
    },
    {
      "cell_type": "code",
      "execution_count": 18,
      "metadata": {
        "id": "NsqzSaw8glgw",
        "outputId": "90a262d9-e6b8-4b80-f9da-e29608fcbab4",
        "colab": {
          "base_uri": "https://localhost:8080/",
          "height": 458
        }
      },
      "outputs": [
        {
          "output_type": "execute_result",
          "data": {
            "text/plain": [
              "array([[<matplotlib.axes._subplots.AxesSubplot object at 0x7f8dcab0b310>,\n",
              "        <matplotlib.axes._subplots.AxesSubplot object at 0x7f8deb36dc90>],\n",
              "       [<matplotlib.axes._subplots.AxesSubplot object at 0x7f8dd07e6910>,\n",
              "        <matplotlib.axes._subplots.AxesSubplot object at 0x7f8dce935b90>],\n",
              "       [<matplotlib.axes._subplots.AxesSubplot object at 0x7f8dce839a50>,\n",
              "        <matplotlib.axes._subplots.AxesSubplot object at 0x7f8dca53cdd0>]],\n",
              "      dtype=object)"
            ]
          },
          "metadata": {},
          "execution_count": 18
        },
        {
          "output_type": "display_data",
          "data": {
            "text/plain": [
              "<Figure size 720x360 with 6 Axes>"
            ],
            "image/png": "[encoded data removed]"
          },
          "metadata": {
            "needs_background": "light"
          }
        }
      ],
      "source": [
        "train.hist(figsize=(10,5))"
      ]
    },
    {
      "cell_type": "code",
      "execution_count": 19,
      "metadata": {
        "id": "c_9FfEXxglgw"
      },
      "outputs": [],
      "source": [
        "X = train.drop(\"price\", axis = 1)\n",
        "y = train[\"price\"]"
      ]
    },
    {
      "cell_type": "code",
      "execution_count": 20,
      "metadata": {
        "id": "xdrlS0Z4glgx",
        "outputId": "1530b9aa-9cdf-4669-94be-9a89e08d42d5",
        "colab": {
          "base_uri": "https://localhost:8080/"
        }
      },
      "outputs": [
        {
          "output_type": "execute_result",
          "data": {
            "text/plain": [
              "(1481661, 12)"
            ]
          },
          "metadata": {},
          "execution_count": 20
        }
      ],
      "source": [
        "X.shape"
      ]
    },
    {
      "cell_type": "markdown",
      "metadata": {
        "id": "529c-20aglgx"
      },
      "source": [
        "#   Pré-processamento "
      ]
    },
    {
      "cell_type": "code",
      "execution_count": 21,
      "metadata": {
        "id": "Oem1YyMEglgx"
      },
      "outputs": [],
      "source": [
        "X = textcolumns_junct(X)"
      ]
    },
    {
      "cell_type": "code",
      "execution_count": 22,
      "metadata": {
        "id": "gJ6r3gU_glgy"
      },
      "outputs": [],
      "source": [
        "#Convertendo tudo para string\n",
        "\n",
        "X[\"item_description\"] = X[\"item_description\"].astype(str)"
      ]
    },
    {
      "cell_type": "code",
      "execution_count": 23,
      "metadata": {
        "id": "Ztzk4fuSglgy"
      },
      "outputs": [],
      "source": [
        "X[\"item_description\"] = X[\"item_description\"].apply(lambda x: text_preprocess(x)) #Limpando texto com regex.\n"
      ]
    },
    {
      "cell_type": "code",
      "execution_count": 24,
      "metadata": {
        "id": "IY72eg3yglgz"
      },
      "outputs": [],
      "source": [
        "X[\"item_description\"] = X[\"item_description\"].apply(lambda x: word_tokenize(x)) #tokenizando"
      ]
    },
    {
      "cell_type": "code",
      "execution_count": 25,
      "metadata": {
        "id": "RVbojLvYglgz"
      },
      "outputs": [],
      "source": [
        "X[\"item_description\"] = X[\"item_description\"].apply(lambda x: stemming(x))"
      ]
    },
    {
      "cell_type": "code",
      "execution_count": 26,
      "metadata": {
        "id": "9rgVR3Q7glgz"
      },
      "outputs": [],
      "source": [
        "X[\"item_description\"]=[\" \".join(review) for review in X[\"item_description\"].values]"
      ]
    },
    {
      "cell_type": "code",
      "execution_count": 27,
      "metadata": {
        "id": "iHR1JyH1glg0",
        "colab": {
          "base_uri": "https://localhost:8080/",
          "height": 206
        },
        "outputId": "e6330664-4eff-4804-d569-4d5b0ea58bf5"
      },
      "outputs": [
        {
          "output_type": "execute_result",
          "data": {
            "text/plain": [
              "   item_condition_id                                      category_name  \\\n",
              "0                  3                                  Men/Tops/T-shirts   \n",
              "1                  3  Electronics/Computers & Tablets/Components & P...   \n",
              "2                  1                        Women/Tops & Blouses/Blouse   \n",
              "3                  1                 Home/Home Décor/Home Décor Accents   \n",
              "4                  1                            Women/Jewelry/Necklaces   \n",
              "\n",
              "   shipping                                   item_description  stock  \\\n",
              "0         1      mlb cincinnati red shirt size xl descript yet     27   \n",
              "1         0  razer blackwidow chroma keyboard razer keyboar...     15   \n",
              "2         1  ava viv blous target ador top hint lace key ho...     14   \n",
              "3         1  leather hors statu new tag . leather hors . re...      1   \n",
              "4         0         24k gold plate rose complet certif authent     13   \n",
              "\n",
              "       gen_cat             sub1_cat            sub2_cat  datetime_month  \\\n",
              "0          Men                 Tops            T-shirts             6.0   \n",
              "1  Electronics  Computers & Tablets  Components & Parts             3.0   \n",
              "2        Women       Tops & Blouses              Blouse            10.0   \n",
              "3         Home           Home Décor  Home Décor Accents             3.0   \n",
              "4        Women              Jewelry           Necklaces             5.0   \n",
              "\n",
              "   datetime_year  \n",
              "0         2018.0  \n",
              "1         2018.0  \n",
              "2         2018.0  \n",
              "3         2018.0  \n",
              "4         2018.0  "
            ],
            "text/html": [
              "\n",
              "  <div id=\"df-3d41a9f6-9775-46f6-aa7d-8e7ec1ac873e\">\n",
              "    <div class=\"colab-df-container\">\n",
              "      <div>\n",
              "<style scoped>\n",
              "    .dataframe tbody tr th:only-of-type {\n",
              "        vertical-align: middle;\n",
              "    }\n",
              "\n",
              "    .dataframe tbody tr th {\n",
              "        vertical-align: top;\n",
              "    }\n",
              "\n",
              "    .dataframe thead th {\n",
              "        text-align: right;\n",
              "    }\n",
              "</style>\n",
              "<table border=\"1\" class=\"dataframe\">\n",
              "  <thead>\n",
              "    <tr style=\"text-align: right;\">\n",
              "      <th></th>\n",
              "      <th>item_condition_id</th>\n",
              "      <th>category_name</th>\n",
              "      <th>shipping</th>\n",
              "      <th>item_description</th>\n",
              "      <th>stock</th>\n",
              "      <th>gen_cat</th>\n",
              "      <th>sub1_cat</th>\n",
              "      <th>sub2_cat</th>\n",
              "      <th>datetime_month</th>\n",
              "      <th>datetime_year</th>\n",
              "    </tr>\n",
              "  </thead>\n",
              "  <tbody>\n",
              "    <tr>\n",
              "      <th>0</th>\n",
              "      <td>3</td>\n",
              "      <td>Men/Tops/T-shirts</td>\n",
              "      <td>1</td>\n",
              "      <td>mlb cincinnati red shirt size xl descript yet</td>\n",
              "      <td>27</td>\n",
              "      <td>Men</td>\n",
              "      <td>Tops</td>\n",
              "      <td>T-shirts</td>\n",
              "      <td>6.0</td>\n",
              "      <td>2018.0</td>\n",
              "    </tr>\n",
              "    <tr>\n",
              "      <th>1</th>\n",
              "      <td>3</td>\n",
              "      <td>Electronics/Computers &amp; Tablets/Components &amp; P...</td>\n",
              "      <td>0</td>\n",
              "      <td>razer blackwidow chroma keyboard razer keyboar...</td>\n",
              "      <td>15</td>\n",
              "      <td>Electronics</td>\n",
              "      <td>Computers &amp; Tablets</td>\n",
              "      <td>Components &amp; Parts</td>\n",
              "      <td>3.0</td>\n",
              "      <td>2018.0</td>\n",
              "    </tr>\n",
              "    <tr>\n",
              "      <th>2</th>\n",
              "      <td>1</td>\n",
              "      <td>Women/Tops &amp; Blouses/Blouse</td>\n",
              "      <td>1</td>\n",
              "      <td>ava viv blous target ador top hint lace key ho...</td>\n",
              "      <td>14</td>\n",
              "      <td>Women</td>\n",
              "      <td>Tops &amp; Blouses</td>\n",
              "      <td>Blouse</td>\n",
              "      <td>10.0</td>\n",
              "      <td>2018.0</td>\n",
              "    </tr>\n",
              "    <tr>\n",
              "      <th>3</th>\n",
              "      <td>1</td>\n",
              "      <td>Home/Home Décor/Home Décor Accents</td>\n",
              "      <td>1</td>\n",
              "      <td>leather hors statu new tag . leather hors . re...</td>\n",
              "      <td>1</td>\n",
              "      <td>Home</td>\n",
              "      <td>Home Décor</td>\n",
              "      <td>Home Décor Accents</td>\n",
              "      <td>3.0</td>\n",
              "      <td>2018.0</td>\n",
              "    </tr>\n",
              "    <tr>\n",
              "      <th>4</th>\n",
              "      <td>1</td>\n",
              "      <td>Women/Jewelry/Necklaces</td>\n",
              "      <td>0</td>\n",
              "      <td>24k gold plate rose complet certif authent</td>\n",
              "      <td>13</td>\n",
              "      <td>Women</td>\n",
              "      <td>Jewelry</td>\n",
              "      <td>Necklaces</td>\n",
              "      <td>5.0</td>\n",
              "      <td>2018.0</td>\n",
              "    </tr>\n",
              "  </tbody>\n",
              "</table>\n",
              "</div>\n",
              "      <button class=\"colab-df-convert\" onclick=\"convertToInteractive('df-3d41a9f6-9775-46f6-aa7d-8e7ec1ac873e')\"\n",
              "              title=\"Convert this dataframe to an interactive table.\"\n",
              "              style=\"display:none;\">\n",
              "        \n",
              "  <svg xmlns=\"http://www.w3.org/2000/svg\" height=\"24px\"viewBox=\"0 0 24 24\"\n",
              "       width=\"24px\">\n",
              "    <path d=\"M0 0h24v24H0V0z\" fill=\"none\"/>\n",
              "    <path d=\"M18.56 5.44l.94 2.06.94-2.06 2.06-.94-2.06-.94-.94-2.06-.94 2.06-2.06.94zm-11 1L8.5 8.5l.94-2.06 2.06-.94-2.06-.94L8.5 2.5l-.94 2.06-2.06.94zm10 10l.94 2.06.94-2.06 2.06-.94-2.06-.94-.94-2.06-.94 2.06-2.06.94z\"/><path d=\"M17.41 7.96l-1.37-1.37c-.4-.4-.92-.59-1.43-.59-.52 0-1.04.2-1.43.59L10.3 9.45l-7.72 7.72c-.78.78-.78 2.05 0 2.83L4 21.41c.39.39.9.59 1.41.59.51 0 1.02-.2 1.41-.59l7.78-7.78 2.81-2.81c.8-.78.8-2.07 0-2.86zM5.41 20L4 18.59l7.72-7.72 1.47 1.35L5.41 20z\"/>\n",
              "  </svg>\n",
              "      </button>\n",
              "      \n",
              "  <style>\n",
              "    .colab-df-container {\n",
              "      display:flex;\n",
              "      flex-wrap:wrap;\n",
              "      gap: 12px;\n",
              "    }\n",
              "\n",
              "    .colab-df-convert {\n",
              "      background-color: #E8F0FE;\n",
              "      border: none;\n",
              "      border-radius: 50%;\n",
              "      cursor: pointer;\n",
              "      display: none;\n",
              "      fill: #1967D2;\n",
              "      height: 32px;\n",
              "      padding: 0 0 0 0;\n",
              "      width: 32px;\n",
              "    }\n",
              "\n",
              "    .colab-df-convert:hover {\n",
              "      background-color: #E2EBFA;\n",
              "      box-shadow: 0px 1px 2px rgba(60, 64, 67, 0.3), 0px 1px 3px 1px rgba(60, 64, 67, 0.15);\n",
              "      fill: #174EA6;\n",
              "    }\n",
              "\n",
              "    [theme=dark] .colab-df-convert {\n",
              "      background-color: #3B4455;\n",
              "      fill: #D2E3FC;\n",
              "    }\n",
              "\n",
              "    [theme=dark] .colab-df-convert:hover {\n",
              "      background-color: #434B5C;\n",
              "      box-shadow: 0px 1px 3px 1px rgba(0, 0, 0, 0.15);\n",
              "      filter: drop-shadow(0px 1px 2px rgba(0, 0, 0, 0.3));\n",
              "      fill: #FFFFFF;\n",
              "    }\n",
              "  </style>\n",
              "\n",
              "      <script>\n",
              "        const buttonEl =\n",
              "          document.querySelector('#df-3d41a9f6-9775-46f6-aa7d-8e7ec1ac873e button.colab-df-convert');\n",
              "        buttonEl.style.display =\n",
              "          google.colab.kernel.accessAllowed ? 'block' : 'none';\n",
              "\n",
              "        async function convertToInteractive(key) {\n",
              "          const element = document.querySelector('#df-3d41a9f6-9775-46f6-aa7d-8e7ec1ac873e');\n",
              "          const dataTable =\n",
              "            await google.colab.kernel.invokeFunction('convertToInteractive',\n",
              "                                                     [key], {});\n",
              "          if (!dataTable) return;\n",
              "\n",
              "          const docLinkHtml = 'Like what you see? Visit the ' +\n",
              "            '<a target=\"_blank\" href=https://colab.research.google.com/notebooks/data_table.ipynb>data table notebook</a>'\n",
              "            + ' to learn more about interactive tables.';\n",
              "          element.innerHTML = '';\n",
              "          dataTable['output_type'] = 'display_data';\n",
              "          await google.colab.output.renderOutput(dataTable, element);\n",
              "          const docLink = document.createElement('div');\n",
              "          docLink.innerHTML = docLinkHtml;\n",
              "          element.appendChild(docLink);\n",
              "        }\n",
              "      </script>\n",
              "    </div>\n",
              "  </div>\n",
              "  "
            ]
          },
          "metadata": {},
          "execution_count": 27
        }
      ],
      "source": [
        "X.head()"
      ]
    },
    {
      "cell_type": "code",
      "execution_count": 28,
      "metadata": {
        "id": "B-ITpkzQglg0",
        "colab": {
          "base_uri": "https://localhost:8080/"
        },
        "outputId": "b834e1da-5ede-4821-af2a-02912cfc7ad3"
      },
      "outputs": [
        {
          "output_type": "execute_result",
          "data": {
            "text/plain": [
              "0              mlb cincinnati red shirt size xl descript yet\n",
              "1          razer blackwidow chroma keyboard razer keyboar...\n",
              "2          ava viv blous target ador top hint lace key ho...\n",
              "3          leather hors statu new tag . leather hors . re...\n",
              "4                 24k gold plate rose complet certif authent\n",
              "                                 ...                        \n",
              "1482530    free peopl inspir dress free peopl lace say si...\n",
              "1482531    littl mermaid handmad dress disney littl merma...\n",
              "1482532    21 day fix contain eat plan use twice still gr...\n",
              "1482533    world market lantern 2 one see 2 red 2 orang 2...\n",
              "1482534    brand new lux de vill wallet new tag red spark...\n",
              "Name: item_description, Length: 1481661, dtype: object"
            ]
          },
          "metadata": {},
          "execution_count": 28
        }
      ],
      "source": [
        "X[\"item_description\"]"
      ]
    },
    {
      "cell_type": "markdown",
      "metadata": {
        "id": "NFN5zi_dglg0"
      },
      "source": [
        "#   Split"
      ]
    },
    {
      "cell_type": "code",
      "execution_count": 29,
      "metadata": {
        "id": "ya46xcPpglg1"
      },
      "outputs": [],
      "source": [
        "#Separação em treino e teste para começarmos as transformaçõs, protegendo nossos dados de validação de possíveis vazamentos. \n",
        "\n",
        "Xtrain, Xval, ytrain, yval = train_test_split(X, y, test_size=0.2, random_state=10) #Divisão em 80/20"
      ]
    },
    {
      "cell_type": "code",
      "execution_count": 30,
      "metadata": {
        "id": "TJJrGvsvglg1",
        "colab": {
          "base_uri": "https://localhost:8080/",
          "height": 293
        },
        "outputId": "ebfaf57c-a721-4278-a04f-4e3f66e5b0a6"
      },
      "outputs": [
        {
          "output_type": "execute_result",
          "data": {
            "text/plain": [
              "<matplotlib.axes._subplots.AxesSubplot at 0x7f8c6218da10>"
            ]
          },
          "metadata": {},
          "execution_count": 30
        },
        {
          "output_type": "display_data",
          "data": {
            "text/plain": [
              "<Figure size 432x288 with 1 Axes>"
            ],
            "image/png": "[encoded data removed]"
          },
          "metadata": {
            "needs_background": "light"
          }
        }
      ],
      "source": [
        "#Normalizando, com log, o target (price), foi realizado de forma separada para nao terem dados vazados.\n",
        "\n",
        "ytrain_log =  np.log1p(ytrain)\n",
        "yval_log =  np.log1p(yval)\n",
        "ytrain.hist()"
      ]
    },
    {
      "cell_type": "markdown",
      "metadata": {
        "id": "UW_mEcv3glg1"
      },
      "source": [
        "# Transformadores"
      ]
    },
    {
      "cell_type": "code",
      "execution_count": 31,
      "metadata": {
        "id": "poxsMKMAglg1"
      },
      "outputs": [],
      "source": [
        "vec = TfidfVectorizer(stop_words='english', ngram_range=(1,2), min_df = 50, max_df = 0.5) #vetorização, com stop word. "
      ]
    },
    {
      "cell_type": "code",
      "execution_count": 32,
      "metadata": {
        "id": "TmAtDRPhglg2",
        "colab": {
          "base_uri": "https://localhost:8080/"
        },
        "outputId": "066d7f1e-e942-4e82-8a75-4a26bb647b0d"
      },
      "outputs": [
        {
          "output_type": "execute_result",
          "data": {
            "text/plain": [
              "<1185328x66125 sparse matrix of type '<class 'numpy.float64'>'\n",
              "\twith 30866302 stored elements in Compressed Sparse Row format>"
            ]
          },
          "metadata": {},
          "execution_count": 32
        }
      ],
      "source": [
        "vec_train = vec.fit_transform(Xtrain[\"item_description\"])\n",
        "\n",
        "vec_train"
      ]
    },
    {
      "cell_type": "code",
      "execution_count": 33,
      "metadata": {
        "id": "zJOiL7m7glg2",
        "colab": {
          "base_uri": "https://localhost:8080/"
        },
        "outputId": "a6aeb2a4-5124-4156-a0e8-9012ec5ca22f"
      },
      "outputs": [
        {
          "output_type": "execute_result",
          "data": {
            "text/plain": [
              "<296333x66125 sparse matrix of type '<class 'numpy.float64'>'\n",
              "\twith 7693221 stored elements in Compressed Sparse Row format>"
            ]
          },
          "metadata": {},
          "execution_count": 33
        }
      ],
      "source": [
        "vec_val = vec.transform(Xval[\"item_description\"])\n",
        "\n",
        "vec_val"
      ]
    },
    {
      "cell_type": "code",
      "execution_count": 34,
      "metadata": {
        "id": "CWQejxjaglg2",
        "colab": {
          "base_uri": "https://localhost:8080/"
        },
        "outputId": "a1e1a7ca-1a56-49ea-b3d2-7525c248133c"
      },
      "outputs": [
        {
          "output_type": "execute_result",
          "data": {
            "text/plain": [
              "<1185328x1008 sparse matrix of type '<class 'numpy.float64'>'\n",
              "\twith 7111968 stored elements in Compressed Sparse Row format>"
            ]
          },
          "metadata": {},
          "execution_count": 34
        }
      ],
      "source": [
        "ohe = OneHotEncoder(handle_unknown=\"ignore\")\n",
        "\n",
        "#aplicação dummy nas colunas categóricas.\n",
        "\n",
        "ohe_train = ohe.fit_transform(Xtrain[[\"item_condition_id\",   \n",
        "                                         \"shipping\",\n",
        "                                         \"gen_cat\",\n",
        "                                         \"sub1_cat\",\n",
        "                                         \"sub2_cat\",\n",
        "                                         \"datetime_month\"]])\n",
        "                            \n",
        "ohe_train"
      ]
    },
    {
      "cell_type": "code",
      "execution_count": 35,
      "metadata": {
        "id": "L6oIkWFoglg3",
        "colab": {
          "base_uri": "https://localhost:8080/"
        },
        "outputId": "8f85fc51-9a09-4aeb-902b-17215d06a564"
      },
      "outputs": [
        {
          "output_type": "execute_result",
          "data": {
            "text/plain": [
              "<296333x1008 sparse matrix of type '<class 'numpy.float64'>'\n",
              "\twith 1777987 stored elements in Compressed Sparse Row format>"
            ]
          },
          "metadata": {},
          "execution_count": 35
        }
      ],
      "source": [
        "ohe_val = ohe.transform(Xval[[\"item_condition_id\",   \n",
        "                                         \"shipping\",\n",
        "                                         \"gen_cat\",\n",
        "                                         \"sub1_cat\",\n",
        "                                         \"sub2_cat\",\n",
        "                                         \"datetime_month\"]])\n",
        "\n",
        "ohe_val"
      ]
    },
    {
      "cell_type": "code",
      "execution_count": 36,
      "metadata": {
        "id": "Eaj6SWF0glg3",
        "colab": {
          "base_uri": "https://localhost:8080/"
        },
        "outputId": "8ecb6a35-c877-432a-faee-b986e498eb9b"
      },
      "outputs": [
        {
          "output_type": "execute_result",
          "data": {
            "text/plain": [
              "<1185328x67133 sparse matrix of type '<class 'numpy.float64'>'\n",
              "\twith 37978270 stored elements in Compressed Sparse Row format>"
            ]
          },
          "metadata": {},
          "execution_count": 36
        }
      ],
      "source": [
        "#juntando cada matrix gerada por cada pré-processamento\n",
        "\n",
        "x_train = hstack([\n",
        "                 (vec_train),\n",
        "                 (ohe_train)\n",
        "                 \t\n",
        "                                     ],format='csr') \n",
        "x_train"
      ]
    },
    {
      "cell_type": "code",
      "execution_count": 37,
      "metadata": {
        "id": "TgR7xruXglg3",
        "colab": {
          "base_uri": "https://localhost:8080/"
        },
        "outputId": "2f95395e-8616-46a5-ef7c-b0823ae6f8f4"
      },
      "outputs": [
        {
          "output_type": "execute_result",
          "data": {
            "text/plain": [
              "<296333x67133 sparse matrix of type '<class 'numpy.float64'>'\n",
              "\twith 9471208 stored elements in Compressed Sparse Row format>"
            ]
          },
          "metadata": {},
          "execution_count": 37
        }
      ],
      "source": [
        "x_val = hstack([\n",
        "                 (vec_val),\n",
        "                 (ohe_val)\n",
        "                             ], format='csr') \n",
        "x_val"
      ]
    },
    {
      "cell_type": "markdown",
      "metadata": {
        "id": "VSpzUt1Wglg4"
      },
      "source": [
        "# MLP"
      ]
    },
    {
      "cell_type": "code",
      "execution_count": 38,
      "metadata": {
        "id": "sE2crBXWglg4"
      },
      "outputs": [],
      "source": [
        "from tensorflow.keras.backend import clear_session\n",
        "\n",
        "clear_session()"
      ]
    },
    {
      "cell_type": "code",
      "execution_count": 39,
      "metadata": {
        "id": "CRuJRa0Pglg4",
        "colab": {
          "base_uri": "https://localhost:8080/"
        },
        "outputId": "66920b35-40a8-47f6-d699-afe86ff02ba2"
      },
      "outputs": [
        {
          "output_type": "stream",
          "name": "stdout",
          "text": [
            "Model: \"model\"\n",
            "_________________________________________________________________\n",
            " Layer (type)                Output Shape              Param #   \n",
            "=================================================================\n",
            " sparse (InputLayer)         [(None, 67133)]           0         \n",
            "                                                                 \n",
            " dense (Dense)               (None, 1024)              68745216  \n",
            "                                                                 \n",
            " dense_1 (Dense)             (None, 512)               524800    \n",
            "                                                                 \n",
            " dense_2 (Dense)             (None, 256)               131328    \n",
            "                                                                 \n",
            " dense_3 (Dense)             (None, 1)                 257       \n",
            "                                                                 \n",
            "=================================================================\n",
            "Total params: 69,401,601\n",
            "Trainable params: 69,401,601\n",
            "Non-trainable params: 0\n",
            "_________________________________________________________________\n"
          ]
        }
      ],
      "source": [
        "from keras.layers import Input, Dense\n",
        "from keras.models import Model\n",
        "\n",
        "input = Input(shape=(x_train.shape[-1]), sparse=True, name='sparse')\n",
        "dense3 = Dense(1024, activation=\"relu\") (input)\n",
        "dense4 = Dense(512, activation=\"relu\") (dense3)\n",
        "dense5 = Dense(256, activation=\"relu\") (dense4)\n",
        "out = Dense(1) (dense5)\n",
        "\n",
        "model = Model(inputs = input, outputs = out)\n",
        "\n",
        "model.summary()\n",
        "\n",
        "#Tentar dropar os bundles"
      ]
    },
    {
      "cell_type": "code",
      "execution_count": 40,
      "metadata": {
        "id": "gEbGnnX6glg4",
        "colab": {
          "base_uri": "https://localhost:8080/"
        },
        "outputId": "c6ce361e-7eb1-40e0-fba9-14202a58a2c3"
      },
      "outputs": [
        {
          "output_type": "execute_result",
          "data": {
            "text/plain": [
              "(1185328,)"
            ]
          },
          "metadata": {},
          "execution_count": 40
        }
      ],
      "source": [
        "ytrain.values.shape"
      ]
    },
    {
      "cell_type": "code",
      "execution_count": 41,
      "metadata": {
        "id": "UVrki0shglg4",
        "colab": {
          "base_uri": "https://localhost:8080/"
        },
        "outputId": "f5311005-7702-423e-9a01-f12406b95890"
      },
      "outputs": [
        {
          "output_type": "stream",
          "name": "stdout",
          "text": [
            "Epoch 1/10\n"
          ]
        },
        {
          "output_type": "stream",
          "name": "stderr",
          "text": [
            "/usr/local/lib/python3.7/dist-packages/tensorflow/python/framework/indexed_slices.py:446: UserWarning: Converting sparse IndexedSlices(IndexedSlices(indices=Tensor(\"gradient_tape/model/dense/embedding_lookup_sparse/Reshape_1:0\", shape=(None,), dtype=int32), values=Tensor(\"gradient_tape/model/dense/embedding_lookup_sparse/Reshape:0\", shape=(None, 1024), dtype=float32), dense_shape=Tensor(\"gradient_tape/model/dense/embedding_lookup_sparse/Cast:0\", shape=(2,), dtype=int32))) to a dense Tensor of unknown shape. This may consume a large amount of memory.\n",
            "  \"shape. This may consume a large amount of memory.\" % value)\n"
          ]
        },
        {
          "output_type": "stream",
          "name": "stdout",
          "text": [
            "579/579 [==============================] - 43s 62ms/step - loss: 0.3132 - mean_absolute_error: 0.3968 - mean_squared_error: 0.3132 - mean_squared_logarithmic_error: 0.0253 - root_mean_squared_error: 0.5597\n",
            "Epoch 2/10\n",
            "579/579 [==============================] - 39s 63ms/step - loss: 0.1805 - mean_absolute_error: 0.3197 - mean_squared_error: 0.1805 - mean_squared_logarithmic_error: 0.0114 - root_mean_squared_error: 0.4249\n",
            "Epoch 3/10\n",
            "579/579 [==============================] - 39s 63ms/step - loss: 0.1306 - mean_absolute_error: 0.2712 - mean_squared_error: 0.1306 - mean_squared_logarithmic_error: 0.0084 - root_mean_squared_error: 0.3614\n",
            "Epoch 4/10\n",
            "579/579 [==============================] - 39s 63ms/step - loss: 0.0848 - mean_absolute_error: 0.2171 - mean_squared_error: 0.0848 - mean_squared_logarithmic_error: 0.0055 - root_mean_squared_error: 0.2912\n",
            "Epoch 5/10\n",
            "579/579 [==============================] - 39s 63ms/step - loss: 0.0548 - mean_absolute_error: 0.1728 - mean_squared_error: 0.0548 - mean_squared_logarithmic_error: 0.0036 - root_mean_squared_error: 0.2340\n",
            "Epoch 6/10\n",
            "579/579 [==============================] - 39s 63ms/step - loss: 0.0376 - mean_absolute_error: 0.1423 - mean_squared_error: 0.0376 - mean_squared_logarithmic_error: 0.0024 - root_mean_squared_error: 0.1940\n",
            "Epoch 7/10\n",
            "579/579 [==============================] - 39s 63ms/step - loss: 0.0281 - mean_absolute_error: 0.1224 - mean_squared_error: 0.0281 - mean_squared_logarithmic_error: 0.0018 - root_mean_squared_error: 0.1675\n",
            "Epoch 8/10\n",
            "579/579 [==============================] - 39s 63ms/step - loss: 0.0228 - mean_absolute_error: 0.1100 - mean_squared_error: 0.0228 - mean_squared_logarithmic_error: 0.0015 - root_mean_squared_error: 0.1509\n",
            "Epoch 9/10\n",
            "579/579 [==============================] - 39s 63ms/step - loss: 0.0197 - mean_absolute_error: 0.1024 - mean_squared_error: 0.0197 - mean_squared_logarithmic_error: 0.0013 - root_mean_squared_error: 0.1402\n",
            "Epoch 10/10\n",
            "579/579 [==============================] - 39s 63ms/step - loss: 0.0179 - mean_absolute_error: 0.0980 - mean_squared_error: 0.0179 - mean_squared_logarithmic_error: 0.0011 - root_mean_squared_error: 0.1338\n"
          ]
        }
      ],
      "source": [
        "from tensorflow.keras.metrics import RootMeanSquaredError\n",
        "\n",
        "model.compile(loss=\"mean_squared_error\", metrics=['mean_absolute_error','mean_squared_error', 'mean_squared_logarithmic_error', RootMeanSquaredError()], optimizer = 'adam')\n",
        "history1 = model.fit(x_train, ytrain_log.values, batch_size=2048, epochs=10, verbose=True)"
      ]
    },
    {
      "cell_type": "code",
      "execution_count": 42,
      "metadata": {
        "id": "DFawWiJDglg5",
        "colab": {
          "base_uri": "https://localhost:8080/"
        },
        "outputId": "187e70f6-80e3-4f6a-cd8d-6532a082fa27"
      },
      "outputs": [
        {
          "output_type": "stream",
          "name": "stdout",
          "text": [
            "\n",
            "\n",
            "9261/9261 [==============================] - 33s 4ms/step - loss: 0.2265 - mean_absolute_error: 0.3566 - mean_squared_error: 0.2265 - mean_squared_logarithmic_error: 0.0143 - root_mean_squared_error: 0.4759\n",
            "['loss', 'mean_absolute_error', 'mean_squared_error', 'mean_squared_logarithmic_error', 'root_mean_squared_error']\n",
            "mse:  0.35655850172042847\n",
            "msle:  0.2264573872089386\n",
            "rmse:  0.014255349524319172\n"
          ]
        }
      ],
      "source": [
        "print(\"\\n\")\n",
        "scoreMLP = model.evaluate(x_val, yval_log.values)\n",
        "print(model.metrics_names)\n",
        "print(\"mse: \", scoreMLP[1])\n",
        "print(\"msle: \", scoreMLP[2])\n",
        "print(\"rmse: \", scoreMLP[3])"
      ]
    },
    {
      "cell_type": "code",
      "execution_count": 43,
      "metadata": {
        "id": "hHe9R4kmglg5"
      },
      "outputs": [],
      "source": [
        "import math\n",
        "from sklearn.metrics import mean_squared_error, mean_squared_log_error, mean_absolute_error"
      ]
    },
    {
      "cell_type": "code",
      "execution_count": 44,
      "metadata": {
        "id": "fZiMIE83glg5",
        "colab": {
          "base_uri": "https://localhost:8080/"
        },
        "outputId": "e53951cb-4160-4414-edda-438509a3f0ef"
      },
      "outputs": [
        {
          "output_type": "stream",
          "name": "stdout",
          "text": [
            "MLP\n",
            "10.546949903299131\n",
            "793.4765701235713\n",
            "0.2264574632599648\n"
          ]
        }
      ],
      "source": [
        "y_pred = np.expm1(model.predict(x_val))\n",
        "\n",
        "print('MLP')\n",
        "print(mean_absolute_error(yval,y_pred))\n",
        "print(mean_squared_error(yval,y_pred))\n",
        "print(mean_squared_log_error(yval,y_pred))"
      ]
    },
    {
      "cell_type": "code",
      "execution_count": 45,
      "metadata": {
        "id": "hMpiAx3Pglg5",
        "colab": {
          "base_uri": "https://localhost:8080/",
          "height": 609
        },
        "outputId": "3864f08f-7994-4c88-af69-4e19e1af882a"
      },
      "outputs": [
        {
          "output_type": "execute_result",
          "data": {
            "text/plain": [
              "<matplotlib.collections.PathCollection at 0x7f8c618e9ad0>"
            ]
          },
          "metadata": {},
          "execution_count": 45
        },
        {
          "output_type": "display_data",
          "data": {
            "text/plain": [
              "<Figure size 720x720 with 1 Axes>"
            ],
            "image/png": "[encoded data removed]"
          },
          "metadata": {
            "needs_background": "light"
          }
        }
      ],
      "source": [
        "import matplotlib.pyplot as plt\n",
        "\n",
        "plt.figure(figsize=(10,10))\n",
        "plt.scatter(x=yval, y=y_pred)"
      ]
    },
    {
      "cell_type": "markdown",
      "metadata": {
        "id": "u6e3qbGo_ynf"
      },
      "source": [
        "# XGBoost"
      ]
    },
    {
      "cell_type": "code",
      "execution_count": 46,
      "metadata": {
        "id": "m2x1L4ZH_ynf"
      },
      "outputs": [],
      "source": [
        "from xgboost import XGBRegressor\n",
        "\n",
        "xgb = XGBRegressor(gpu_id = \"0\",\n",
        "                   tree_method=\"gpu_hist\",\n",
        "                   random_state = 10\n",
        "                   )"
      ]
    },
    {
      "cell_type": "code",
      "execution_count": 47,
      "metadata": {
        "id": "VjI0Crj6_ynf"
      },
      "outputs": [],
      "source": [
        "model = xgb.fit(x_train, ytrain_log.values)"
      ]
    },
    {
      "cell_type": "code",
      "execution_count": 48,
      "metadata": {
        "id": "bvLQuxKn_yng"
      },
      "outputs": [],
      "source": [
        "ypredict = model.predict(x_val)"
      ]
    },
    {
      "cell_type": "code",
      "execution_count": 49,
      "metadata": {
        "id": "NiEFxfrw_yng"
      },
      "outputs": [],
      "source": [
        "ypredict = np.expm1(ypredict)"
      ]
    },
    {
      "cell_type": "code",
      "execution_count": 50,
      "metadata": {
        "id": "xtKf-h8d_yng"
      },
      "outputs": [],
      "source": [
        "from sklearn.metrics import mean_squared_log_error"
      ]
    },
    {
      "cell_type": "code",
      "execution_count": 52,
      "metadata": {
        "id": "sZ4pV2qi_yng",
        "outputId": "0c8fb556-c27d-49e4-a24d-1b71a63d79eb",
        "colab": {
          "base_uri": "https://localhost:8080/"
        }
      },
      "outputs": [
        {
          "output_type": "stream",
          "name": "stdout",
          "text": [
            "MAE: 11.842656\n",
            "RMSE: 962.045743\n",
            "RMSLE: 0.279296\n"
          ]
        }
      ],
      "source": [
        "print('MAE: %2f' % mean_absolute_error(yval,ypredict))\n",
        "print('RMSE: %2f' % (mean_squared_error(yval,ypredict)))\n",
        "print('RMSLE: %2f' % mean_squared_log_error(yval,ypredict))\n"
      ]
    },
    {
      "cell_type": "code",
      "execution_count": 54,
      "metadata": {
        "id": "LztwJQ_C_yng",
        "outputId": "e9f4a22c-3073-4a74-d500-c69ac63c99b5",
        "colab": {
          "base_uri": "https://localhost:8080/",
          "height": 609
        }
      },
      "outputs": [
        {
          "output_type": "execute_result",
          "data": {
            "text/plain": [
              "<matplotlib.collections.PathCollection at 0x7f8d38864950>"
            ]
          },
          "metadata": {},
          "execution_count": 54
        },
        {
          "output_type": "display_data",
          "data": {
            "text/plain": [
              "<Figure size 720x720 with 1 Axes>"
            ],
            "image/png": "[encoded data removed]"
          },
          "metadata": {
            "needs_background": "light"
          }
        }
      ],
      "source": [
        "import matplotlib.pyplot as plt\n",
        "\n",
        "plt.figure(figsize=(10,10))\n",
        "plt.scatter(x=yval, y=ypredict)"
      ]
    },
    {
      "cell_type": "markdown",
      "metadata": {
        "id": "lUszhNL1gCvo"
      },
      "source": [
        "# LGBM"
      ]
    },
    {
      "cell_type": "code",
      "execution_count": 55,
      "metadata": {
        "id": "K5UsrGkRgCvo"
      },
      "outputs": [],
      "source": [
        "from lightgbm import LGBMRegressor\n",
        "\n",
        "lgb = LGBMRegressor(device = \"gpu\", random_state=10)"
      ]
    },
    {
      "cell_type": "code",
      "execution_count": 56,
      "metadata": {
        "id": "Q6FghzM8gCvo",
        "colab": {
          "base_uri": "https://localhost:8080/"
        },
        "outputId": "57e41cd4-6e95-4d42-bae8-fc11ed0c9f48"
      },
      "outputs": [
        {
          "output_type": "stream",
          "name": "stdout",
          "text": [
            "[LightGBM] [Info] This is the GPU trainer!!\n",
            "[LightGBM] [Info] Total Bins 1182619\n",
            "[LightGBM] [Info] Number of data points in the train set: 1185328, number of used features: 66862\n",
            "[LightGBM] [Info] Using GPU Device: Tesla T4, Vendor: NVIDIA Corporation\n",
            "[LightGBM] [Info] Compiling OpenCL Kernel with 256 bins...\n",
            "[LightGBM] [Info] GPU programs have been built\n",
            "[LightGBM] [Info] Size of histogram bin entry: 8\n",
            "[LightGBM] [Info] 4 dense feature groups (4.52 MB) transferred to GPU in 0.010268 secs. 1 sparse feature groups\n",
            "[LightGBM] [Info] Start training from score 2.980535\n"
          ]
        }
      ],
      "source": [
        "model = lgb.fit(x_train, ytrain_log.values)"
      ]
    },
    {
      "cell_type": "code",
      "execution_count": 57,
      "metadata": {
        "id": "Jj_tdXXdgCvo"
      },
      "outputs": [],
      "source": [
        "ypredict_train = model.predict(x_train)"
      ]
    },
    {
      "cell_type": "code",
      "source": [
        "ypredict_train = np.expm1(ypredict_train)"
      ],
      "metadata": {
        "id": "bB3huxs4DO6k"
      },
      "execution_count": null,
      "outputs": []
    },
    {
      "cell_type": "code",
      "execution_count": 58,
      "metadata": {
        "id": "7ZXBcFY_gCvp"
      },
      "outputs": [],
      "source": [
        "ypredict = model.predict(x_val)"
      ]
    },
    {
      "cell_type": "code",
      "execution_count": 59,
      "metadata": {
        "id": "_Dqb-heXgCvp"
      },
      "outputs": [],
      "source": [
        "ypredict = np.expm1(ypredict)"
      ]
    },
    {
      "cell_type": "code",
      "execution_count": 60,
      "metadata": {
        "id": "iitxfR7vgCvp"
      },
      "outputs": [],
      "source": [
        "from sklearn.metrics import mean_squared_log_error"
      ]
    },
    {
      "cell_type": "markdown",
      "metadata": {
        "id": "qqe2k0UugCvp"
      },
      "source": [
        "- predict validação"
      ]
    },
    {
      "cell_type": "code",
      "execution_count": 61,
      "metadata": {
        "id": "vqFO5CiDgCvp",
        "outputId": "1021ea4d-9de5-48b6-b5e0-b207bd97d8ee",
        "colab": {
          "base_uri": "https://localhost:8080/"
        }
      },
      "outputs": [
        {
          "output_type": "stream",
          "name": "stdout",
          "text": [
            "MAE: 12.075911\n",
            "RMSE: 1030.371047\n",
            "RMSLE: 0.287530\n"
          ]
        }
      ],
      "source": [
        "print('MAE: %2f' % mean_absolute_error(yval,ypredict))\n",
        "print('RMSE: %2f' % (mean_squared_error(yval,ypredict)))\n",
        "print('RMSLE: %2f' % mean_squared_log_error(yval,ypredict))\n"
      ]
    },
    {
      "cell_type": "markdown",
      "metadata": {
        "id": "-2aNIuIggCvq"
      },
      "source": [
        "- predict treino"
      ]
    },
    {
      "cell_type": "code",
      "execution_count": 62,
      "metadata": {
        "id": "WiSoc8CogCvq",
        "outputId": "4130c686-3f20-40f8-fb98-785fa318132f",
        "colab": {
          "base_uri": "https://localhost:8080/"
        }
      },
      "outputs": [
        {
          "output_type": "stream",
          "name": "stdout",
          "text": [
            "MAE_train: 23.778219\n",
            "RMSE_train: 2044.373962\n",
            "RMSLE_train: 3.030503\n"
          ]
        }
      ],
      "source": [
        "print('MAE_train: %2f' % mean_absolute_error(ytrain,ypredict_train))\n",
        "print('RMSE_train: %2f' % (mean_squared_error(ytrain,ypredict_train)))\n",
        "print('RMSLE_train: %2f' % mean_squared_log_error(ytrain,ypredict_train))"
      ]
    },
    {
      "cell_type": "code",
      "execution_count": 63,
      "metadata": {
        "id": "8RP1gvNKgCvq",
        "outputId": "f816e4f9-ad8f-4ecf-bd71-a07a19d36baa",
        "colab": {
          "base_uri": "https://localhost:8080/",
          "height": 609
        }
      },
      "outputs": [
        {
          "output_type": "execute_result",
          "data": {
            "text/plain": [
              "<matplotlib.collections.PathCollection at 0x7f8cfe1df550>"
            ]
          },
          "metadata": {},
          "execution_count": 63
        },
        {
          "output_type": "display_data",
          "data": {
            "text/plain": [
              "<Figure size 720x720 with 1 Axes>"
            ],
            "image/png": "[encoded data removed]"
          },
          "metadata": {
            "needs_background": "light"
          }
        }
      ],
      "source": [
        "import matplotlib.pyplot as plt\n",
        "\n",
        "plt.figure(figsize=(10,10))\n",
        "plt.scatter(x=yval, y=ypredict)"
      ]
    }
  ]
}