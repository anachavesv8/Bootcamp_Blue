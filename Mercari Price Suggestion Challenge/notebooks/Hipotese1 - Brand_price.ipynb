{
 "cells": [
  {
   "cell_type": "markdown",
   "metadata": {},
   "source": [
    "#   Avaliação de hipótese 1:"
   ]
  },
  {
   "cell_type": "markdown",
   "metadata": {},
   "source": [
    "Aqui vamos avaliar o impacto da \"brand\" para o nosso modelo.\n",
    "\n",
    "A razão de tal análize serve para entendermos melhor qual tratamento deveremos dar para nossos dados 632682 nulos, um número significativo dentro de nosso dataset. Para isso vamos separa-los em 2 datasets, um contendo apenas os valores nulos/missing e um outro dataset contendo todos as colinas preenchidas. Após essa etápa vamos gerar modelos probatórios para  um teste a/b, onde poderemos analisar o melhor caminho para o tratamento desses valores nulos.\n"
   ]
  },
  {
   "cell_type": "code",
   "execution_count": 1,
   "metadata": {},
   "outputs": [],
   "source": [
    "import pandas as pd\n",
    "import random \n",
    "import numpy as np\n",
    "import re\n",
    "from scipy.sparse import hstack"
   ]
  },
  {
   "cell_type": "code",
   "execution_count": 2,
   "metadata": {},
   "outputs": [],
   "source": [
    "from pre_processamento import pre_processamento"
   ]
  },
  {
   "cell_type": "code",
   "execution_count": 3,
   "metadata": {},
   "outputs": [],
   "source": [
    "\n",
    "from sklearn.model_selection import train_test_split\n",
    "from sklearn.model_selection import GridSearchCV"
   ]
  },
  {
   "cell_type": "code",
   "execution_count": 4,
   "metadata": {},
   "outputs": [],
   "source": [
    "from sklearn.feature_extraction.text import TfidfVectorizer\n",
    "from sklearn.preprocessing import OneHotEncoder"
   ]
  },
  {
   "cell_type": "code",
   "execution_count": 5,
   "metadata": {},
   "outputs": [],
   "source": [
    "from sklearn.ensemble import RandomForestRegressor\n",
    "from sklearn.tree import DecisionTreeRegressor, plot_tree"
   ]
  },
  {
   "cell_type": "code",
   "execution_count": 6,
   "metadata": {},
   "outputs": [],
   "source": [
    "from sklearn.metrics import mean_squared_error, mean_squared_log_error, mean_absolute_error, r2_score"
   ]
  },
  {
   "cell_type": "code",
   "execution_count": 7,
   "metadata": {},
   "outputs": [],
   "source": [
    "train = pd.read_csv(r\"C:\\Users\\angel\\Desktop\\bootcamp\\train.tsv\", sep='\\t')\n",
    "test = pd.read_csv(r\"C:\\Users\\angel\\Desktop\\bootcamp\\test.tsv\", sep='\\t')"
   ]
  },
  {
   "cell_type": "code",
   "execution_count": 8,
   "metadata": {},
   "outputs": [],
   "source": [
    "train,test = pre_processamento(train,test)"
   ]
  },
  {
   "cell_type": "code",
   "execution_count": 9,
   "metadata": {},
   "outputs": [
    {
     "data": {
      "text/html": [
       "<div>\n",
       "<style scoped>\n",
       "    .dataframe tbody tr th:only-of-type {\n",
       "        vertical-align: middle;\n",
       "    }\n",
       "\n",
       "    .dataframe tbody tr th {\n",
       "        vertical-align: top;\n",
       "    }\n",
       "\n",
       "    .dataframe thead th {\n",
       "        text-align: right;\n",
       "    }\n",
       "</style>\n",
       "<table border=\"1\" class=\"dataframe\">\n",
       "  <thead>\n",
       "    <tr style=\"text-align: right;\">\n",
       "      <th></th>\n",
       "      <th>name</th>\n",
       "      <th>item_condition_id</th>\n",
       "      <th>brand_name</th>\n",
       "      <th>price</th>\n",
       "      <th>shipping</th>\n",
       "      <th>item_description</th>\n",
       "      <th>stock</th>\n",
       "      <th>gen_cat</th>\n",
       "      <th>sub1_cat</th>\n",
       "      <th>sub2_cat</th>\n",
       "      <th>datetime_month</th>\n",
       "      <th>datetime_year</th>\n",
       "    </tr>\n",
       "  </thead>\n",
       "  <tbody>\n",
       "    <tr>\n",
       "      <th>0</th>\n",
       "      <td>MLB Cincinnati Reds T Shirt Size XL</td>\n",
       "      <td>3</td>\n",
       "      <td>NaN</td>\n",
       "      <td>10.0</td>\n",
       "      <td>1</td>\n",
       "      <td>No description yet</td>\n",
       "      <td>27</td>\n",
       "      <td>Men</td>\n",
       "      <td>Tops</td>\n",
       "      <td>T-shirts</td>\n",
       "      <td>6.0</td>\n",
       "      <td>2018.0</td>\n",
       "    </tr>\n",
       "    <tr>\n",
       "      <th>1</th>\n",
       "      <td>Razer BlackWidow Chroma Keyboard</td>\n",
       "      <td>3</td>\n",
       "      <td>Razer</td>\n",
       "      <td>52.0</td>\n",
       "      <td>0</td>\n",
       "      <td>This keyboard is in great condition and works ...</td>\n",
       "      <td>15</td>\n",
       "      <td>Electronics</td>\n",
       "      <td>Computers &amp; Tablets</td>\n",
       "      <td>Components &amp; Parts</td>\n",
       "      <td>3.0</td>\n",
       "      <td>2018.0</td>\n",
       "    </tr>\n",
       "    <tr>\n",
       "      <th>2</th>\n",
       "      <td>AVA-VIV Blouse</td>\n",
       "      <td>1</td>\n",
       "      <td>Target</td>\n",
       "      <td>10.0</td>\n",
       "      <td>1</td>\n",
       "      <td>Adorable top with a hint of lace and a key hol...</td>\n",
       "      <td>14</td>\n",
       "      <td>Women</td>\n",
       "      <td>Tops &amp; Blouses</td>\n",
       "      <td>Blouse</td>\n",
       "      <td>10.0</td>\n",
       "      <td>2018.0</td>\n",
       "    </tr>\n",
       "    <tr>\n",
       "      <th>3</th>\n",
       "      <td>Leather Horse Statues</td>\n",
       "      <td>1</td>\n",
       "      <td>NaN</td>\n",
       "      <td>35.0</td>\n",
       "      <td>1</td>\n",
       "      <td>New with tags. Leather horses. Retail for [rm]...</td>\n",
       "      <td>1</td>\n",
       "      <td>Home</td>\n",
       "      <td>Home Décor</td>\n",
       "      <td>Home Décor Accents</td>\n",
       "      <td>3.0</td>\n",
       "      <td>2018.0</td>\n",
       "    </tr>\n",
       "    <tr>\n",
       "      <th>4</th>\n",
       "      <td>24K GOLD plated rose</td>\n",
       "      <td>1</td>\n",
       "      <td>NaN</td>\n",
       "      <td>44.0</td>\n",
       "      <td>0</td>\n",
       "      <td>Complete with certificate of authenticity</td>\n",
       "      <td>13</td>\n",
       "      <td>Women</td>\n",
       "      <td>Jewelry</td>\n",
       "      <td>Necklaces</td>\n",
       "      <td>5.0</td>\n",
       "      <td>2018.0</td>\n",
       "    </tr>\n",
       "  </tbody>\n",
       "</table>\n",
       "</div>"
      ],
      "text/plain": [
       "                                  name  item_condition_id brand_name  price  \\\n",
       "0  MLB Cincinnati Reds T Shirt Size XL                  3        NaN   10.0   \n",
       "1     Razer BlackWidow Chroma Keyboard                  3      Razer   52.0   \n",
       "2                       AVA-VIV Blouse                  1     Target   10.0   \n",
       "3                Leather Horse Statues                  1        NaN   35.0   \n",
       "4                 24K GOLD plated rose                  1        NaN   44.0   \n",
       "\n",
       "   shipping                                   item_description  stock  \\\n",
       "0         1                                 No description yet     27   \n",
       "1         0  This keyboard is in great condition and works ...     15   \n",
       "2         1  Adorable top with a hint of lace and a key hol...     14   \n",
       "3         1  New with tags. Leather horses. Retail for [rm]...      1   \n",
       "4         0          Complete with certificate of authenticity     13   \n",
       "\n",
       "       gen_cat             sub1_cat            sub2_cat  datetime_month  \\\n",
       "0          Men                 Tops            T-shirts             6.0   \n",
       "1  Electronics  Computers & Tablets  Components & Parts             3.0   \n",
       "2        Women       Tops & Blouses              Blouse            10.0   \n",
       "3         Home           Home Décor  Home Décor Accents             3.0   \n",
       "4        Women              Jewelry           Necklaces             5.0   \n",
       "\n",
       "   datetime_year  \n",
       "0         2018.0  \n",
       "1         2018.0  \n",
       "2         2018.0  \n",
       "3         2018.0  \n",
       "4         2018.0  "
      ]
     },
     "execution_count": 9,
     "metadata": {},
     "output_type": "execute_result"
    }
   ],
   "source": [
    "train.head()"
   ]
  },
  {
   "cell_type": "code",
   "execution_count": 24,
   "metadata": {},
   "outputs": [],
   "source": [
    "def text_preprocess(phrase):\n",
    "    \n",
    "    phrase = re.sub(r\"won\\'t\", \"will not\", phrase)\n",
    "    phrase = re.sub(r\"can\\'t\", \"can not\", phrase)\n",
    "    phrase = re.sub(r\"n\\'t\", \" not\", phrase)\n",
    "    phrase = re.sub(r\"\\'re\", \" are\", phrase)\n",
    "    phrase = re.sub(r\"\\'s\", \" is\", phrase)\n",
    "    phrase = re.sub(r\"\\'d\", \" would\", phrase)\n",
    "    phrase = re.sub(r\"\\'ll\", \" will\", phrase)\n",
    "    phrase = re.sub(r\"\\'t\", \" not\", phrase)\n",
    "    phrase = re.sub(r\"\\'ve\", \" have\", phrase)\n",
    "    phrase = re.sub(r\"\\'m\", \" am\", phrase)\n",
    "    \n",
    "    phrase = re.sub('https?://\\S+| www.\\S+', '', phrase) #Remoção de qualquer site que possa ter no nosso dataset\n",
    "    phrase  = re.sub('[rm]', '', phrase) #exclusao do \"[rm]\" usado pelo kaggle para substituir o preço que aparecia na coluna name e description \n",
    "    phrase = re.sub(\"[^a-zA-Z0-9' \\n\\.]\", '', phrase)  #excluindo tudo o que não for letra e numero.\n",
    "    \n",
    "    phrase  = re.sub('^no description yet$', '', phrase)\n",
    "    \n",
    "    phrase = re.sub(' +', ' ', phrase) #exclusão de espaços extras, ex: \"eu    vou\" -> \"eu vou\"\n",
    "\n",
    "    phrase = phrase.lower() #passando para letra minúscula.\n",
    "\n",
    "   \n",
    "    return phrase"
   ]
  },
  {
   "cell_type": "code",
   "execution_count": 11,
   "metadata": {},
   "outputs": [],
   "source": [
    "train[\"name\"] = train[\"name\"].apply(lambda x: text_preprocess(x)) #limpeza do texto na coluna name"
   ]
  },
  {
   "cell_type": "code",
   "execution_count": 12,
   "metadata": {},
   "outputs": [],
   "source": [
    "train[\"item_description\"] = train[\"item_description\"].astype(str) "
   ]
  },
  {
   "cell_type": "code",
   "execution_count": 13,
   "metadata": {},
   "outputs": [],
   "source": [
    "train[\"item_description\"] = train[\"item_description\"].apply(lambda x: text_preprocess(x)) #limpeza do texto na coluna de descrição"
   ]
  },
  {
   "cell_type": "code",
   "execution_count": 14,
   "metadata": {},
   "outputs": [],
   "source": [
    "vec = TfidfVectorizer(stop_words='english', ngram_range=(1,1), max_features=50000) #remoção de stopword e max features criadas em 5000\n"
   ]
  },
  {
   "cell_type": "code",
   "execution_count": null,
   "metadata": {},
   "outputs": [],
   "source": [
    "rfr = RandomForestRegressor(n_estimators=100, n_jobs=-1)"
   ]
  },
  {
   "cell_type": "markdown",
   "metadata": {},
   "source": [
    "#   Modelo com brands \n"
   ]
  },
  {
   "cell_type": "code",
   "execution_count": 43,
   "metadata": {},
   "outputs": [],
   "source": [
    "Train_with_brand = train.dropna(subset=\"brand_name\") #Dropando todas as linhas nulas  em brand,nesse modelo só teremos valores não nulos para essa coluna"
   ]
  },
  {
   "cell_type": "code",
   "execution_count": 44,
   "metadata": {},
   "outputs": [],
   "source": [
    "X1 = Train_with_brand.drop(\"price\", axis = 1)\n",
    "y1 = Train_with_brand[\"price\"]"
   ]
  },
  {
   "cell_type": "code",
   "execution_count": 45,
   "metadata": {},
   "outputs": [],
   "source": [
    "X1train, X1val, y1train, y1val = train_test_split(X1, y1, test_size=0.4, random_state=10) #split 60/40 "
   ]
  },
  {
   "cell_type": "code",
   "execution_count": 46,
   "metadata": {},
   "outputs": [
    {
     "data": {
      "text/html": [
       "<div>\n",
       "<style scoped>\n",
       "    .dataframe tbody tr th:only-of-type {\n",
       "        vertical-align: middle;\n",
       "    }\n",
       "\n",
       "    .dataframe tbody tr th {\n",
       "        vertical-align: top;\n",
       "    }\n",
       "\n",
       "    .dataframe thead th {\n",
       "        text-align: right;\n",
       "    }\n",
       "</style>\n",
       "<table border=\"1\" class=\"dataframe\">\n",
       "  <thead>\n",
       "    <tr style=\"text-align: right;\">\n",
       "      <th></th>\n",
       "      <th>name</th>\n",
       "      <th>item_condition_id</th>\n",
       "      <th>brand_name</th>\n",
       "      <th>shipping</th>\n",
       "      <th>item_description</th>\n",
       "      <th>stock</th>\n",
       "      <th>gen_cat</th>\n",
       "      <th>sub1_cat</th>\n",
       "      <th>sub2_cat</th>\n",
       "      <th>datetime_month</th>\n",
       "      <th>datetime_year</th>\n",
       "    </tr>\n",
       "  </thead>\n",
       "  <tbody>\n",
       "    <tr>\n",
       "      <th>926821</th>\n",
       "      <td>bke</td>\n",
       "      <td>4</td>\n",
       "      <td>Buckle</td>\n",
       "      <td>0</td>\n",
       "      <td>bke denim jeans size 2931 12. has a small hole...</td>\n",
       "      <td>6</td>\n",
       "      <td>Women</td>\n",
       "      <td>Jeans</td>\n",
       "      <td>Boot Cut</td>\n",
       "      <td>11.0</td>\n",
       "      <td>2018.0</td>\n",
       "    </tr>\n",
       "    <tr>\n",
       "      <th>1198958</th>\n",
       "      <td>new vs socks</td>\n",
       "      <td>1</td>\n",
       "      <td>Victoria's Secret</td>\n",
       "      <td>0</td>\n",
       "      <td>2 pairs</td>\n",
       "      <td>27</td>\n",
       "      <td>Women</td>\n",
       "      <td>Athletic Apparel</td>\n",
       "      <td>Socks</td>\n",
       "      <td>9.0</td>\n",
       "      <td>2018.0</td>\n",
       "    </tr>\n",
       "    <tr>\n",
       "      <th>902986</th>\n",
       "      <td>lululemon shirt bundle size 6</td>\n",
       "      <td>3</td>\n",
       "      <td>Lululemon</td>\n",
       "      <td>0</td>\n",
       "      <td>great condition both shirts for one price size 6</td>\n",
       "      <td>38</td>\n",
       "      <td>Women</td>\n",
       "      <td>Athletic Apparel</td>\n",
       "      <td>Shirts &amp; Tops</td>\n",
       "      <td>6.0</td>\n",
       "      <td>2018.0</td>\n",
       "    </tr>\n",
       "    <tr>\n",
       "      <th>585065</th>\n",
       "      <td>10 packs my little pony figures toys</td>\n",
       "      <td>1</td>\n",
       "      <td>My Little Pony</td>\n",
       "      <td>1</td>\n",
       "      <td>10 packs my little pony figures random new in ...</td>\n",
       "      <td>3</td>\n",
       "      <td>Kids</td>\n",
       "      <td>Toys</td>\n",
       "      <td>Dolls &amp; Accessories</td>\n",
       "      <td>4.0</td>\n",
       "      <td>2018.0</td>\n",
       "    </tr>\n",
       "    <tr>\n",
       "      <th>1188702</th>\n",
       "      <td>vintage gucci crossbody</td>\n",
       "      <td>3</td>\n",
       "      <td>Gucci</td>\n",
       "      <td>0</td>\n",
       "      <td>vintage no serial number needs a little tlc as...</td>\n",
       "      <td>11</td>\n",
       "      <td>Women</td>\n",
       "      <td>Women's Handbags</td>\n",
       "      <td>Messenger &amp; Crossbody</td>\n",
       "      <td>9.0</td>\n",
       "      <td>2018.0</td>\n",
       "    </tr>\n",
       "  </tbody>\n",
       "</table>\n",
       "</div>"
      ],
      "text/plain": [
       "                                         name  item_condition_id  \\\n",
       "926821                                    bke                  4   \n",
       "1198958                          new vs socks                  1   \n",
       "902986          lululemon shirt bundle size 6                  3   \n",
       "585065   10 packs my little pony figures toys                  1   \n",
       "1188702               vintage gucci crossbody                  3   \n",
       "\n",
       "                brand_name  shipping  \\\n",
       "926821              Buckle         0   \n",
       "1198958  Victoria's Secret         0   \n",
       "902986           Lululemon         0   \n",
       "585065      My Little Pony         1   \n",
       "1188702              Gucci         0   \n",
       "\n",
       "                                          item_description  stock gen_cat  \\\n",
       "926821   bke denim jeans size 2931 12. has a small hole...      6   Women   \n",
       "1198958                                            2 pairs     27   Women   \n",
       "902986    great condition both shirts for one price size 6     38   Women   \n",
       "585065   10 packs my little pony figures random new in ...      3    Kids   \n",
       "1188702  vintage no serial number needs a little tlc as...     11   Women   \n",
       "\n",
       "                 sub1_cat               sub2_cat  datetime_month  \\\n",
       "926821              Jeans               Boot Cut            11.0   \n",
       "1198958  Athletic Apparel                  Socks             9.0   \n",
       "902986   Athletic Apparel          Shirts & Tops             6.0   \n",
       "585065               Toys    Dolls & Accessories             4.0   \n",
       "1188702  Women's Handbags  Messenger & Crossbody             9.0   \n",
       "\n",
       "         datetime_year  \n",
       "926821          2018.0  \n",
       "1198958         2018.0  \n",
       "902986          2018.0  \n",
       "585065          2018.0  \n",
       "1188702         2018.0  "
      ]
     },
     "execution_count": 46,
     "metadata": {},
     "output_type": "execute_result"
    }
   ],
   "source": [
    "X1train.head()"
   ]
  },
  {
   "cell_type": "code",
   "execution_count": 47,
   "metadata": {},
   "outputs": [],
   "source": [
    "\n",
    "vce_xtrain_name_1 = vec.fit_transform(X1train[\"name\"])\n",
    "vce_xtrain_descrip_1 = vec.fit_transform(X1train[\"item_description\"])"
   ]
  },
  {
   "cell_type": "code",
   "execution_count": 50,
   "metadata": {},
   "outputs": [],
   "source": [
    "ohe = OneHotEncoder(handle_unknown=\"ignore\")\n",
    "\n",
    "#aplicação dummy nas colunas categóricas.\n",
    "\n",
    "ohe1 = ohe.fit_transform(X1train[[\"item_condition_id\",   \n",
    "                                         \"shipping\",\n",
    "                                         \"brand_name\",\n",
    "                                         \"gen_cat\",\n",
    "                                         \"sub1_cat\",\n",
    "                                         \"sub2_cat\", \n",
    "                                         \"datetime_month\"]])"
   ]
  },
  {
   "cell_type": "code",
   "execution_count": 52,
   "metadata": {},
   "outputs": [],
   "source": [
    "x1_train = hstack([                                #função para juntar as matrizes criadas\n",
    "                  (vce_xtrain_name_1),\n",
    "                  (vce_xtrain_descrip_1),\n",
    "                  (ohe1)  \n",
    "                        ])"
   ]
  },
  {
   "cell_type": "code",
   "execution_count": 53,
   "metadata": {},
   "outputs": [
    {
     "data": {
      "text/plain": [
       "<509595x105000 sparse matrix of type '<class 'numpy.float64'>'\n",
       "\twith 12097132 stored elements in Compressed Sparse Row format>"
      ]
     },
     "execution_count": 53,
     "metadata": {},
     "output_type": "execute_result"
    }
   ],
   "source": [
    "x1_train"
   ]
  },
  {
   "cell_type": "code",
   "execution_count": 54,
   "metadata": {},
   "outputs": [],
   "source": [
    "model1 = rfr.fit(x1_train[:150000], y1train[:150000])  #devido a problemas de memorias, limitarei em 50000 linhas para um primeiro teste."
   ]
  },
  {
   "cell_type": "code",
   "execution_count": null,
   "metadata": {},
   "outputs": [],
   "source": [
    "#Aplicando transformações nos dados de validação\n",
    "\n",
    "\n",
    "vce_xval_name_1 = vec.transform(X1val[\"name\"])\n",
    "vce_xval_descrip_1 = vec.transform(X1val[\"item_description\"])\n",
    "\n",
    "ohe_val_condition_1 = ohe.transform(X1val[[\"item_condition_id\",   \n",
    "                                          \"shipping\",\n",
    "                                          \"brand_name\",\n",
    "                                          \"gen_cat\",\n",
    "                                          \"sub1_cat\",\n",
    "                                          \"sub2_cat\", \n",
    "                                          \"datetime_month\"]])\n",
    "\n",
    "x_val = hstack([(vce_xval_name_1),\n",
    "                (vce_xval_descrip_1), \n",
    "                (ohe_val_condition_1)])\n",
    "\n"
   ]
  },
  {
   "cell_type": "code",
   "execution_count": null,
   "metadata": {},
   "outputs": [
    {
     "data": {
      "text/plain": [
       "<339730x5000 sparse matrix of type '<class 'numpy.float64'>'\n",
       "\twith 2377353 stored elements in Compressed Sparse Row format>"
      ]
     },
     "execution_count": 54,
     "metadata": {},
     "output_type": "execute_result"
    }
   ],
   "source": [
    "ohe_val_condition_1"
   ]
  },
  {
   "cell_type": "markdown",
   "metadata": {},
   "source": [
    "# Dataset com Brand nulas"
   ]
  },
  {
   "cell_type": "code",
   "execution_count": null,
   "metadata": {},
   "outputs": [],
   "source": [
    "train_No_brand = train.loc[train.brand_name.isnull()] #Separando todas as linhas nulas  em brand,nesse modelo só teremos valores nulos para essa coluna"
   ]
  },
  {
   "cell_type": "code",
   "execution_count": null,
   "metadata": {},
   "outputs": [],
   "source": [
    "X2 = train_No_brand.drop(\"price\", axis = 1)\n",
    "y2 = train_No_brand[\"price\"]"
   ]
  },
  {
   "cell_type": "code",
   "execution_count": null,
   "metadata": {},
   "outputs": [],
   "source": [
    "X2train, X2val, y2train, y2val = train_test_split(X2, y2, test_size=0.4, random_state=10)"
   ]
  },
  {
   "cell_type": "code",
   "execution_count": null,
   "metadata": {},
   "outputs": [],
   "source": [
    "vce_xtrain_name_2 = vec.fit_transform(X2train[\"name\"])\n",
    "vce_xtrain_descrip_2 = vec.fit_transform(X2train[\"item_description\"])\n",
    "ohe = OneHotEncoder(handle_unknown=\"ignore\")\n",
    "\n",
    "#aplicação dummy nas colunas categóricas.\n",
    "\n",
    "ohe2 = ohe.fit_transform(X2train[[\"item_condition_id\",   \n",
    "                                         \"shipping\",\n",
    "                                         \"gen_cat\",\n",
    "                                         \"sub1_cat\",\n",
    "                                         \"sub2_cat\", \n",
    "                                         \"datetime_month\"]])"
   ]
  },
  {
   "cell_type": "code",
   "execution_count": null,
   "metadata": {},
   "outputs": [],
   "source": [
    "x2_train = hstack([\n",
    "                  (vce_xtrain_name_2),\n",
    "                  (vce_xtrain_descrip_2),\n",
    "                  (ohe2)  \n",
    "                        ])"
   ]
  },
  {
   "cell_type": "code",
   "execution_count": null,
   "metadata": {},
   "outputs": [
    {
     "data": {
      "text/plain": [
       "<379401x10974 sparse matrix of type '<class 'numpy.float64'>'\n",
       "\twith 8902573 stored elements in Compressed Sparse Row format>"
      ]
     },
     "execution_count": 197,
     "metadata": {},
     "output_type": "execute_result"
    }
   ],
   "source": [
    "x2_train"
   ]
  },
  {
   "cell_type": "code",
   "execution_count": null,
   "metadata": {},
   "outputs": [],
   "source": [
    "rfr = RandomForestRegressor(n_estimators=100, n_jobs=-1)\n",
    "\n",
    "model2 = rfr.fit(x2_train[:50000], y2train[:50000])"
   ]
  },
  {
   "cell_type": "code",
   "execution_count": null,
   "metadata": {},
   "outputs": [],
   "source": [
    "\n",
    "vce_xval_name_2 = vec.transform(X1val[\"name\"])\n",
    "vce_xval_descrip_2 = vec.transform(X1val[\"item_description\"])\n",
    "\n",
    "ohe_val_condition_2 = ohe.transform(X1val[[\"item_condition_id\",   \n",
    "                                          \"shipping\",\n",
    "                                          \"gen_cat\",\n",
    "                                          \"sub1_cat\",\n",
    "                                          \"sub2_cat\", \n",
    "                                          \"datetime_month\"]])\n",
    "\n",
    "x_val2 = hstack([(vce_xval_name_2),\n",
    "                (vce_xval_descrip_2), \n",
    "                (ohe_val_condition_2)])\n"
   ]
  },
  {
   "cell_type": "code",
   "execution_count": null,
   "metadata": {},
   "outputs": [
    {
     "data": {
      "text/plain": [
       "<339730x10974 sparse matrix of type '<class 'numpy.float64'>'\n",
       "\twith 7053612 stored elements in Compressed Sparse Row format>"
      ]
     },
     "execution_count": 200,
     "metadata": {},
     "output_type": "execute_result"
    }
   ],
   "source": [
    "x_val2"
   ]
  },
  {
   "cell_type": "markdown",
   "metadata": {},
   "source": [
    "#   Resultados"
   ]
  },
  {
   "cell_type": "code",
   "execution_count": null,
   "metadata": {},
   "outputs": [],
   "source": [
    "p1 = model1.predict(x_val[:150000])"
   ]
  },
  {
   "cell_type": "code",
   "execution_count": null,
   "metadata": {},
   "outputs": [
    {
     "name": "stdout",
     "output_type": "stream",
     "text": [
      "---------------Modelo com brand----------------- \n",
      "RMSLE: 1.129915\n",
      "RMSE: 4070.070590\n"
     ]
    }
   ],
   "source": [
    "print(\"---------------Modelo com brand----------------- \")\n",
    "\n",
    "\n",
    "print('RMSLE: %2f' % mean_squared_log_error(y1val[:150000], y1train[:150000]))\n",
    "print('RMSE: %2f' % (mean_squared_error(y1val[:150000], y1train[:150000])))"
   ]
  },
  {
   "cell_type": "code",
   "execution_count": null,
   "metadata": {},
   "outputs": [],
   "source": [
    "p2 = model2.predict(x_val2[:150000])"
   ]
  },
  {
   "cell_type": "code",
   "execution_count": null,
   "metadata": {},
   "outputs": [
    {
     "name": "stdout",
     "output_type": "stream",
     "text": [
      "---------------Modelo sem brand----------------- \n",
      "RMSLE: 0.977183\n",
      "RMSE: 1540.072510\n"
     ]
    }
   ],
   "source": [
    "print(\"---------------Modelo sem brand----------------- \")\n",
    "\n",
    "\n",
    "print('RMSLE: %2f' % mean_squared_log_error(y2val[:50000], y2train[:50000]))\n",
    "print('RMSE: %2f' % (mean_squared_error(y2val[:50000], y2train[:50000])))"
   ]
  }
 ],
 "metadata": {
  "kernelspec": {
   "display_name": "Python 3.10.4 ('venv': venv)",
   "language": "python",
   "name": "python3"
  },
  "language_info": {
   "codemirror_mode": {
    "name": "ipython",
    "version": 3
   },
   "file_extension": ".py",
   "mimetype": "text/x-python",
   "name": "python",
   "nbconvert_exporter": "python",
   "pygments_lexer": "ipython3",
   "version": "3.10.4"
  },
  "orig_nbformat": 4,
  "vscode": {
   "interpreter": {
    "hash": "e31806f217dd3659a898472d172c6523b4167dde6a8e37d2cd7a062948a5ecc4"
   }
  }
 },
 "nbformat": 4,
 "nbformat_minor": 2
}
