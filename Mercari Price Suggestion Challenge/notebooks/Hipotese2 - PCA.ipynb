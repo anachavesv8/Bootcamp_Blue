{
  "cells": [
    {
      "cell_type": "code",
      "execution_count": 1,
      "metadata": {
        "id": "YE5IZ02zqvik"
      },
      "outputs": [],
      "source": [
        "import pandas as pd\n",
        "import random \n",
        "import numpy as np\n",
        "import re\n",
        "from scipy.sparse import hstack"
      ]
    },
    {
      "cell_type": "code",
      "execution_count": 2,
      "metadata": {
        "id": "AfxWW_PYqvip"
      },
      "outputs": [],
      "source": [
        "import spacy\n",
        "from spacy import displacy\n",
        "nlp = spacy.load('en_core_web_sm')"
      ]
    },
    {
      "cell_type": "code",
      "execution_count": 3,
      "metadata": {
        "id": "ONSOXEzYqvip"
      },
      "outputs": [],
      "source": [
        "\n",
        "from sklearn.model_selection import train_test_split\n",
        "from sklearn.feature_extraction.text import TfidfVectorizer\n",
        "from sklearn.preprocessing import OneHotEncoder\n",
        "from sklearn.compose import ColumnTransformer, make_column_transformer\n",
        "from sklearn.pipeline import Pipeline, make_pipeline"
      ]
    },
    {
      "cell_type": "code",
      "execution_count": 4,
      "metadata": {
        "id": "JsS92m0Fqviq"
      },
      "outputs": [],
      "source": [
        "from sklearn.linear_model import LinearRegression\n",
        "from sklearn.ensemble import RandomForestRegressor"
      ]
    },
    {
      "cell_type": "code",
      "execution_count": 5,
      "metadata": {
        "id": "QtxQY3L-qvir"
      },
      "outputs": [],
      "source": [
        "from pre_processamento import pre_processamento"
      ]
    },
    {
      "cell_type": "code",
      "execution_count": 6,
      "metadata": {
        "id": "jfcy-gcGqvir",
        "colab": {
          "base_uri": "https://localhost:8080/"
        },
        "outputId": "a79ce589-a35a-4d33-a85c-a9a0272157fd"
      },
      "outputs": [
        {
          "output_type": "stream",
          "name": "stdout",
          "text": [
            "Drive already mounted at /content/drive; to attempt to forcibly remount, call drive.mount(\"/content/drive\", force_remount=True).\n"
          ]
        }
      ],
      "source": [
        "from google.colab import drive\n",
        "drive.mount('/content/drive')\n",
        "\n",
        "train = pd.read_csv('/content/drive/MyDrive/Datasets/train.tsv', sep = '\\t')\n",
        "test = pd.read_csv('/content/drive/MyDrive/Datasets/test.tsv', sep = '\\t')"
      ]
    },
    {
      "cell_type": "code",
      "execution_count": 7,
      "metadata": {
        "id": "ArSBFudcqvis"
      },
      "outputs": [],
      "source": [
        "train,test = pre_processamento(train,test)"
      ]
    },
    {
      "cell_type": "code",
      "execution_count": 8,
      "metadata": {
        "id": "RFYCJ7fcqvi2"
      },
      "outputs": [],
      "source": [
        "#Separação em treino e teste para começarmos as transformaçõs, protegendo nossos dados de validação de possíveis vazamentos. \n",
        "X = train.drop(\"price\", axis = 1)\n",
        "y = train[\"price\"]\n",
        "\n",
        "Xtrain, Xval, ytrain, yval = train_test_split(X, y, test_size=0.4, random_state=10) #Divisão em 80/20"
      ]
    },
    {
      "cell_type": "code",
      "execution_count": 9,
      "metadata": {
        "id": "8T8Fa02Lqvi2",
        "outputId": "7c8f2363-60a8-426d-9f78-0e2be3f34239",
        "colab": {
          "base_uri": "https://localhost:8080/",
          "height": 283
        }
      },
      "outputs": [
        {
          "output_type": "execute_result",
          "data": {
            "text/plain": [
              "<matplotlib.axes._subplots.AxesSubplot at 0x7f96719889d0>"
            ]
          },
          "metadata": {},
          "execution_count": 9
        },
        {
          "output_type": "display_data",
          "data": {
            "text/plain": [
              "<Figure size 432x288 with 1 Axes>"
            ],
            "image/png": "[encoded data removed]"
          },
          "metadata": {
            "needs_background": "light"
          }
        }
      ],
      "source": [
        "#Normalizando, com log, o target (price), foi realizado de forma separada para nao terem dados vazados.\n",
        "\n",
        "ytrain =  np.log1p(ytrain)\n",
        "yval =  np.log1p(yval)\n",
        "ytrain.hist()"
      ]
    },
    {
      "cell_type": "code",
      "execution_count": 10,
      "metadata": {
        "id": "CuvDnvCwqvi3",
        "outputId": "41cc7a0a-8cdb-43f1-dab3-a32b34051531",
        "colab": {
          "base_uri": "https://localhost:8080/",
          "height": 250
        }
      },
      "outputs": [
        {
          "output_type": "execute_result",
          "data": {
            "text/plain": [
              "                                            name  item_condition_id  \\\n",
              "285664                                   Jandals                  3   \n",
              "685118   Donkey Kong Country 2 Nintendo Game Boy                  3   \n",
              "974069               NWT Mini hair straightener!                  1   \n",
              "778919                    Sherri Hill prom dress                  2   \n",
              "1092378                          Cardigan Bundle                  3   \n",
              "\n",
              "          brand_name  shipping  \\\n",
              "285664           NaN         0   \n",
              "685118           NaN         1   \n",
              "974069           NaN         1   \n",
              "778919   Sherri Hill         1   \n",
              "1092378          Gap         0   \n",
              "\n",
              "                                          item_description  stock  \\\n",
              "285664                                      Good condition      1   \n",
              "685118   Will work with Nintendo GameBoy Advance SP. Ni...      3   \n",
              "974069   It's purple! Price includes half shipping Trav...     11   \n",
              "778919   Paid over [rm], asking [rm] (willing to negoti...     10   \n",
              "1092378  Two medium cardigans, both size mediums. One f...     17   \n",
              "\n",
              "             gen_cat                sub1_cat            sub2_cat  \\\n",
              "285664         Women                   Shoes             Sandals   \n",
              "685118   Electronics  Video Games & Consoles            Consoles   \n",
              "974069        Beauty     Tools & Accessories  Hair Styling Tools   \n",
              "778919         Women                 Dresses         Full-Length   \n",
              "1092378        Women                Sweaters            Cardigan   \n",
              "\n",
              "         datetime_month  datetime_year  \n",
              "285664              4.0         2018.0  \n",
              "685118              8.0         2018.0  \n",
              "974069             12.0         2018.0  \n",
              "778919              5.0         2018.0  \n",
              "1092378             5.0         2018.0  "
            ],
            "text/html": [
              "\n",
              "  <div id=\"df-424b2bc6-2046-4b95-8d51-2cfb29efff64\">\n",
              "    <div class=\"colab-df-container\">\n",
              "      <div>\n",
              "<style scoped>\n",
              "    .dataframe tbody tr th:only-of-type {\n",
              "        vertical-align: middle;\n",
              "    }\n",
              "\n",
              "    .dataframe tbody tr th {\n",
              "        vertical-align: top;\n",
              "    }\n",
              "\n",
              "    .dataframe thead th {\n",
              "        text-align: right;\n",
              "    }\n",
              "</style>\n",
              "<table border=\"1\" class=\"dataframe\">\n",
              "  <thead>\n",
              "    <tr style=\"text-align: right;\">\n",
              "      <th></th>\n",
              "      <th>name</th>\n",
              "      <th>item_condition_id</th>\n",
              "      <th>brand_name</th>\n",
              "      <th>shipping</th>\n",
              "      <th>item_description</th>\n",
              "      <th>stock</th>\n",
              "      <th>gen_cat</th>\n",
              "      <th>sub1_cat</th>\n",
              "      <th>sub2_cat</th>\n",
              "      <th>datetime_month</th>\n",
              "      <th>datetime_year</th>\n",
              "    </tr>\n",
              "  </thead>\n",
              "  <tbody>\n",
              "    <tr>\n",
              "      <th>285664</th>\n",
              "      <td>Jandals</td>\n",
              "      <td>3</td>\n",
              "      <td>NaN</td>\n",
              "      <td>0</td>\n",
              "      <td>Good condition</td>\n",
              "      <td>1</td>\n",
              "      <td>Women</td>\n",
              "      <td>Shoes</td>\n",
              "      <td>Sandals</td>\n",
              "      <td>4.0</td>\n",
              "      <td>2018.0</td>\n",
              "    </tr>\n",
              "    <tr>\n",
              "      <th>685118</th>\n",
              "      <td>Donkey Kong Country 2 Nintendo Game Boy</td>\n",
              "      <td>3</td>\n",
              "      <td>NaN</td>\n",
              "      <td>1</td>\n",
              "      <td>Will work with Nintendo GameBoy Advance SP. Ni...</td>\n",
              "      <td>3</td>\n",
              "      <td>Electronics</td>\n",
              "      <td>Video Games &amp; Consoles</td>\n",
              "      <td>Consoles</td>\n",
              "      <td>8.0</td>\n",
              "      <td>2018.0</td>\n",
              "    </tr>\n",
              "    <tr>\n",
              "      <th>974069</th>\n",
              "      <td>NWT Mini hair straightener!</td>\n",
              "      <td>1</td>\n",
              "      <td>NaN</td>\n",
              "      <td>1</td>\n",
              "      <td>It's purple! Price includes half shipping Trav...</td>\n",
              "      <td>11</td>\n",
              "      <td>Beauty</td>\n",
              "      <td>Tools &amp; Accessories</td>\n",
              "      <td>Hair Styling Tools</td>\n",
              "      <td>12.0</td>\n",
              "      <td>2018.0</td>\n",
              "    </tr>\n",
              "    <tr>\n",
              "      <th>778919</th>\n",
              "      <td>Sherri Hill prom dress</td>\n",
              "      <td>2</td>\n",
              "      <td>Sherri Hill</td>\n",
              "      <td>1</td>\n",
              "      <td>Paid over [rm], asking [rm] (willing to negoti...</td>\n",
              "      <td>10</td>\n",
              "      <td>Women</td>\n",
              "      <td>Dresses</td>\n",
              "      <td>Full-Length</td>\n",
              "      <td>5.0</td>\n",
              "      <td>2018.0</td>\n",
              "    </tr>\n",
              "    <tr>\n",
              "      <th>1092378</th>\n",
              "      <td>Cardigan Bundle</td>\n",
              "      <td>3</td>\n",
              "      <td>Gap</td>\n",
              "      <td>0</td>\n",
              "      <td>Two medium cardigans, both size mediums. One f...</td>\n",
              "      <td>17</td>\n",
              "      <td>Women</td>\n",
              "      <td>Sweaters</td>\n",
              "      <td>Cardigan</td>\n",
              "      <td>5.0</td>\n",
              "      <td>2018.0</td>\n",
              "    </tr>\n",
              "  </tbody>\n",
              "</table>\n",
              "</div>\n",
              "      <button class=\"colab-df-convert\" onclick=\"convertToInteractive('df-424b2bc6-2046-4b95-8d51-2cfb29efff64')\"\n",
              "              title=\"Convert this dataframe to an interactive table.\"\n",
              "              style=\"display:none;\">\n",
              "        \n",
              "  <svg xmlns=\"http://www.w3.org/2000/svg\" height=\"24px\"viewBox=\"0 0 24 24\"\n",
              "       width=\"24px\">\n",
              "    <path d=\"M0 0h24v24H0V0z\" fill=\"none\"/>\n",
              "    <path d=\"M18.56 5.44l.94 2.06.94-2.06 2.06-.94-2.06-.94-.94-2.06-.94 2.06-2.06.94zm-11 1L8.5 8.5l.94-2.06 2.06-.94-2.06-.94L8.5 2.5l-.94 2.06-2.06.94zm10 10l.94 2.06.94-2.06 2.06-.94-2.06-.94-.94-2.06-.94 2.06-2.06.94z\"/><path d=\"M17.41 7.96l-1.37-1.37c-.4-.4-.92-.59-1.43-.59-.52 0-1.04.2-1.43.59L10.3 9.45l-7.72 7.72c-.78.78-.78 2.05 0 2.83L4 21.41c.39.39.9.59 1.41.59.51 0 1.02-.2 1.41-.59l7.78-7.78 2.81-2.81c.8-.78.8-2.07 0-2.86zM5.41 20L4 18.59l7.72-7.72 1.47 1.35L5.41 20z\"/>\n",
              "  </svg>\n",
              "      </button>\n",
              "      \n",
              "  <style>\n",
              "    .colab-df-container {\n",
              "      display:flex;\n",
              "      flex-wrap:wrap;\n",
              "      gap: 12px;\n",
              "    }\n",
              "\n",
              "    .colab-df-convert {\n",
              "      background-color: #E8F0FE;\n",
              "      border: none;\n",
              "      border-radius: 50%;\n",
              "      cursor: pointer;\n",
              "      display: none;\n",
              "      fill: #1967D2;\n",
              "      height: 32px;\n",
              "      padding: 0 0 0 0;\n",
              "      width: 32px;\n",
              "    }\n",
              "\n",
              "    .colab-df-convert:hover {\n",
              "      background-color: #E2EBFA;\n",
              "      box-shadow: 0px 1px 2px rgba(60, 64, 67, 0.3), 0px 1px 3px 1px rgba(60, 64, 67, 0.15);\n",
              "      fill: #174EA6;\n",
              "    }\n",
              "\n",
              "    [theme=dark] .colab-df-convert {\n",
              "      background-color: #3B4455;\n",
              "      fill: #D2E3FC;\n",
              "    }\n",
              "\n",
              "    [theme=dark] .colab-df-convert:hover {\n",
              "      background-color: #434B5C;\n",
              "      box-shadow: 0px 1px 3px 1px rgba(0, 0, 0, 0.15);\n",
              "      filter: drop-shadow(0px 1px 2px rgba(0, 0, 0, 0.3));\n",
              "      fill: #FFFFFF;\n",
              "    }\n",
              "  </style>\n",
              "\n",
              "      <script>\n",
              "        const buttonEl =\n",
              "          document.querySelector('#df-424b2bc6-2046-4b95-8d51-2cfb29efff64 button.colab-df-convert');\n",
              "        buttonEl.style.display =\n",
              "          google.colab.kernel.accessAllowed ? 'block' : 'none';\n",
              "\n",
              "        async function convertToInteractive(key) {\n",
              "          const element = document.querySelector('#df-424b2bc6-2046-4b95-8d51-2cfb29efff64');\n",
              "          const dataTable =\n",
              "            await google.colab.kernel.invokeFunction('convertToInteractive',\n",
              "                                                     [key], {});\n",
              "          if (!dataTable) return;\n",
              "\n",
              "          const docLinkHtml = 'Like what you see? Visit the ' +\n",
              "            '<a target=\"_blank\" href=https://colab.research.google.com/notebooks/data_table.ipynb>data table notebook</a>'\n",
              "            + ' to learn more about interactive tables.';\n",
              "          element.innerHTML = '';\n",
              "          dataTable['output_type'] = 'display_data';\n",
              "          await google.colab.output.renderOutput(dataTable, element);\n",
              "          const docLink = document.createElement('div');\n",
              "          docLink.innerHTML = docLinkHtml;\n",
              "          element.appendChild(docLink);\n",
              "        }\n",
              "      </script>\n",
              "    </div>\n",
              "  </div>\n",
              "  "
            ]
          },
          "metadata": {},
          "execution_count": 10
        }
      ],
      "source": [
        "Xtrain.head()"
      ]
    },
    {
      "cell_type": "code",
      "execution_count": 11,
      "metadata": {
        "id": "J9BwZkLnqvi3",
        "outputId": "c3d1f0bf-f4ed-4dd6-f038-864c9be4a3d7",
        "colab": {
          "base_uri": "https://localhost:8080/",
          "height": 319
        }
      },
      "outputs": [
        {
          "output_type": "execute_result",
          "data": {
            "text/plain": [
              "                                         name  item_condition_id brand_name  \\\n",
              "20170                        Swiss Army knife                  1        NaN   \n",
              "155565            Dove Soap Mega LOT Assorted                  1       Dove   \n",
              "142735  LOWEST PRICE, HIGHEST QUALITY BLENDER                  1        NaN   \n",
              "709876           Gold aluminum fidget spinner                  1        NaN   \n",
              "723286                             Duffle bag                  3        NaN   \n",
              "\n",
              "        shipping                                   item_description  stock  \\\n",
              "20170          1                   New in original box. Never used.     13   \n",
              "155565         0  (9) 4ct (36 bars total) Dove Soap (5) Febreze ...      1   \n",
              "142735         1  STOP THROWING YOUR MAKEUP AWAY ! ! * ~ * Newes...      7   \n",
              "709876         1  Aluminum fidget spinner: Brand new . Comes in ...     13   \n",
              "723286         0  Used duffle bag Perfect for young girls for tr...     43   \n",
              "\n",
              "                  gen_cat              sub1_cat                sub2_cat  \\\n",
              "20170   Sports & Outdoors              Outdoors        Hiking & Camping   \n",
              "155565              Other  Daily & Travel items           Personal Care   \n",
              "142735             Beauty   Tools & Accessories  Makeup Brushes & Tools   \n",
              "709876               Kids                  Toys                   Games   \n",
              "723286              Women      Women's Handbags        Totes & Shoppers   \n",
              "\n",
              "        datetime_month  datetime_year  \n",
              "20170              4.0         2018.0  \n",
              "155565             6.0         2018.0  \n",
              "142735             1.0         2018.0  \n",
              "709876             5.0         2018.0  \n",
              "723286             2.0         2018.0  "
            ],
            "text/html": [
              "\n",
              "  <div id=\"df-29379a41-9fd0-4030-bdda-4c3e9e5fe553\">\n",
              "    <div class=\"colab-df-container\">\n",
              "      <div>\n",
              "<style scoped>\n",
              "    .dataframe tbody tr th:only-of-type {\n",
              "        vertical-align: middle;\n",
              "    }\n",
              "\n",
              "    .dataframe tbody tr th {\n",
              "        vertical-align: top;\n",
              "    }\n",
              "\n",
              "    .dataframe thead th {\n",
              "        text-align: right;\n",
              "    }\n",
              "</style>\n",
              "<table border=\"1\" class=\"dataframe\">\n",
              "  <thead>\n",
              "    <tr style=\"text-align: right;\">\n",
              "      <th></th>\n",
              "      <th>name</th>\n",
              "      <th>item_condition_id</th>\n",
              "      <th>brand_name</th>\n",
              "      <th>shipping</th>\n",
              "      <th>item_description</th>\n",
              "      <th>stock</th>\n",
              "      <th>gen_cat</th>\n",
              "      <th>sub1_cat</th>\n",
              "      <th>sub2_cat</th>\n",
              "      <th>datetime_month</th>\n",
              "      <th>datetime_year</th>\n",
              "    </tr>\n",
              "  </thead>\n",
              "  <tbody>\n",
              "    <tr>\n",
              "      <th>20170</th>\n",
              "      <td>Swiss Army knife</td>\n",
              "      <td>1</td>\n",
              "      <td>NaN</td>\n",
              "      <td>1</td>\n",
              "      <td>New in original box. Never used.</td>\n",
              "      <td>13</td>\n",
              "      <td>Sports &amp; Outdoors</td>\n",
              "      <td>Outdoors</td>\n",
              "      <td>Hiking &amp; Camping</td>\n",
              "      <td>4.0</td>\n",
              "      <td>2018.0</td>\n",
              "    </tr>\n",
              "    <tr>\n",
              "      <th>155565</th>\n",
              "      <td>Dove Soap Mega LOT Assorted</td>\n",
              "      <td>1</td>\n",
              "      <td>Dove</td>\n",
              "      <td>0</td>\n",
              "      <td>(9) 4ct (36 bars total) Dove Soap (5) Febreze ...</td>\n",
              "      <td>1</td>\n",
              "      <td>Other</td>\n",
              "      <td>Daily &amp; Travel items</td>\n",
              "      <td>Personal Care</td>\n",
              "      <td>6.0</td>\n",
              "      <td>2018.0</td>\n",
              "    </tr>\n",
              "    <tr>\n",
              "      <th>142735</th>\n",
              "      <td>LOWEST PRICE, HIGHEST QUALITY BLENDER</td>\n",
              "      <td>1</td>\n",
              "      <td>NaN</td>\n",
              "      <td>1</td>\n",
              "      <td>STOP THROWING YOUR MAKEUP AWAY ! ! * ~ * Newes...</td>\n",
              "      <td>7</td>\n",
              "      <td>Beauty</td>\n",
              "      <td>Tools &amp; Accessories</td>\n",
              "      <td>Makeup Brushes &amp; Tools</td>\n",
              "      <td>1.0</td>\n",
              "      <td>2018.0</td>\n",
              "    </tr>\n",
              "    <tr>\n",
              "      <th>709876</th>\n",
              "      <td>Gold aluminum fidget spinner</td>\n",
              "      <td>1</td>\n",
              "      <td>NaN</td>\n",
              "      <td>1</td>\n",
              "      <td>Aluminum fidget spinner: Brand new . Comes in ...</td>\n",
              "      <td>13</td>\n",
              "      <td>Kids</td>\n",
              "      <td>Toys</td>\n",
              "      <td>Games</td>\n",
              "      <td>5.0</td>\n",
              "      <td>2018.0</td>\n",
              "    </tr>\n",
              "    <tr>\n",
              "      <th>723286</th>\n",
              "      <td>Duffle bag</td>\n",
              "      <td>3</td>\n",
              "      <td>NaN</td>\n",
              "      <td>0</td>\n",
              "      <td>Used duffle bag Perfect for young girls for tr...</td>\n",
              "      <td>43</td>\n",
              "      <td>Women</td>\n",
              "      <td>Women's Handbags</td>\n",
              "      <td>Totes &amp; Shoppers</td>\n",
              "      <td>2.0</td>\n",
              "      <td>2018.0</td>\n",
              "    </tr>\n",
              "  </tbody>\n",
              "</table>\n",
              "</div>\n",
              "      <button class=\"colab-df-convert\" onclick=\"convertToInteractive('df-29379a41-9fd0-4030-bdda-4c3e9e5fe553')\"\n",
              "              title=\"Convert this dataframe to an interactive table.\"\n",
              "              style=\"display:none;\">\n",
              "        \n",
              "  <svg xmlns=\"http://www.w3.org/2000/svg\" height=\"24px\"viewBox=\"0 0 24 24\"\n",
              "       width=\"24px\">\n",
              "    <path d=\"M0 0h24v24H0V0z\" fill=\"none\"/>\n",
              "    <path d=\"M18.56 5.44l.94 2.06.94-2.06 2.06-.94-2.06-.94-.94-2.06-.94 2.06-2.06.94zm-11 1L8.5 8.5l.94-2.06 2.06-.94-2.06-.94L8.5 2.5l-.94 2.06-2.06.94zm10 10l.94 2.06.94-2.06 2.06-.94-2.06-.94-.94-2.06-.94 2.06-2.06.94z\"/><path d=\"M17.41 7.96l-1.37-1.37c-.4-.4-.92-.59-1.43-.59-.52 0-1.04.2-1.43.59L10.3 9.45l-7.72 7.72c-.78.78-.78 2.05 0 2.83L4 21.41c.39.39.9.59 1.41.59.51 0 1.02-.2 1.41-.59l7.78-7.78 2.81-2.81c.8-.78.8-2.07 0-2.86zM5.41 20L4 18.59l7.72-7.72 1.47 1.35L5.41 20z\"/>\n",
              "  </svg>\n",
              "      </button>\n",
              "      \n",
              "  <style>\n",
              "    .colab-df-container {\n",
              "      display:flex;\n",
              "      flex-wrap:wrap;\n",
              "      gap: 12px;\n",
              "    }\n",
              "\n",
              "    .colab-df-convert {\n",
              "      background-color: #E8F0FE;\n",
              "      border: none;\n",
              "      border-radius: 50%;\n",
              "      cursor: pointer;\n",
              "      display: none;\n",
              "      fill: #1967D2;\n",
              "      height: 32px;\n",
              "      padding: 0 0 0 0;\n",
              "      width: 32px;\n",
              "    }\n",
              "\n",
              "    .colab-df-convert:hover {\n",
              "      background-color: #E2EBFA;\n",
              "      box-shadow: 0px 1px 2px rgba(60, 64, 67, 0.3), 0px 1px 3px 1px rgba(60, 64, 67, 0.15);\n",
              "      fill: #174EA6;\n",
              "    }\n",
              "\n",
              "    [theme=dark] .colab-df-convert {\n",
              "      background-color: #3B4455;\n",
              "      fill: #D2E3FC;\n",
              "    }\n",
              "\n",
              "    [theme=dark] .colab-df-convert:hover {\n",
              "      background-color: #434B5C;\n",
              "      box-shadow: 0px 1px 3px 1px rgba(0, 0, 0, 0.15);\n",
              "      filter: drop-shadow(0px 1px 2px rgba(0, 0, 0, 0.3));\n",
              "      fill: #FFFFFF;\n",
              "    }\n",
              "  </style>\n",
              "\n",
              "      <script>\n",
              "        const buttonEl =\n",
              "          document.querySelector('#df-29379a41-9fd0-4030-bdda-4c3e9e5fe553 button.colab-df-convert');\n",
              "        buttonEl.style.display =\n",
              "          google.colab.kernel.accessAllowed ? 'block' : 'none';\n",
              "\n",
              "        async function convertToInteractive(key) {\n",
              "          const element = document.querySelector('#df-29379a41-9fd0-4030-bdda-4c3e9e5fe553');\n",
              "          const dataTable =\n",
              "            await google.colab.kernel.invokeFunction('convertToInteractive',\n",
              "                                                     [key], {});\n",
              "          if (!dataTable) return;\n",
              "\n",
              "          const docLinkHtml = 'Like what you see? Visit the ' +\n",
              "            '<a target=\"_blank\" href=https://colab.research.google.com/notebooks/data_table.ipynb>data table notebook</a>'\n",
              "            + ' to learn more about interactive tables.';\n",
              "          element.innerHTML = '';\n",
              "          dataTable['output_type'] = 'display_data';\n",
              "          await google.colab.output.renderOutput(dataTable, element);\n",
              "          const docLink = document.createElement('div');\n",
              "          docLink.innerHTML = docLinkHtml;\n",
              "          element.appendChild(docLink);\n",
              "        }\n",
              "      </script>\n",
              "    </div>\n",
              "  </div>\n",
              "  "
            ]
          },
          "metadata": {},
          "execution_count": 11
        }
      ],
      "source": [
        "Xval.head()"
      ]
    },
    {
      "cell_type": "markdown",
      "metadata": {
        "id": "NE9sfj3Fqvi4"
      },
      "source": [
        "#   Pré-processamento"
      ]
    },
    {
      "cell_type": "code",
      "execution_count": 12,
      "metadata": {
        "id": "P_fkOBRgqvi4"
      },
      "outputs": [],
      "source": [
        "#Função para \"separação\" de palavras, ex: Can't -> can not, objetivo de facilitar a limpeza, aonde não serão criadas duas palavras para cant/can not.\n",
        "# Será feito para diversas palavras com a mesma condição.\n",
        "\n",
        "def text_preprocess(phrase):\n",
        "    \n",
        "    phrase = re.sub(r\"won\\'t\", \"will not\", phrase)\n",
        "    phrase = re.sub(r\"can\\'t\", \"can not\", phrase)\n",
        "    phrase = re.sub(r\"n\\'t\", \" not\", phrase)\n",
        "    phrase = re.sub(r\"\\'re\", \" are\", phrase)\n",
        "    phrase = re.sub(r\"\\'s\", \" is\", phrase)\n",
        "    phrase = re.sub(r\"\\'d\", \" would\", phrase)\n",
        "    phrase = re.sub(r\"\\'ll\", \" will\", phrase)\n",
        "    phrase = re.sub(r\"\\'t\", \" not\", phrase)\n",
        "    phrase = re.sub(r\"\\'ve\", \" have\", phrase)\n",
        "    phrase = re.sub(r\"\\'m\", \" am\", phrase)\n",
        "    \n",
        "    phrase = re.sub('https?://\\S+| www.\\S+', '', phrase) #Remoção de qualquer site que possa ter no nosso dataset\n",
        "    phrase = re.sub(\"[^a-zA-Z0-9' \\n\\.]\", '', phrase)  #excluindo tudo o que não for letra e numero.\n",
        "    \n",
        "    phrase = re.sub(' +', ' ', phrase) #exclusão de espaços extras, ex: \"eu    vou\" -> \"eu vou\"\n",
        "\n",
        "    phrase = phrase.lower() #passando para letra minúscula.\n",
        "\n",
        "   \n",
        "    return phrase"
      ]
    },
    {
      "cell_type": "code",
      "execution_count": 13,
      "metadata": {
        "id": "wQRJjK2Wqvi5"
      },
      "outputs": [],
      "source": [
        "Xtrain[\"name\"] = Xtrain[\"name\"].apply(lambda x: text_preprocess(x))"
      ]
    },
    {
      "cell_type": "code",
      "execution_count": 14,
      "metadata": {
        "id": "XDTY_ApIqvi5"
      },
      "outputs": [],
      "source": [
        "Xtrain[\"item_description\"] = Xtrain[\"item_description\"].astype(str)"
      ]
    },
    {
      "cell_type": "code",
      "execution_count": 15,
      "metadata": {
        "id": "Kg3W1HxIqvi5"
      },
      "outputs": [],
      "source": [
        "Xtrain[\"item_description\"] = Xtrain[\"item_description\"].apply(lambda x: text_preprocess(x))"
      ]
    },
    {
      "cell_type": "code",
      "execution_count": 16,
      "metadata": {
        "id": "xTDxK91Aqvi5",
        "outputId": "90e90e33-170d-486e-ba65-3756c1096203",
        "colab": {
          "base_uri": "https://localhost:8080/",
          "height": 537
        }
      },
      "outputs": [
        {
          "output_type": "execute_result",
          "data": {
            "text/plain": [
              "                                            name  item_condition_id  \\\n",
              "285664                                   jandals                  3   \n",
              "685118   donkey kong country 2 nintendo game boy                  3   \n",
              "974069                nwt mini hair straightener                  1   \n",
              "778919                    sherri hill prom dress                  2   \n",
              "1092378                          cardigan bundle                  3   \n",
              "...                                          ...                ...   \n",
              "1349096                    drifit style leggings                  2   \n",
              "1154832                        bundle for bonnie                  2   \n",
              "618168                         jordan 6 retro is                  2   \n",
              "1049143          vintage victoria is secret slip                  3   \n",
              "1394748                    hm men t shirt size l                  3   \n",
              "\n",
              "                brand_name  shipping  \\\n",
              "285664                 NaN         0   \n",
              "685118                 NaN         1   \n",
              "974069                 NaN         1   \n",
              "778919         Sherri Hill         1   \n",
              "1092378                Gap         0   \n",
              "...                    ...       ...   \n",
              "1349096      No Boundaries         0   \n",
              "1154832            Mossimo         0   \n",
              "618168                 NaN         0   \n",
              "1049143  Victoria's Secret         0   \n",
              "1394748                H&M         1   \n",
              "\n",
              "                                          item_description  stock  \\\n",
              "285664                                      good condition      1   \n",
              "685118   will work with nintendo gameboy advance sp. ni...      3   \n",
              "974069   it is purple price includes half shipping trav...     11   \n",
              "778919   paid over rm asking rm willing to negotiate si...     10   \n",
              "1092378  two medium cardigans both size mediums. one fr...     17   \n",
              "...                                                    ...    ...   \n",
              "1349096                                 no description yet     19   \n",
              "1154832  size 4. beautiful dress with stretchy fabric t...      3   \n",
              "618168   item for sale jordan 6 retro is size 10c condi...      4   \n",
              "1049143  vintage gold tag victoria is secret lingerie s...      1   \n",
              "1394748                                 no description yet      6   \n",
              "\n",
              "             gen_cat                sub1_cat                 sub2_cat  \\\n",
              "285664         Women                   Shoes                  Sandals   \n",
              "685118   Electronics  Video Games & Consoles                 Consoles   \n",
              "974069        Beauty     Tools & Accessories       Hair Styling Tools   \n",
              "778919         Women                 Dresses              Full-Length   \n",
              "1092378        Women                Sweaters                 Cardigan   \n",
              "...              ...                     ...                      ...   \n",
              "1349096        Women        Athletic Apparel  Pants, Tights, Leggings   \n",
              "1154832        Women                 Dresses              Knee-Length   \n",
              "618168          Kids              Boys 2T-5T                    Shoes   \n",
              "1049143        Women          Tops & Blouses               Tank, Cami   \n",
              "1394748          Men                    Tops                 T-shirts   \n",
              "\n",
              "         datetime_month  datetime_year  \n",
              "285664              4.0         2018.0  \n",
              "685118              8.0         2018.0  \n",
              "974069             12.0         2018.0  \n",
              "778919              5.0         2018.0  \n",
              "1092378             5.0         2018.0  \n",
              "...                 ...            ...  \n",
              "1349096            11.0         2018.0  \n",
              "1154832            10.0         2018.0  \n",
              "618168             12.0         2018.0  \n",
              "1049143             6.0         2018.0  \n",
              "1394748             8.0         2018.0  \n",
              "\n",
              "[888996 rows x 11 columns]"
            ],
            "text/html": [
              "\n",
              "  <div id=\"df-26d28216-13b5-4399-b46e-64b2087c3e64\">\n",
              "    <div class=\"colab-df-container\">\n",
              "      <div>\n",
              "<style scoped>\n",
              "    .dataframe tbody tr th:only-of-type {\n",
              "        vertical-align: middle;\n",
              "    }\n",
              "\n",
              "    .dataframe tbody tr th {\n",
              "        vertical-align: top;\n",
              "    }\n",
              "\n",
              "    .dataframe thead th {\n",
              "        text-align: right;\n",
              "    }\n",
              "</style>\n",
              "<table border=\"1\" class=\"dataframe\">\n",
              "  <thead>\n",
              "    <tr style=\"text-align: right;\">\n",
              "      <th></th>\n",
              "      <th>name</th>\n",
              "      <th>item_condition_id</th>\n",
              "      <th>brand_name</th>\n",
              "      <th>shipping</th>\n",
              "      <th>item_description</th>\n",
              "      <th>stock</th>\n",
              "      <th>gen_cat</th>\n",
              "      <th>sub1_cat</th>\n",
              "      <th>sub2_cat</th>\n",
              "      <th>datetime_month</th>\n",
              "      <th>datetime_year</th>\n",
              "    </tr>\n",
              "  </thead>\n",
              "  <tbody>\n",
              "    <tr>\n",
              "      <th>285664</th>\n",
              "      <td>jandals</td>\n",
              "      <td>3</td>\n",
              "      <td>NaN</td>\n",
              "      <td>0</td>\n",
              "      <td>good condition</td>\n",
              "      <td>1</td>\n",
              "      <td>Women</td>\n",
              "      <td>Shoes</td>\n",
              "      <td>Sandals</td>\n",
              "      <td>4.0</td>\n",
              "      <td>2018.0</td>\n",
              "    </tr>\n",
              "    <tr>\n",
              "      <th>685118</th>\n",
              "      <td>donkey kong country 2 nintendo game boy</td>\n",
              "      <td>3</td>\n",
              "      <td>NaN</td>\n",
              "      <td>1</td>\n",
              "      <td>will work with nintendo gameboy advance sp. ni...</td>\n",
              "      <td>3</td>\n",
              "      <td>Electronics</td>\n",
              "      <td>Video Games &amp; Consoles</td>\n",
              "      <td>Consoles</td>\n",
              "      <td>8.0</td>\n",
              "      <td>2018.0</td>\n",
              "    </tr>\n",
              "    <tr>\n",
              "      <th>974069</th>\n",
              "      <td>nwt mini hair straightener</td>\n",
              "      <td>1</td>\n",
              "      <td>NaN</td>\n",
              "      <td>1</td>\n",
              "      <td>it is purple price includes half shipping trav...</td>\n",
              "      <td>11</td>\n",
              "      <td>Beauty</td>\n",
              "      <td>Tools &amp; Accessories</td>\n",
              "      <td>Hair Styling Tools</td>\n",
              "      <td>12.0</td>\n",
              "      <td>2018.0</td>\n",
              "    </tr>\n",
              "    <tr>\n",
              "      <th>778919</th>\n",
              "      <td>sherri hill prom dress</td>\n",
              "      <td>2</td>\n",
              "      <td>Sherri Hill</td>\n",
              "      <td>1</td>\n",
              "      <td>paid over rm asking rm willing to negotiate si...</td>\n",
              "      <td>10</td>\n",
              "      <td>Women</td>\n",
              "      <td>Dresses</td>\n",
              "      <td>Full-Length</td>\n",
              "      <td>5.0</td>\n",
              "      <td>2018.0</td>\n",
              "    </tr>\n",
              "    <tr>\n",
              "      <th>1092378</th>\n",
              "      <td>cardigan bundle</td>\n",
              "      <td>3</td>\n",
              "      <td>Gap</td>\n",
              "      <td>0</td>\n",
              "      <td>two medium cardigans both size mediums. one fr...</td>\n",
              "      <td>17</td>\n",
              "      <td>Women</td>\n",
              "      <td>Sweaters</td>\n",
              "      <td>Cardigan</td>\n",
              "      <td>5.0</td>\n",
              "      <td>2018.0</td>\n",
              "    </tr>\n",
              "    <tr>\n",
              "      <th>...</th>\n",
              "      <td>...</td>\n",
              "      <td>...</td>\n",
              "      <td>...</td>\n",
              "      <td>...</td>\n",
              "      <td>...</td>\n",
              "      <td>...</td>\n",
              "      <td>...</td>\n",
              "      <td>...</td>\n",
              "      <td>...</td>\n",
              "      <td>...</td>\n",
              "      <td>...</td>\n",
              "    </tr>\n",
              "    <tr>\n",
              "      <th>1349096</th>\n",
              "      <td>drifit style leggings</td>\n",
              "      <td>2</td>\n",
              "      <td>No Boundaries</td>\n",
              "      <td>0</td>\n",
              "      <td>no description yet</td>\n",
              "      <td>19</td>\n",
              "      <td>Women</td>\n",
              "      <td>Athletic Apparel</td>\n",
              "      <td>Pants, Tights, Leggings</td>\n",
              "      <td>11.0</td>\n",
              "      <td>2018.0</td>\n",
              "    </tr>\n",
              "    <tr>\n",
              "      <th>1154832</th>\n",
              "      <td>bundle for bonnie</td>\n",
              "      <td>2</td>\n",
              "      <td>Mossimo</td>\n",
              "      <td>0</td>\n",
              "      <td>size 4. beautiful dress with stretchy fabric t...</td>\n",
              "      <td>3</td>\n",
              "      <td>Women</td>\n",
              "      <td>Dresses</td>\n",
              "      <td>Knee-Length</td>\n",
              "      <td>10.0</td>\n",
              "      <td>2018.0</td>\n",
              "    </tr>\n",
              "    <tr>\n",
              "      <th>618168</th>\n",
              "      <td>jordan 6 retro is</td>\n",
              "      <td>2</td>\n",
              "      <td>NaN</td>\n",
              "      <td>0</td>\n",
              "      <td>item for sale jordan 6 retro is size 10c condi...</td>\n",
              "      <td>4</td>\n",
              "      <td>Kids</td>\n",
              "      <td>Boys 2T-5T</td>\n",
              "      <td>Shoes</td>\n",
              "      <td>12.0</td>\n",
              "      <td>2018.0</td>\n",
              "    </tr>\n",
              "    <tr>\n",
              "      <th>1049143</th>\n",
              "      <td>vintage victoria is secret slip</td>\n",
              "      <td>3</td>\n",
              "      <td>Victoria's Secret</td>\n",
              "      <td>0</td>\n",
              "      <td>vintage gold tag victoria is secret lingerie s...</td>\n",
              "      <td>1</td>\n",
              "      <td>Women</td>\n",
              "      <td>Tops &amp; Blouses</td>\n",
              "      <td>Tank, Cami</td>\n",
              "      <td>6.0</td>\n",
              "      <td>2018.0</td>\n",
              "    </tr>\n",
              "    <tr>\n",
              "      <th>1394748</th>\n",
              "      <td>hm men t shirt size l</td>\n",
              "      <td>3</td>\n",
              "      <td>H&amp;M</td>\n",
              "      <td>1</td>\n",
              "      <td>no description yet</td>\n",
              "      <td>6</td>\n",
              "      <td>Men</td>\n",
              "      <td>Tops</td>\n",
              "      <td>T-shirts</td>\n",
              "      <td>8.0</td>\n",
              "      <td>2018.0</td>\n",
              "    </tr>\n",
              "  </tbody>\n",
              "</table>\n",
              "<p>888996 rows × 11 columns</p>\n",
              "</div>\n",
              "      <button class=\"colab-df-convert\" onclick=\"convertToInteractive('df-26d28216-13b5-4399-b46e-64b2087c3e64')\"\n",
              "              title=\"Convert this dataframe to an interactive table.\"\n",
              "              style=\"display:none;\">\n",
              "        \n",
              "  <svg xmlns=\"http://www.w3.org/2000/svg\" height=\"24px\"viewBox=\"0 0 24 24\"\n",
              "       width=\"24px\">\n",
              "    <path d=\"M0 0h24v24H0V0z\" fill=\"none\"/>\n",
              "    <path d=\"M18.56 5.44l.94 2.06.94-2.06 2.06-.94-2.06-.94-.94-2.06-.94 2.06-2.06.94zm-11 1L8.5 8.5l.94-2.06 2.06-.94-2.06-.94L8.5 2.5l-.94 2.06-2.06.94zm10 10l.94 2.06.94-2.06 2.06-.94-2.06-.94-.94-2.06-.94 2.06-2.06.94z\"/><path d=\"M17.41 7.96l-1.37-1.37c-.4-.4-.92-.59-1.43-.59-.52 0-1.04.2-1.43.59L10.3 9.45l-7.72 7.72c-.78.78-.78 2.05 0 2.83L4 21.41c.39.39.9.59 1.41.59.51 0 1.02-.2 1.41-.59l7.78-7.78 2.81-2.81c.8-.78.8-2.07 0-2.86zM5.41 20L4 18.59l7.72-7.72 1.47 1.35L5.41 20z\"/>\n",
              "  </svg>\n",
              "      </button>\n",
              "      \n",
              "  <style>\n",
              "    .colab-df-container {\n",
              "      display:flex;\n",
              "      flex-wrap:wrap;\n",
              "      gap: 12px;\n",
              "    }\n",
              "\n",
              "    .colab-df-convert {\n",
              "      background-color: #E8F0FE;\n",
              "      border: none;\n",
              "      border-radius: 50%;\n",
              "      cursor: pointer;\n",
              "      display: none;\n",
              "      fill: #1967D2;\n",
              "      height: 32px;\n",
              "      padding: 0 0 0 0;\n",
              "      width: 32px;\n",
              "    }\n",
              "\n",
              "    .colab-df-convert:hover {\n",
              "      background-color: #E2EBFA;\n",
              "      box-shadow: 0px 1px 2px rgba(60, 64, 67, 0.3), 0px 1px 3px 1px rgba(60, 64, 67, 0.15);\n",
              "      fill: #174EA6;\n",
              "    }\n",
              "\n",
              "    [theme=dark] .colab-df-convert {\n",
              "      background-color: #3B4455;\n",
              "      fill: #D2E3FC;\n",
              "    }\n",
              "\n",
              "    [theme=dark] .colab-df-convert:hover {\n",
              "      background-color: #434B5C;\n",
              "      box-shadow: 0px 1px 3px 1px rgba(0, 0, 0, 0.15);\n",
              "      filter: drop-shadow(0px 1px 2px rgba(0, 0, 0, 0.3));\n",
              "      fill: #FFFFFF;\n",
              "    }\n",
              "  </style>\n",
              "\n",
              "      <script>\n",
              "        const buttonEl =\n",
              "          document.querySelector('#df-26d28216-13b5-4399-b46e-64b2087c3e64 button.colab-df-convert');\n",
              "        buttonEl.style.display =\n",
              "          google.colab.kernel.accessAllowed ? 'block' : 'none';\n",
              "\n",
              "        async function convertToInteractive(key) {\n",
              "          const element = document.querySelector('#df-26d28216-13b5-4399-b46e-64b2087c3e64');\n",
              "          const dataTable =\n",
              "            await google.colab.kernel.invokeFunction('convertToInteractive',\n",
              "                                                     [key], {});\n",
              "          if (!dataTable) return;\n",
              "\n",
              "          const docLinkHtml = 'Like what you see? Visit the ' +\n",
              "            '<a target=\"_blank\" href=https://colab.research.google.com/notebooks/data_table.ipynb>data table notebook</a>'\n",
              "            + ' to learn more about interactive tables.';\n",
              "          element.innerHTML = '';\n",
              "          dataTable['output_type'] = 'display_data';\n",
              "          await google.colab.output.renderOutput(dataTable, element);\n",
              "          const docLink = document.createElement('div');\n",
              "          docLink.innerHTML = docLinkHtml;\n",
              "          element.appendChild(docLink);\n",
              "        }\n",
              "      </script>\n",
              "    </div>\n",
              "  </div>\n",
              "  "
            ]
          },
          "metadata": {},
          "execution_count": 16
        }
      ],
      "source": [
        "Xtrain"
      ]
    },
    {
      "cell_type": "code",
      "execution_count": 17,
      "metadata": {
        "id": "lOfgD4g5qvi5"
      },
      "outputs": [],
      "source": [
        "vec_name = TfidfVectorizer(stop_words='english', ngram_range=(1,2), min_df = 50, max_df = 0.5) #vetorização, com stop word. \n",
        "vec_desc = TfidfVectorizer(stop_words='english', ngram_range=(1,2), min_df = 50, max_df = 0.5) #vetorização, com stop word. \n",
        "\n",
        "vce_xtrain_name = vec_name.fit_transform(Xtrain[\"name\"])\n",
        "vce_xtrain_descrip = vec_desc.fit_transform(Xtrain[\"item_description\"])"
      ]
    },
    {
      "cell_type": "code",
      "execution_count": 18,
      "metadata": {
        "id": "U0WR6VEfqvi6",
        "outputId": "51d0e92e-57de-4286-9c7c-1eae6521ca5a",
        "colab": {
          "base_uri": "https://localhost:8080/"
        }
      },
      "outputs": [
        {
          "output_type": "execute_result",
          "data": {
            "text/plain": [
              "<888996x39930 sparse matrix of type '<class 'numpy.float64'>'\n",
              "\twith 17587568 stored elements in Compressed Sparse Row format>"
            ]
          },
          "metadata": {},
          "execution_count": 18
        }
      ],
      "source": [
        "vce_xtrain_descrip"
      ]
    },
    {
      "cell_type": "code",
      "execution_count": 19,
      "metadata": {
        "id": "hdyYr5gRqvi6"
      },
      "outputs": [],
      "source": [
        "ohe = OneHotEncoder(handle_unknown=\"ignore\")\n",
        "\n",
        "#aplicação dummy nas colunas categóricas.\n",
        "\n",
        "ohe_condition = ohe.fit_transform(Xtrain[[\"item_condition_id\",   \n",
        "                                         \"shipping\",\n",
        "                                         \"brand_name\",\n",
        "                                         \"gen_cat\",\n",
        "                                         \"sub1_cat\",\n",
        "                                         \"sub2_cat\", \n",
        "                                         \"datetime_month\"]])"
      ]
    },
    {
      "cell_type": "code",
      "source": [
        "ohe_condition"
      ],
      "metadata": {
        "colab": {
          "base_uri": "https://localhost:8080/"
        },
        "id": "rn0ayn7TBIoO",
        "outputId": "9a9d8fa1-8808-4bb2-c44d-c8b0e426fd12"
      },
      "execution_count": 20,
      "outputs": [
        {
          "output_type": "execute_result",
          "data": {
            "text/plain": [
              "<888996x5177 sparse matrix of type '<class 'numpy.float64'>'\n",
              "\twith 6222972 stored elements in Compressed Sparse Row format>"
            ]
          },
          "metadata": {},
          "execution_count": 20
        }
      ]
    },
    {
      "cell_type": "code",
      "execution_count": 21,
      "metadata": {
        "id": "4Q7zYZA8qvi7",
        "colab": {
          "base_uri": "https://localhost:8080/"
        },
        "outputId": "c8e48bbc-bdab-47ef-f42f-acc7ce64248b"
      },
      "outputs": [
        {
          "output_type": "execute_result",
          "data": {
            "text/plain": [
              "array([[ 1.62442960e+00, -9.10209507e-01,  5.62755761e-02, ...,\n",
              "         9.84411267e-04,  1.57342688e-02, -1.26034833e-02],\n",
              "       [ 1.11343382e+00,  5.74376333e-01,  3.13792360e-01, ...,\n",
              "        -5.09888620e-03, -6.48935671e-02, -5.42784093e-03],\n",
              "       [ 1.27952207e+00,  1.32367342e+00, -3.61661182e-01, ...,\n",
              "        -5.30189949e-03,  2.20262815e-02, -1.32043341e-02],\n",
              "       ...,\n",
              "       [ 1.18222970e+00, -4.84398829e-01, -5.68764875e-01, ...,\n",
              "         2.27077204e-02,  1.15062172e-01,  3.70706354e-02],\n",
              "       [ 1.26828866e+00, -1.12311098e+00,  3.81476400e-01, ...,\n",
              "        -5.85960079e-03, -1.67390772e-04, -2.97568100e-02],\n",
              "       [ 7.52920717e-01,  2.63368546e-01,  5.33019622e-01, ...,\n",
              "        -1.14776636e-02, -1.28680347e-03,  2.23340734e-02]])"
            ]
          },
          "metadata": {},
          "execution_count": 21
        }
      ],
      "source": [
        "#juntando cada matrix gerada por cada pré-processamento\n",
        "from sklearn.decomposition import TruncatedSVD\n",
        "\n",
        "x_train = hstack([(ohe_condition), (vce_xtrain_name), (vce_xtrain_descrip)])\n",
        "\n",
        "svd = TruncatedSVD(n_components=100, algorithm = 'arpack', tol=0.1)\n",
        "\n",
        "x_train_pca = svd.fit_transform(x_train)\n",
        "x_train_pca"
      ]
    },
    {
      "cell_type": "code",
      "execution_count": 22,
      "metadata": {
        "id": "1ApVHo9-qvi7"
      },
      "outputs": [],
      "source": [
        "lr = LinearRegression()\n",
        "\n",
        "model = lr.fit(x_train_pca, ytrain)"
      ]
    },
    {
      "cell_type": "code",
      "source": [
        "Xval[\"name\"] = Xval[\"name\"].apply(lambda x: text_preprocess(x))\n",
        "Xval[\"item_description\"] = Xval[\"item_description\"].astype(str)\n",
        "Xval[\"item_description\"] = Xval[\"item_description\"].apply(lambda x: text_preprocess(x))\n",
        "\n",
        "vce_xval_name = vec_name.transform(Xval[\"name\"])\n",
        "vce_xval_descrip = vec_desc.transform(Xval[\"item_description\"])\n",
        "\n",
        "ohe_val_condition = ohe.transform(Xval[[\"item_condition_id\",   \n",
        "                                          \"shipping\",\n",
        "                                          \"brand_name\",\n",
        "                                          \"gen_cat\",\n",
        "                                          \"sub1_cat\",\n",
        "                                          \"sub2_cat\", \n",
        "                                          \"datetime_month\"]])\n",
        "\n",
        "x_val = hstack([(ohe_val_condition), (vce_xval_name), (vce_xval_descrip)])"
      ],
      "metadata": {
        "id": "LW3ZvP9evLS1"
      },
      "execution_count": 24,
      "outputs": []
    },
    {
      "cell_type": "code",
      "source": [
        "import math\n",
        "from sklearn.metrics import mean_squared_error, mean_squared_log_error, mean_absolute_error\n",
        "\n",
        "x_val_pca = svd.transform(x_val)\n",
        "\n",
        "y_true = [math.exp(i)-1 for i in yval.values]\n",
        "y_pred = [math.exp(i)-1 for i in model.predict(x_val_pca)]\n",
        "\n",
        "print(mean_absolute_error(y_true,y_pred))\n",
        "print(mean_squared_error(y_true,y_pred))\n",
        "print(mean_squared_log_error(y_true,y_pred))"
      ],
      "metadata": {
        "id": "HwIbBR9TvDns",
        "colab": {
          "base_uri": "https://localhost:8080/"
        },
        "outputId": "84945da5-242d-4c08-ebd5-c9cd9be4b7a6"
      },
      "execution_count": 25,
      "outputs": [
        {
          "output_type": "stream",
          "name": "stdout",
          "text": [
            "14.315523059997263\n",
            "1327.9410643163303\n",
            "0.4139522366756458\n"
          ]
        }
      ]
    },
    {
      "cell_type": "code",
      "source": [
        "import matplotlib.pyplot as plt\n",
        "\n",
        "plt.figure(figsize=(10,10))\n",
        "plt.scatter(x=y_true, y=y_pred)"
      ],
      "metadata": {
        "id": "BAjmAHSCsyJU",
        "outputId": "44399a97-e4d4-44d1-d832-d2ffb915c929",
        "colab": {
          "base_uri": "https://localhost:8080/",
          "height": 610
        }
      },
      "execution_count": 29,
      "outputs": [
        {
          "output_type": "execute_result",
          "data": {
            "text/plain": [
              "<matplotlib.collections.PathCollection at 0x7f964b18af90>"
            ]
          },
          "metadata": {},
          "execution_count": 29
        },
        {
          "output_type": "display_data",
          "data": {
            "text/plain": [
              "<Figure size 720x720 with 1 Axes>"
            ],
            "image/png": "[encoded data removed]"
          },
          "metadata": {
            "needs_background": "light"
          }
        }
      ]
    }
  ],
  "metadata": {
    "kernelspec": {
      "display_name": "Python 3.10.4 ('venv': venv)",
      "language": "python",
      "name": "python3"
    },
    "language_info": {
      "codemirror_mode": {
        "name": "ipython",
        "version": 3
      },
      "file_extension": ".py",
      "mimetype": "text/x-python",
      "name": "python",
      "nbconvert_exporter": "python",
      "pygments_lexer": "ipython3",
      "version": "3.10.4"
    },
    "orig_nbformat": 4,
    "vscode": {
      "interpreter": {
        "hash": "e31806f217dd3659a898472d172c6523b4167dde6a8e37d2cd7a062948a5ecc4"
      }
    },
    "colab": {
      "provenance": [],
      "collapsed_sections": []
    }
  },
  "nbformat": 4,
  "nbformat_minor": 0
}