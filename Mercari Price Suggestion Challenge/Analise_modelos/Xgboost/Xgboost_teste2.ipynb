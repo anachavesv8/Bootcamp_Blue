{
 "cells": [
  {
   "cell_type": "markdown",
   "metadata": {},
   "source": [
    "#   Bibliotecas"
   ]
  },
  {
   "cell_type": "code",
   "execution_count": 1,
   "metadata": {},
   "outputs": [],
   "source": [
    "import pandas as pd\n",
    "import random \n",
    "import numpy as np\n",
    "import re\n",
    "from scipy.sparse import hstack #utilizada para a junção de matrizes"
   ]
  },
  {
   "cell_type": "code",
   "execution_count": 2,
   "metadata": {},
   "outputs": [],
   "source": [
    "#Pré processamento de colunas\n",
    "\n",
    "from sklearn.model_selection import train_test_split #Divisão do dataset entre treino e teste\n",
    "from sklearn.feature_extraction.text import TfidfVectorizer #vetorização do dataset\n",
    "from sklearn.preprocessing import OneHotEncoder #aplicação de dummy"
   ]
  },
  {
   "cell_type": "code",
   "execution_count": 3,
   "metadata": {},
   "outputs": [
    {
     "name": "stderr",
     "output_type": "stream",
     "text": [
      "[nltk_data] Downloading package stopwords to\n",
      "[nltk_data]     C:\\Users\\angel\\AppData\\Roaming\\nltk_data...\n",
      "[nltk_data]   Package stopwords is already up-to-date!\n",
      "[nltk_data] Downloading package wordnet to\n",
      "[nltk_data]     C:\\Users\\angel\\AppData\\Roaming\\nltk_data...\n",
      "[nltk_data]   Package wordnet is already up-to-date!\n"
     ]
    },
    {
     "data": {
      "text/plain": [
       "True"
      ]
     },
     "execution_count": 3,
     "metadata": {},
     "output_type": "execute_result"
    }
   ],
   "source": [
    "#Pré processamento de texto\n",
    "\n",
    "\n",
    "import nltk\n",
    "from nltk import word_tokenize #tokenizador\n",
    "from nltk.stem import PorterStemmer\n",
    "from nltk.corpus import stopwords   #stopword\n",
    "\n",
    "stop_words = stopwords.words('english')\n",
    "nltk.download('stopwords')\n",
    "nltk.download('wordnet')\n"
   ]
  },
  {
   "cell_type": "code",
   "execution_count": 4,
   "metadata": {},
   "outputs": [],
   "source": [
    "#import de funções do arquivo pre_processamento\n",
    "\n",
    "from pre_processamento import pre_processamento, text_preprocess, textcolumns_junct,stemming"
   ]
  },
  {
   "cell_type": "code",
   "execution_count": 5,
   "metadata": {},
   "outputs": [],
   "source": [
    "# Modelo a ser testado\n",
    "\n",
    "from xgboost import XGBRegressor "
   ]
  },
  {
   "cell_type": "code",
   "execution_count": 6,
   "metadata": {},
   "outputs": [],
   "source": [
    "#metricas\n",
    "\n",
    "from sklearn.metrics import mean_squared_error, mean_absolute_error, mean_squared_log_error"
   ]
  },
  {
   "cell_type": "code",
   "execution_count": 7,
   "metadata": {},
   "outputs": [],
   "source": [
    "train = pd.read_csv(r\"C:\\Users\\angel\\Desktop\\bootcamp\\train.tsv\", sep='\\t')\n",
    "test = pd.read_csv(r\"C:\\Users\\angel\\Desktop\\bootcamp\\test.tsv\", sep='\\t')"
   ]
  },
  {
   "cell_type": "code",
   "execution_count": 8,
   "metadata": {},
   "outputs": [],
   "source": [
    "train,test = pre_processamento(train,test)"
   ]
  },
  {
   "cell_type": "markdown",
   "metadata": {},
   "source": [
    "#   Análise estatística"
   ]
  },
  {
   "cell_type": "code",
   "execution_count": 9,
   "metadata": {},
   "outputs": [
    {
     "data": {
      "text/html": [
       "<div>\n",
       "<style scoped>\n",
       "    .dataframe tbody tr th:only-of-type {\n",
       "        vertical-align: middle;\n",
       "    }\n",
       "\n",
       "    .dataframe tbody tr th {\n",
       "        vertical-align: top;\n",
       "    }\n",
       "\n",
       "    .dataframe thead th {\n",
       "        text-align: right;\n",
       "    }\n",
       "</style>\n",
       "<table border=\"1\" class=\"dataframe\">\n",
       "  <thead>\n",
       "    <tr style=\"text-align: right;\">\n",
       "      <th></th>\n",
       "      <th>name</th>\n",
       "      <th>item_condition_id</th>\n",
       "      <th>category_name</th>\n",
       "      <th>brand_name</th>\n",
       "      <th>price</th>\n",
       "      <th>shipping</th>\n",
       "      <th>item_description</th>\n",
       "      <th>stock</th>\n",
       "      <th>gen_cat</th>\n",
       "      <th>sub1_cat</th>\n",
       "      <th>sub2_cat</th>\n",
       "      <th>datetime_month</th>\n",
       "      <th>datetime_year</th>\n",
       "    </tr>\n",
       "  </thead>\n",
       "  <tbody>\n",
       "    <tr>\n",
       "      <th>0</th>\n",
       "      <td>MLB Cincinnati Reds T Shirt Size XL</td>\n",
       "      <td>3</td>\n",
       "      <td>Men/Tops/T-shirts</td>\n",
       "      <td>NaN</td>\n",
       "      <td>10.0</td>\n",
       "      <td>1</td>\n",
       "      <td>No description yet</td>\n",
       "      <td>27</td>\n",
       "      <td>Men</td>\n",
       "      <td>Tops</td>\n",
       "      <td>T-shirts</td>\n",
       "      <td>6.0</td>\n",
       "      <td>2018.0</td>\n",
       "    </tr>\n",
       "    <tr>\n",
       "      <th>1</th>\n",
       "      <td>Razer BlackWidow Chroma Keyboard</td>\n",
       "      <td>3</td>\n",
       "      <td>Electronics/Computers &amp; Tablets/Components &amp; P...</td>\n",
       "      <td>Razer</td>\n",
       "      <td>52.0</td>\n",
       "      <td>0</td>\n",
       "      <td>This keyboard is in great condition and works ...</td>\n",
       "      <td>15</td>\n",
       "      <td>Electronics</td>\n",
       "      <td>Computers &amp; Tablets</td>\n",
       "      <td>Components &amp; Parts</td>\n",
       "      <td>3.0</td>\n",
       "      <td>2018.0</td>\n",
       "    </tr>\n",
       "    <tr>\n",
       "      <th>2</th>\n",
       "      <td>AVA-VIV Blouse</td>\n",
       "      <td>1</td>\n",
       "      <td>Women/Tops &amp; Blouses/Blouse</td>\n",
       "      <td>Target</td>\n",
       "      <td>10.0</td>\n",
       "      <td>1</td>\n",
       "      <td>Adorable top with a hint of lace and a key hol...</td>\n",
       "      <td>14</td>\n",
       "      <td>Women</td>\n",
       "      <td>Tops &amp; Blouses</td>\n",
       "      <td>Blouse</td>\n",
       "      <td>10.0</td>\n",
       "      <td>2018.0</td>\n",
       "    </tr>\n",
       "    <tr>\n",
       "      <th>3</th>\n",
       "      <td>Leather Horse Statues</td>\n",
       "      <td>1</td>\n",
       "      <td>Home/Home Décor/Home Décor Accents</td>\n",
       "      <td>NaN</td>\n",
       "      <td>35.0</td>\n",
       "      <td>1</td>\n",
       "      <td>New with tags. Leather horses. Retail for [rm]...</td>\n",
       "      <td>1</td>\n",
       "      <td>Home</td>\n",
       "      <td>Home Décor</td>\n",
       "      <td>Home Décor Accents</td>\n",
       "      <td>3.0</td>\n",
       "      <td>2018.0</td>\n",
       "    </tr>\n",
       "    <tr>\n",
       "      <th>4</th>\n",
       "      <td>24K GOLD plated rose</td>\n",
       "      <td>1</td>\n",
       "      <td>Women/Jewelry/Necklaces</td>\n",
       "      <td>NaN</td>\n",
       "      <td>44.0</td>\n",
       "      <td>0</td>\n",
       "      <td>Complete with certificate of authenticity</td>\n",
       "      <td>13</td>\n",
       "      <td>Women</td>\n",
       "      <td>Jewelry</td>\n",
       "      <td>Necklaces</td>\n",
       "      <td>5.0</td>\n",
       "      <td>2018.0</td>\n",
       "    </tr>\n",
       "  </tbody>\n",
       "</table>\n",
       "</div>"
      ],
      "text/plain": [
       "                                  name  item_condition_id  \\\n",
       "0  MLB Cincinnati Reds T Shirt Size XL                  3   \n",
       "1     Razer BlackWidow Chroma Keyboard                  3   \n",
       "2                       AVA-VIV Blouse                  1   \n",
       "3                Leather Horse Statues                  1   \n",
       "4                 24K GOLD plated rose                  1   \n",
       "\n",
       "                                       category_name brand_name  price  \\\n",
       "0                                  Men/Tops/T-shirts        NaN   10.0   \n",
       "1  Electronics/Computers & Tablets/Components & P...      Razer   52.0   \n",
       "2                        Women/Tops & Blouses/Blouse     Target   10.0   \n",
       "3                 Home/Home Décor/Home Décor Accents        NaN   35.0   \n",
       "4                            Women/Jewelry/Necklaces        NaN   44.0   \n",
       "\n",
       "   shipping                                   item_description  stock  \\\n",
       "0         1                                 No description yet     27   \n",
       "1         0  This keyboard is in great condition and works ...     15   \n",
       "2         1  Adorable top with a hint of lace and a key hol...     14   \n",
       "3         1  New with tags. Leather horses. Retail for [rm]...      1   \n",
       "4         0          Complete with certificate of authenticity     13   \n",
       "\n",
       "       gen_cat             sub1_cat            sub2_cat  datetime_month  \\\n",
       "0          Men                 Tops            T-shirts             6.0   \n",
       "1  Electronics  Computers & Tablets  Components & Parts             3.0   \n",
       "2        Women       Tops & Blouses              Blouse            10.0   \n",
       "3         Home           Home Décor  Home Décor Accents             3.0   \n",
       "4        Women              Jewelry           Necklaces             5.0   \n",
       "\n",
       "   datetime_year  \n",
       "0         2018.0  \n",
       "1         2018.0  \n",
       "2         2018.0  \n",
       "3         2018.0  \n",
       "4         2018.0  "
      ]
     },
     "execution_count": 9,
     "metadata": {},
     "output_type": "execute_result"
    }
   ],
   "source": [
    "train.head()"
   ]
  },
  {
   "cell_type": "code",
   "execution_count": 10,
   "metadata": {},
   "outputs": [
    {
     "data": {
      "text/html": [
       "<div>\n",
       "<style scoped>\n",
       "    .dataframe tbody tr th:only-of-type {\n",
       "        vertical-align: middle;\n",
       "    }\n",
       "\n",
       "    .dataframe tbody tr th {\n",
       "        vertical-align: top;\n",
       "    }\n",
       "\n",
       "    .dataframe thead th {\n",
       "        text-align: right;\n",
       "    }\n",
       "</style>\n",
       "<table border=\"1\" class=\"dataframe\">\n",
       "  <thead>\n",
       "    <tr style=\"text-align: right;\">\n",
       "      <th></th>\n",
       "      <th>name</th>\n",
       "      <th>item_condition_id</th>\n",
       "      <th>category_name</th>\n",
       "      <th>brand_name</th>\n",
       "      <th>price</th>\n",
       "      <th>shipping</th>\n",
       "      <th>item_description</th>\n",
       "      <th>stock</th>\n",
       "      <th>gen_cat</th>\n",
       "      <th>sub1_cat</th>\n",
       "      <th>sub2_cat</th>\n",
       "      <th>datetime_month</th>\n",
       "      <th>datetime_year</th>\n",
       "    </tr>\n",
       "  </thead>\n",
       "  <tbody>\n",
       "    <tr>\n",
       "      <th>0</th>\n",
       "      <td>MLB Cincinnati Reds T Shirt Size XL</td>\n",
       "      <td>3</td>\n",
       "      <td>Men/Tops/T-shirts</td>\n",
       "      <td>NaN</td>\n",
       "      <td>10.0</td>\n",
       "      <td>1</td>\n",
       "      <td>No description yet</td>\n",
       "      <td>27</td>\n",
       "      <td>Men</td>\n",
       "      <td>Tops</td>\n",
       "      <td>T-shirts</td>\n",
       "      <td>6.0</td>\n",
       "      <td>2018.0</td>\n",
       "    </tr>\n",
       "    <tr>\n",
       "      <th>1</th>\n",
       "      <td>Razer BlackWidow Chroma Keyboard</td>\n",
       "      <td>3</td>\n",
       "      <td>Electronics/Computers &amp; Tablets/Components &amp; P...</td>\n",
       "      <td>Razer</td>\n",
       "      <td>52.0</td>\n",
       "      <td>0</td>\n",
       "      <td>This keyboard is in great condition and works ...</td>\n",
       "      <td>15</td>\n",
       "      <td>Electronics</td>\n",
       "      <td>Computers &amp; Tablets</td>\n",
       "      <td>Components &amp; Parts</td>\n",
       "      <td>3.0</td>\n",
       "      <td>2018.0</td>\n",
       "    </tr>\n",
       "    <tr>\n",
       "      <th>2</th>\n",
       "      <td>AVA-VIV Blouse</td>\n",
       "      <td>1</td>\n",
       "      <td>Women/Tops &amp; Blouses/Blouse</td>\n",
       "      <td>Target</td>\n",
       "      <td>10.0</td>\n",
       "      <td>1</td>\n",
       "      <td>Adorable top with a hint of lace and a key hol...</td>\n",
       "      <td>14</td>\n",
       "      <td>Women</td>\n",
       "      <td>Tops &amp; Blouses</td>\n",
       "      <td>Blouse</td>\n",
       "      <td>10.0</td>\n",
       "      <td>2018.0</td>\n",
       "    </tr>\n",
       "    <tr>\n",
       "      <th>3</th>\n",
       "      <td>Leather Horse Statues</td>\n",
       "      <td>1</td>\n",
       "      <td>Home/Home Décor/Home Décor Accents</td>\n",
       "      <td>NaN</td>\n",
       "      <td>35.0</td>\n",
       "      <td>1</td>\n",
       "      <td>New with tags. Leather horses. Retail for [rm]...</td>\n",
       "      <td>1</td>\n",
       "      <td>Home</td>\n",
       "      <td>Home Décor</td>\n",
       "      <td>Home Décor Accents</td>\n",
       "      <td>3.0</td>\n",
       "      <td>2018.0</td>\n",
       "    </tr>\n",
       "    <tr>\n",
       "      <th>4</th>\n",
       "      <td>24K GOLD plated rose</td>\n",
       "      <td>1</td>\n",
       "      <td>Women/Jewelry/Necklaces</td>\n",
       "      <td>NaN</td>\n",
       "      <td>44.0</td>\n",
       "      <td>0</td>\n",
       "      <td>Complete with certificate of authenticity</td>\n",
       "      <td>13</td>\n",
       "      <td>Women</td>\n",
       "      <td>Jewelry</td>\n",
       "      <td>Necklaces</td>\n",
       "      <td>5.0</td>\n",
       "      <td>2018.0</td>\n",
       "    </tr>\n",
       "  </tbody>\n",
       "</table>\n",
       "</div>"
      ],
      "text/plain": [
       "                                  name  item_condition_id  \\\n",
       "0  MLB Cincinnati Reds T Shirt Size XL                  3   \n",
       "1     Razer BlackWidow Chroma Keyboard                  3   \n",
       "2                       AVA-VIV Blouse                  1   \n",
       "3                Leather Horse Statues                  1   \n",
       "4                 24K GOLD plated rose                  1   \n",
       "\n",
       "                                       category_name brand_name  price  \\\n",
       "0                                  Men/Tops/T-shirts        NaN   10.0   \n",
       "1  Electronics/Computers & Tablets/Components & P...      Razer   52.0   \n",
       "2                        Women/Tops & Blouses/Blouse     Target   10.0   \n",
       "3                 Home/Home Décor/Home Décor Accents        NaN   35.0   \n",
       "4                            Women/Jewelry/Necklaces        NaN   44.0   \n",
       "\n",
       "   shipping                                   item_description  stock  \\\n",
       "0         1                                 No description yet     27   \n",
       "1         0  This keyboard is in great condition and works ...     15   \n",
       "2         1  Adorable top with a hint of lace and a key hol...     14   \n",
       "3         1  New with tags. Leather horses. Retail for [rm]...      1   \n",
       "4         0          Complete with certificate of authenticity     13   \n",
       "\n",
       "       gen_cat             sub1_cat            sub2_cat  datetime_month  \\\n",
       "0          Men                 Tops            T-shirts             6.0   \n",
       "1  Electronics  Computers & Tablets  Components & Parts             3.0   \n",
       "2        Women       Tops & Blouses              Blouse            10.0   \n",
       "3         Home           Home Décor  Home Décor Accents             3.0   \n",
       "4        Women              Jewelry           Necklaces             5.0   \n",
       "\n",
       "   datetime_year  \n",
       "0         2018.0  \n",
       "1         2018.0  \n",
       "2         2018.0  \n",
       "3         2018.0  \n",
       "4         2018.0  "
      ]
     },
     "execution_count": 10,
     "metadata": {},
     "output_type": "execute_result"
    }
   ],
   "source": [
    "train.head()"
   ]
  },
  {
   "cell_type": "code",
   "execution_count": 11,
   "metadata": {},
   "outputs": [
    {
     "data": {
      "text/html": [
       "<div>\n",
       "<style scoped>\n",
       "    .dataframe tbody tr th:only-of-type {\n",
       "        vertical-align: middle;\n",
       "    }\n",
       "\n",
       "    .dataframe tbody tr th {\n",
       "        vertical-align: top;\n",
       "    }\n",
       "\n",
       "    .dataframe thead th {\n",
       "        text-align: right;\n",
       "    }\n",
       "</style>\n",
       "<table border=\"1\" class=\"dataframe\">\n",
       "  <thead>\n",
       "    <tr style=\"text-align: right;\">\n",
       "      <th></th>\n",
       "      <th>item_condition_id</th>\n",
       "      <th>price</th>\n",
       "      <th>shipping</th>\n",
       "      <th>stock</th>\n",
       "      <th>datetime_month</th>\n",
       "      <th>datetime_year</th>\n",
       "    </tr>\n",
       "  </thead>\n",
       "  <tbody>\n",
       "    <tr>\n",
       "      <th>count</th>\n",
       "      <td>1.481661e+06</td>\n",
       "      <td>1.481661e+06</td>\n",
       "      <td>1.481661e+06</td>\n",
       "      <td>1.481661e+06</td>\n",
       "      <td>1.474770e+06</td>\n",
       "      <td>1474770.0</td>\n",
       "    </tr>\n",
       "    <tr>\n",
       "      <th>mean</th>\n",
       "      <td>1.907322e+00</td>\n",
       "      <td>2.675329e+01</td>\n",
       "      <td>4.473257e-01</td>\n",
       "      <td>1.178550e+01</td>\n",
       "      <td>6.517894e+00</td>\n",
       "      <td>2018.0</td>\n",
       "    </tr>\n",
       "    <tr>\n",
       "      <th>std</th>\n",
       "      <td>9.031759e-01</td>\n",
       "      <td>3.859198e+01</td>\n",
       "      <td>4.972178e-01</td>\n",
       "      <td>1.056099e+01</td>\n",
       "      <td>3.194489e+00</td>\n",
       "      <td>0.0</td>\n",
       "    </tr>\n",
       "    <tr>\n",
       "      <th>min</th>\n",
       "      <td>1.000000e+00</td>\n",
       "      <td>3.000000e+00</td>\n",
       "      <td>0.000000e+00</td>\n",
       "      <td>1.000000e+00</td>\n",
       "      <td>1.000000e+00</td>\n",
       "      <td>2018.0</td>\n",
       "    </tr>\n",
       "    <tr>\n",
       "      <th>25%</th>\n",
       "      <td>1.000000e+00</td>\n",
       "      <td>1.000000e+01</td>\n",
       "      <td>0.000000e+00</td>\n",
       "      <td>4.000000e+00</td>\n",
       "      <td>4.000000e+00</td>\n",
       "      <td>2018.0</td>\n",
       "    </tr>\n",
       "    <tr>\n",
       "      <th>50%</th>\n",
       "      <td>2.000000e+00</td>\n",
       "      <td>1.700000e+01</td>\n",
       "      <td>0.000000e+00</td>\n",
       "      <td>9.000000e+00</td>\n",
       "      <td>7.000000e+00</td>\n",
       "      <td>2018.0</td>\n",
       "    </tr>\n",
       "    <tr>\n",
       "      <th>75%</th>\n",
       "      <td>3.000000e+00</td>\n",
       "      <td>2.900000e+01</td>\n",
       "      <td>1.000000e+00</td>\n",
       "      <td>1.700000e+01</td>\n",
       "      <td>9.000000e+00</td>\n",
       "      <td>2018.0</td>\n",
       "    </tr>\n",
       "    <tr>\n",
       "      <th>max</th>\n",
       "      <td>5.000000e+00</td>\n",
       "      <td>2.009000e+03</td>\n",
       "      <td>1.000000e+00</td>\n",
       "      <td>9.500000e+01</td>\n",
       "      <td>1.200000e+01</td>\n",
       "      <td>2018.0</td>\n",
       "    </tr>\n",
       "  </tbody>\n",
       "</table>\n",
       "</div>"
      ],
      "text/plain": [
       "       item_condition_id         price      shipping         stock  \\\n",
       "count       1.481661e+06  1.481661e+06  1.481661e+06  1.481661e+06   \n",
       "mean        1.907322e+00  2.675329e+01  4.473257e-01  1.178550e+01   \n",
       "std         9.031759e-01  3.859198e+01  4.972178e-01  1.056099e+01   \n",
       "min         1.000000e+00  3.000000e+00  0.000000e+00  1.000000e+00   \n",
       "25%         1.000000e+00  1.000000e+01  0.000000e+00  4.000000e+00   \n",
       "50%         2.000000e+00  1.700000e+01  0.000000e+00  9.000000e+00   \n",
       "75%         3.000000e+00  2.900000e+01  1.000000e+00  1.700000e+01   \n",
       "max         5.000000e+00  2.009000e+03  1.000000e+00  9.500000e+01   \n",
       "\n",
       "       datetime_month  datetime_year  \n",
       "count    1.474770e+06      1474770.0  \n",
       "mean     6.517894e+00         2018.0  \n",
       "std      3.194489e+00            0.0  \n",
       "min      1.000000e+00         2018.0  \n",
       "25%      4.000000e+00         2018.0  \n",
       "50%      7.000000e+00         2018.0  \n",
       "75%      9.000000e+00         2018.0  \n",
       "max      1.200000e+01         2018.0  "
      ]
     },
     "execution_count": 11,
     "metadata": {},
     "output_type": "execute_result"
    }
   ],
   "source": [
    "train.describe()"
   ]
  },
  {
   "cell_type": "code",
   "execution_count": 12,
   "metadata": {},
   "outputs": [
    {
     "data": {
      "text/plain": [
       "name                      0\n",
       "item_condition_id         0\n",
       "category_name          6314\n",
       "brand_name           632336\n",
       "price                     0\n",
       "shipping                  0\n",
       "item_description          4\n",
       "stock                     0\n",
       "gen_cat                   0\n",
       "sub1_cat                  0\n",
       "sub2_cat                  0\n",
       "datetime_month         6891\n",
       "datetime_year          6891\n",
       "dtype: int64"
      ]
     },
     "execution_count": 12,
     "metadata": {},
     "output_type": "execute_result"
    }
   ],
   "source": [
    "train.isnull().sum()  #necessário valair forma de tratar os valores nulos."
   ]
  },
  {
   "cell_type": "code",
   "execution_count": 13,
   "metadata": {},
   "outputs": [
    {
     "data": {
      "text/plain": [
       "0"
      ]
     },
     "execution_count": 13,
     "metadata": {},
     "output_type": "execute_result"
    }
   ],
   "source": [
    "train.duplicated().sum()"
   ]
  },
  {
   "cell_type": "code",
   "execution_count": 14,
   "metadata": {},
   "outputs": [],
   "source": [
    "#Remoção de outliers, no eda encontramos que 90% dos casos se encontram abaixo de $50 e 99% abaixo de 250, \n",
    "# essa remoção prejudica quando valores altos, mas melhora muito o resultado em quem realmente procura o serviço.\n",
    "\n",
    "train = train.drop(train[~((train['price'] > 0) & (train['price'] < 250))].index)"
   ]
  },
  {
   "cell_type": "code",
   "execution_count": 15,
   "metadata": {},
   "outputs": [
    {
     "data": {
      "text/plain": [
       "array([[<AxesSubplot:title={'center':'item_condition_id'}>,\n",
       "        <AxesSubplot:title={'center':'price'}>],\n",
       "       [<AxesSubplot:title={'center':'shipping'}>,\n",
       "        <AxesSubplot:title={'center':'stock'}>],\n",
       "       [<AxesSubplot:title={'center':'datetime_month'}>,\n",
       "        <AxesSubplot:title={'center':'datetime_year'}>]], dtype=object)"
      ]
     },
     "execution_count": 15,
     "metadata": {},
     "output_type": "execute_result"
    },
    {
     "data": {
      "image/png": "[encoded data removed]",
      "text/plain": [
       "<Figure size 720x360 with 6 Axes>"
      ]
     },
     "metadata": {
      "needs_background": "light"
     },
     "output_type": "display_data"
    }
   ],
   "source": [
    "train.hist(figsize=(10,5))"
   ]
  },
  {
   "cell_type": "code",
   "execution_count": 16,
   "metadata": {},
   "outputs": [],
   "source": [
    "X = train.drop(\"price\", axis = 1)\n",
    "y = train[\"price\"]"
   ]
  },
  {
   "cell_type": "code",
   "execution_count": 17,
   "metadata": {},
   "outputs": [
    {
     "data": {
      "text/plain": [
       "(1475215, 12)"
      ]
     },
     "execution_count": 17,
     "metadata": {},
     "output_type": "execute_result"
    }
   ],
   "source": [
    "X.shape"
   ]
  },
  {
   "cell_type": "markdown",
   "metadata": {},
   "source": [
    "#   Pré-processamento "
   ]
  },
  {
   "cell_type": "code",
   "execution_count": 18,
   "metadata": {},
   "outputs": [],
   "source": [
    "X = textcolumns_junct(X)"
   ]
  },
  {
   "cell_type": "code",
   "execution_count": 19,
   "metadata": {},
   "outputs": [],
   "source": [
    "#Convertendo tudo para string\n",
    "\n",
    "X[\"item_description\"] = X[\"item_description\"].astype(str)"
   ]
  },
  {
   "cell_type": "code",
   "execution_count": 20,
   "metadata": {},
   "outputs": [],
   "source": [
    "X[\"item_description\"] = X[\"item_description\"].apply(lambda x: text_preprocess(x)) #Limpando texto com regex.\n"
   ]
  },
  {
   "cell_type": "code",
   "execution_count": 21,
   "metadata": {},
   "outputs": [],
   "source": [
    "X[\"item_description\"] = X[\"item_description\"].apply(lambda x: word_tokenize(x)) #tokenizando"
   ]
  },
  {
   "cell_type": "code",
   "execution_count": 22,
   "metadata": {},
   "outputs": [],
   "source": [
    "X[\"item_description\"] = X[\"item_description\"].apply(lambda x: stemming(x))"
   ]
  },
  {
   "cell_type": "code",
   "execution_count": 23,
   "metadata": {},
   "outputs": [],
   "source": [
    "X[\"item_description\"]=[\" \".join(review) for review in X[\"item_description\"].values]"
   ]
  },
  {
   "cell_type": "code",
   "execution_count": 24,
   "metadata": {},
   "outputs": [
    {
     "data": {
      "text/html": [
       "<div>\n",
       "<style scoped>\n",
       "    .dataframe tbody tr th:only-of-type {\n",
       "        vertical-align: middle;\n",
       "    }\n",
       "\n",
       "    .dataframe tbody tr th {\n",
       "        vertical-align: top;\n",
       "    }\n",
       "\n",
       "    .dataframe thead th {\n",
       "        text-align: right;\n",
       "    }\n",
       "</style>\n",
       "<table border=\"1\" class=\"dataframe\">\n",
       "  <thead>\n",
       "    <tr style=\"text-align: right;\">\n",
       "      <th></th>\n",
       "      <th>item_condition_id</th>\n",
       "      <th>category_name</th>\n",
       "      <th>shipping</th>\n",
       "      <th>item_description</th>\n",
       "      <th>stock</th>\n",
       "      <th>gen_cat</th>\n",
       "      <th>sub1_cat</th>\n",
       "      <th>sub2_cat</th>\n",
       "      <th>datetime_month</th>\n",
       "      <th>datetime_year</th>\n",
       "    </tr>\n",
       "  </thead>\n",
       "  <tbody>\n",
       "    <tr>\n",
       "      <th>0</th>\n",
       "      <td>3</td>\n",
       "      <td>Men/Tops/T-shirts</td>\n",
       "      <td>1</td>\n",
       "      <td>mlb cincinnati red shirt size xl descript yet</td>\n",
       "      <td>27</td>\n",
       "      <td>Men</td>\n",
       "      <td>Tops</td>\n",
       "      <td>T-shirts</td>\n",
       "      <td>6.0</td>\n",
       "      <td>2018.0</td>\n",
       "    </tr>\n",
       "    <tr>\n",
       "      <th>1</th>\n",
       "      <td>3</td>\n",
       "      <td>Electronics/Computers &amp; Tablets/Components &amp; P...</td>\n",
       "      <td>0</td>\n",
       "      <td>razer blackwidow chroma keyboard razer keyboar...</td>\n",
       "      <td>15</td>\n",
       "      <td>Electronics</td>\n",
       "      <td>Computers &amp; Tablets</td>\n",
       "      <td>Components &amp; Parts</td>\n",
       "      <td>3.0</td>\n",
       "      <td>2018.0</td>\n",
       "    </tr>\n",
       "    <tr>\n",
       "      <th>2</th>\n",
       "      <td>1</td>\n",
       "      <td>Women/Tops &amp; Blouses/Blouse</td>\n",
       "      <td>1</td>\n",
       "      <td>ava viv blous target ador top hint lace key ho...</td>\n",
       "      <td>14</td>\n",
       "      <td>Women</td>\n",
       "      <td>Tops &amp; Blouses</td>\n",
       "      <td>Blouse</td>\n",
       "      <td>10.0</td>\n",
       "      <td>2018.0</td>\n",
       "    </tr>\n",
       "    <tr>\n",
       "      <th>3</th>\n",
       "      <td>1</td>\n",
       "      <td>Home/Home Décor/Home Décor Accents</td>\n",
       "      <td>1</td>\n",
       "      <td>leather hors statu new tag . leather hors . re...</td>\n",
       "      <td>1</td>\n",
       "      <td>Home</td>\n",
       "      <td>Home Décor</td>\n",
       "      <td>Home Décor Accents</td>\n",
       "      <td>3.0</td>\n",
       "      <td>2018.0</td>\n",
       "    </tr>\n",
       "    <tr>\n",
       "      <th>4</th>\n",
       "      <td>1</td>\n",
       "      <td>Women/Jewelry/Necklaces</td>\n",
       "      <td>0</td>\n",
       "      <td>24k gold plate rose complet certif authent</td>\n",
       "      <td>13</td>\n",
       "      <td>Women</td>\n",
       "      <td>Jewelry</td>\n",
       "      <td>Necklaces</td>\n",
       "      <td>5.0</td>\n",
       "      <td>2018.0</td>\n",
       "    </tr>\n",
       "  </tbody>\n",
       "</table>\n",
       "</div>"
      ],
      "text/plain": [
       "   item_condition_id                                      category_name  \\\n",
       "0                  3                                  Men/Tops/T-shirts   \n",
       "1                  3  Electronics/Computers & Tablets/Components & P...   \n",
       "2                  1                        Women/Tops & Blouses/Blouse   \n",
       "3                  1                 Home/Home Décor/Home Décor Accents   \n",
       "4                  1                            Women/Jewelry/Necklaces   \n",
       "\n",
       "   shipping                                   item_description  stock  \\\n",
       "0         1      mlb cincinnati red shirt size xl descript yet     27   \n",
       "1         0  razer blackwidow chroma keyboard razer keyboar...     15   \n",
       "2         1  ava viv blous target ador top hint lace key ho...     14   \n",
       "3         1  leather hors statu new tag . leather hors . re...      1   \n",
       "4         0         24k gold plate rose complet certif authent     13   \n",
       "\n",
       "       gen_cat             sub1_cat            sub2_cat  datetime_month  \\\n",
       "0          Men                 Tops            T-shirts             6.0   \n",
       "1  Electronics  Computers & Tablets  Components & Parts             3.0   \n",
       "2        Women       Tops & Blouses              Blouse            10.0   \n",
       "3         Home           Home Décor  Home Décor Accents             3.0   \n",
       "4        Women              Jewelry           Necklaces             5.0   \n",
       "\n",
       "   datetime_year  \n",
       "0         2018.0  \n",
       "1         2018.0  \n",
       "2         2018.0  \n",
       "3         2018.0  \n",
       "4         2018.0  "
      ]
     },
     "execution_count": 24,
     "metadata": {},
     "output_type": "execute_result"
    }
   ],
   "source": [
    "X.head()"
   ]
  },
  {
   "cell_type": "code",
   "execution_count": 25,
   "metadata": {},
   "outputs": [
    {
     "data": {
      "text/plain": [
       "0              mlb cincinnati red shirt size xl descript yet\n",
       "1          razer blackwidow chroma keyboard razer keyboar...\n",
       "2          ava viv blous target ador top hint lace key ho...\n",
       "3          leather hors statu new tag . leather hors . re...\n",
       "4                 24k gold plate rose complet certif authent\n",
       "                                 ...                        \n",
       "1482530    free peopl inspir dress free peopl lace say si...\n",
       "1482531    littl mermaid handmad dress disney littl merma...\n",
       "1482532    21 day fix contain eat plan use twice still gr...\n",
       "1482533    world market lantern 2 one see 2 red 2 orang 2...\n",
       "1482534    brand new lux de vill wallet new tag red spark...\n",
       "Name: item_description, Length: 1475215, dtype: object"
      ]
     },
     "execution_count": 25,
     "metadata": {},
     "output_type": "execute_result"
    }
   ],
   "source": [
    "X[\"item_description\"]"
   ]
  },
  {
   "cell_type": "markdown",
   "metadata": {},
   "source": [
    "#   Split"
   ]
  },
  {
   "cell_type": "code",
   "execution_count": 26,
   "metadata": {},
   "outputs": [],
   "source": [
    "#Separação em treino e teste para começarmos as transformaçõs, protegendo nossos dados de validação de possíveis vazamentos. \n",
    "\n",
    "Xtrain, Xval, ytrain, yval = train_test_split(X, y, test_size=0.2, random_state=10) #Divisão em 80/20"
   ]
  },
  {
   "cell_type": "code",
   "execution_count": 27,
   "metadata": {},
   "outputs": [
    {
     "data": {
      "text/plain": [
       "<AxesSubplot:>"
      ]
     },
     "execution_count": 27,
     "metadata": {},
     "output_type": "execute_result"
    },
    {
     "data": {
      "image/png": "[encoded data removed]",
      "text/plain": [
       "<Figure size 432x288 with 1 Axes>"
      ]
     },
     "metadata": {
      "needs_background": "light"
     },
     "output_type": "display_data"
    }
   ],
   "source": [
    "#Normalizando, com log, o target (price), foi realizado de forma separada para nao terem dados vazados.\n",
    "\n",
    "ytrain =  np.log1p(ytrain)\n",
    "yval =  np.log1p(yval)\n",
    "ytrain.hist()"
   ]
  },
  {
   "cell_type": "markdown",
   "metadata": {},
   "source": [
    "# Transformadores"
   ]
  },
  {
   "cell_type": "code",
   "execution_count": 28,
   "metadata": {},
   "outputs": [],
   "source": [
    "vec = TfidfVectorizer(stop_words=stop_words, ngram_range=(1,2), max_features=100000) #vetorização, com stop word. "
   ]
  },
  {
   "cell_type": "code",
   "execution_count": 29,
   "metadata": {},
   "outputs": [
    {
     "data": {
      "text/plain": [
       "<1180172x100000 sparse matrix of type '<class 'numpy.float64'>'\n",
       "\twith 33983033 stored elements in Compressed Sparse Row format>"
      ]
     },
     "execution_count": 29,
     "metadata": {},
     "output_type": "execute_result"
    }
   ],
   "source": [
    "vec_train = vec.fit_transform(Xtrain[\"item_description\"])\n",
    "\n",
    "vec_train"
   ]
  },
  {
   "cell_type": "code",
   "execution_count": 30,
   "metadata": {},
   "outputs": [
    {
     "data": {
      "text/plain": [
       "<295043x100000 sparse matrix of type '<class 'numpy.float64'>'\n",
       "\twith 8485043 stored elements in Compressed Sparse Row format>"
      ]
     },
     "execution_count": 30,
     "metadata": {},
     "output_type": "execute_result"
    }
   ],
   "source": [
    "vec_val = vec.transform(Xval[\"item_description\"])\n",
    "\n",
    "vec_val"
   ]
  },
  {
   "cell_type": "code",
   "execution_count": 31,
   "metadata": {},
   "outputs": [
    {
     "data": {
      "text/plain": [
       "<1180172x1010 sparse matrix of type '<class 'numpy.float64'>'\n",
       "\twith 7081032 stored elements in Compressed Sparse Row format>"
      ]
     },
     "execution_count": 31,
     "metadata": {},
     "output_type": "execute_result"
    }
   ],
   "source": [
    "ohe = OneHotEncoder(handle_unknown=\"ignore\")\n",
    "\n",
    "#aplicação dummy nas colunas categóricas.\n",
    "\n",
    "ohe_train = ohe.fit_transform(Xtrain[[\"item_condition_id\",   \n",
    "                                         \"shipping\",\n",
    "                                         \"gen_cat\",\n",
    "                                         \"sub1_cat\",\n",
    "                                         \"sub2_cat\", \n",
    "                                         \"datetime_month\"]])\n",
    "                            \n",
    "ohe_train"
   ]
  },
  {
   "cell_type": "code",
   "execution_count": 32,
   "metadata": {},
   "outputs": [
    {
     "data": {
      "text/plain": [
       "<295043x1010 sparse matrix of type '<class 'numpy.float64'>'\n",
       "\twith 1770251 stored elements in Compressed Sparse Row format>"
      ]
     },
     "execution_count": 32,
     "metadata": {},
     "output_type": "execute_result"
    }
   ],
   "source": [
    "ohe_val = ohe.transform(Xval[[\"item_condition_id\",   \n",
    "                                         \"shipping\",\n",
    "                                         \"gen_cat\",\n",
    "                                         \"sub1_cat\",\n",
    "                                         \"sub2_cat\", \n",
    "                                         \"datetime_month\"]])\n",
    "\n",
    "ohe_val"
   ]
  },
  {
   "cell_type": "code",
   "execution_count": 33,
   "metadata": {},
   "outputs": [
    {
     "data": {
      "text/plain": [
       "<1180172x101010 sparse matrix of type '<class 'numpy.float64'>'\n",
       "\twith 41064065 stored elements in Compressed Sparse Row format>"
      ]
     },
     "execution_count": 33,
     "metadata": {},
     "output_type": "execute_result"
    }
   ],
   "source": [
    "#juntando cada matrix gerada por cada pré-processamento\n",
    "\n",
    "x_train = hstack([\n",
    "                 (vec_train),\n",
    "                 (ohe_train)\n",
    "                 \t\n",
    "                                     ]) \n",
    "x_train"
   ]
  },
  {
   "cell_type": "code",
   "execution_count": 34,
   "metadata": {},
   "outputs": [
    {
     "data": {
      "text/plain": [
       "<295043x101010 sparse matrix of type '<class 'numpy.float64'>'\n",
       "\twith 10255294 stored elements in Compressed Sparse Row format>"
      ]
     },
     "execution_count": 34,
     "metadata": {},
     "output_type": "execute_result"
    }
   ],
   "source": [
    "x_val = hstack([\n",
    "                 (vec_val),\n",
    "                 (ohe_val),\n",
    "                             ]) \n",
    "x_val"
   ]
  },
  {
   "cell_type": "markdown",
   "metadata": {},
   "source": [
    "# Modelo"
   ]
  },
  {
   "cell_type": "code",
   "execution_count": 35,
   "metadata": {},
   "outputs": [],
   "source": [
    "xgb = XGBRegressor(gpu_id = \"0\",\n",
    "                   tree_method=\"gpu_hist\",\n",
    "                   random_state = 10,\n",
    "                   \n",
    "                   )"
   ]
  },
  {
   "cell_type": "code",
   "execution_count": 36,
   "metadata": {},
   "outputs": [],
   "source": [
    "model = xgb.fit(x_train, ytrain)"
   ]
  },
  {
   "cell_type": "code",
   "execution_count": 37,
   "metadata": {},
   "outputs": [],
   "source": [
    "ypredict = model.predict(x_val)"
   ]
  },
  {
   "cell_type": "code",
   "execution_count": 38,
   "metadata": {},
   "outputs": [],
   "source": [
    "ypredict = np.expm1(ypredict)\n",
    "yval =np.expm1(yval)"
   ]
  },
  {
   "cell_type": "code",
   "execution_count": 39,
   "metadata": {},
   "outputs": [],
   "source": [
    "from sklearn.metrics import mean_squared_log_error"
   ]
  },
  {
   "cell_type": "code",
   "execution_count": 40,
   "metadata": {},
   "outputs": [
    {
     "name": "stdout",
     "output_type": "stream",
     "text": [
      "MAE: 10.584354\n",
      "RMSE: 421.297206\n",
      "RMSLE: 0.265945\n"
     ]
    }
   ],
   "source": [
    "print('MAE: %2f' % mean_absolute_error(yval,ypredict))\n",
    "print('RMSE: %2f' % (mean_squared_error(yval,ypredict)))\n",
    "print('RMSLE: %2f' % mean_squared_log_error(yval,ypredict))\n"
   ]
  },
  {
   "cell_type": "code",
   "execution_count": 41,
   "metadata": {},
   "outputs": [
    {
     "data": {
      "text/plain": [
       "<matplotlib.collections.PathCollection at 0x2c4a6e237f0>"
      ]
     },
     "execution_count": 41,
     "metadata": {},
     "output_type": "execute_result"
    },
    {
     "data": {
      "image/png": "[encoded data removed]",
      "text/plain": [
       "<Figure size 720x720 with 1 Axes>"
      ]
     },
     "metadata": {
      "needs_background": "light"
     },
     "output_type": "display_data"
    }
   ],
   "source": [
    "import matplotlib.pyplot as plt\n",
    "\n",
    "plt.figure(figsize=(10,10))\n",
    "plt.scatter(x=yval, y=ypredict)"
   ]
  },
  {
   "cell_type": "code",
   "execution_count": null,
   "metadata": {},
   "outputs": [],
   "source": []
  }
 ],
 "metadata": {
  "kernelspec": {
   "display_name": "Python 3.10.4 ('venv': venv)",
   "language": "python",
   "name": "python3"
  },
  "language_info": {
   "codemirror_mode": {
    "name": "ipython",
    "version": 3
   },
   "file_extension": ".py",
   "mimetype": "text/x-python",
   "name": "python",
   "nbconvert_exporter": "python",
   "pygments_lexer": "ipython3",
   "version": "3.10.4"
  },
  "orig_nbformat": 4,
  "vscode": {
   "interpreter": {
    "hash": "2d8c3cde89636b2df73e0f3dfab6fb2dd7e3ffc595873bef1184e6edd25d1b40"
   }
  }
 },
 "nbformat": 4,
 "nbformat_minor": 2
}
