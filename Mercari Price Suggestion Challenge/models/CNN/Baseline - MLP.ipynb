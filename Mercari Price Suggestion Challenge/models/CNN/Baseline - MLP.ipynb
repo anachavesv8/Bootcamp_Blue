{
  "cells": [
    {
      "cell_type": "code",
      "execution_count": 1,
      "metadata": {
        "id": "YE5IZ02zqvik"
      },
      "outputs": [],
      "source": [
        "import pandas as pd\n",
        "import random \n",
        "import numpy as np\n",
        "import re\n",
        "from scipy.sparse import hstack"
      ]
    },
    {
      "cell_type": "code",
      "execution_count": 2,
      "metadata": {
        "id": "AfxWW_PYqvip"
      },
      "outputs": [],
      "source": [
        "import spacy\n",
        "from spacy import displacy\n",
        "nlp = spacy.load('en_core_web_sm')"
      ]
    },
    {
      "cell_type": "code",
      "execution_count": 3,
      "metadata": {
        "id": "ONSOXEzYqvip"
      },
      "outputs": [],
      "source": [
        "from sklearn.model_selection import train_test_split\n",
        "from sklearn.feature_extraction.text import TfidfVectorizer\n",
        "from sklearn.preprocessing import OneHotEncoder\n",
        "from sklearn.compose import ColumnTransformer, make_column_transformer\n",
        "from sklearn.pipeline import Pipeline, make_pipeline"
      ]
    },
    {
      "cell_type": "code",
      "execution_count": 4,
      "metadata": {
        "id": "JsS92m0Fqviq"
      },
      "outputs": [],
      "source": [
        "from sklearn.linear_model import LinearRegression\n",
        "from sklearn.ensemble import RandomForestRegressor"
      ]
    },
    {
      "cell_type": "code",
      "execution_count": 5,
      "metadata": {
        "id": "QtxQY3L-qvir"
      },
      "outputs": [],
      "source": [
        "from pre_processamento import pre_processamento"
      ]
    },
    {
      "cell_type": "code",
      "execution_count": 6,
      "metadata": {
        "id": "B7GXz-Cnct76"
      },
      "outputs": [],
      "source": [
        "from nltk import word_tokenize\n",
        "from nltk.corpus import stopwords\n",
        "from nltk.stem import WordNetLemmatizer\n",
        "from nltk.stem import PorterStemmer"
      ]
    },
    {
      "cell_type": "code",
      "execution_count": 7,
      "metadata": {
        "colab": {
          "base_uri": "https://localhost:8080/"
        },
        "id": "jfcy-gcGqvir",
        "outputId": "37bf7e41-af4e-4cb2-dae7-2fee8d739bac"
      },
      "outputs": [
        {
          "name": "stdout",
          "output_type": "stream",
          "text": [
            "Drive already mounted at /content/drive; to attempt to forcibly remount, call drive.mount(\"/content/drive\", force_remount=True).\n"
          ]
        }
      ],
      "source": [
        "from google.colab import drive\n",
        "drive.mount('/content/drive')\n",
        "\n",
        "train = pd.read_csv('/content/drive/MyDrive/Datasets/train.tsv', sep = '\\t')\n",
        "test = pd.read_csv('/content/drive/MyDrive/Datasets/test.tsv', sep = '\\t')"
      ]
    },
    {
      "cell_type": "code",
      "execution_count": 8,
      "metadata": {
        "id": "ArSBFudcqvis"
      },
      "outputs": [],
      "source": [
        "train,test = pre_processamento(train,test)"
      ]
    },
    {
      "cell_type": "code",
      "execution_count": 9,
      "metadata": {
        "id": "h7Bnavbnqvi1"
      },
      "outputs": [],
      "source": [
        "X = train.drop(\"price\", axis = 1)\n",
        "y = train[\"price\"]"
      ]
    },
    {
      "cell_type": "code",
      "execution_count": 10,
      "metadata": {
        "colab": {
          "base_uri": "https://localhost:8080/"
        },
        "id": "ylKJMWGUKk3f",
        "outputId": "2e05726d-04e0-4b7b-ad2e-8aae95591979"
      },
      "outputs": [
        {
          "data": {
            "text/plain": [
              "0          False\n",
              "1          False\n",
              "2          False\n",
              "3          False\n",
              "4          False\n",
              "           ...  \n",
              "1482530    False\n",
              "1482531    False\n",
              "1482532    False\n",
              "1482533    False\n",
              "1482534    False\n",
              "Name: name, Length: 1481661, dtype: bool"
            ]
          },
          "execution_count": 10,
          "metadata": {},
          "output_type": "execute_result"
        }
      ],
      "source": [
        "X['name'].apply(lambda x: True if 'bundle' in x else False)"
      ]
    },
    {
      "cell_type": "code",
      "execution_count": 11,
      "metadata": {
        "id": "iphPcjxlNG_r"
      },
      "outputs": [],
      "source": [
        "y = y.drop(X[X['name'].apply(lambda x: 'bundle' in x)].index)\n",
        "X = X.drop(X[X['name'].apply(lambda x: 'bundle' in x)].index)"
      ]
    },
    {
      "cell_type": "markdown",
      "metadata": {
        "id": "_qSdwLUyqvi1"
      },
      "source": [
        "#   Split"
      ]
    },
    {
      "cell_type": "code",
      "execution_count": 12,
      "metadata": {
        "id": "RFYCJ7fcqvi2"
      },
      "outputs": [],
      "source": [
        "#Separação em treino e teste para começarmos as transformaçõs, protegendo nossos dados de validação de possíveis vazamentos. \n",
        "\n",
        "Xtrain, Xval, ytrain, yval = train_test_split(X, y, test_size=0.2, random_state=10) #Divisão em 80/20"
      ]
    },
    {
      "cell_type": "code",
      "execution_count": 13,
      "metadata": {
        "colab": {
          "base_uri": "https://localhost:8080/",
          "height": 282
        },
        "id": "8T8Fa02Lqvi2",
        "outputId": "674c2972-9683-4583-d406-a19092b227e7"
      },
      "outputs": [
        {
          "data": {
            "text/plain": [
              "<matplotlib.axes._subplots.AxesSubplot at 0x7f929d36a810>"
            ]
          },
          "execution_count": 13,
          "metadata": {},
          "output_type": "execute_result"
        },
        {
          "data": {
            "image/png": "[encoded data removed]",
            "text/plain": [
              "<Figure size 432x288 with 1 Axes>"
            ]
          },
          "metadata": {
            "needs_background": "light"
          },
          "output_type": "display_data"
        }
      ],
      "source": [
        "#Normalizando, com log, o target (price), foi realizado de forma separada para nao terem dados vazados.\n",
        "\n",
        "ytrain =  np.log1p(ytrain)\n",
        "yval =  np.log1p(yval)\n",
        "ytrain.hist()"
      ]
    },
    {
      "cell_type": "code",
      "execution_count": 14,
      "metadata": {
        "colab": {
          "base_uri": "https://localhost:8080/",
          "height": 206
        },
        "id": "CuvDnvCwqvi3",
        "outputId": "86bc3b80-a593-44c6-aacb-52a8895aad6b"
      },
      "outputs": [
        {
          "data": {
            "text/html": [
              "\n",
              "  <div id=\"df-92df5cde-8c4a-4845-92db-1ebb7a7865a0\">\n",
              "    <div class=\"colab-df-container\">\n",
              "      <div>\n",
              "<style scoped>\n",
              "    .dataframe tbody tr th:only-of-type {\n",
              "        vertical-align: middle;\n",
              "    }\n",
              "\n",
              "    .dataframe tbody tr th {\n",
              "        vertical-align: top;\n",
              "    }\n",
              "\n",
              "    .dataframe thead th {\n",
              "        text-align: right;\n",
              "    }\n",
              "</style>\n",
              "<table border=\"1\" class=\"dataframe\">\n",
              "  <thead>\n",
              "    <tr style=\"text-align: right;\">\n",
              "      <th></th>\n",
              "      <th>name</th>\n",
              "      <th>item_condition_id</th>\n",
              "      <th>brand_name</th>\n",
              "      <th>shipping</th>\n",
              "      <th>item_description</th>\n",
              "      <th>stock</th>\n",
              "      <th>gen_cat</th>\n",
              "      <th>sub1_cat</th>\n",
              "      <th>sub2_cat</th>\n",
              "      <th>datetime_month</th>\n",
              "      <th>datetime_year</th>\n",
              "    </tr>\n",
              "  </thead>\n",
              "  <tbody>\n",
              "    <tr>\n",
              "      <th>1308880</th>\n",
              "      <td>2 tops, Small and Mimi Chica dress, Med</td>\n",
              "      <td>3</td>\n",
              "      <td>FOREVER 21</td>\n",
              "      <td>0</td>\n",
              "      <td>Forever 21 shark top, lightweight Gildan Unico...</td>\n",
              "      <td>2</td>\n",
              "      <td>Women</td>\n",
              "      <td>Tops &amp; Blouses</td>\n",
              "      <td>Tank, Cami</td>\n",
              "      <td>9.0</td>\n",
              "      <td>2018.0</td>\n",
              "    </tr>\n",
              "    <tr>\n",
              "      <th>870024</th>\n",
              "      <td>Paris a bra 36g brand new</td>\n",
              "      <td>1</td>\n",
              "      <td>NaN</td>\n",
              "      <td>0</td>\n",
              "      <td>Brand new. Never worn.</td>\n",
              "      <td>7</td>\n",
              "      <td>Women</td>\n",
              "      <td>Underwear</td>\n",
              "      <td>Bras</td>\n",
              "      <td>10.0</td>\n",
              "      <td>2018.0</td>\n",
              "    </tr>\n",
              "    <tr>\n",
              "      <th>327127</th>\n",
              "      <td>Victoria's secret Bikni top 32c</td>\n",
              "      <td>3</td>\n",
              "      <td>Victoria's Secret</td>\n",
              "      <td>0</td>\n",
              "      <td>Nice Victoria's secret 32c biknintop</td>\n",
              "      <td>15</td>\n",
              "      <td>Women</td>\n",
              "      <td>Swimwear</td>\n",
              "      <td>Two-Piece</td>\n",
              "      <td>6.0</td>\n",
              "      <td>2018.0</td>\n",
              "    </tr>\n",
              "    <tr>\n",
              "      <th>129984</th>\n",
              "      <td>Galaxy s7 Lifeproof Fre Case</td>\n",
              "      <td>1</td>\n",
              "      <td>NaN</td>\n",
              "      <td>1</td>\n",
              "      <td>Brand New Without Box Fits Galaxy S7</td>\n",
              "      <td>1</td>\n",
              "      <td>Electronics</td>\n",
              "      <td>Cell Phones &amp; Accessories</td>\n",
              "      <td>Cases, Covers &amp; Skins</td>\n",
              "      <td>12.0</td>\n",
              "      <td>2018.0</td>\n",
              "    </tr>\n",
              "    <tr>\n",
              "      <th>1377836</th>\n",
              "      <td>VS Pink BackPack</td>\n",
              "      <td>1</td>\n",
              "      <td>PINK</td>\n",
              "      <td>1</td>\n",
              "      <td>Brand new with tags in online VS Bag VS Pink P...</td>\n",
              "      <td>2</td>\n",
              "      <td>Women</td>\n",
              "      <td>Women's Handbags</td>\n",
              "      <td>Backpack Style</td>\n",
              "      <td>10.0</td>\n",
              "      <td>2018.0</td>\n",
              "    </tr>\n",
              "  </tbody>\n",
              "</table>\n",
              "</div>\n",
              "      <button class=\"colab-df-convert\" onclick=\"convertToInteractive('df-92df5cde-8c4a-4845-92db-1ebb7a7865a0')\"\n",
              "              title=\"Convert this dataframe to an interactive table.\"\n",
              "              style=\"display:none;\">\n",
              "        \n",
              "  <svg xmlns=\"http://www.w3.org/2000/svg\" height=\"24px\"viewBox=\"0 0 24 24\"\n",
              "       width=\"24px\">\n",
              "    <path d=\"M0 0h24v24H0V0z\" fill=\"none\"/>\n",
              "    <path d=\"M18.56 5.44l.94 2.06.94-2.06 2.06-.94-2.06-.94-.94-2.06-.94 2.06-2.06.94zm-11 1L8.5 8.5l.94-2.06 2.06-.94-2.06-.94L8.5 2.5l-.94 2.06-2.06.94zm10 10l.94 2.06.94-2.06 2.06-.94-2.06-.94-.94-2.06-.94 2.06-2.06.94z\"/><path d=\"M17.41 7.96l-1.37-1.37c-.4-.4-.92-.59-1.43-.59-.52 0-1.04.2-1.43.59L10.3 9.45l-7.72 7.72c-.78.78-.78 2.05 0 2.83L4 21.41c.39.39.9.59 1.41.59.51 0 1.02-.2 1.41-.59l7.78-7.78 2.81-2.81c.8-.78.8-2.07 0-2.86zM5.41 20L4 18.59l7.72-7.72 1.47 1.35L5.41 20z\"/>\n",
              "  </svg>\n",
              "      </button>\n",
              "      \n",
              "  <style>\n",
              "    .colab-df-container {\n",
              "      display:flex;\n",
              "      flex-wrap:wrap;\n",
              "      gap: 12px;\n",
              "    }\n",
              "\n",
              "    .colab-df-convert {\n",
              "      background-color: #E8F0FE;\n",
              "      border: none;\n",
              "      border-radius: 50%;\n",
              "      cursor: pointer;\n",
              "      display: none;\n",
              "      fill: #1967D2;\n",
              "      height: 32px;\n",
              "      padding: 0 0 0 0;\n",
              "      width: 32px;\n",
              "    }\n",
              "\n",
              "    .colab-df-convert:hover {\n",
              "      background-color: #E2EBFA;\n",
              "      box-shadow: 0px 1px 2px rgba(60, 64, 67, 0.3), 0px 1px 3px 1px rgba(60, 64, 67, 0.15);\n",
              "      fill: #174EA6;\n",
              "    }\n",
              "\n",
              "    [theme=dark] .colab-df-convert {\n",
              "      background-color: #3B4455;\n",
              "      fill: #D2E3FC;\n",
              "    }\n",
              "\n",
              "    [theme=dark] .colab-df-convert:hover {\n",
              "      background-color: #434B5C;\n",
              "      box-shadow: 0px 1px 3px 1px rgba(0, 0, 0, 0.15);\n",
              "      filter: drop-shadow(0px 1px 2px rgba(0, 0, 0, 0.3));\n",
              "      fill: #FFFFFF;\n",
              "    }\n",
              "  </style>\n",
              "\n",
              "      <script>\n",
              "        const buttonEl =\n",
              "          document.querySelector('#df-92df5cde-8c4a-4845-92db-1ebb7a7865a0 button.colab-df-convert');\n",
              "        buttonEl.style.display =\n",
              "          google.colab.kernel.accessAllowed ? 'block' : 'none';\n",
              "\n",
              "        async function convertToInteractive(key) {\n",
              "          const element = document.querySelector('#df-92df5cde-8c4a-4845-92db-1ebb7a7865a0');\n",
              "          const dataTable =\n",
              "            await google.colab.kernel.invokeFunction('convertToInteractive',\n",
              "                                                     [key], {});\n",
              "          if (!dataTable) return;\n",
              "\n",
              "          const docLinkHtml = 'Like what you see? Visit the ' +\n",
              "            '<a target=\"_blank\" href=https://colab.research.google.com/notebooks/data_table.ipynb>data table notebook</a>'\n",
              "            + ' to learn more about interactive tables.';\n",
              "          element.innerHTML = '';\n",
              "          dataTable['output_type'] = 'display_data';\n",
              "          await google.colab.output.renderOutput(dataTable, element);\n",
              "          const docLink = document.createElement('div');\n",
              "          docLink.innerHTML = docLinkHtml;\n",
              "          element.appendChild(docLink);\n",
              "        }\n",
              "      </script>\n",
              "    </div>\n",
              "  </div>\n",
              "  "
            ],
            "text/plain": [
              "                                            name  item_condition_id  \\\n",
              "1308880  2 tops, Small and Mimi Chica dress, Med                  3   \n",
              "870024                 Paris a bra 36g brand new                  1   \n",
              "327127           Victoria's secret Bikni top 32c                  3   \n",
              "129984              Galaxy s7 Lifeproof Fre Case                  1   \n",
              "1377836                         VS Pink BackPack                  1   \n",
              "\n",
              "                brand_name  shipping  \\\n",
              "1308880         FOREVER 21         0   \n",
              "870024                 NaN         0   \n",
              "327127   Victoria's Secret         0   \n",
              "129984                 NaN         1   \n",
              "1377836               PINK         1   \n",
              "\n",
              "                                          item_description  stock  \\\n",
              "1308880  Forever 21 shark top, lightweight Gildan Unico...      2   \n",
              "870024                              Brand new. Never worn.      7   \n",
              "327127                Nice Victoria's secret 32c biknintop     15   \n",
              "129984                Brand New Without Box Fits Galaxy S7      1   \n",
              "1377836  Brand new with tags in online VS Bag VS Pink P...      2   \n",
              "\n",
              "             gen_cat                   sub1_cat               sub2_cat  \\\n",
              "1308880        Women             Tops & Blouses             Tank, Cami   \n",
              "870024         Women                  Underwear                   Bras   \n",
              "327127         Women                   Swimwear              Two-Piece   \n",
              "129984   Electronics  Cell Phones & Accessories  Cases, Covers & Skins   \n",
              "1377836        Women           Women's Handbags         Backpack Style   \n",
              "\n",
              "         datetime_month  datetime_year  \n",
              "1308880             9.0         2018.0  \n",
              "870024             10.0         2018.0  \n",
              "327127              6.0         2018.0  \n",
              "129984             12.0         2018.0  \n",
              "1377836            10.0         2018.0  "
            ]
          },
          "execution_count": 14,
          "metadata": {},
          "output_type": "execute_result"
        }
      ],
      "source": [
        "Xtrain.head()"
      ]
    },
    {
      "cell_type": "code",
      "execution_count": 15,
      "metadata": {
        "colab": {
          "base_uri": "https://localhost:8080/",
          "height": 206
        },
        "id": "J9BwZkLnqvi3",
        "outputId": "2e3d8923-6f2e-4e19-94a3-fa86a0cf4a3f"
      },
      "outputs": [
        {
          "data": {
            "text/html": [
              "\n",
              "  <div id=\"df-09282f2d-9fe8-4374-ab68-58849ba1a7ea\">\n",
              "    <div class=\"colab-df-container\">\n",
              "      <div>\n",
              "<style scoped>\n",
              "    .dataframe tbody tr th:only-of-type {\n",
              "        vertical-align: middle;\n",
              "    }\n",
              "\n",
              "    .dataframe tbody tr th {\n",
              "        vertical-align: top;\n",
              "    }\n",
              "\n",
              "    .dataframe thead th {\n",
              "        text-align: right;\n",
              "    }\n",
              "</style>\n",
              "<table border=\"1\" class=\"dataframe\">\n",
              "  <thead>\n",
              "    <tr style=\"text-align: right;\">\n",
              "      <th></th>\n",
              "      <th>name</th>\n",
              "      <th>item_condition_id</th>\n",
              "      <th>brand_name</th>\n",
              "      <th>shipping</th>\n",
              "      <th>item_description</th>\n",
              "      <th>stock</th>\n",
              "      <th>gen_cat</th>\n",
              "      <th>sub1_cat</th>\n",
              "      <th>sub2_cat</th>\n",
              "      <th>datetime_month</th>\n",
              "      <th>datetime_year</th>\n",
              "    </tr>\n",
              "  </thead>\n",
              "  <tbody>\n",
              "    <tr>\n",
              "      <th>814448</th>\n",
              "      <td>Lularoe TC Leggings</td>\n",
              "      <td>2</td>\n",
              "      <td>LuLaRoe</td>\n",
              "      <td>0</td>\n",
              "      <td>TC Never Worn</td>\n",
              "      <td>13</td>\n",
              "      <td>Women</td>\n",
              "      <td>Athletic Apparel</td>\n",
              "      <td>Pants, Tights, Leggings</td>\n",
              "      <td>10.0</td>\n",
              "      <td>2018.0</td>\n",
              "    </tr>\n",
              "    <tr>\n",
              "      <th>1249293</th>\n",
              "      <td>Merrell leather sandals size 8</td>\n",
              "      <td>3</td>\n",
              "      <td>Merrell</td>\n",
              "      <td>0</td>\n",
              "      <td>No description yet</td>\n",
              "      <td>1</td>\n",
              "      <td>Women</td>\n",
              "      <td>Shoes</td>\n",
              "      <td>Sandals</td>\n",
              "      <td>9.0</td>\n",
              "      <td>2018.0</td>\n",
              "    </tr>\n",
              "    <tr>\n",
              "      <th>943379</th>\n",
              "      <td>Victoria Secret the Nakeds</td>\n",
              "      <td>4</td>\n",
              "      <td>Victoria's Secret</td>\n",
              "      <td>0</td>\n",
              "      <td>2 Lined Demi</td>\n",
              "      <td>6</td>\n",
              "      <td>Women</td>\n",
              "      <td>Underwear</td>\n",
              "      <td>Bras</td>\n",
              "      <td>6.0</td>\n",
              "      <td>2018.0</td>\n",
              "    </tr>\n",
              "    <tr>\n",
              "      <th>510092</th>\n",
              "      <td>Stussy RUGBY HOODIE</td>\n",
              "      <td>1</td>\n",
              "      <td>NaN</td>\n",
              "      <td>0</td>\n",
              "      <td>Brand new with tags retails at [rm] asking 75$...</td>\n",
              "      <td>47</td>\n",
              "      <td>Men</td>\n",
              "      <td>Sweats &amp; Hoodies</td>\n",
              "      <td>Hoodie</td>\n",
              "      <td>6.0</td>\n",
              "      <td>2018.0</td>\n",
              "    </tr>\n",
              "    <tr>\n",
              "      <th>841889</th>\n",
              "      <td>38DDD VS lined Body bra</td>\n",
              "      <td>3</td>\n",
              "      <td>Victoria's Secret</td>\n",
              "      <td>1</td>\n",
              "      <td>Lined Underwire Adjustable Straps Pilling on F...</td>\n",
              "      <td>26</td>\n",
              "      <td>Women</td>\n",
              "      <td>Underwear</td>\n",
              "      <td>Bras</td>\n",
              "      <td>10.0</td>\n",
              "      <td>2018.0</td>\n",
              "    </tr>\n",
              "  </tbody>\n",
              "</table>\n",
              "</div>\n",
              "      <button class=\"colab-df-convert\" onclick=\"convertToInteractive('df-09282f2d-9fe8-4374-ab68-58849ba1a7ea')\"\n",
              "              title=\"Convert this dataframe to an interactive table.\"\n",
              "              style=\"display:none;\">\n",
              "        \n",
              "  <svg xmlns=\"http://www.w3.org/2000/svg\" height=\"24px\"viewBox=\"0 0 24 24\"\n",
              "       width=\"24px\">\n",
              "    <path d=\"M0 0h24v24H0V0z\" fill=\"none\"/>\n",
              "    <path d=\"M18.56 5.44l.94 2.06.94-2.06 2.06-.94-2.06-.94-.94-2.06-.94 2.06-2.06.94zm-11 1L8.5 8.5l.94-2.06 2.06-.94-2.06-.94L8.5 2.5l-.94 2.06-2.06.94zm10 10l.94 2.06.94-2.06 2.06-.94-2.06-.94-.94-2.06-.94 2.06-2.06.94z\"/><path d=\"M17.41 7.96l-1.37-1.37c-.4-.4-.92-.59-1.43-.59-.52 0-1.04.2-1.43.59L10.3 9.45l-7.72 7.72c-.78.78-.78 2.05 0 2.83L4 21.41c.39.39.9.59 1.41.59.51 0 1.02-.2 1.41-.59l7.78-7.78 2.81-2.81c.8-.78.8-2.07 0-2.86zM5.41 20L4 18.59l7.72-7.72 1.47 1.35L5.41 20z\"/>\n",
              "  </svg>\n",
              "      </button>\n",
              "      \n",
              "  <style>\n",
              "    .colab-df-container {\n",
              "      display:flex;\n",
              "      flex-wrap:wrap;\n",
              "      gap: 12px;\n",
              "    }\n",
              "\n",
              "    .colab-df-convert {\n",
              "      background-color: #E8F0FE;\n",
              "      border: none;\n",
              "      border-radius: 50%;\n",
              "      cursor: pointer;\n",
              "      display: none;\n",
              "      fill: #1967D2;\n",
              "      height: 32px;\n",
              "      padding: 0 0 0 0;\n",
              "      width: 32px;\n",
              "    }\n",
              "\n",
              "    .colab-df-convert:hover {\n",
              "      background-color: #E2EBFA;\n",
              "      box-shadow: 0px 1px 2px rgba(60, 64, 67, 0.3), 0px 1px 3px 1px rgba(60, 64, 67, 0.15);\n",
              "      fill: #174EA6;\n",
              "    }\n",
              "\n",
              "    [theme=dark] .colab-df-convert {\n",
              "      background-color: #3B4455;\n",
              "      fill: #D2E3FC;\n",
              "    }\n",
              "\n",
              "    [theme=dark] .colab-df-convert:hover {\n",
              "      background-color: #434B5C;\n",
              "      box-shadow: 0px 1px 3px 1px rgba(0, 0, 0, 0.15);\n",
              "      filter: drop-shadow(0px 1px 2px rgba(0, 0, 0, 0.3));\n",
              "      fill: #FFFFFF;\n",
              "    }\n",
              "  </style>\n",
              "\n",
              "      <script>\n",
              "        const buttonEl =\n",
              "          document.querySelector('#df-09282f2d-9fe8-4374-ab68-58849ba1a7ea button.colab-df-convert');\n",
              "        buttonEl.style.display =\n",
              "          google.colab.kernel.accessAllowed ? 'block' : 'none';\n",
              "\n",
              "        async function convertToInteractive(key) {\n",
              "          const element = document.querySelector('#df-09282f2d-9fe8-4374-ab68-58849ba1a7ea');\n",
              "          const dataTable =\n",
              "            await google.colab.kernel.invokeFunction('convertToInteractive',\n",
              "                                                     [key], {});\n",
              "          if (!dataTable) return;\n",
              "\n",
              "          const docLinkHtml = 'Like what you see? Visit the ' +\n",
              "            '<a target=\"_blank\" href=https://colab.research.google.com/notebooks/data_table.ipynb>data table notebook</a>'\n",
              "            + ' to learn more about interactive tables.';\n",
              "          element.innerHTML = '';\n",
              "          dataTable['output_type'] = 'display_data';\n",
              "          await google.colab.output.renderOutput(dataTable, element);\n",
              "          const docLink = document.createElement('div');\n",
              "          docLink.innerHTML = docLinkHtml;\n",
              "          element.appendChild(docLink);\n",
              "        }\n",
              "      </script>\n",
              "    </div>\n",
              "  </div>\n",
              "  "
            ],
            "text/plain": [
              "                                   name  item_condition_id         brand_name  \\\n",
              "814448              Lularoe TC Leggings                  2            LuLaRoe   \n",
              "1249293  Merrell leather sandals size 8                  3            Merrell   \n",
              "943379       Victoria Secret the Nakeds                  4  Victoria's Secret   \n",
              "510092              Stussy RUGBY HOODIE                  1                NaN   \n",
              "841889          38DDD VS lined Body bra                  3  Victoria's Secret   \n",
              "\n",
              "         shipping                                   item_description  stock  \\\n",
              "814448          0                                      TC Never Worn     13   \n",
              "1249293         0                                 No description yet      1   \n",
              "943379          0                                       2 Lined Demi      6   \n",
              "510092          0  Brand new with tags retails at [rm] asking 75$...     47   \n",
              "841889          1  Lined Underwire Adjustable Straps Pilling on F...     26   \n",
              "\n",
              "        gen_cat          sub1_cat                 sub2_cat  datetime_month  \\\n",
              "814448    Women  Athletic Apparel  Pants, Tights, Leggings            10.0   \n",
              "1249293   Women             Shoes                  Sandals             9.0   \n",
              "943379    Women         Underwear                     Bras             6.0   \n",
              "510092      Men  Sweats & Hoodies                   Hoodie             6.0   \n",
              "841889    Women         Underwear                     Bras            10.0   \n",
              "\n",
              "         datetime_year  \n",
              "814448          2018.0  \n",
              "1249293         2018.0  \n",
              "943379          2018.0  \n",
              "510092          2018.0  \n",
              "841889          2018.0  "
            ]
          },
          "execution_count": 15,
          "metadata": {},
          "output_type": "execute_result"
        }
      ],
      "source": [
        "Xval.head()"
      ]
    },
    {
      "cell_type": "markdown",
      "metadata": {
        "id": "NE9sfj3Fqvi4"
      },
      "source": [
        "#   Pré-processamento"
      ]
    },
    {
      "cell_type": "code",
      "execution_count": 16,
      "metadata": {
        "id": "P_fkOBRgqvi4"
      },
      "outputs": [],
      "source": [
        "#Função para \"separação\" de palavras, ex: Can't -> can not, objetivo de facilitar a limpeza, aonde não serão criadas duas palavras para cant/can not.\n",
        "# Será feito para diversas palavras com a mesma condição.\n",
        "\n",
        "def text_preprocess(phrase):\n",
        "    \n",
        "    phrase = re.sub(r\"won\\'t\", \"will not\", phrase)\n",
        "    phrase = re.sub(r\"can\\'t\", \"can not\", phrase)\n",
        "    phrase = re.sub(r\"n\\'t\", \" not\", phrase)\n",
        "    phrase = re.sub(r\"\\'re\", \" are\", phrase)\n",
        "    phrase = re.sub(r\"\\'s\", \" is\", phrase)\n",
        "    phrase = re.sub(r\"\\'d\", \" would\", phrase)\n",
        "    phrase = re.sub(r\"\\'ll\", \" will\", phrase)\n",
        "    phrase = re.sub(r\"\\'t\", \" not\", phrase)\n",
        "    phrase = re.sub(r\"\\'ve\", \" have\", phrase)\n",
        "    phrase = re.sub(r\"\\'m\", \" am\", phrase)\n",
        "    phrase  = re.sub('^no description yet$', '', phrase)\n",
        "    \n",
        "    phrase = re.sub('https?://\\S+| www.\\S+', '', phrase) #Remoção de qualquer site que possa ter no nosso dataset\n",
        "    phrase  = re.sub('[rm]', '', phrase)\n",
        "    phrase = re.sub(\"[^a-zA-Z0-9' \\n\\.]\", '', phrase)  #excluindo tudo o que não for letra e numero.\n",
        "    \n",
        "    phrase = re.sub(' +', ' ', phrase) #exclusão de espaços extras, ex: \"eu    vou\" -> \"eu vou\"\n",
        "\n",
        "    phrase = phrase.lower() #passando para letra minúscula.\n",
        "   \n",
        "    return phrase"
      ]
    },
    {
      "cell_type": "code",
      "execution_count": 17,
      "metadata": {
        "id": "wQRJjK2Wqvi5"
      },
      "outputs": [],
      "source": [
        "Xtrain[\"name\"] = Xtrain[\"name\"].apply(lambda x: text_preprocess(x))"
      ]
    },
    {
      "cell_type": "code",
      "execution_count": 18,
      "metadata": {
        "id": "XDTY_ApIqvi5"
      },
      "outputs": [],
      "source": [
        "Xtrain[\"item_description\"] = Xtrain[\"item_description\"].astype(str)"
      ]
    },
    {
      "cell_type": "code",
      "execution_count": 19,
      "metadata": {
        "id": "Kg3W1HxIqvi5"
      },
      "outputs": [],
      "source": [
        "Xtrain[\"item_description\"] = Xtrain[\"item_description\"].apply(lambda x: text_preprocess(x))"
      ]
    },
    {
      "cell_type": "code",
      "execution_count": 20,
      "metadata": {
        "colab": {
          "base_uri": "https://localhost:8080/",
          "height": 424
        },
        "id": "xTDxK91Aqvi5",
        "outputId": "7a6eaaa7-39de-47cb-cc8c-1c2277ec1cde"
      },
      "outputs": [
        {
          "data": {
            "text/html": [
              "\n",
              "  <div id=\"df-2b7a4865-6330-485c-811a-1ed5fdd0f0ad\">\n",
              "    <div class=\"colab-df-container\">\n",
              "      <div>\n",
              "<style scoped>\n",
              "    .dataframe tbody tr th:only-of-type {\n",
              "        vertical-align: middle;\n",
              "    }\n",
              "\n",
              "    .dataframe tbody tr th {\n",
              "        vertical-align: top;\n",
              "    }\n",
              "\n",
              "    .dataframe thead th {\n",
              "        text-align: right;\n",
              "    }\n",
              "</style>\n",
              "<table border=\"1\" class=\"dataframe\">\n",
              "  <thead>\n",
              "    <tr style=\"text-align: right;\">\n",
              "      <th></th>\n",
              "      <th>name</th>\n",
              "      <th>item_condition_id</th>\n",
              "      <th>brand_name</th>\n",
              "      <th>shipping</th>\n",
              "      <th>item_description</th>\n",
              "      <th>stock</th>\n",
              "      <th>gen_cat</th>\n",
              "      <th>sub1_cat</th>\n",
              "      <th>sub2_cat</th>\n",
              "      <th>datetime_month</th>\n",
              "      <th>datetime_year</th>\n",
              "    </tr>\n",
              "  </thead>\n",
              "  <tbody>\n",
              "    <tr>\n",
              "      <th>1308880</th>\n",
              "      <td>2 tops sall and mii chica dess med</td>\n",
              "      <td>3</td>\n",
              "      <td>FOREVER 21</td>\n",
              "      <td>0</td>\n",
              "      <td>foeve 21 shak top lightweight gildan unicon to...</td>\n",
              "      <td>2</td>\n",
              "      <td>Women</td>\n",
              "      <td>Tops &amp; Blouses</td>\n",
              "      <td>Tank, Cami</td>\n",
              "      <td>9.0</td>\n",
              "      <td>2018.0</td>\n",
              "    </tr>\n",
              "    <tr>\n",
              "      <th>870024</th>\n",
              "      <td>pais a ba 36g band new</td>\n",
              "      <td>1</td>\n",
              "      <td>NaN</td>\n",
              "      <td>0</td>\n",
              "      <td>band new. neve won.</td>\n",
              "      <td>7</td>\n",
              "      <td>Women</td>\n",
              "      <td>Underwear</td>\n",
              "      <td>Bras</td>\n",
              "      <td>10.0</td>\n",
              "      <td>2018.0</td>\n",
              "    </tr>\n",
              "    <tr>\n",
              "      <th>327127</th>\n",
              "      <td>victoia is secet bikni top 32c</td>\n",
              "      <td>3</td>\n",
              "      <td>Victoria's Secret</td>\n",
              "      <td>0</td>\n",
              "      <td>nice victoia is secet 32c biknintop</td>\n",
              "      <td>15</td>\n",
              "      <td>Women</td>\n",
              "      <td>Swimwear</td>\n",
              "      <td>Two-Piece</td>\n",
              "      <td>6.0</td>\n",
              "      <td>2018.0</td>\n",
              "    </tr>\n",
              "    <tr>\n",
              "      <th>129984</th>\n",
              "      <td>galaxy s7 lifepoof fe case</td>\n",
              "      <td>1</td>\n",
              "      <td>NaN</td>\n",
              "      <td>1</td>\n",
              "      <td>band new without box fits galaxy s7</td>\n",
              "      <td>1</td>\n",
              "      <td>Electronics</td>\n",
              "      <td>Cell Phones &amp; Accessories</td>\n",
              "      <td>Cases, Covers &amp; Skins</td>\n",
              "      <td>12.0</td>\n",
              "      <td>2018.0</td>\n",
              "    </tr>\n",
              "    <tr>\n",
              "      <th>1377836</th>\n",
              "      <td>vs pink backpack</td>\n",
              "      <td>1</td>\n",
              "      <td>PINK</td>\n",
              "      <td>1</td>\n",
              "      <td>band new with tags in online vs bag vs pink pi...</td>\n",
              "      <td>2</td>\n",
              "      <td>Women</td>\n",
              "      <td>Women's Handbags</td>\n",
              "      <td>Backpack Style</td>\n",
              "      <td>10.0</td>\n",
              "      <td>2018.0</td>\n",
              "    </tr>\n",
              "    <tr>\n",
              "      <th>...</th>\n",
              "      <td>...</td>\n",
              "      <td>...</td>\n",
              "      <td>...</td>\n",
              "      <td>...</td>\n",
              "      <td>...</td>\n",
              "      <td>...</td>\n",
              "      <td>...</td>\n",
              "      <td>...</td>\n",
              "      <td>...</td>\n",
              "      <td>...</td>\n",
              "      <td>...</td>\n",
              "    </tr>\n",
              "    <tr>\n",
              "      <th>1374262</th>\n",
              "      <td>pink</td>\n",
              "      <td>3</td>\n",
              "      <td>PINK</td>\n",
              "      <td>1</td>\n",
              "      <td>t shit bling</td>\n",
              "      <td>18</td>\n",
              "      <td>Women</td>\n",
              "      <td>Tops &amp; Blouses</td>\n",
              "      <td>T-Shirts</td>\n",
              "      <td>6.0</td>\n",
              "      <td>2018.0</td>\n",
              "    </tr>\n",
              "    <tr>\n",
              "      <th>1176292</th>\n",
              "      <td>tie dye tunicdess</td>\n",
              "      <td>2</td>\n",
              "      <td>NaN</td>\n",
              "      <td>1</td>\n",
              "      <td>geat condition shows no sign of wea quate sleeve</td>\n",
              "      <td>13</td>\n",
              "      <td>Women</td>\n",
              "      <td>Tops &amp; Blouses</td>\n",
              "      <td>T-Shirts</td>\n",
              "      <td>2.0</td>\n",
              "      <td>2018.0</td>\n",
              "    </tr>\n",
              "    <tr>\n",
              "      <th>629826</th>\n",
              "      <td>lululeon high ties pants sz 6</td>\n",
              "      <td>1</td>\n",
              "      <td>Lululemon</td>\n",
              "      <td>1</td>\n",
              "      <td>nwt size 6 heatheed slate gey cottony soft luo...</td>\n",
              "      <td>9</td>\n",
              "      <td>Women</td>\n",
              "      <td>Athletic Apparel</td>\n",
              "      <td>Pants, Tights, Leggings</td>\n",
              "      <td>8.0</td>\n",
              "      <td>2018.0</td>\n",
              "    </tr>\n",
              "    <tr>\n",
              "      <th>1068678</th>\n",
              "      <td>cantu</td>\n",
              "      <td>1</td>\n",
              "      <td>NaN</td>\n",
              "      <td>1</td>\n",
              "      <td>band new neve used cantu shea butte leave in c...</td>\n",
              "      <td>11</td>\n",
              "      <td>Beauty</td>\n",
              "      <td>Hair Care</td>\n",
              "      <td>Conditioners</td>\n",
              "      <td>8.0</td>\n",
              "      <td>2018.0</td>\n",
              "    </tr>\n",
              "    <tr>\n",
              "      <th>1420775</th>\n",
              "      <td>bke shorts</td>\n",
              "      <td>2</td>\n",
              "      <td>Buckle</td>\n",
              "      <td>0</td>\n",
              "      <td>size 29. bought and they do not fit. selling f...</td>\n",
              "      <td>16</td>\n",
              "      <td>Women</td>\n",
              "      <td>Athletic Apparel</td>\n",
              "      <td>Shorts</td>\n",
              "      <td>1.0</td>\n",
              "      <td>2018.0</td>\n",
              "    </tr>\n",
              "  </tbody>\n",
              "</table>\n",
              "<p>1163609 rows × 11 columns</p>\n",
              "</div>\n",
              "      <button class=\"colab-df-convert\" onclick=\"convertToInteractive('df-2b7a4865-6330-485c-811a-1ed5fdd0f0ad')\"\n",
              "              title=\"Convert this dataframe to an interactive table.\"\n",
              "              style=\"display:none;\">\n",
              "        \n",
              "  <svg xmlns=\"http://www.w3.org/2000/svg\" height=\"24px\"viewBox=\"0 0 24 24\"\n",
              "       width=\"24px\">\n",
              "    <path d=\"M0 0h24v24H0V0z\" fill=\"none\"/>\n",
              "    <path d=\"M18.56 5.44l.94 2.06.94-2.06 2.06-.94-2.06-.94-.94-2.06-.94 2.06-2.06.94zm-11 1L8.5 8.5l.94-2.06 2.06-.94-2.06-.94L8.5 2.5l-.94 2.06-2.06.94zm10 10l.94 2.06.94-2.06 2.06-.94-2.06-.94-.94-2.06-.94 2.06-2.06.94z\"/><path d=\"M17.41 7.96l-1.37-1.37c-.4-.4-.92-.59-1.43-.59-.52 0-1.04.2-1.43.59L10.3 9.45l-7.72 7.72c-.78.78-.78 2.05 0 2.83L4 21.41c.39.39.9.59 1.41.59.51 0 1.02-.2 1.41-.59l7.78-7.78 2.81-2.81c.8-.78.8-2.07 0-2.86zM5.41 20L4 18.59l7.72-7.72 1.47 1.35L5.41 20z\"/>\n",
              "  </svg>\n",
              "      </button>\n",
              "      \n",
              "  <style>\n",
              "    .colab-df-container {\n",
              "      display:flex;\n",
              "      flex-wrap:wrap;\n",
              "      gap: 12px;\n",
              "    }\n",
              "\n",
              "    .colab-df-convert {\n",
              "      background-color: #E8F0FE;\n",
              "      border: none;\n",
              "      border-radius: 50%;\n",
              "      cursor: pointer;\n",
              "      display: none;\n",
              "      fill: #1967D2;\n",
              "      height: 32px;\n",
              "      padding: 0 0 0 0;\n",
              "      width: 32px;\n",
              "    }\n",
              "\n",
              "    .colab-df-convert:hover {\n",
              "      background-color: #E2EBFA;\n",
              "      box-shadow: 0px 1px 2px rgba(60, 64, 67, 0.3), 0px 1px 3px 1px rgba(60, 64, 67, 0.15);\n",
              "      fill: #174EA6;\n",
              "    }\n",
              "\n",
              "    [theme=dark] .colab-df-convert {\n",
              "      background-color: #3B4455;\n",
              "      fill: #D2E3FC;\n",
              "    }\n",
              "\n",
              "    [theme=dark] .colab-df-convert:hover {\n",
              "      background-color: #434B5C;\n",
              "      box-shadow: 0px 1px 3px 1px rgba(0, 0, 0, 0.15);\n",
              "      filter: drop-shadow(0px 1px 2px rgba(0, 0, 0, 0.3));\n",
              "      fill: #FFFFFF;\n",
              "    }\n",
              "  </style>\n",
              "\n",
              "      <script>\n",
              "        const buttonEl =\n",
              "          document.querySelector('#df-2b7a4865-6330-485c-811a-1ed5fdd0f0ad button.colab-df-convert');\n",
              "        buttonEl.style.display =\n",
              "          google.colab.kernel.accessAllowed ? 'block' : 'none';\n",
              "\n",
              "        async function convertToInteractive(key) {\n",
              "          const element = document.querySelector('#df-2b7a4865-6330-485c-811a-1ed5fdd0f0ad');\n",
              "          const dataTable =\n",
              "            await google.colab.kernel.invokeFunction('convertToInteractive',\n",
              "                                                     [key], {});\n",
              "          if (!dataTable) return;\n",
              "\n",
              "          const docLinkHtml = 'Like what you see? Visit the ' +\n",
              "            '<a target=\"_blank\" href=https://colab.research.google.com/notebooks/data_table.ipynb>data table notebook</a>'\n",
              "            + ' to learn more about interactive tables.';\n",
              "          element.innerHTML = '';\n",
              "          dataTable['output_type'] = 'display_data';\n",
              "          await google.colab.output.renderOutput(dataTable, element);\n",
              "          const docLink = document.createElement('div');\n",
              "          docLink.innerHTML = docLinkHtml;\n",
              "          element.appendChild(docLink);\n",
              "        }\n",
              "      </script>\n",
              "    </div>\n",
              "  </div>\n",
              "  "
            ],
            "text/plain": [
              "                                       name  item_condition_id  \\\n",
              "1308880  2 tops sall and mii chica dess med                  3   \n",
              "870024               pais a ba 36g band new                  1   \n",
              "327127       victoia is secet bikni top 32c                  3   \n",
              "129984           galaxy s7 lifepoof fe case                  1   \n",
              "1377836                    vs pink backpack                  1   \n",
              "...                                     ...                ...   \n",
              "1374262                                pink                  3   \n",
              "1176292                   tie dye tunicdess                  2   \n",
              "629826        lululeon high ties pants sz 6                  1   \n",
              "1068678                               cantu                  1   \n",
              "1420775                          bke shorts                  2   \n",
              "\n",
              "                brand_name  shipping  \\\n",
              "1308880         FOREVER 21         0   \n",
              "870024                 NaN         0   \n",
              "327127   Victoria's Secret         0   \n",
              "129984                 NaN         1   \n",
              "1377836               PINK         1   \n",
              "...                    ...       ...   \n",
              "1374262               PINK         1   \n",
              "1176292                NaN         1   \n",
              "629826           Lululemon         1   \n",
              "1068678                NaN         1   \n",
              "1420775             Buckle         0   \n",
              "\n",
              "                                          item_description  stock  \\\n",
              "1308880  foeve 21 shak top lightweight gildan unicon to...      2   \n",
              "870024                                 band new. neve won.      7   \n",
              "327127                 nice victoia is secet 32c biknintop     15   \n",
              "129984                 band new without box fits galaxy s7      1   \n",
              "1377836  band new with tags in online vs bag vs pink pi...      2   \n",
              "...                                                    ...    ...   \n",
              "1374262                                       t shit bling     18   \n",
              "1176292   geat condition shows no sign of wea quate sleeve     13   \n",
              "629826   nwt size 6 heatheed slate gey cottony soft luo...      9   \n",
              "1068678  band new neve used cantu shea butte leave in c...     11   \n",
              "1420775  size 29. bought and they do not fit. selling f...     16   \n",
              "\n",
              "             gen_cat                   sub1_cat                 sub2_cat  \\\n",
              "1308880        Women             Tops & Blouses               Tank, Cami   \n",
              "870024         Women                  Underwear                     Bras   \n",
              "327127         Women                   Swimwear                Two-Piece   \n",
              "129984   Electronics  Cell Phones & Accessories    Cases, Covers & Skins   \n",
              "1377836        Women           Women's Handbags           Backpack Style   \n",
              "...              ...                        ...                      ...   \n",
              "1374262        Women             Tops & Blouses                 T-Shirts   \n",
              "1176292        Women             Tops & Blouses                 T-Shirts   \n",
              "629826         Women           Athletic Apparel  Pants, Tights, Leggings   \n",
              "1068678       Beauty                  Hair Care             Conditioners   \n",
              "1420775        Women           Athletic Apparel                   Shorts   \n",
              "\n",
              "         datetime_month  datetime_year  \n",
              "1308880             9.0         2018.0  \n",
              "870024             10.0         2018.0  \n",
              "327127              6.0         2018.0  \n",
              "129984             12.0         2018.0  \n",
              "1377836            10.0         2018.0  \n",
              "...                 ...            ...  \n",
              "1374262             6.0         2018.0  \n",
              "1176292             2.0         2018.0  \n",
              "629826              8.0         2018.0  \n",
              "1068678             8.0         2018.0  \n",
              "1420775             1.0         2018.0  \n",
              "\n",
              "[1163609 rows x 11 columns]"
            ]
          },
          "execution_count": 20,
          "metadata": {},
          "output_type": "execute_result"
        }
      ],
      "source": [
        "Xtrain"
      ]
    },
    {
      "cell_type": "code",
      "execution_count": 21,
      "metadata": {
        "id": "HOCCuVpfV3QX"
      },
      "outputs": [],
      "source": [
        "vec_name = TfidfVectorizer(stop_words='english', ngram_range=(1,2), min_df = 50, max_df = 0.5) #vetorização, com stop word. \n",
        "vec_desc = TfidfVectorizer(stop_words='english', ngram_range=(1,2), min_df = 50, max_df = 0.5) #vetorização, com stop word. \n",
        "\n",
        "vce_xtrain_name = vec_name.fit_transform(Xtrain[\"name\"])\n",
        "vce_xtrain_descrip = vec_desc.fit_transform(Xtrain[\"item_description\"])"
      ]
    },
    {
      "cell_type": "code",
      "execution_count": 22,
      "metadata": {
        "colab": {
          "base_uri": "https://localhost:8080/"
        },
        "id": "U0WR6VEfqvi6",
        "outputId": "6de05b80-548f-4e6e-fe1b-19217cd0070b"
      },
      "outputs": [
        {
          "data": {
            "text/plain": [
              "<1163609x55267 sparse matrix of type '<class 'numpy.float64'>'\n",
              "\twith 25600718 stored elements in Compressed Sparse Row format>"
            ]
          },
          "execution_count": 22,
          "metadata": {},
          "output_type": "execute_result"
        }
      ],
      "source": [
        "vce_xtrain_descrip"
      ]
    },
    {
      "cell_type": "code",
      "execution_count": 23,
      "metadata": {
        "colab": {
          "base_uri": "https://localhost:8080/"
        },
        "id": "Ej8tgQJaz7Mx",
        "outputId": "4e053915-7263-4974-8401-a561eaa1dc7f"
      },
      "outputs": [
        {
          "data": {
            "text/plain": [
              "<1163609x13612 sparse matrix of type '<class 'numpy.float64'>'\n",
              "\twith 5461329 stored elements in Compressed Sparse Row format>"
            ]
          },
          "execution_count": 23,
          "metadata": {},
          "output_type": "execute_result"
        }
      ],
      "source": [
        "vce_xtrain_name"
      ]
    },
    {
      "cell_type": "code",
      "execution_count": 24,
      "metadata": {
        "id": "3fVmVztIV3QY"
      },
      "outputs": [],
      "source": [
        "ohe = OneHotEncoder(handle_unknown=\"ignore\")\n",
        "\n",
        "#aplicação dummy nas colunas categóricas.\n",
        "\n",
        "ohe_condition = ohe.fit_transform(Xtrain[[\"item_condition_id\",   \n",
        "                                         \"shipping\",\n",
        "                                         #\"brand_name\",\n",
        "                                         \"gen_cat\",\n",
        "                                         \"sub1_cat\",\n",
        "                                         \"sub2_cat\"]])\n",
        "                                         #\"datetime_month\"]])"
      ]
    },
    {
      "cell_type": "code",
      "execution_count": 25,
      "metadata": {
        "colab": {
          "base_uri": "https://localhost:8080/"
        },
        "id": "rn0ayn7TBIoO",
        "outputId": "dcb9f1cb-4bdb-46ce-a07e-9160e4d684a4"
      },
      "outputs": [
        {
          "data": {
            "text/plain": [
              "<1163609x996 sparse matrix of type '<class 'numpy.float64'>'\n",
              "\twith 5818045 stored elements in Compressed Sparse Row format>"
            ]
          },
          "execution_count": 25,
          "metadata": {},
          "output_type": "execute_result"
        }
      ],
      "source": [
        "ohe_condition"
      ]
    },
    {
      "cell_type": "code",
      "execution_count": 26,
      "metadata": {
        "id": "gmAFx_fbV3QY"
      },
      "outputs": [],
      "source": [
        "x_train = hstack([(vce_xtrain_name), (vce_xtrain_descrip), (ohe_condition)], format='csr')"
      ]
    },
    {
      "cell_type": "code",
      "execution_count": 27,
      "metadata": {
        "colab": {
          "base_uri": "https://localhost:8080/"
        },
        "id": "bruW5VkQW6TU",
        "outputId": "eebe94a9-1130-4ac2-ae3c-1208e3b46118"
      },
      "outputs": [
        {
          "data": {
            "text/plain": [
              "69875"
            ]
          },
          "execution_count": 27,
          "metadata": {},
          "output_type": "execute_result"
        }
      ],
      "source": [
        "x_train.shape[-1]"
      ]
    },
    {
      "cell_type": "code",
      "execution_count": 28,
      "metadata": {
        "id": "sc8ktqArSl-f"
      },
      "outputs": [],
      "source": [
        "from tensorflow.keras.backend import clear_session\n",
        "\n",
        "clear_session()"
      ]
    },
    {
      "cell_type": "code",
      "execution_count": 29,
      "metadata": {
        "colab": {
          "base_uri": "https://localhost:8080/"
        },
        "id": "FnK6fHnQHpLY",
        "outputId": "75fc6640-9ed8-45f7-cb5c-9e7537ade64d"
      },
      "outputs": [
        {
          "name": "stdout",
          "output_type": "stream",
          "text": [
            "Model: \"model\"\n",
            "_________________________________________________________________\n",
            " Layer (type)                Output Shape              Param #   \n",
            "=================================================================\n",
            " sparse (InputLayer)         [(None, 69875)]           0         \n",
            "                                                                 \n",
            " dense (Dense)               (None, 1024)              71553024  \n",
            "                                                                 \n",
            " dense_1 (Dense)             (None, 512)               524800    \n",
            "                                                                 \n",
            " dense_2 (Dense)             (None, 256)               131328    \n",
            "                                                                 \n",
            " dense_3 (Dense)             (None, 1)                 257       \n",
            "                                                                 \n",
            "=================================================================\n",
            "Total params: 72,209,409\n",
            "Trainable params: 72,209,409\n",
            "Non-trainable params: 0\n",
            "_________________________________________________________________\n"
          ]
        }
      ],
      "source": [
        "from keras.layers import Input, Dense\n",
        "from keras.models import Model\n",
        "\n",
        "input = Input(shape=(x_train.shape[-1]), sparse=True, name='sparse')\n",
        "dense3 = Dense(1024, activation=\"relu\") (input)\n",
        "dense4 = Dense(512, activation=\"relu\") (dense3)\n",
        "dense5 = Dense(256, activation=\"relu\") (dense4)\n",
        "dense6 = Dense(1) (dense5)\n",
        "\n",
        "model = Model(inputs = input, outputs = dense6)\n",
        "\n",
        "model.summary()\n",
        "\n",
        "#Tentar dropar os bundles"
      ]
    },
    {
      "cell_type": "code",
      "execution_count": 30,
      "metadata": {
        "colab": {
          "base_uri": "https://localhost:8080/"
        },
        "id": "IU798NtOC8Fk",
        "outputId": "83098efc-b9f6-4fa0-c3da-25c5663fc10d"
      },
      "outputs": [
        {
          "data": {
            "text/plain": [
              "(1163609,)"
            ]
          },
          "execution_count": 30,
          "metadata": {},
          "output_type": "execute_result"
        }
      ],
      "source": [
        "ytrain.values.shape"
      ]
    },
    {
      "cell_type": "code",
      "execution_count": 31,
      "metadata": {
        "colab": {
          "base_uri": "https://localhost:8080/"
        },
        "id": "FePak8b3AGzI",
        "outputId": "c0061e31-8e99-48d5-c6b7-2482e5302059"
      },
      "outputs": [
        {
          "name": "stdout",
          "output_type": "stream",
          "text": [
            "Epoch 1/10\n"
          ]
        },
        {
          "name": "stderr",
          "output_type": "stream",
          "text": [
            "/usr/local/lib/python3.7/dist-packages/tensorflow/python/framework/indexed_slices.py:446: UserWarning: Converting sparse IndexedSlices(IndexedSlices(indices=Tensor(\"gradient_tape/model/dense/embedding_lookup_sparse/Reshape_1:0\", shape=(None,), dtype=int32), values=Tensor(\"gradient_tape/model/dense/embedding_lookup_sparse/Reshape:0\", shape=(None, 1024), dtype=float32), dense_shape=Tensor(\"gradient_tape/model/dense/embedding_lookup_sparse/Cast:0\", shape=(2,), dtype=int32))) to a dense Tensor of unknown shape. This may consume a large amount of memory.\n",
            "  \"shape. This may consume a large amount of memory.\" % value)\n"
          ]
        },
        {
          "name": "stdout",
          "output_type": "stream",
          "text": [
            "569/569 [==============================] - 40s 64ms/step - loss: 0.3990 - mean_squared_error: 0.3180 - mean_squared_logarithmic_error: 0.0254 - root_mean_squared_error: 0.5639\n",
            "Epoch 2/10\n",
            "569/569 [==============================] - 39s 64ms/step - loss: 0.3184 - mean_squared_error: 0.1877 - mean_squared_logarithmic_error: 0.0116 - root_mean_squared_error: 0.4333\n",
            "Epoch 3/10\n",
            "569/569 [==============================] - 39s 65ms/step - loss: 0.2767 - mean_squared_error: 0.1486 - mean_squared_logarithmic_error: 0.0092 - root_mean_squared_error: 0.3856\n",
            "Epoch 4/10\n",
            "569/569 [==============================] - 39s 64ms/step - loss: 0.2388 - mean_squared_error: 0.1159 - mean_squared_logarithmic_error: 0.0072 - root_mean_squared_error: 0.3404\n",
            "Epoch 5/10\n",
            "569/569 [==============================] - 39s 64ms/step - loss: 0.2073 - mean_squared_error: 0.0909 - mean_squared_logarithmic_error: 0.0056 - root_mean_squared_error: 0.3016\n",
            "Epoch 6/10\n",
            "569/569 [==============================] - 39s 64ms/step - loss: 0.1824 - mean_squared_error: 0.0730 - mean_squared_logarithmic_error: 0.0045 - root_mean_squared_error: 0.2702\n",
            "Epoch 7/10\n",
            "569/569 [==============================] - 39s 65ms/step - loss: 0.1635 - mean_squared_error: 0.0603 - mean_squared_logarithmic_error: 0.0037 - root_mean_squared_error: 0.2455\n",
            "Epoch 8/10\n",
            "569/569 [==============================] - 39s 64ms/step - loss: 0.1480 - mean_squared_error: 0.0506 - mean_squared_logarithmic_error: 0.0031 - root_mean_squared_error: 0.2250\n",
            "Epoch 9/10\n",
            "569/569 [==============================] - 39s 64ms/step - loss: 0.1360 - mean_squared_error: 0.0436 - mean_squared_logarithmic_error: 0.0027 - root_mean_squared_error: 0.2088\n",
            "Epoch 10/10\n",
            "569/569 [==============================] - 39s 64ms/step - loss: 0.1267 - mean_squared_error: 0.0384 - mean_squared_logarithmic_error: 0.0023 - root_mean_squared_error: 0.1959\n"
          ]
        }
      ],
      "source": [
        "from tensorflow.keras.metrics import RootMeanSquaredError\n",
        "\n",
        "model.compile(loss=\"mean_absolute_error\", metrics=['mean_squared_error', 'mean_squared_logarithmic_error', RootMeanSquaredError()], optimizer = 'adam')\n",
        "history1 = model.fit(x_train, ytrain.values, batch_size=2048, epochs=10, verbose=True)"
      ]
    },
    {
      "cell_type": "code",
      "execution_count": 32,
      "metadata": {
        "id": "LW3ZvP9evLS1"
      },
      "outputs": [],
      "source": [
        "Xval[\"name\"] = Xval[\"name\"].apply(lambda x: text_preprocess(x))\n",
        "Xval[\"item_description\"] = Xval[\"item_description\"].astype(str)\n",
        "Xval[\"item_description\"] = Xval[\"item_description\"].apply(lambda x: text_preprocess(x))\n",
        "\n",
        "vce_xval_name = vec_name.transform(Xval[\"name\"])\n",
        "vce_xval_descrip = vec_desc.transform(Xval[\"item_description\"])\n",
        "\n",
        "ohe_val_condition = ohe.transform(Xval[[\"item_condition_id\",   \n",
        "                                          \"shipping\",\n",
        "                                          #\"brand_name\"\n",
        "                                          \"gen_cat\",\n",
        "                                          \"sub1_cat\",\n",
        "                                          \"sub2_cat\"]])\n",
        "                                          #\"datetime_month\"\n",
        "\n",
        "\n",
        "\n",
        "x_val = hstack([ (vce_xval_name), (vce_xval_descrip), (ohe_val_condition)], format='csr')"
      ]
    },
    {
      "cell_type": "code",
      "execution_count": 33,
      "metadata": {
        "colab": {
          "base_uri": "https://localhost:8080/"
        },
        "id": "HwIbBR9TvDns",
        "outputId": "4e21ec41-4621-4a5e-d839-e0fba895d407"
      },
      "outputs": [
        {
          "name": "stdout",
          "output_type": "stream",
          "text": [
            "\n",
            "\n",
            "9091/9091 [==============================] - 33s 4ms/step - loss: 0.3363 - mean_squared_error: 0.2055 - mean_squared_logarithmic_error: 0.0128 - root_mean_squared_error: 0.4534\n",
            "['loss', 'mean_squared_error', 'mean_squared_logarithmic_error', 'root_mean_squared_error']\n",
            "mse:  0.20553001761436462\n",
            "msle:  0.01281614787876606\n",
            "rmse:  0.4533541798591614\n"
          ]
        }
      ],
      "source": [
        "print(\"\\n\")\n",
        "scoreMLP = model.evaluate(x_val, yval.values)\n",
        "print(model.metrics_names)\n",
        "print(\"mse: \", scoreMLP[1])\n",
        "print(\"msle: \", scoreMLP[2])\n",
        "print(\"rmse: \", scoreMLP[3])"
      ]
    },
    {
      "cell_type": "code",
      "execution_count": 34,
      "metadata": {
        "id": "3u04y2Jx_8h1"
      },
      "outputs": [],
      "source": [
        "import math\n",
        "from sklearn.metrics import mean_squared_error, mean_squared_log_error, mean_absolute_error\n",
        "\n",
        "yval = [math.exp(i)-1 for i in yval.values]"
      ]
    },
    {
      "cell_type": "code",
      "execution_count": 35,
      "metadata": {
        "colab": {
          "base_uri": "https://localhost:8080/"
        },
        "id": "EFcXa9hnTsyM",
        "outputId": "cae6ad80-8266-498d-eb39-194401426835"
      },
      "outputs": [
        {
          "name": "stdout",
          "output_type": "stream",
          "text": [
            "10.267726677120333\n",
            "913.7634213007858\n",
            "0.2055301448541738\n"
          ]
        }
      ],
      "source": [
        "y_pred = [math.exp(i)-1 for i in model.predict(x_val)]\n",
        "\n",
        "print(mean_absolute_error(yval,y_pred))\n",
        "print(mean_squared_error(yval,y_pred))\n",
        "print(mean_squared_log_error(yval,y_pred))"
      ]
    },
    {
      "cell_type": "code",
      "execution_count": 36,
      "metadata": {
        "colab": {
          "base_uri": "https://localhost:8080/",
          "height": 609
        },
        "id": "S6jbpUBxDhUF",
        "outputId": "4df677dd-6152-4682-f07e-35c27ec4ca4b"
      },
      "outputs": [
        {
          "data": {
            "text/plain": [
              "<matplotlib.collections.PathCollection at 0x7f92af7efb90>"
            ]
          },
          "execution_count": 36,
          "metadata": {},
          "output_type": "execute_result"
        },
        {
          "data": {
            "image/png": "[encoded data removed]",
            "text/plain": [
              "<Figure size 720x720 with 1 Axes>"
            ]
          },
          "metadata": {
            "needs_background": "light"
          },
          "output_type": "display_data"
        }
      ],
      "source": [
        "import matplotlib.pyplot as plt\n",
        "\n",
        "plt.figure(figsize=(10,10))\n",
        "plt.scatter(x=yval, y=y_pred)"
      ]
    }
  ],
  "metadata": {
    "accelerator": "GPU",
    "colab": {
      "collapsed_sections": [],
      "provenance": []
    },
    "kernelspec": {
      "display_name": "Python 3.10.4 ('venv': venv)",
      "language": "python",
      "name": "python3"
    },
    "language_info": {
      "codemirror_mode": {
        "name": "ipython",
        "version": 3
      },
      "file_extension": ".py",
      "mimetype": "text/x-python",
      "name": "python",
      "nbconvert_exporter": "python",
      "pygments_lexer": "ipython3",
      "version": "3.10.4"
    },
    "vscode": {
      "interpreter": {
        "hash": "2d8c3cde89636b2df73e0f3dfab6fb2dd7e3ffc595873bef1184e6edd25d1b40"
      }
    }
  },
  "nbformat": 4,
  "nbformat_minor": 0
}
