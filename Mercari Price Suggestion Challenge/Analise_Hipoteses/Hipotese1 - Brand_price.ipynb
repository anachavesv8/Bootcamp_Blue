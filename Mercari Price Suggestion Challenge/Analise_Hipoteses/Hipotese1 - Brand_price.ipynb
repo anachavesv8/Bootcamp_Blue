{
 "cells": [
  {
   "cell_type": "markdown",
   "metadata": {},
   "source": [
    "#   Avaliação de hipótese 1:"
   ]
  },
  {
   "cell_type": "markdown",
   "metadata": {},
   "source": [
    "Aqui vamos avaliar o impacto da \"brand\" para o nosso modelo.\n",
    "\n",
    "A razão de tal análize serve para entendermos melhor qual tratamento deveremos dar para nossos dados 632682 nulos, um número significativo dentro de nosso dataset. Para isso vamos separa-los em 2 datasets, um contendo apenas os valores nulos/missing e um outro dataset contendo todos as colinas preenchidas. Após essa etápa vamos gerar modelos probatórios para  um teste a/b, onde poderemos analisar o melhor caminho para o tratamento desses valores nulos.\n"
   ]
  },
  {
   "cell_type": "code",
   "execution_count": 1,
   "metadata": {},
   "outputs": [],
   "source": [
    "import pandas as pd\n",
    "import random \n",
    "import numpy as np\n",
    "import re\n",
    "from scipy.sparse import hstack"
   ]
  },
  {
   "cell_type": "code",
   "execution_count": 2,
   "metadata": {},
   "outputs": [],
   "source": [
    "from pre_processamento import pre_processamento,text_preprocess"
   ]
  },
  {
   "cell_type": "code",
   "execution_count": 3,
   "metadata": {},
   "outputs": [],
   "source": [
    "\n",
    "from sklearn.model_selection import train_test_split\n",
    "from sklearn.model_selection import GridSearchCV"
   ]
  },
  {
   "cell_type": "code",
   "execution_count": 4,
   "metadata": {},
   "outputs": [],
   "source": [
    "from sklearn.feature_extraction.text import TfidfVectorizer\n",
    "from sklearn.preprocessing import OneHotEncoder"
   ]
  },
  {
   "cell_type": "code",
   "execution_count": 5,
   "metadata": {},
   "outputs": [],
   "source": [
    "from lightgbm import LGBMRegressor"
   ]
  },
  {
   "cell_type": "code",
   "execution_count": 6,
   "metadata": {},
   "outputs": [],
   "source": [
    "from sklearn.metrics import mean_squared_error, mean_squared_log_error, mean_absolute_error, r2_score"
   ]
  },
  {
   "cell_type": "code",
   "execution_count": 7,
   "metadata": {},
   "outputs": [],
   "source": [
    "train = pd.read_csv(r\"C:\\Users\\angel\\Desktop\\bootcamp\\train.tsv\", sep='\\t')\n",
    "test = pd.read_csv(r\"C:\\Users\\angel\\Desktop\\bootcamp\\test.tsv\", sep='\\t')"
   ]
  },
  {
   "cell_type": "code",
   "execution_count": 8,
   "metadata": {},
   "outputs": [],
   "source": [
    "train,test = pre_processamento(train,test)"
   ]
  },
  {
   "cell_type": "code",
   "execution_count": 9,
   "metadata": {},
   "outputs": [
    {
     "data": {
      "text/html": [
       "<div>\n",
       "<style scoped>\n",
       "    .dataframe tbody tr th:only-of-type {\n",
       "        vertical-align: middle;\n",
       "    }\n",
       "\n",
       "    .dataframe tbody tr th {\n",
       "        vertical-align: top;\n",
       "    }\n",
       "\n",
       "    .dataframe thead th {\n",
       "        text-align: right;\n",
       "    }\n",
       "</style>\n",
       "<table border=\"1\" class=\"dataframe\">\n",
       "  <thead>\n",
       "    <tr style=\"text-align: right;\">\n",
       "      <th></th>\n",
       "      <th>name</th>\n",
       "      <th>item_condition_id</th>\n",
       "      <th>brand_name</th>\n",
       "      <th>price</th>\n",
       "      <th>shipping</th>\n",
       "      <th>item_description</th>\n",
       "      <th>stock</th>\n",
       "      <th>gen_cat</th>\n",
       "      <th>sub1_cat</th>\n",
       "      <th>sub2_cat</th>\n",
       "      <th>datetime_month</th>\n",
       "      <th>datetime_year</th>\n",
       "    </tr>\n",
       "  </thead>\n",
       "  <tbody>\n",
       "    <tr>\n",
       "      <th>0</th>\n",
       "      <td>MLB Cincinnati Reds T Shirt Size XL</td>\n",
       "      <td>3</td>\n",
       "      <td>NaN</td>\n",
       "      <td>10.0</td>\n",
       "      <td>1</td>\n",
       "      <td>No description yet</td>\n",
       "      <td>27</td>\n",
       "      <td>Men</td>\n",
       "      <td>Tops</td>\n",
       "      <td>T-shirts</td>\n",
       "      <td>6.0</td>\n",
       "      <td>2018.0</td>\n",
       "    </tr>\n",
       "    <tr>\n",
       "      <th>1</th>\n",
       "      <td>Razer BlackWidow Chroma Keyboard</td>\n",
       "      <td>3</td>\n",
       "      <td>Razer</td>\n",
       "      <td>52.0</td>\n",
       "      <td>0</td>\n",
       "      <td>This keyboard is in great condition and works ...</td>\n",
       "      <td>15</td>\n",
       "      <td>Electronics</td>\n",
       "      <td>Computers &amp; Tablets</td>\n",
       "      <td>Components &amp; Parts</td>\n",
       "      <td>3.0</td>\n",
       "      <td>2018.0</td>\n",
       "    </tr>\n",
       "    <tr>\n",
       "      <th>2</th>\n",
       "      <td>AVA-VIV Blouse</td>\n",
       "      <td>1</td>\n",
       "      <td>Target</td>\n",
       "      <td>10.0</td>\n",
       "      <td>1</td>\n",
       "      <td>Adorable top with a hint of lace and a key hol...</td>\n",
       "      <td>14</td>\n",
       "      <td>Women</td>\n",
       "      <td>Tops &amp; Blouses</td>\n",
       "      <td>Blouse</td>\n",
       "      <td>10.0</td>\n",
       "      <td>2018.0</td>\n",
       "    </tr>\n",
       "    <tr>\n",
       "      <th>3</th>\n",
       "      <td>Leather Horse Statues</td>\n",
       "      <td>1</td>\n",
       "      <td>NaN</td>\n",
       "      <td>35.0</td>\n",
       "      <td>1</td>\n",
       "      <td>New with tags. Leather horses. Retail for [rm]...</td>\n",
       "      <td>1</td>\n",
       "      <td>Home</td>\n",
       "      <td>Home Décor</td>\n",
       "      <td>Home Décor Accents</td>\n",
       "      <td>3.0</td>\n",
       "      <td>2018.0</td>\n",
       "    </tr>\n",
       "    <tr>\n",
       "      <th>4</th>\n",
       "      <td>24K GOLD plated rose</td>\n",
       "      <td>1</td>\n",
       "      <td>NaN</td>\n",
       "      <td>44.0</td>\n",
       "      <td>0</td>\n",
       "      <td>Complete with certificate of authenticity</td>\n",
       "      <td>13</td>\n",
       "      <td>Women</td>\n",
       "      <td>Jewelry</td>\n",
       "      <td>Necklaces</td>\n",
       "      <td>5.0</td>\n",
       "      <td>2018.0</td>\n",
       "    </tr>\n",
       "  </tbody>\n",
       "</table>\n",
       "</div>"
      ],
      "text/plain": [
       "                                  name  item_condition_id brand_name  price  \\\n",
       "0  MLB Cincinnati Reds T Shirt Size XL                  3        NaN   10.0   \n",
       "1     Razer BlackWidow Chroma Keyboard                  3      Razer   52.0   \n",
       "2                       AVA-VIV Blouse                  1     Target   10.0   \n",
       "3                Leather Horse Statues                  1        NaN   35.0   \n",
       "4                 24K GOLD plated rose                  1        NaN   44.0   \n",
       "\n",
       "   shipping                                   item_description  stock  \\\n",
       "0         1                                 No description yet     27   \n",
       "1         0  This keyboard is in great condition and works ...     15   \n",
       "2         1  Adorable top with a hint of lace and a key hol...     14   \n",
       "3         1  New with tags. Leather horses. Retail for [rm]...      1   \n",
       "4         0          Complete with certificate of authenticity     13   \n",
       "\n",
       "       gen_cat             sub1_cat            sub2_cat  datetime_month  \\\n",
       "0          Men                 Tops            T-shirts             6.0   \n",
       "1  Electronics  Computers & Tablets  Components & Parts             3.0   \n",
       "2        Women       Tops & Blouses              Blouse            10.0   \n",
       "3         Home           Home Décor  Home Décor Accents             3.0   \n",
       "4        Women              Jewelry           Necklaces             5.0   \n",
       "\n",
       "   datetime_year  \n",
       "0         2018.0  \n",
       "1         2018.0  \n",
       "2         2018.0  \n",
       "3         2018.0  \n",
       "4         2018.0  "
      ]
     },
     "execution_count": 9,
     "metadata": {},
     "output_type": "execute_result"
    }
   ],
   "source": [
    "train.head()"
   ]
  },
  {
   "cell_type": "markdown",
   "metadata": {},
   "source": [
    "# Pré Processamento"
   ]
  },
  {
   "cell_type": "code",
   "execution_count": 10,
   "metadata": {},
   "outputs": [],
   "source": [
    "train[\"name\"] = train[\"name\"].apply(lambda x: text_preprocess(x)) #limpeza do texto na coluna name"
   ]
  },
  {
   "cell_type": "code",
   "execution_count": 11,
   "metadata": {},
   "outputs": [],
   "source": [
    "train[\"item_description\"] = train[\"item_description\"].astype(str) "
   ]
  },
  {
   "cell_type": "code",
   "execution_count": 12,
   "metadata": {},
   "outputs": [],
   "source": [
    "train[\"item_description\"] = train[\"item_description\"].apply(lambda x: text_preprocess(x)) #limpeza do texto na coluna de descrição"
   ]
  },
  {
   "cell_type": "markdown",
   "metadata": {},
   "source": [
    "#   Modelo com brands não nulas.\n"
   ]
  },
  {
   "cell_type": "code",
   "execution_count": 13,
   "metadata": {},
   "outputs": [],
   "source": [
    "Train_with_brand = train.dropna(subset=\"brand_name\") #Dropando todas as linhas nulas  em brand,nesse modelo só teremos valores não nulos para essa coluna"
   ]
  },
  {
   "cell_type": "code",
   "execution_count": 14,
   "metadata": {},
   "outputs": [],
   "source": [
    "Train_with_brand=Train_with_brand.sample(632682) #igualando ao numero de samples do dataset de brands nulas."
   ]
  },
  {
   "cell_type": "code",
   "execution_count": 15,
   "metadata": {},
   "outputs": [
    {
     "name": "stdout",
     "output_type": "stream",
     "text": [
      "(632682, 12)\n"
     ]
    },
    {
     "data": {
      "text/html": [
       "<div>\n",
       "<style scoped>\n",
       "    .dataframe tbody tr th:only-of-type {\n",
       "        vertical-align: middle;\n",
       "    }\n",
       "\n",
       "    .dataframe tbody tr th {\n",
       "        vertical-align: top;\n",
       "    }\n",
       "\n",
       "    .dataframe thead th {\n",
       "        text-align: right;\n",
       "    }\n",
       "</style>\n",
       "<table border=\"1\" class=\"dataframe\">\n",
       "  <thead>\n",
       "    <tr style=\"text-align: right;\">\n",
       "      <th></th>\n",
       "      <th>name</th>\n",
       "      <th>item_condition_id</th>\n",
       "      <th>brand_name</th>\n",
       "      <th>price</th>\n",
       "      <th>shipping</th>\n",
       "      <th>item_description</th>\n",
       "      <th>stock</th>\n",
       "      <th>gen_cat</th>\n",
       "      <th>sub1_cat</th>\n",
       "      <th>sub2_cat</th>\n",
       "      <th>datetime_month</th>\n",
       "      <th>datetime_year</th>\n",
       "    </tr>\n",
       "  </thead>\n",
       "  <tbody>\n",
       "    <tr>\n",
       "      <th>1020610</th>\n",
       "      <td>too faced born this way foundation</td>\n",
       "      <td>1</td>\n",
       "      <td>Too Faced</td>\n",
       "      <td>16.0</td>\n",
       "      <td>1</td>\n",
       "      <td>25 samples shade natural beige</td>\n",
       "      <td>1</td>\n",
       "      <td>Beauty</td>\n",
       "      <td>Makeup</td>\n",
       "      <td>Face</td>\n",
       "      <td>4.0</td>\n",
       "      <td>2018.0</td>\n",
       "    </tr>\n",
       "    <tr>\n",
       "      <th>73445</th>\n",
       "      <td>bbw seasonal pumpkin mini candles</td>\n",
       "      <td>1</td>\n",
       "      <td>Bath &amp; Body Works</td>\n",
       "      <td>16.0</td>\n",
       "      <td>0</td>\n",
       "      <td>brand new never burnt this includes all 4 cand...</td>\n",
       "      <td>4</td>\n",
       "      <td>Beauty</td>\n",
       "      <td>Fragrance</td>\n",
       "      <td>Candles &amp; Home Scents</td>\n",
       "      <td>6.0</td>\n",
       "      <td>2018.0</td>\n",
       "    </tr>\n",
       "    <tr>\n",
       "      <th>424768</th>\n",
       "      <td>skull jacket bundle</td>\n",
       "      <td>1</td>\n",
       "      <td>Children's Place</td>\n",
       "      <td>25.0</td>\n",
       "      <td>0</td>\n",
       "      <td>adorable skull hoodies the mohawk one is adora...</td>\n",
       "      <td>13</td>\n",
       "      <td>Kids</td>\n",
       "      <td>Boys 0-24 Mos</td>\n",
       "      <td>Coats &amp; Jackets</td>\n",
       "      <td>3.0</td>\n",
       "      <td>2018.0</td>\n",
       "    </tr>\n",
       "    <tr>\n",
       "      <th>534786</th>\n",
       "      <td>xs s m l or xl nike pro capris nwt</td>\n",
       "      <td>1</td>\n",
       "      <td>Nike</td>\n",
       "      <td>31.0</td>\n",
       "      <td>0</td>\n",
       "      <td>nike pro capris size xs s m l or xl nwt price ...</td>\n",
       "      <td>2</td>\n",
       "      <td>Women</td>\n",
       "      <td>Athletic Apparel</td>\n",
       "      <td>Pants, Tights, Leggings</td>\n",
       "      <td>2.0</td>\n",
       "      <td>2018.0</td>\n",
       "    </tr>\n",
       "    <tr>\n",
       "      <th>169475</th>\n",
       "      <td>kendra scott gunmetal camilla</td>\n",
       "      <td>3</td>\n",
       "      <td>Kendra Scott</td>\n",
       "      <td>45.0</td>\n",
       "      <td>1</td>\n",
       "      <td>excellent condition comes in kendra scott dust...</td>\n",
       "      <td>4</td>\n",
       "      <td>Women</td>\n",
       "      <td>Jewelry</td>\n",
       "      <td>Necklaces</td>\n",
       "      <td>1.0</td>\n",
       "      <td>2018.0</td>\n",
       "    </tr>\n",
       "  </tbody>\n",
       "</table>\n",
       "</div>"
      ],
      "text/plain": [
       "                                       name  item_condition_id  \\\n",
       "1020610  too faced born this way foundation                  1   \n",
       "73445     bbw seasonal pumpkin mini candles                  1   \n",
       "424768                  skull jacket bundle                  1   \n",
       "534786   xs s m l or xl nike pro capris nwt                  1   \n",
       "169475        kendra scott gunmetal camilla                  3   \n",
       "\n",
       "                brand_name  price  shipping  \\\n",
       "1020610          Too Faced   16.0         1   \n",
       "73445    Bath & Body Works   16.0         0   \n",
       "424768    Children's Place   25.0         0   \n",
       "534786                Nike   31.0         0   \n",
       "169475        Kendra Scott   45.0         1   \n",
       "\n",
       "                                          item_description  stock gen_cat  \\\n",
       "1020610                     25 samples shade natural beige      1  Beauty   \n",
       "73445    brand new never burnt this includes all 4 cand...      4  Beauty   \n",
       "424768   adorable skull hoodies the mohawk one is adora...     13    Kids   \n",
       "534786   nike pro capris size xs s m l or xl nwt price ...      2   Women   \n",
       "169475   excellent condition comes in kendra scott dust...      4   Women   \n",
       "\n",
       "                 sub1_cat                 sub2_cat  datetime_month  \\\n",
       "1020610            Makeup                     Face             4.0   \n",
       "73445           Fragrance    Candles & Home Scents             6.0   \n",
       "424768      Boys 0-24 Mos          Coats & Jackets             3.0   \n",
       "534786   Athletic Apparel  Pants, Tights, Leggings             2.0   \n",
       "169475            Jewelry                Necklaces             1.0   \n",
       "\n",
       "         datetime_year  \n",
       "1020610         2018.0  \n",
       "73445           2018.0  \n",
       "424768          2018.0  \n",
       "534786          2018.0  \n",
       "169475          2018.0  "
      ]
     },
     "execution_count": 15,
     "metadata": {},
     "output_type": "execute_result"
    }
   ],
   "source": [
    "print(Train_with_brand.shape)\n",
    "\n",
    "Train_with_brand.head()"
   ]
  },
  {
   "cell_type": "code",
   "execution_count": 16,
   "metadata": {},
   "outputs": [],
   "source": [
    "X1 = Train_with_brand.drop(\"price\", axis = 1)\n",
    "y1 = Train_with_brand[\"price\"]"
   ]
  },
  {
   "cell_type": "code",
   "execution_count": 17,
   "metadata": {},
   "outputs": [],
   "source": [
    "X1train, X1val, y1train, y1val = train_test_split(X1, y1, test_size=0.3, random_state=10) #split 70/30 "
   ]
  },
  {
   "cell_type": "code",
   "execution_count": 18,
   "metadata": {},
   "outputs": [
    {
     "data": {
      "text/plain": [
       "<AxesSubplot:>"
      ]
     },
     "execution_count": 18,
     "metadata": {},
     "output_type": "execute_result"
    },
    {
     "data": {
      "image/png": "[encoded data removed]",
      "text/plain": [
       "<Figure size 432x288 with 1 Axes>"
      ]
     },
     "metadata": {
      "needs_background": "light"
     },
     "output_type": "display_data"
    }
   ],
   "source": [
    "#Normalizando, com log, o target (price), foi realizado de forma separada para nao terem dados vazados.\n",
    "\n",
    "y1train =  np.log1p(y1train)\n",
    "y1val =  np.log1p(y1val)\n",
    "y1train.hist()"
   ]
  },
  {
   "cell_type": "markdown",
   "metadata": {},
   "source": [
    "-   dados de treino."
   ]
  },
  {
   "cell_type": "code",
   "execution_count": 19,
   "metadata": {},
   "outputs": [],
   "source": [
    "vec1 = TfidfVectorizer(stop_words='english', ngram_range=(1,1), max_features=50000) #remoção de stopword e max features criadas em 50000\n",
    "\n",
    "vce_xtrain_name_1 = vec1.fit_transform(X1train[\"name\"])\n",
    "vce_xtrain_descrip_1 = vec1.fit_transform(X1train[\"item_description\"])"
   ]
  },
  {
   "cell_type": "code",
   "execution_count": 20,
   "metadata": {},
   "outputs": [],
   "source": [
    "#aplicação dummy nas colunas categóricas.\n",
    "\n",
    "ohe1 = OneHotEncoder(handle_unknown=\"ignore\")\n",
    "\n",
    "ohe1_train = ohe1.fit_transform(X1train[[\"item_condition_id\",   \n",
    "                                         \"shipping\",\n",
    "                                         \"brand_name\",\n",
    "                                         \"gen_cat\",\n",
    "                                         \"sub1_cat\",\n",
    "                                         \"sub2_cat\", \n",
    "                                         \"datetime_month\"]])"
   ]
  },
  {
   "cell_type": "code",
   "execution_count": 21,
   "metadata": {},
   "outputs": [],
   "source": [
    "x1_train = hstack([                                #função para juntar as matrizes criadas\n",
    "                  (vce_xtrain_name_1),\n",
    "                  (vce_xtrain_descrip_1),\n",
    "                  (ohe1_train)  \n",
    "                        ])"
   ]
  },
  {
   "cell_type": "code",
   "execution_count": 22,
   "metadata": {},
   "outputs": [
    {
     "data": {
      "text/plain": [
       "<442877x104793 sparse matrix of type '<class 'numpy.float64'>'\n",
       "\twith 10518502 stored elements in Compressed Sparse Row format>"
      ]
     },
     "execution_count": 22,
     "metadata": {},
     "output_type": "execute_result"
    }
   ],
   "source": [
    "x1_train"
   ]
  },
  {
   "cell_type": "code",
   "execution_count": 23,
   "metadata": {},
   "outputs": [],
   "source": [
    "lgb1 = LGBMRegressor(device = \"gpu\", learning_rate=0.5)"
   ]
  },
  {
   "cell_type": "code",
   "execution_count": 24,
   "metadata": {},
   "outputs": [],
   "source": [
    "model1 = lgb1.fit(x1_train, y1train)  "
   ]
  },
  {
   "cell_type": "markdown",
   "metadata": {},
   "source": [
    "-   dados de validação."
   ]
  },
  {
   "cell_type": "code",
   "execution_count": 25,
   "metadata": {},
   "outputs": [],
   "source": [
    "#Aplicando transformações nos dados de validação\n",
    "\n",
    "\n",
    "vce_xval_name_1 = vec1.transform(X1val[\"name\"])\n",
    "vce_xval_descrip_1 = vec1.transform(X1val[\"item_description\"])\n",
    "\n",
    "ohe_val_condition_1 = ohe1.transform(X1val[[\"item_condition_id\",   \n",
    "                                          \"shipping\",\n",
    "                                          \"brand_name\",\n",
    "                                          \"gen_cat\",\n",
    "                                          \"sub1_cat\",\n",
    "                                          \"sub2_cat\", \n",
    "                                          \"datetime_month\"]])\n",
    "\n",
    "x_val1 = hstack([(vce_xval_name_1),\n",
    "                (vce_xval_descrip_1), \n",
    "                (ohe_val_condition_1)])\n",
    "\n"
   ]
  },
  {
   "cell_type": "code",
   "execution_count": 26,
   "metadata": {},
   "outputs": [
    {
     "data": {
      "text/plain": [
       "<189805x104793 sparse matrix of type '<class 'numpy.float64'>'\n",
       "\twith 4480071 stored elements in Compressed Sparse Row format>"
      ]
     },
     "execution_count": 26,
     "metadata": {},
     "output_type": "execute_result"
    }
   ],
   "source": [
    "x_val1"
   ]
  },
  {
   "cell_type": "code",
   "execution_count": 27,
   "metadata": {},
   "outputs": [],
   "source": [
    "p1 = model1.predict(x_val1)"
   ]
  },
  {
   "cell_type": "code",
   "execution_count": 28,
   "metadata": {},
   "outputs": [],
   "source": [
    "y1predict = np.expm1(p1)\n",
    "y1val =np.expm1(y1val)"
   ]
  },
  {
   "cell_type": "markdown",
   "metadata": {},
   "source": [
    "# Dataset com Brand nulas"
   ]
  },
  {
   "cell_type": "code",
   "execution_count": 29,
   "metadata": {},
   "outputs": [],
   "source": [
    "train_No_brand = train.loc[train.brand_name.isnull()] #Separando todas as linhas nulas  em brand,nesse modelo só teremos valores nulos para essa coluna"
   ]
  },
  {
   "cell_type": "code",
   "execution_count": 30,
   "metadata": {},
   "outputs": [],
   "source": [
    "X2 = train_No_brand.drop(\"price\", axis = 1)\n",
    "y2 = train_No_brand[\"price\"]"
   ]
  },
  {
   "cell_type": "code",
   "execution_count": 31,
   "metadata": {},
   "outputs": [],
   "source": [
    "X2train, X2val, y2train, y2val = train_test_split(X2, y2, test_size=0.3, random_state=10)"
   ]
  },
  {
   "cell_type": "code",
   "execution_count": 32,
   "metadata": {},
   "outputs": [
    {
     "data": {
      "text/plain": [
       "<AxesSubplot:>"
      ]
     },
     "execution_count": 32,
     "metadata": {},
     "output_type": "execute_result"
    },
    {
     "data": {
      "image/png": "[encoded data removed]",
      "text/plain": [
       "<Figure size 432x288 with 1 Axes>"
      ]
     },
     "metadata": {
      "needs_background": "light"
     },
     "output_type": "display_data"
    }
   ],
   "source": [
    "y2train =  np.log1p(y2train)\n",
    "y2val =  np.log1p(y2val)\n",
    "y2train.hist()"
   ]
  },
  {
   "cell_type": "code",
   "execution_count": 33,
   "metadata": {},
   "outputs": [],
   "source": [
    "vec2 = TfidfVectorizer(stop_words='english', ngram_range=(1,1), max_features=50000)\n",
    "\n",
    "vce_xtrain_name_2 = vec2.fit_transform(X2train[\"name\"])\n",
    "vce_xtrain_descrip_2 = vec2.fit_transform(X2train[\"item_description\"])\n",
    "\n",
    "#aplicação dummy nas colunas categóricas.\n",
    "\n",
    "ohe2 = OneHotEncoder(handle_unknown=\"ignore\")\n",
    "\n",
    "ohe2_train = ohe2.fit_transform(X2train[[\"item_condition_id\",   \n",
    "                                         \"shipping\",\n",
    "                                         \"gen_cat\",\n",
    "                                         \"sub1_cat\",\n",
    "                                         \"sub2_cat\", \n",
    "                                         \"datetime_month\"]])"
   ]
  },
  {
   "cell_type": "code",
   "execution_count": 34,
   "metadata": {},
   "outputs": [],
   "source": [
    "x2_train = hstack([\n",
    "                  (vce_xtrain_name_2),\n",
    "                  (vce_xtrain_descrip_2),\n",
    "                  (ohe2_train)  \n",
    "                        ])"
   ]
  },
  {
   "cell_type": "code",
   "execution_count": 35,
   "metadata": {},
   "outputs": [
    {
     "data": {
      "text/plain": [
       "<442635x100985 sparse matrix of type '<class 'numpy.float64'>'\n",
       "\twith 11365850 stored elements in Compressed Sparse Row format>"
      ]
     },
     "execution_count": 35,
     "metadata": {},
     "output_type": "execute_result"
    }
   ],
   "source": [
    "x2_train"
   ]
  },
  {
   "cell_type": "code",
   "execution_count": 36,
   "metadata": {},
   "outputs": [],
   "source": [
    "lgb2 = LGBMRegressor(device = \"gpu\", learning_rate=0.5)"
   ]
  },
  {
   "cell_type": "code",
   "execution_count": 37,
   "metadata": {},
   "outputs": [],
   "source": [
    "model2 = lgb2.fit(x2_train, y2train)"
   ]
  },
  {
   "cell_type": "code",
   "execution_count": 38,
   "metadata": {},
   "outputs": [],
   "source": [
    "\n",
    "vce_xval_name_2 = vec2.transform(X2val[\"name\"])\n",
    "vce_xval_descrip_2 = vec2.transform(X2val[\"item_description\"])\n",
    "\n",
    "ohe_val_condition_2 = ohe2.transform(X2val[[\"item_condition_id\",   \n",
    "                                          \"shipping\",\n",
    "                                          \"gen_cat\",\n",
    "                                          \"sub1_cat\",\n",
    "                                          \"sub2_cat\", \n",
    "                                          \"datetime_month\"]])\n",
    "\n",
    "x_val2 = hstack([(vce_xval_name_2),\n",
    "                (vce_xval_descrip_2), \n",
    "                (ohe_val_condition_2)])\n"
   ]
  },
  {
   "cell_type": "code",
   "execution_count": 39,
   "metadata": {},
   "outputs": [
    {
     "data": {
      "text/plain": [
       "<189701x100985 sparse matrix of type '<class 'numpy.float64'>'\n",
       "\twith 4846681 stored elements in Compressed Sparse Row format>"
      ]
     },
     "execution_count": 39,
     "metadata": {},
     "output_type": "execute_result"
    }
   ],
   "source": [
    "x_val2"
   ]
  },
  {
   "cell_type": "code",
   "execution_count": 40,
   "metadata": {},
   "outputs": [],
   "source": [
    "p2 = model2.predict(x_val2)"
   ]
  },
  {
   "cell_type": "code",
   "execution_count": 41,
   "metadata": {},
   "outputs": [],
   "source": [
    "y2predict = np.expm1(p2)\n",
    "y2val =np.expm1(y2val)"
   ]
  },
  {
   "cell_type": "markdown",
   "metadata": {},
   "source": [
    "#   Resultados"
   ]
  },
  {
   "cell_type": "code",
   "execution_count": 42,
   "metadata": {},
   "outputs": [
    {
     "name": "stdout",
     "output_type": "stream",
     "text": [
      "---------------Modelo com brand----------------- \n",
      "MAE: 13.470141\n",
      "RMSE: 1266.732524\n"
     ]
    }
   ],
   "source": [
    "print(\"---------------Modelo com brand----------------- \")\n",
    "\n",
    "\n",
    "print('MAE: %2f' % mean_absolute_error(y1val,y1predict))\n",
    "print('RMSE: %2f' % (mean_squared_error(y1val,y1predict)))"
   ]
  },
  {
   "cell_type": "code",
   "execution_count": 43,
   "metadata": {},
   "outputs": [
    {
     "name": "stdout",
     "output_type": "stream",
     "text": [
      "---------------Modelo sem brand----------------- \n",
      "MAE: 10.244517\n",
      "RMSE: 624.229604\n"
     ]
    }
   ],
   "source": [
    "print(\"---------------Modelo sem brand----------------- \")\n",
    "\n",
    "\n",
    "print('MAE: %2f' % mean_absolute_error(y2val,y2predict))\n",
    "print('RMSE: %2f' % (mean_squared_error(y2val,y2predict)))"
   ]
  },
  {
   "cell_type": "markdown",
   "metadata": {},
   "source": [
    "# Conclusão"
   ]
  },
  {
   "cell_type": "markdown",
   "metadata": {},
   "source": [
    "Conforme levantado na hipótese, verificariamos o quão explicativo a brand é no atual projeto, para saber como tratar tantos valores nulos, aproximadamente42%. O objetivo não foi alcançar a melhor métrica, apenas comparar em condições similares.\n",
    "\n",
    "Na preparação do treino/teste foi utilizado o mesmo sample de dados, pré processamento, tratamento e parâmetros de modelo, no caso o lightgbm.\n",
    "\n",
    "obtendo os resultados :\n",
    "\n",
    "---------------Modelo com brand----------------- \n",
    "\n",
    "MAE: 13.470141\n",
    "\n",
    "RMSE: 1266.732524\n",
    "\n",
    "---------------Modelo sem brand----------------- \n",
    "\n",
    "MAE: 10.244517\n",
    "\n",
    "RMSE: 624.229604\n",
    "\n"
   ]
  },
  {
   "cell_type": "markdown",
   "metadata": {},
   "source": [
    "Podemos observar que com as brands o modelo perde em ambas as métricas, isso pode ser devido ao grande desbalanceamento entre as marcas.\n",
    "\n",
    "Contudo, essas informções de brand não serão descartadas."
   ]
  },
  {
   "cell_type": "markdown",
   "metadata": {},
   "source": []
  }
 ],
 "metadata": {
  "kernelspec": {
   "display_name": "Python 3.10.4 ('venv': venv)",
   "language": "python",
   "name": "python3"
  },
  "language_info": {
   "codemirror_mode": {
    "name": "ipython",
    "version": 3
   },
   "file_extension": ".py",
   "mimetype": "text/x-python",
   "name": "python",
   "nbconvert_exporter": "python",
   "pygments_lexer": "ipython3",
   "version": "3.10.4"
  },
  "orig_nbformat": 4,
  "vscode": {
   "interpreter": {
    "hash": "2d8c3cde89636b2df73e0f3dfab6fb2dd7e3ffc595873bef1184e6edd25d1b40"
   }
  }
 },
 "nbformat": 4,
 "nbformat_minor": 2
}
