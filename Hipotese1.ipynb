{
 "cells": [
  {
   "cell_type": "markdown",
   "metadata": {},
   "source": [
    "#   Avaliação de hipótese 1:"
   ]
  },
  {
   "cell_type": "markdown",
   "metadata": {},
   "source": [
    "Aqui vamos avaliar o impacto da \"brand\" para o nosso modelo.\n",
    "\n",
    "A razão de tal análize serve para entendermos melhor qual tratamento deveremos dar para nossos dados 632682 nulos, um número significativo dentro de nosso dataset. Para isso vamos separa-los em 2 datasets, um contendo apenas os valores nulos/missing e um outro dataset contendo todos as colinas preenchidas. Após essa etápa vamos gerar modelos probatórios para  um teste a/b, onde poderemos analisar o melhor caminho para o tratamento desses valores nulos.\n"
   ]
  },
  {
   "cell_type": "code",
   "execution_count": 1,
   "metadata": {},
   "outputs": [],
   "source": [
    "import pandas as pd\n",
    "import random \n",
    "import numpy as np\n",
    "import re\n",
    "from scipy.sparse import hstack"
   ]
  },
  {
   "cell_type": "code",
   "execution_count": null,
   "metadata": {},
   "outputs": [],
   "source": [
    "from pre_processamento import pre_processamento"
   ]
  },
  {
   "cell_type": "code",
   "execution_count": null,
   "metadata": {},
   "outputs": [],
   "source": [
    "train = pd.read_csv(r\"C:\\Users\\angel\\Desktop\\bootcamp\\train.tsv\", sep='\\t')\n",
    "test = pd.read_csv(r\"C:\\Users\\angel\\Desktop\\bootcamp\\test.tsv\", sep='\\t')"
   ]
  },
  {
   "cell_type": "code",
   "execution_count": null,
   "metadata": {},
   "outputs": [],
   "source": [
    "train,test = pre_processamento(train,test)"
   ]
  }
 ],
 "metadata": {
  "kernelspec": {
   "display_name": "Python 3.10.4 ('venv': venv)",
   "language": "python",
   "name": "python3"
  },
  "language_info": {
   "codemirror_mode": {
    "name": "ipython",
    "version": 3
   },
   "file_extension": ".py",
   "mimetype": "text/x-python",
   "name": "python",
   "nbconvert_exporter": "python",
   "pygments_lexer": "ipython3",
   "version": "3.10.4"
  },
  "orig_nbformat": 4,
  "vscode": {
   "interpreter": {
    "hash": "e31806f217dd3659a898472d172c6523b4167dde6a8e37d2cd7a062948a5ecc4"
   }
  }
 },
 "nbformat": 4,
 "nbformat_minor": 2
}
