{
 "cells": [
  {
   "cell_type": "code",
   "execution_count": 17,
   "metadata": {},
   "outputs": [],
   "source": [
    "import random\n",
    "import numpy as np\n",
    "import pandas as pd\n",
    "\n",
    "import matplotlib.pyplot as plt\n",
    "import seaborn as sns\n",
    "\n",
    "from sklearn.preprocessing import MultiLabelBinarizer"
   ]
  },
  {
   "cell_type": "code",
   "execution_count": 2,
   "metadata": {},
   "outputs": [],
   "source": [
    "train = pd.read_csv('train.tsv', sep = '\\t')\n",
    "test = pd.read_csv('test.tsv', sep = '\\t')\n",
    "\n",
    "def data(n, seed):\n",
    "\n",
    "    datas = []\n",
    "    \n",
    "    random.seed(seed)\n",
    "    for i in range(n):\n",
    "        dia_maximo = 30\n",
    "        dia_minimo = 1\n",
    "        mes_maximo = 12\n",
    "        mes_minimo = 1\n",
    "        \n",
    "        dia = int(random.random() * (dia_maximo - dia_minimo) + dia_minimo)\n",
    "        mes = int(random.random() * (mes_maximo - mes_minimo) + mes_minimo)\n",
    "        \n",
    "        datas.append(str(dia)+'-'+str(mes)+'-2018')\n",
    "        \n",
    "    return datas\n",
    "\n",
    "def estoque(n, seed):\n",
    "\n",
    "    np.random.seed(seed)\n",
    "    mu, sigma = 1, 20\n",
    "    s = np.random.normal(mu, sigma, n)\n",
    "    s[s < 0] = s[s < 0] * -0.5\n",
    "    s = s.astype(int)\n",
    "    s[s < 1] = 1\n",
    "    \n",
    "    return s\n",
    "\n",
    "train['date']  = data(n = train.shape[0], seed = 10)\n",
    "train['stock'] = estoque(n = train.shape[0], seed = 10)\n",
    "\n",
    "test['date']  = data(n = test.shape[0], seed = 15)\n",
    "test['stock'] = estoque(n = test.shape[0], seed = 15)"
   ]
  },
  {
   "cell_type": "code",
   "execution_count": 3,
   "metadata": {},
   "outputs": [
    {
     "data": {
      "text/html": [
       "<div>\n",
       "<style scoped>\n",
       "    .dataframe tbody tr th:only-of-type {\n",
       "        vertical-align: middle;\n",
       "    }\n",
       "\n",
       "    .dataframe tbody tr th {\n",
       "        vertical-align: top;\n",
       "    }\n",
       "\n",
       "    .dataframe thead th {\n",
       "        text-align: right;\n",
       "    }\n",
       "</style>\n",
       "<table border=\"1\" class=\"dataframe\">\n",
       "  <thead>\n",
       "    <tr style=\"text-align: right;\">\n",
       "      <th></th>\n",
       "      <th>train_id</th>\n",
       "      <th>name</th>\n",
       "      <th>item_condition_id</th>\n",
       "      <th>category_name</th>\n",
       "      <th>brand_name</th>\n",
       "      <th>price</th>\n",
       "      <th>shipping</th>\n",
       "      <th>item_description</th>\n",
       "      <th>date</th>\n",
       "      <th>stock</th>\n",
       "    </tr>\n",
       "  </thead>\n",
       "  <tbody>\n",
       "    <tr>\n",
       "      <th>0</th>\n",
       "      <td>0</td>\n",
       "      <td>MLB Cincinnati Reds T Shirt Size XL</td>\n",
       "      <td>3</td>\n",
       "      <td>Men/Tops/T-shirts</td>\n",
       "      <td>NaN</td>\n",
       "      <td>10.0</td>\n",
       "      <td>1</td>\n",
       "      <td>No description yet</td>\n",
       "      <td>17-5-2018</td>\n",
       "      <td>27</td>\n",
       "    </tr>\n",
       "    <tr>\n",
       "      <th>1</th>\n",
       "      <td>1</td>\n",
       "      <td>Razer BlackWidow Chroma Keyboard</td>\n",
       "      <td>3</td>\n",
       "      <td>Electronics/Computers &amp; Tablets/Components &amp; P...</td>\n",
       "      <td>Razer</td>\n",
       "      <td>52.0</td>\n",
       "      <td>0</td>\n",
       "      <td>This keyboard is in great condition and works ...</td>\n",
       "      <td>17-3-2018</td>\n",
       "      <td>15</td>\n",
       "    </tr>\n",
       "    <tr>\n",
       "      <th>2</th>\n",
       "      <td>2</td>\n",
       "      <td>AVA-VIV Blouse</td>\n",
       "      <td>1</td>\n",
       "      <td>Women/Tops &amp; Blouses/Blouse</td>\n",
       "      <td>Target</td>\n",
       "      <td>10.0</td>\n",
       "      <td>1</td>\n",
       "      <td>Adorable top with a hint of lace and a key hol...</td>\n",
       "      <td>24-10-2018</td>\n",
       "      <td>14</td>\n",
       "    </tr>\n",
       "    <tr>\n",
       "      <th>3</th>\n",
       "      <td>3</td>\n",
       "      <td>Leather Horse Statues</td>\n",
       "      <td>1</td>\n",
       "      <td>Home/Home Décor/Home Décor Accents</td>\n",
       "      <td>NaN</td>\n",
       "      <td>35.0</td>\n",
       "      <td>1</td>\n",
       "      <td>New with tags. Leather horses. Retail for [rm]...</td>\n",
       "      <td>19-2-2018</td>\n",
       "      <td>1</td>\n",
       "    </tr>\n",
       "    <tr>\n",
       "      <th>4</th>\n",
       "      <td>4</td>\n",
       "      <td>24K GOLD plated rose</td>\n",
       "      <td>1</td>\n",
       "      <td>Women/Jewelry/Necklaces</td>\n",
       "      <td>NaN</td>\n",
       "      <td>44.0</td>\n",
       "      <td>0</td>\n",
       "      <td>Complete with certificate of authenticity</td>\n",
       "      <td>16-4-2018</td>\n",
       "      <td>13</td>\n",
       "    </tr>\n",
       "    <tr>\n",
       "      <th>...</th>\n",
       "      <td>...</td>\n",
       "      <td>...</td>\n",
       "      <td>...</td>\n",
       "      <td>...</td>\n",
       "      <td>...</td>\n",
       "      <td>...</td>\n",
       "      <td>...</td>\n",
       "      <td>...</td>\n",
       "      <td>...</td>\n",
       "      <td>...</td>\n",
       "    </tr>\n",
       "    <tr>\n",
       "      <th>1482530</th>\n",
       "      <td>1482530</td>\n",
       "      <td>Free People Inspired Dress</td>\n",
       "      <td>2</td>\n",
       "      <td>Women/Dresses/Mid-Calf</td>\n",
       "      <td>Free People</td>\n",
       "      <td>20.0</td>\n",
       "      <td>1</td>\n",
       "      <td>Lace, says size small but fits medium perfectl...</td>\n",
       "      <td>12-9-2018</td>\n",
       "      <td>2</td>\n",
       "    </tr>\n",
       "    <tr>\n",
       "      <th>1482531</th>\n",
       "      <td>1482531</td>\n",
       "      <td>Little mermaid handmade dress</td>\n",
       "      <td>2</td>\n",
       "      <td>Kids/Girls 2T-5T/Dresses</td>\n",
       "      <td>Disney</td>\n",
       "      <td>14.0</td>\n",
       "      <td>0</td>\n",
       "      <td>Little mermaid handmade dress never worn size 2t</td>\n",
       "      <td>5-9-2018</td>\n",
       "      <td>10</td>\n",
       "    </tr>\n",
       "    <tr>\n",
       "      <th>1482532</th>\n",
       "      <td>1482532</td>\n",
       "      <td>21 day fix containers and eating plan</td>\n",
       "      <td>2</td>\n",
       "      <td>Sports &amp; Outdoors/Exercise/Fitness accessories</td>\n",
       "      <td>NaN</td>\n",
       "      <td>12.0</td>\n",
       "      <td>0</td>\n",
       "      <td>Used once or twice, still in great shape.</td>\n",
       "      <td>6-7-2018</td>\n",
       "      <td>15</td>\n",
       "    </tr>\n",
       "    <tr>\n",
       "      <th>1482533</th>\n",
       "      <td>1482533</td>\n",
       "      <td>World markets lanterns</td>\n",
       "      <td>3</td>\n",
       "      <td>Home/Home Décor/Home Décor Accents</td>\n",
       "      <td>NaN</td>\n",
       "      <td>45.0</td>\n",
       "      <td>1</td>\n",
       "      <td>There is 2 of each one that you see! So 2 red ...</td>\n",
       "      <td>12-2-2018</td>\n",
       "      <td>20</td>\n",
       "    </tr>\n",
       "    <tr>\n",
       "      <th>1482534</th>\n",
       "      <td>1482534</td>\n",
       "      <td>Brand new lux de ville wallet</td>\n",
       "      <td>1</td>\n",
       "      <td>Women/Women's Accessories/Wallets</td>\n",
       "      <td>NaN</td>\n",
       "      <td>22.0</td>\n",
       "      <td>0</td>\n",
       "      <td>New with tag, red with sparkle. Firm price, no...</td>\n",
       "      <td>28-10-2018</td>\n",
       "      <td>9</td>\n",
       "    </tr>\n",
       "  </tbody>\n",
       "</table>\n",
       "<p>1482535 rows × 10 columns</p>\n",
       "</div>"
      ],
      "text/plain": [
       "         train_id                                   name  item_condition_id  \\\n",
       "0               0    MLB Cincinnati Reds T Shirt Size XL                  3   \n",
       "1               1       Razer BlackWidow Chroma Keyboard                  3   \n",
       "2               2                         AVA-VIV Blouse                  1   \n",
       "3               3                  Leather Horse Statues                  1   \n",
       "4               4                   24K GOLD plated rose                  1   \n",
       "...           ...                                    ...                ...   \n",
       "1482530   1482530             Free People Inspired Dress                  2   \n",
       "1482531   1482531          Little mermaid handmade dress                  2   \n",
       "1482532   1482532  21 day fix containers and eating plan                  2   \n",
       "1482533   1482533                 World markets lanterns                  3   \n",
       "1482534   1482534          Brand new lux de ville wallet                  1   \n",
       "\n",
       "                                             category_name   brand_name  \\\n",
       "0                                        Men/Tops/T-shirts          NaN   \n",
       "1        Electronics/Computers & Tablets/Components & P...        Razer   \n",
       "2                              Women/Tops & Blouses/Blouse       Target   \n",
       "3                       Home/Home Décor/Home Décor Accents          NaN   \n",
       "4                                  Women/Jewelry/Necklaces          NaN   \n",
       "...                                                    ...          ...   \n",
       "1482530                             Women/Dresses/Mid-Calf  Free People   \n",
       "1482531                           Kids/Girls 2T-5T/Dresses       Disney   \n",
       "1482532     Sports & Outdoors/Exercise/Fitness accessories          NaN   \n",
       "1482533                 Home/Home Décor/Home Décor Accents          NaN   \n",
       "1482534                  Women/Women's Accessories/Wallets          NaN   \n",
       "\n",
       "         price  shipping                                   item_description  \\\n",
       "0         10.0         1                                 No description yet   \n",
       "1         52.0         0  This keyboard is in great condition and works ...   \n",
       "2         10.0         1  Adorable top with a hint of lace and a key hol...   \n",
       "3         35.0         1  New with tags. Leather horses. Retail for [rm]...   \n",
       "4         44.0         0          Complete with certificate of authenticity   \n",
       "...        ...       ...                                                ...   \n",
       "1482530   20.0         1  Lace, says size small but fits medium perfectl...   \n",
       "1482531   14.0         0   Little mermaid handmade dress never worn size 2t   \n",
       "1482532   12.0         0          Used once or twice, still in great shape.   \n",
       "1482533   45.0         1  There is 2 of each one that you see! So 2 red ...   \n",
       "1482534   22.0         0  New with tag, red with sparkle. Firm price, no...   \n",
       "\n",
       "               date  stock  \n",
       "0         17-5-2018     27  \n",
       "1         17-3-2018     15  \n",
       "2        24-10-2018     14  \n",
       "3         19-2-2018      1  \n",
       "4         16-4-2018     13  \n",
       "...             ...    ...  \n",
       "1482530   12-9-2018      2  \n",
       "1482531    5-9-2018     10  \n",
       "1482532    6-7-2018     15  \n",
       "1482533   12-2-2018     20  \n",
       "1482534  28-10-2018      9  \n",
       "\n",
       "[1482535 rows x 10 columns]"
      ]
     },
     "execution_count": 3,
     "metadata": {},
     "output_type": "execute_result"
    }
   ],
   "source": [
    "train"
   ]
  },
  {
   "cell_type": "markdown",
   "metadata": {},
   "source": [
    "### Objetivo: Entender o comportamento dos dados através de visualizações\n",
    "\n",
    "Podemos dizer que a variável 'price' é a variável target, ou seja, a variável que devemos prever. Dessa forma, a maior parte desta análise exploratória envolverá esta variável."
   ]
  },
  {
   "cell_type": "code",
   "execution_count": 4,
   "metadata": {},
   "outputs": [
    {
     "name": "stdout",
     "output_type": "stream",
     "text": [
      "Electronics/Computers & Tablets/Components & Parts\n",
      "<class 'str'>\n"
     ]
    }
   ],
   "source": [
    "print(train['category_name'][1])\n",
    "print(type(train['category_name'][1]))"
   ]
  },
  {
   "cell_type": "code",
   "execution_count": 5,
   "metadata": {},
   "outputs": [],
   "source": [
    "train['category_name'] = train['category_name'].str.split('/')"
   ]
  },
  {
   "cell_type": "code",
   "execution_count": 6,
   "metadata": {},
   "outputs": [
    {
     "data": {
      "text/plain": [
       "0                                      [Men, Tops, T-shirts]\n",
       "1          [Electronics, Computers & Tablets, Components ...\n",
       "2                            [Women, Tops & Blouses, Blouse]\n",
       "3                     [Home, Home Décor, Home Décor Accents]\n",
       "4                                [Women, Jewelry, Necklaces]\n",
       "                                 ...                        \n",
       "1482530                           [Women, Dresses, Mid-Calf]\n",
       "1482531                         [Kids, Girls 2T-5T, Dresses]\n",
       "1482532    [Sports & Outdoors, Exercise, Fitness accessor...\n",
       "1482533               [Home, Home Décor, Home Décor Accents]\n",
       "1482534                [Women, Women's Accessories, Wallets]\n",
       "Name: category_name, Length: 1482535, dtype: object"
      ]
     },
     "execution_count": 6,
     "metadata": {},
     "output_type": "execute_result"
    }
   ],
   "source": [
    "train['category_name']"
   ]
  },
  {
   "cell_type": "code",
   "execution_count": 8,
   "metadata": {},
   "outputs": [],
   "source": [
    "train['category_name'] = train['category_name'].fillna('-')"
   ]
  },
  {
   "cell_type": "code",
   "execution_count": 24,
   "metadata": {},
   "outputs": [],
   "source": [
    "rotulos = [i[0] for i in train['category_name']]\n",
    "\n",
    "unique, counts = np.unique(rotulos, return_counts=True)\n",
    "rotulos = pd.DataFrame({'Unique':unique, 'Counts':counts}).sort_values('Counts', ascending=False)"
   ]
  },
  {
   "cell_type": "code",
   "execution_count": 27,
   "metadata": {},
   "outputs": [
    {
     "data": {
      "text/plain": [
       "array(['Women', 'Beauty', 'Kids', 'Electronics', 'Men', 'Home',\n",
       "       'Vintage & Collectibles', 'Other', 'Handmade', 'Sports & Outdoors',\n",
       "       '-'], dtype=object)"
      ]
     },
     "execution_count": 27,
     "metadata": {},
     "output_type": "execute_result"
    }
   ],
   "source": [
    "rotulos['Unique'].unique()"
   ]
  },
  {
   "cell_type": "code",
   "execution_count": 37,
   "metadata": {},
   "outputs": [
    {
     "data": {
      "text/plain": [
       "['Tops', 'T-shirts']"
      ]
     },
     "execution_count": 37,
     "metadata": {},
     "output_type": "execute_result"
    }
   ],
   "source": [
    "train['category_name'][0][1:3]"
   ]
  },
  {
   "cell_type": "code",
   "execution_count": 39,
   "metadata": {},
   "outputs": [],
   "source": [
    "rotulos_sub = [cat for i in train['category_name'] for cat in i[1:3]]\n",
    "\n",
    "unique, counts = np.unique(rotulos_sub, return_counts=True)\n",
    "rotulos_sub = pd.DataFrame({'Unique':unique, 'Counts':counts}).sort_values('Counts', ascending=False)"
   ]
  },
  {
   "cell_type": "code",
   "execution_count": 26,
   "metadata": {},
   "outputs": [
    {
     "data": {
      "image/png": "[encoded data removed]",
      "text/plain": [
       "<Figure size 1000x500 with 1 Axes>"
      ]
     },
     "metadata": {},
     "output_type": "display_data"
    }
   ],
   "source": [
    "plt.figure(figsize=(10,5))\n",
    "sns.barplot(data=rotulos.head(9), x='Unique', y='Counts')\n",
    "plt.xlabel('Rótulos')\n",
    "plt.ylabel('Freq.')\n",
    "plt.show()"
   ]
  },
  {
   "cell_type": "code",
   "execution_count": 41,
   "metadata": {},
   "outputs": [
    {
     "data": {
      "image/png": "[encoded data removed]",
      "text/plain": [
       "<Figure size 1000x500 with 1 Axes>"
      ]
     },
     "metadata": {},
     "output_type": "display_data"
    }
   ],
   "source": [
    "plt.figure(figsize=(10,5))\n",
    "sns.barplot(data=rotulos_sub.head(9), x='Unique', y='Counts')\n",
    "plt.xlabel('Rótulos')\n",
    "plt.ylabel('Freq.')\n",
    "plt.show()"
   ]
  },
  {
   "cell_type": "code",
   "execution_count": 18,
   "metadata": {},
   "outputs": [
    {
     "name": "stdout",
     "output_type": "stream",
     "text": [
      "(1482535, 951)\n"
     ]
    },
    {
     "data": {
      "text/plain": [
       "array([[0, 0, 0, ..., 0, 0, 0],\n",
       "       [0, 0, 0, ..., 0, 0, 0],\n",
       "       [0, 0, 0, ..., 0, 0, 0],\n",
       "       ...,\n",
       "       [0, 0, 0, ..., 0, 0, 0],\n",
       "       [0, 0, 0, ..., 0, 0, 0],\n",
       "       [0, 0, 0, ..., 0, 0, 0]])"
      ]
     },
     "execution_count": 18,
     "metadata": {},
     "output_type": "execute_result"
    }
   ],
   "source": [
    "mlb = MultiLabelBinarizer()\n",
    "mlb.fit(train['category_name'])\n",
    "y = mlb.transform(train['category_name'])\n",
    "print(y.shape)\n",
    "y"
   ]
  }
 ],
 "metadata": {
  "kernelspec": {
   "display_name": "Python 3.9.13 64-bit (microsoft store)",
   "language": "python",
   "name": "python3"
  },
  "language_info": {
   "codemirror_mode": {
    "name": "ipython",
    "version": 3
   },
   "file_extension": ".py",
   "mimetype": "text/x-python",
   "name": "python",
   "nbconvert_exporter": "python",
   "pygments_lexer": "ipython3",
   "version": "3.9.13"
  },
  "orig_nbformat": 4,
  "vscode": {
   "interpreter": {
    "hash": "ad7b75af0c7805cb18e35c82102a8f454a04b3bfd116e571cb4f5885c211fa58"
   }
  }
 },
 "nbformat": 4,
 "nbformat_minor": 2
}
