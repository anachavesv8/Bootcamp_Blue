{
  "cells": [
    {
      "cell_type": "markdown",
      "metadata": {
        "id": "view-in-github",
        "colab_type": "text"
      },
      "source": [
        "<a href=\"https://colab.research.google.com/github/anachavesv8/Bootcamp_Blue/blob/main/EDA2.ipynb\" target=\"_parent\"><img src=\"https://colab.research.google.com/assets/colab-badge.svg\" alt=\"Open In Colab\"/></a>"
      ]
    },
    {
      "cell_type": "code",
      "source": [
        "from google.colab import drive\n",
        "drive.mount('/content/drive')"
      ],
      "metadata": {
        "colab": {
          "base_uri": "https://localhost:8080/"
        },
        "id": "P-myfzbb_Vzw",
        "outputId": "7f68ef53-ed14-4174-a2fa-e9177585274f"
      },
      "execution_count": null,
      "outputs": [
        {
          "output_type": "stream",
          "name": "stdout",
          "text": [
            "Mounted at /content/drive\n"
          ]
        }
      ]
    },
    {
      "cell_type": "code",
      "execution_count": null,
      "metadata": {
        "id": "f3V1Tbuo_L3v"
      },
      "outputs": [],
      "source": [
        "import random\n",
        "import numpy as np\n",
        "import pandas as pd\n",
        "import math\n",
        "\n",
        "import matplotlib.pyplot as plt\n",
        "import seaborn as sns\n",
        "\n",
        "from sklearn.preprocessing import MultiLabelBinarizer"
      ]
    },
    {
      "cell_type": "code",
      "execution_count": null,
      "metadata": {
        "id": "ZAEVxwt8_L32"
      },
      "outputs": [],
      "source": [
        "train = pd.read_csv('/content/drive/MyDrive/Datasets/train.tsv', sep = '\\t')\n",
        "test = pd.read_csv('/content/drive/MyDrive/Datasets/test.tsv', sep = '\\t')\n",
        "\n",
        "def data(n, seed):\n",
        "\n",
        "    datas = []\n",
        "    \n",
        "    random.seed(seed)\n",
        "    for i in range(n):\n",
        "        dia_maximo = 30\n",
        "        dia_minimo = 1\n",
        "        mes_maximo = 12\n",
        "        mes_minimo = 1\n",
        "        \n",
        "        dia = int(round(random.random() * (dia_maximo - dia_minimo) + dia_minimo, 0))\n",
        "        mes = int(round(random.random() * (mes_maximo - mes_minimo) + mes_minimo, 0))\n",
        "        \n",
        "        datas.append(str(dia)+'-'+str(mes)+'-2018')\n",
        "        \n",
        "    return datas\n",
        "\n",
        "def estoque(n, seed):\n",
        "\n",
        "    np.random.seed(seed)\n",
        "    mu, sigma = 1, 20\n",
        "    s = np.random.normal(mu, sigma, n)\n",
        "    s[s < 0] = s[s < 0] * -0.5\n",
        "    s = s.astype(int)\n",
        "    s[s < 1] = 1\n",
        "    \n",
        "    return s\n",
        "\n",
        "train['date']  = data(n = train.shape[0], seed = 10)\n",
        "train['stock'] = estoque(n = train.shape[0], seed = 10)\n",
        "\n",
        "test['date']  = data(n = test.shape[0], seed = 15)\n",
        "test['stock'] = estoque(n = test.shape[0], seed = 15)\n",
        "\n",
        "train.drop('train_id', axis=1, inplace=True)\n",
        "train['item_condition_id'] = train['item_condition_id'].astype('str')"
      ]
    },
    {
      "cell_type": "markdown",
      "source": [
        "A função de geração das datas gera um número aleatório de 0 até 1 multiplicado pela faixa de dias possíveis mais o dia minimo. A função original arredondava o resultado para inteiro através da utilização do método int(), este método simplesmente elimina a parte decimal de um número tornando os valores extremos (1, 12 e 30) extremamente raros. A utilização da função round() permite que os valores sejam distribuídos inclusive para os extremos."
      ],
      "metadata": {
        "id": "GXxH0zHOmkZJ"
      }
    },
    {
      "cell_type": "markdown",
      "metadata": {
        "id": "fPqTVquO_L35"
      },
      "source": [
        "### Objetivo: Entender o comportamento dos dados através de visualizações\n",
        "\n",
        "Podemos dizer que a variável 'price' é a variável target, ou seja, a variável que devemos prever. Dessa forma, a maior parte desta análise exploratória envolverá esta variável."
      ]
    },
    {
      "cell_type": "code",
      "source": [
        "# Função inicial de tratamento das categorias e separação em colunas diferentes.\n",
        "\n",
        "rotulos = [i for i in train['category_name'].fillna('missing/missing/missing').str.split(\"/\")]\n",
        "\n",
        "gen_cat = []\n",
        "sub1_cat = []\n",
        "sub2_cat = []\n",
        "\n",
        "for i in range(0,len(rotulos)):\n",
        "  gen_cat.append(rotulos[i][0])\n",
        "  sub1_cat.append(rotulos[i][1])\n",
        "  sub2_cat.append(rotulos[i][2])\n",
        "\n",
        "train['gen_cat'] = gen_cat\n",
        "train['sub1_cat'] = sub1_cat\n",
        "train['sub2_cat'] = sub2_cat\n",
        "\n",
        "del gen_cat\n",
        "del sub1_cat\n",
        "del sub2_cat"
      ],
      "metadata": {
        "id": "by5pMxZXEkEE"
      },
      "execution_count": null,
      "outputs": []
    },
    {
      "cell_type": "code",
      "source": [
        "train"
      ],
      "metadata": {
        "colab": {
          "base_uri": "https://localhost:8080/",
          "height": 676
        },
        "id": "r6eXz7k5H99W",
        "outputId": "52dd3cb7-efeb-4c87-a8c4-8760c11ae959"
      },
      "execution_count": null,
      "outputs": [
        {
          "output_type": "execute_result",
          "data": {
            "text/plain": [
              "                                          name item_condition_id  \\\n",
              "0          MLB Cincinnati Reds T Shirt Size XL                 3   \n",
              "1             Razer BlackWidow Chroma Keyboard                 3   \n",
              "2                               AVA-VIV Blouse                 1   \n",
              "3                        Leather Horse Statues                 1   \n",
              "4                         24K GOLD plated rose                 1   \n",
              "...                                        ...               ...   \n",
              "1482530             Free People Inspired Dress                 2   \n",
              "1482531          Little mermaid handmade dress                 2   \n",
              "1482532  21 day fix containers and eating plan                 2   \n",
              "1482533                 World markets lanterns                 3   \n",
              "1482534          Brand new lux de ville wallet                 1   \n",
              "\n",
              "                                             category_name   brand_name  \\\n",
              "0                                        Men/Tops/T-shirts          NaN   \n",
              "1        Electronics/Computers & Tablets/Components & P...        Razer   \n",
              "2                              Women/Tops & Blouses/Blouse       Target   \n",
              "3                       Home/Home Décor/Home Décor Accents          NaN   \n",
              "4                                  Women/Jewelry/Necklaces          NaN   \n",
              "...                                                    ...          ...   \n",
              "1482530                             Women/Dresses/Mid-Calf  Free People   \n",
              "1482531                           Kids/Girls 2T-5T/Dresses       Disney   \n",
              "1482532     Sports & Outdoors/Exercise/Fitness accessories          NaN   \n",
              "1482533                 Home/Home Décor/Home Décor Accents          NaN   \n",
              "1482534                  Women/Women's Accessories/Wallets          NaN   \n",
              "\n",
              "         price  shipping                                   item_description  \\\n",
              "0         10.0         1                                 No description yet   \n",
              "1         52.0         0  This keyboard is in great condition and works ...   \n",
              "2         10.0         1  Adorable top with a hint of lace and a key hol...   \n",
              "3         35.0         1  New with tags. Leather horses. Retail for [rm]...   \n",
              "4         44.0         0          Complete with certificate of authenticity   \n",
              "...        ...       ...                                                ...   \n",
              "1482530   20.0         1  Lace, says size small but fits medium perfectl...   \n",
              "1482531   14.0         0   Little mermaid handmade dress never worn size 2t   \n",
              "1482532   12.0         0          Used once or twice, still in great shape.   \n",
              "1482533   45.0         1  There is 2 of each one that you see! So 2 red ...   \n",
              "1482534   22.0         0  New with tag, red with sparkle. Firm price, no...   \n",
              "\n",
              "               date  stock            gen_cat             sub1_cat  \\\n",
              "0         18-6-2018     27                Men                 Tops   \n",
              "1         18-3-2018     15        Electronics  Computers & Tablets   \n",
              "2        25-10-2018     14              Women       Tops & Blouses   \n",
              "3         20-3-2018      1               Home           Home Décor   \n",
              "4         16-5-2018     13              Women              Jewelry   \n",
              "...             ...    ...                ...                  ...   \n",
              "1482530  13-10-2018      2              Women              Dresses   \n",
              "1482531   6-10-2018     10               Kids          Girls 2T-5T   \n",
              "1482532    6-8-2018     15  Sports & Outdoors             Exercise   \n",
              "1482533   13-2-2018     20               Home           Home Décor   \n",
              "1482534  28-10-2018      9              Women  Women's Accessories   \n",
              "\n",
              "                    sub2_cat  \n",
              "0                   T-shirts  \n",
              "1         Components & Parts  \n",
              "2                     Blouse  \n",
              "3         Home Décor Accents  \n",
              "4                  Necklaces  \n",
              "...                      ...  \n",
              "1482530             Mid-Calf  \n",
              "1482531              Dresses  \n",
              "1482532  Fitness accessories  \n",
              "1482533   Home Décor Accents  \n",
              "1482534              Wallets  \n",
              "\n",
              "[1482535 rows x 12 columns]"
            ],
            "text/html": [
              "\n",
              "  <div id=\"df-5e17f2a5-817d-40a0-8f18-8e164a6c62c2\">\n",
              "    <div class=\"colab-df-container\">\n",
              "      <div>\n",
              "<style scoped>\n",
              "    .dataframe tbody tr th:only-of-type {\n",
              "        vertical-align: middle;\n",
              "    }\n",
              "\n",
              "    .dataframe tbody tr th {\n",
              "        vertical-align: top;\n",
              "    }\n",
              "\n",
              "    .dataframe thead th {\n",
              "        text-align: right;\n",
              "    }\n",
              "</style>\n",
              "<table border=\"1\" class=\"dataframe\">\n",
              "  <thead>\n",
              "    <tr style=\"text-align: right;\">\n",
              "      <th></th>\n",
              "      <th>name</th>\n",
              "      <th>item_condition_id</th>\n",
              "      <th>category_name</th>\n",
              "      <th>brand_name</th>\n",
              "      <th>price</th>\n",
              "      <th>shipping</th>\n",
              "      <th>item_description</th>\n",
              "      <th>date</th>\n",
              "      <th>stock</th>\n",
              "      <th>gen_cat</th>\n",
              "      <th>sub1_cat</th>\n",
              "      <th>sub2_cat</th>\n",
              "    </tr>\n",
              "  </thead>\n",
              "  <tbody>\n",
              "    <tr>\n",
              "      <th>0</th>\n",
              "      <td>MLB Cincinnati Reds T Shirt Size XL</td>\n",
              "      <td>3</td>\n",
              "      <td>Men/Tops/T-shirts</td>\n",
              "      <td>NaN</td>\n",
              "      <td>10.0</td>\n",
              "      <td>1</td>\n",
              "      <td>No description yet</td>\n",
              "      <td>18-6-2018</td>\n",
              "      <td>27</td>\n",
              "      <td>Men</td>\n",
              "      <td>Tops</td>\n",
              "      <td>T-shirts</td>\n",
              "    </tr>\n",
              "    <tr>\n",
              "      <th>1</th>\n",
              "      <td>Razer BlackWidow Chroma Keyboard</td>\n",
              "      <td>3</td>\n",
              "      <td>Electronics/Computers &amp; Tablets/Components &amp; P...</td>\n",
              "      <td>Razer</td>\n",
              "      <td>52.0</td>\n",
              "      <td>0</td>\n",
              "      <td>This keyboard is in great condition and works ...</td>\n",
              "      <td>18-3-2018</td>\n",
              "      <td>15</td>\n",
              "      <td>Electronics</td>\n",
              "      <td>Computers &amp; Tablets</td>\n",
              "      <td>Components &amp; Parts</td>\n",
              "    </tr>\n",
              "    <tr>\n",
              "      <th>2</th>\n",
              "      <td>AVA-VIV Blouse</td>\n",
              "      <td>1</td>\n",
              "      <td>Women/Tops &amp; Blouses/Blouse</td>\n",
              "      <td>Target</td>\n",
              "      <td>10.0</td>\n",
              "      <td>1</td>\n",
              "      <td>Adorable top with a hint of lace and a key hol...</td>\n",
              "      <td>25-10-2018</td>\n",
              "      <td>14</td>\n",
              "      <td>Women</td>\n",
              "      <td>Tops &amp; Blouses</td>\n",
              "      <td>Blouse</td>\n",
              "    </tr>\n",
              "    <tr>\n",
              "      <th>3</th>\n",
              "      <td>Leather Horse Statues</td>\n",
              "      <td>1</td>\n",
              "      <td>Home/Home Décor/Home Décor Accents</td>\n",
              "      <td>NaN</td>\n",
              "      <td>35.0</td>\n",
              "      <td>1</td>\n",
              "      <td>New with tags. Leather horses. Retail for [rm]...</td>\n",
              "      <td>20-3-2018</td>\n",
              "      <td>1</td>\n",
              "      <td>Home</td>\n",
              "      <td>Home Décor</td>\n",
              "      <td>Home Décor Accents</td>\n",
              "    </tr>\n",
              "    <tr>\n",
              "      <th>4</th>\n",
              "      <td>24K GOLD plated rose</td>\n",
              "      <td>1</td>\n",
              "      <td>Women/Jewelry/Necklaces</td>\n",
              "      <td>NaN</td>\n",
              "      <td>44.0</td>\n",
              "      <td>0</td>\n",
              "      <td>Complete with certificate of authenticity</td>\n",
              "      <td>16-5-2018</td>\n",
              "      <td>13</td>\n",
              "      <td>Women</td>\n",
              "      <td>Jewelry</td>\n",
              "      <td>Necklaces</td>\n",
              "    </tr>\n",
              "    <tr>\n",
              "      <th>...</th>\n",
              "      <td>...</td>\n",
              "      <td>...</td>\n",
              "      <td>...</td>\n",
              "      <td>...</td>\n",
              "      <td>...</td>\n",
              "      <td>...</td>\n",
              "      <td>...</td>\n",
              "      <td>...</td>\n",
              "      <td>...</td>\n",
              "      <td>...</td>\n",
              "      <td>...</td>\n",
              "      <td>...</td>\n",
              "    </tr>\n",
              "    <tr>\n",
              "      <th>1482530</th>\n",
              "      <td>Free People Inspired Dress</td>\n",
              "      <td>2</td>\n",
              "      <td>Women/Dresses/Mid-Calf</td>\n",
              "      <td>Free People</td>\n",
              "      <td>20.0</td>\n",
              "      <td>1</td>\n",
              "      <td>Lace, says size small but fits medium perfectl...</td>\n",
              "      <td>13-10-2018</td>\n",
              "      <td>2</td>\n",
              "      <td>Women</td>\n",
              "      <td>Dresses</td>\n",
              "      <td>Mid-Calf</td>\n",
              "    </tr>\n",
              "    <tr>\n",
              "      <th>1482531</th>\n",
              "      <td>Little mermaid handmade dress</td>\n",
              "      <td>2</td>\n",
              "      <td>Kids/Girls 2T-5T/Dresses</td>\n",
              "      <td>Disney</td>\n",
              "      <td>14.0</td>\n",
              "      <td>0</td>\n",
              "      <td>Little mermaid handmade dress never worn size 2t</td>\n",
              "      <td>6-10-2018</td>\n",
              "      <td>10</td>\n",
              "      <td>Kids</td>\n",
              "      <td>Girls 2T-5T</td>\n",
              "      <td>Dresses</td>\n",
              "    </tr>\n",
              "    <tr>\n",
              "      <th>1482532</th>\n",
              "      <td>21 day fix containers and eating plan</td>\n",
              "      <td>2</td>\n",
              "      <td>Sports &amp; Outdoors/Exercise/Fitness accessories</td>\n",
              "      <td>NaN</td>\n",
              "      <td>12.0</td>\n",
              "      <td>0</td>\n",
              "      <td>Used once or twice, still in great shape.</td>\n",
              "      <td>6-8-2018</td>\n",
              "      <td>15</td>\n",
              "      <td>Sports &amp; Outdoors</td>\n",
              "      <td>Exercise</td>\n",
              "      <td>Fitness accessories</td>\n",
              "    </tr>\n",
              "    <tr>\n",
              "      <th>1482533</th>\n",
              "      <td>World markets lanterns</td>\n",
              "      <td>3</td>\n",
              "      <td>Home/Home Décor/Home Décor Accents</td>\n",
              "      <td>NaN</td>\n",
              "      <td>45.0</td>\n",
              "      <td>1</td>\n",
              "      <td>There is 2 of each one that you see! So 2 red ...</td>\n",
              "      <td>13-2-2018</td>\n",
              "      <td>20</td>\n",
              "      <td>Home</td>\n",
              "      <td>Home Décor</td>\n",
              "      <td>Home Décor Accents</td>\n",
              "    </tr>\n",
              "    <tr>\n",
              "      <th>1482534</th>\n",
              "      <td>Brand new lux de ville wallet</td>\n",
              "      <td>1</td>\n",
              "      <td>Women/Women's Accessories/Wallets</td>\n",
              "      <td>NaN</td>\n",
              "      <td>22.0</td>\n",
              "      <td>0</td>\n",
              "      <td>New with tag, red with sparkle. Firm price, no...</td>\n",
              "      <td>28-10-2018</td>\n",
              "      <td>9</td>\n",
              "      <td>Women</td>\n",
              "      <td>Women's Accessories</td>\n",
              "      <td>Wallets</td>\n",
              "    </tr>\n",
              "  </tbody>\n",
              "</table>\n",
              "<p>1482535 rows × 12 columns</p>\n",
              "</div>\n",
              "      <button class=\"colab-df-convert\" onclick=\"convertToInteractive('df-5e17f2a5-817d-40a0-8f18-8e164a6c62c2')\"\n",
              "              title=\"Convert this dataframe to an interactive table.\"\n",
              "              style=\"display:none;\">\n",
              "        \n",
              "  <svg xmlns=\"http://www.w3.org/2000/svg\" height=\"24px\"viewBox=\"0 0 24 24\"\n",
              "       width=\"24px\">\n",
              "    <path d=\"M0 0h24v24H0V0z\" fill=\"none\"/>\n",
              "    <path d=\"M18.56 5.44l.94 2.06.94-2.06 2.06-.94-2.06-.94-.94-2.06-.94 2.06-2.06.94zm-11 1L8.5 8.5l.94-2.06 2.06-.94-2.06-.94L8.5 2.5l-.94 2.06-2.06.94zm10 10l.94 2.06.94-2.06 2.06-.94-2.06-.94-.94-2.06-.94 2.06-2.06.94z\"/><path d=\"M17.41 7.96l-1.37-1.37c-.4-.4-.92-.59-1.43-.59-.52 0-1.04.2-1.43.59L10.3 9.45l-7.72 7.72c-.78.78-.78 2.05 0 2.83L4 21.41c.39.39.9.59 1.41.59.51 0 1.02-.2 1.41-.59l7.78-7.78 2.81-2.81c.8-.78.8-2.07 0-2.86zM5.41 20L4 18.59l7.72-7.72 1.47 1.35L5.41 20z\"/>\n",
              "  </svg>\n",
              "      </button>\n",
              "      \n",
              "  <style>\n",
              "    .colab-df-container {\n",
              "      display:flex;\n",
              "      flex-wrap:wrap;\n",
              "      gap: 12px;\n",
              "    }\n",
              "\n",
              "    .colab-df-convert {\n",
              "      background-color: #E8F0FE;\n",
              "      border: none;\n",
              "      border-radius: 50%;\n",
              "      cursor: pointer;\n",
              "      display: none;\n",
              "      fill: #1967D2;\n",
              "      height: 32px;\n",
              "      padding: 0 0 0 0;\n",
              "      width: 32px;\n",
              "    }\n",
              "\n",
              "    .colab-df-convert:hover {\n",
              "      background-color: #E2EBFA;\n",
              "      box-shadow: 0px 1px 2px rgba(60, 64, 67, 0.3), 0px 1px 3px 1px rgba(60, 64, 67, 0.15);\n",
              "      fill: #174EA6;\n",
              "    }\n",
              "\n",
              "    [theme=dark] .colab-df-convert {\n",
              "      background-color: #3B4455;\n",
              "      fill: #D2E3FC;\n",
              "    }\n",
              "\n",
              "    [theme=dark] .colab-df-convert:hover {\n",
              "      background-color: #434B5C;\n",
              "      box-shadow: 0px 1px 3px 1px rgba(0, 0, 0, 0.15);\n",
              "      filter: drop-shadow(0px 1px 2px rgba(0, 0, 0, 0.3));\n",
              "      fill: #FFFFFF;\n",
              "    }\n",
              "  </style>\n",
              "\n",
              "      <script>\n",
              "        const buttonEl =\n",
              "          document.querySelector('#df-5e17f2a5-817d-40a0-8f18-8e164a6c62c2 button.colab-df-convert');\n",
              "        buttonEl.style.display =\n",
              "          google.colab.kernel.accessAllowed ? 'block' : 'none';\n",
              "\n",
              "        async function convertToInteractive(key) {\n",
              "          const element = document.querySelector('#df-5e17f2a5-817d-40a0-8f18-8e164a6c62c2');\n",
              "          const dataTable =\n",
              "            await google.colab.kernel.invokeFunction('convertToInteractive',\n",
              "                                                     [key], {});\n",
              "          if (!dataTable) return;\n",
              "\n",
              "          const docLinkHtml = 'Like what you see? Visit the ' +\n",
              "            '<a target=\"_blank\" href=https://colab.research.google.com/notebooks/data_table.ipynb>data table notebook</a>'\n",
              "            + ' to learn more about interactive tables.';\n",
              "          element.innerHTML = '';\n",
              "          dataTable['output_type'] = 'display_data';\n",
              "          await google.colab.output.renderOutput(dataTable, element);\n",
              "          const docLink = document.createElement('div');\n",
              "          docLink.innerHTML = docLinkHtml;\n",
              "          element.appendChild(docLink);\n",
              "        }\n",
              "      </script>\n",
              "    </div>\n",
              "  </div>\n",
              "  "
            ]
          },
          "metadata": {},
          "execution_count": 5
        }
      ]
    },
    {
      "cell_type": "code",
      "source": [
        "# Verificação de Outliers nos preços\n",
        "\n",
        "plt.subplots(1,2, figsize = (25,7))\n",
        "\n",
        "plt.subplot(1,2,1)\n",
        "sns.boxplot(data = train[['price', 'gen_cat']], x = 'price', y = 'gen_cat')\n",
        "\n",
        "# Os preços possuem uma grande amplitude e dificultam a leitura em uma escala simples, a aplicação do log permite a leitura e interpretação dos valores em uma escala logaritmica.\n",
        "\n",
        "plt.subplot(1,2,2)\n",
        "sns.boxplot(data = pd.concat([train['price'].apply(lambda x: math.log(x+1)), train['gen_cat']], axis = 1), x = 'price', y = 'gen_cat')"
      ],
      "metadata": {
        "colab": {
          "base_uri": "https://localhost:8080/",
          "height": 431
        },
        "id": "fo6AURRp_SDs",
        "outputId": "37a958b5-922c-4d1f-ae5a-877baf901c0b"
      },
      "execution_count": null,
      "outputs": [
        {
          "output_type": "execute_result",
          "data": {
            "text/plain": [
              "<matplotlib.axes._subplots.AxesSubplot at 0x7fbb844b3a50>"
            ]
          },
          "metadata": {},
          "execution_count": 6
        },
        {
          "output_type": "display_data",
          "data": {
            "text/plain": [
              "<Figure size 1800x504 with 2 Axes>"
            ],
            "image/png": "[encoded data removed]"
          },
          "metadata": {
            "needs_background": "light"
          }
        }
      ]
    },
    {
      "cell_type": "markdown",
      "source": [
        "Em ambas as visualizações notamos uma grande presença de outliers. Porém, por tratar-se de um serviço de vendas de diversos tipos de produto, espera-se que tais discrepâncias sejam naturais e por hora serão mantidas na baseline inicial."
      ],
      "metadata": {
        "id": "mOEvJyVqrpS4"
      }
    },
    {
      "cell_type": "code",
      "execution_count": null,
      "metadata": {
        "colab": {
          "base_uri": "https://localhost:8080/",
          "height": 482
        },
        "id": "hul7G56p_L4E",
        "outputId": "bfa0b971-1746-4248-ce1f-5eff7d536641"
      },
      "outputs": [
        {
          "output_type": "stream",
          "name": "stderr",
          "text": [
            "/usr/local/lib/python3.7/dist-packages/ipykernel_launcher.py:15: UserWarning: In Matplotlib 3.3 individual lines on a stem plot will be added as a LineCollection instead of individual lines. This significantly improves the performance of a stem plot. To remove this warning and switch to the new behaviour, set the \"use_line_collection\" keyword argument to True.\n",
            "  from ipykernel import kernelapp as app\n"
          ]
        },
        {
          "output_type": "display_data",
          "data": {
            "text/plain": [
              "<Figure size 1080x360 with 2 Axes>"
            ],
            "image/png": "[encoded data removed]"
          },
          "metadata": {
            "needs_background": "light"
          }
        }
      ],
      "source": [
        "x = train['gen_cat'].value_counts().reset_index()\n",
        "\n",
        "plt.subplots(1, 2, figsize=(15,5))\n",
        "\n",
        "plt.subplot(1,2,1)\n",
        "sns.barplot(data=x[0:10], x = 'index', y = 'gen_cat')\n",
        "plt.title('Quantidade de itens por categoria primária')\n",
        "plt.xlabel('Categorias')\n",
        "plt.ylabel('Freq.')\n",
        "plt.xticks(rotation=45, rotation_mode='anchor', ha='right')\n",
        "\n",
        "x = train[['gen_cat','price']].groupby('gen_cat').agg(['count','mean']).reset_index().sort_values(by=('price','count'), ascending=False)\n",
        "\n",
        "plt.subplot(1,2,2)\n",
        "plt.stem(x['gen_cat'][0:10],x[('price','mean')][0:10])\n",
        "plt.title('Preço médio de itens por categoria')\n",
        "plt.xlabel('Categorias')\n",
        "plt.ylabel('Preço médio')\n",
        "plt.xticks(rotation=45, rotation_mode='anchor', ha='right')\n",
        "\n",
        "plt.show()"
      ]
    },
    {
      "cell_type": "markdown",
      "source": [
        "A frequência permite a retirada de alguns insights sobre o comportamento dos dados. Podemos ver que a variável ‘Women’ aparece numa frequência muito acima das demais e pode vir a gerar ruídos nos resultados do modelo de predição a ser desenvolvido. Além disso vemos que a destruição de preços entre as categorias não apresenta uma grande variação e a maioria está presente numa mesma faixa."
      ],
      "metadata": {
        "id": "5yfbpwVGmy6n"
      }
    },
    {
      "cell_type": "code",
      "execution_count": null,
      "metadata": {
        "colab": {
          "base_uri": "https://localhost:8080/",
          "height": 496
        },
        "id": "wv7CZ4kT_L4G",
        "outputId": "78fd3a21-5b71-4579-afbb-fcd8e82b174b"
      },
      "outputs": [
        {
          "output_type": "stream",
          "name": "stderr",
          "text": [
            "/usr/local/lib/python3.7/dist-packages/ipykernel_launcher.py:15: UserWarning: In Matplotlib 3.3 individual lines on a stem plot will be added as a LineCollection instead of individual lines. This significantly improves the performance of a stem plot. To remove this warning and switch to the new behaviour, set the \"use_line_collection\" keyword argument to True.\n",
            "  from ipykernel import kernelapp as app\n"
          ]
        },
        {
          "output_type": "display_data",
          "data": {
            "text/plain": [
              "<Figure size 1080x360 with 2 Axes>"
            ],
            "image/png": "[encoded data removed]"
          },
          "metadata": {
            "needs_background": "light"
          }
        }
      ],
      "source": [
        "x = train['sub1_cat'].value_counts().reset_index()\n",
        "\n",
        "plt.subplots(1, 2, figsize=(15,5))\n",
        "\n",
        "plt.subplot(1,2,1)\n",
        "sns.barplot(data=x[0:10], x = 'index', y = 'sub1_cat')\n",
        "plt.xlabel('Categorias')\n",
        "plt.ylabel('Freq.')\n",
        "plt.title('Quantidade de itens por sub-categoria')\n",
        "plt.xticks(rotation=45, rotation_mode='anchor', ha='right')\n",
        "\n",
        "x = train[['sub1_cat','price']].groupby('sub1_cat').agg(['mean','count']).reset_index().sort_values(by=('price','count'), ascending=False)\n",
        "\n",
        "plt.subplot(1,2,2)\n",
        "plt.stem(x['sub1_cat'][0:10],x[('price','mean')][0:10])\n",
        "plt.title('Preço médio de itens por sub-categoria')\n",
        "plt.xlabel('Categorias')\n",
        "plt.ylabel('Preço médio')\n",
        "plt.xticks(rotation=45, rotation_mode='anchor', ha='right')\n",
        "\n",
        "plt.show()"
      ]
    },
    {
      "cell_type": "markdown",
      "source": [
        "A análise geral das sub-categorias mostra um equilíbrio muito mais saudável em relação ao equilíbrio das categorias principais, porém, seus preços mostram variações mais extremas."
      ],
      "metadata": {
        "id": "iLzeXcZjm0ez"
      }
    },
    {
      "cell_type": "code",
      "source": [
        "train['datetime_date'] = pd.to_datetime(train['date'], format = \"%d-%m-%Y\", errors = 'coerce')\n",
        "train.drop('date', axis = 1, inplace=True)\n",
        "train['datetime_month'] = train['datetime_date'].dt.month"
      ],
      "metadata": {
        "id": "K9yMDiFipEb8"
      },
      "execution_count": null,
      "outputs": []
    },
    {
      "cell_type": "code",
      "source": [
        "train[['gen_cat','price', 'datetime_month']].groupby('datetime_month').agg(['count','mean']).reset_index().sort_values(by=['datetime_month'], ascending=False)"
      ],
      "metadata": {
        "colab": {
          "base_uri": "https://localhost:8080/",
          "height": 457
        },
        "id": "LNEWAM0qAUwP",
        "outputId": "664cc63e-2521-45b9-b643-a204f03a4111"
      },
      "execution_count": null,
      "outputs": [
        {
          "output_type": "execute_result",
          "data": {
            "text/plain": [
              "   datetime_month   price           \n",
              "                    count       mean\n",
              "11           12.0   67055  27.106420\n",
              "10           11.0  134979  26.569626\n",
              "9            10.0  134584  26.795039\n",
              "8             9.0  134935  26.531641\n",
              "7             8.0  134265  26.675165\n",
              "6             7.0  134846  26.787973\n",
              "5             6.0  134857  26.648776\n",
              "4             5.0  134173  26.907828\n",
              "3             4.0  135564  26.784390\n",
              "2             3.0  134889  26.765437\n",
              "1             2.0  127916  26.794291\n",
              "0             1.0   67575  26.557558"
            ],
            "text/html": [
              "\n",
              "  <div id=\"df-c582dfd6-1dd4-4c75-85e2-34562aec4bc4\">\n",
              "    <div class=\"colab-df-container\">\n",
              "      <div>\n",
              "<style scoped>\n",
              "    .dataframe tbody tr th:only-of-type {\n",
              "        vertical-align: middle;\n",
              "    }\n",
              "\n",
              "    .dataframe tbody tr th {\n",
              "        vertical-align: top;\n",
              "    }\n",
              "\n",
              "    .dataframe thead tr th {\n",
              "        text-align: left;\n",
              "    }\n",
              "</style>\n",
              "<table border=\"1\" class=\"dataframe\">\n",
              "  <thead>\n",
              "    <tr>\n",
              "      <th></th>\n",
              "      <th>datetime_month</th>\n",
              "      <th colspan=\"2\" halign=\"left\">price</th>\n",
              "    </tr>\n",
              "    <tr>\n",
              "      <th></th>\n",
              "      <th></th>\n",
              "      <th>count</th>\n",
              "      <th>mean</th>\n",
              "    </tr>\n",
              "  </thead>\n",
              "  <tbody>\n",
              "    <tr>\n",
              "      <th>11</th>\n",
              "      <td>12.0</td>\n",
              "      <td>67055</td>\n",
              "      <td>27.106420</td>\n",
              "    </tr>\n",
              "    <tr>\n",
              "      <th>10</th>\n",
              "      <td>11.0</td>\n",
              "      <td>134979</td>\n",
              "      <td>26.569626</td>\n",
              "    </tr>\n",
              "    <tr>\n",
              "      <th>9</th>\n",
              "      <td>10.0</td>\n",
              "      <td>134584</td>\n",
              "      <td>26.795039</td>\n",
              "    </tr>\n",
              "    <tr>\n",
              "      <th>8</th>\n",
              "      <td>9.0</td>\n",
              "      <td>134935</td>\n",
              "      <td>26.531641</td>\n",
              "    </tr>\n",
              "    <tr>\n",
              "      <th>7</th>\n",
              "      <td>8.0</td>\n",
              "      <td>134265</td>\n",
              "      <td>26.675165</td>\n",
              "    </tr>\n",
              "    <tr>\n",
              "      <th>6</th>\n",
              "      <td>7.0</td>\n",
              "      <td>134846</td>\n",
              "      <td>26.787973</td>\n",
              "    </tr>\n",
              "    <tr>\n",
              "      <th>5</th>\n",
              "      <td>6.0</td>\n",
              "      <td>134857</td>\n",
              "      <td>26.648776</td>\n",
              "    </tr>\n",
              "    <tr>\n",
              "      <th>4</th>\n",
              "      <td>5.0</td>\n",
              "      <td>134173</td>\n",
              "      <td>26.907828</td>\n",
              "    </tr>\n",
              "    <tr>\n",
              "      <th>3</th>\n",
              "      <td>4.0</td>\n",
              "      <td>135564</td>\n",
              "      <td>26.784390</td>\n",
              "    </tr>\n",
              "    <tr>\n",
              "      <th>2</th>\n",
              "      <td>3.0</td>\n",
              "      <td>134889</td>\n",
              "      <td>26.765437</td>\n",
              "    </tr>\n",
              "    <tr>\n",
              "      <th>1</th>\n",
              "      <td>2.0</td>\n",
              "      <td>127916</td>\n",
              "      <td>26.794291</td>\n",
              "    </tr>\n",
              "    <tr>\n",
              "      <th>0</th>\n",
              "      <td>1.0</td>\n",
              "      <td>67575</td>\n",
              "      <td>26.557558</td>\n",
              "    </tr>\n",
              "  </tbody>\n",
              "</table>\n",
              "</div>\n",
              "      <button class=\"colab-df-convert\" onclick=\"convertToInteractive('df-c582dfd6-1dd4-4c75-85e2-34562aec4bc4')\"\n",
              "              title=\"Convert this dataframe to an interactive table.\"\n",
              "              style=\"display:none;\">\n",
              "        \n",
              "  <svg xmlns=\"http://www.w3.org/2000/svg\" height=\"24px\"viewBox=\"0 0 24 24\"\n",
              "       width=\"24px\">\n",
              "    <path d=\"M0 0h24v24H0V0z\" fill=\"none\"/>\n",
              "    <path d=\"M18.56 5.44l.94 2.06.94-2.06 2.06-.94-2.06-.94-.94-2.06-.94 2.06-2.06.94zm-11 1L8.5 8.5l.94-2.06 2.06-.94-2.06-.94L8.5 2.5l-.94 2.06-2.06.94zm10 10l.94 2.06.94-2.06 2.06-.94-2.06-.94-.94-2.06-.94 2.06-2.06.94z\"/><path d=\"M17.41 7.96l-1.37-1.37c-.4-.4-.92-.59-1.43-.59-.52 0-1.04.2-1.43.59L10.3 9.45l-7.72 7.72c-.78.78-.78 2.05 0 2.83L4 21.41c.39.39.9.59 1.41.59.51 0 1.02-.2 1.41-.59l7.78-7.78 2.81-2.81c.8-.78.8-2.07 0-2.86zM5.41 20L4 18.59l7.72-7.72 1.47 1.35L5.41 20z\"/>\n",
              "  </svg>\n",
              "      </button>\n",
              "      \n",
              "  <style>\n",
              "    .colab-df-container {\n",
              "      display:flex;\n",
              "      flex-wrap:wrap;\n",
              "      gap: 12px;\n",
              "    }\n",
              "\n",
              "    .colab-df-convert {\n",
              "      background-color: #E8F0FE;\n",
              "      border: none;\n",
              "      border-radius: 50%;\n",
              "      cursor: pointer;\n",
              "      display: none;\n",
              "      fill: #1967D2;\n",
              "      height: 32px;\n",
              "      padding: 0 0 0 0;\n",
              "      width: 32px;\n",
              "    }\n",
              "\n",
              "    .colab-df-convert:hover {\n",
              "      background-color: #E2EBFA;\n",
              "      box-shadow: 0px 1px 2px rgba(60, 64, 67, 0.3), 0px 1px 3px 1px rgba(60, 64, 67, 0.15);\n",
              "      fill: #174EA6;\n",
              "    }\n",
              "\n",
              "    [theme=dark] .colab-df-convert {\n",
              "      background-color: #3B4455;\n",
              "      fill: #D2E3FC;\n",
              "    }\n",
              "\n",
              "    [theme=dark] .colab-df-convert:hover {\n",
              "      background-color: #434B5C;\n",
              "      box-shadow: 0px 1px 3px 1px rgba(0, 0, 0, 0.15);\n",
              "      filter: drop-shadow(0px 1px 2px rgba(0, 0, 0, 0.3));\n",
              "      fill: #FFFFFF;\n",
              "    }\n",
              "  </style>\n",
              "\n",
              "      <script>\n",
              "        const buttonEl =\n",
              "          document.querySelector('#df-c582dfd6-1dd4-4c75-85e2-34562aec4bc4 button.colab-df-convert');\n",
              "        buttonEl.style.display =\n",
              "          google.colab.kernel.accessAllowed ? 'block' : 'none';\n",
              "\n",
              "        async function convertToInteractive(key) {\n",
              "          const element = document.querySelector('#df-c582dfd6-1dd4-4c75-85e2-34562aec4bc4');\n",
              "          const dataTable =\n",
              "            await google.colab.kernel.invokeFunction('convertToInteractive',\n",
              "                                                     [key], {});\n",
              "          if (!dataTable) return;\n",
              "\n",
              "          const docLinkHtml = 'Like what you see? Visit the ' +\n",
              "            '<a target=\"_blank\" href=https://colab.research.google.com/notebooks/data_table.ipynb>data table notebook</a>'\n",
              "            + ' to learn more about interactive tables.';\n",
              "          element.innerHTML = '';\n",
              "          dataTable['output_type'] = 'display_data';\n",
              "          await google.colab.output.renderOutput(dataTable, element);\n",
              "          const docLink = document.createElement('div');\n",
              "          docLink.innerHTML = docLinkHtml;\n",
              "          element.appendChild(docLink);\n",
              "        }\n",
              "      </script>\n",
              "    </div>\n",
              "  </div>\n",
              "  "
            ]
          },
          "metadata": {},
          "execution_count": 10
        }
      ]
    },
    {
      "cell_type": "code",
      "source": [
        "x = train[['gen_cat','price', 'datetime_month']].groupby('datetime_month').agg(['count','mean']).reset_index().sort_values(by=('price','count'), ascending=False)\n",
        "\n",
        "plt.subplots(1, 2, figsize=(15,7))\n",
        "plt.subplot(1,2,1)\n",
        "sns.barplot(data=x, x = 'datetime_month', y = ('price','mean'), color = '#99ccff')\n",
        "plt.xlabel('Meses')\n",
        "plt.ylabel('Preço')\n",
        "plt.title('Evolução do preço mensalmente')\n",
        "plt.xticks(rotation_mode='anchor', ha='right')\n",
        "\n",
        "plt.subplot(1,2,2)\n",
        "sns.barplot(data=x, x = 'datetime_month', y = ('price','count'), color = '#99ccff')\n",
        "plt.xlabel('Meses')\n",
        "plt.ylabel('Quantidade')\n",
        "plt.title('Quantidade de vendas mensalmente')\n",
        "plt.xticks(rotation_mode='anchor', ha='right')\n",
        "\n",
        "plt.show()"
      ],
      "metadata": {
        "colab": {
          "base_uri": "https://localhost:8080/",
          "height": 458
        },
        "id": "OozIudLgtTGV",
        "outputId": "1fc268af-bd99-4902-bdf1-35360c7978d5"
      },
      "execution_count": null,
      "outputs": [
        {
          "output_type": "display_data",
          "data": {
            "text/plain": [
              "<Figure size 1080x504 with 2 Axes>"
            ],
            "image/png": "[encoded data removed]"
          },
          "metadata": {
            "needs_background": "light"
          }
        }
      ]
    },
    {
      "cell_type": "markdown",
      "source": [
        "A análise da variação do preço no tempo nos mostra um comportamento atípico dos dados. Não há grande variação na média geral dos preços no decorrer do ano e além disso há grandes quedas no primeiro mês e no último mês."
      ],
      "metadata": {
        "id": "NqeR_PfNnBHs"
      }
    },
    {
      "cell_type": "code",
      "source": [
        "x = train['item_condition_id'].value_counts().reset_index()\n",
        "\n",
        "plt.subplots(1, 2, figsize=(15,5))\n",
        "\n",
        "plt.subplot(1,2,1)\n",
        "sns.barplot(data=x, x = 'index', y = 'item_condition_id')\n",
        "plt.xlabel('Categorias')\n",
        "plt.ylabel('Freq.')\n",
        "plt.title('Quantidade de itens por condição')\n",
        "plt.xticks(rotation=45, rotation_mode='anchor', ha='right')\n",
        "\n",
        "x = train[['item_condition_id','price']].groupby('item_condition_id').agg(['mean','count']).reset_index().sort_values(by=('price','count'), ascending=False)\n",
        "\n",
        "plt.subplot(1,2,2)\n",
        "plt.stem(x['item_condition_id'],x[('price','mean')])\n",
        "plt.title('Preço médio por condição')\n",
        "plt.xlabel('Categorias')\n",
        "plt.ylabel('Preço médio')\n",
        "plt.xticks(rotation=45, rotation_mode='anchor', ha='right')\n",
        "\n",
        "plt.show()"
      ],
      "metadata": {
        "colab": {
          "base_uri": "https://localhost:8080/",
          "height": 408
        },
        "id": "zlaimKAoy_4P",
        "outputId": "2335a63a-e18e-4840-84b7-608035f43aab"
      },
      "execution_count": null,
      "outputs": [
        {
          "output_type": "stream",
          "name": "stderr",
          "text": [
            "/usr/local/lib/python3.7/dist-packages/ipykernel_launcher.py:15: UserWarning: In Matplotlib 3.3 individual lines on a stem plot will be added as a LineCollection instead of individual lines. This significantly improves the performance of a stem plot. To remove this warning and switch to the new behaviour, set the \"use_line_collection\" keyword argument to True.\n",
            "  from ipykernel import kernelapp as app\n"
          ]
        },
        {
          "output_type": "display_data",
          "data": {
            "text/plain": [
              "<Figure size 1080x360 with 2 Axes>"
            ],
            "image/png": "[encoded data removed]"
          },
          "metadata": {
            "needs_background": "light"
          }
        }
      ]
    },
    {
      "cell_type": "markdown",
      "source": [
        "A distribuição de itens por condição nos mostra uma grande valorização de itens com qualidade 5 apesar da grande maioria pertencer a qualidade 1."
      ],
      "metadata": {
        "id": "Bnha1z_fnvEj"
      }
    },
    {
      "cell_type": "code",
      "source": [
        "x = (~train['brand_name'].isnull()).value_counts().reset_index()\n",
        "\n",
        "plt.subplots(1, 2, figsize=(15,5))\n",
        "\n",
        "plt.subplot(1,2,1)\n",
        "sns.barplot(data=x, x = 'index', y = 'brand_name')\n",
        "plt.xlabel('Categorias')\n",
        "plt.ylabel('Freq.')\n",
        "plt.title('Quantidade de itens de marca')\n",
        "plt.xticks(rotation=45, rotation_mode='anchor', ha='right')\n",
        "\n",
        "# x = pd.concat([(~train['brand_name'].isnull()).astype('str'), train['price']], axis = 1).groupby('brand_name').agg(['mean','count']).reset_index().sort_values(by=('price','count'), ascending=False)\n",
        "\n",
        "plt.subplot(1,2,2)\n",
        "sns.histplot(data = train, x = train['price'].apply(lambda x: math.log(x+1)), bins = 30, hue = ~train['brand_name'].isnull(), element=\"step\")\n",
        "plt.title('Distribuição de preços de itens de marca')\n",
        "plt.xlabel('Categorias')\n",
        "plt.ylabel('Preço médio')\n",
        "\n",
        "plt.show()"
      ],
      "metadata": {
        "colab": {
          "base_uri": "https://localhost:8080/",
          "height": 365
        },
        "id": "_jII_P9f1-Lk",
        "outputId": "3757c199-b087-4e7b-f924-0b3ffac36e12"
      },
      "execution_count": null,
      "outputs": [
        {
          "output_type": "display_data",
          "data": {
            "text/plain": [
              "<Figure size 1080x360 with 2 Axes>"
            ],
            "image/png": "[encoded data removed]"
          },
          "metadata": {
            "needs_background": "light"
          }
        }
      ]
    },
    {
      "cell_type": "markdown",
      "source": [
        "Apesar de haver marcas diferentes, a análise acima mostra que há uma variação considerável entre itens que possuem marcas. Isso nos abre uma possibilidade de no pré-processamento substituir as marcas por valores que indiquem ausência ou presença."
      ],
      "metadata": {
        "id": "TVz6FoXTpfce"
      }
    },
    {
      "cell_type": "code",
      "source": [
        "train['brand_name'].value_counts()"
      ],
      "metadata": {
        "id": "on4UgIJZUNXP",
        "outputId": "abdaa4db-1222-49f2-b069-8a9b950e5fa5",
        "colab": {
          "base_uri": "https://localhost:8080/"
        }
      },
      "execution_count": null,
      "outputs": [
        {
          "output_type": "execute_result",
          "data": {
            "text/plain": [
              "PINK                    54088\n",
              "Nike                    54043\n",
              "Victoria's Secret       48036\n",
              "LuLaRoe                 31024\n",
              "Apple                   17322\n",
              "                        ...  \n",
              "The Learning Journey        1\n",
              "Pampers Baby Fresh          1\n",
              "Huggies One & Done          1\n",
              "Classic Media               1\n",
              "Kids Only                   1\n",
              "Name: brand_name, Length: 4809, dtype: int64"
            ]
          },
          "metadata": {},
          "execution_count": 33
        }
      ]
    },
    {
      "cell_type": "code",
      "source": [
        "x = train['shipping'].value_counts().reset_index()\n",
        "\n",
        "plt.subplots(1, 2, figsize=(15,5))\n",
        "\n",
        "plt.subplot(1,2,1)\n",
        "sns.barplot(data=x, x = 'index', y = 'shipping')\n",
        "plt.xlabel('Categorias')\n",
        "plt.ylabel('Freq.')\n",
        "plt.title('Quantidade de itens por tipo de envio')\n",
        "plt.xticks(rotation=45, rotation_mode='anchor', ha='right')\n",
        "\n",
        "# x = train[['shipping','price']].groupby('shipping').agg(['mean','count']).reset_index().sort_values(by=('price','count'), ascending=False)\n",
        "\n",
        "plt.subplot(1,2,2)\n",
        "sns.histplot(x = train['price'].apply(lambda x: math.log(x+1)), bins = 30, hue = train['shipping'], element=\"step\")\n",
        "plt.title('Distribuição de preço por tipo de envio')\n",
        "plt.xlabel('Categorias')\n",
        "plt.ylabel('Preço médio')\n",
        "plt.xticks(rotation=45, rotation_mode='anchor', ha='right')\n",
        "\n",
        "plt.show()"
      ],
      "metadata": {
        "colab": {
          "base_uri": "https://localhost:8080/",
          "height": 351
        },
        "id": "jGOF6LCF5D8H",
        "outputId": "22e7f7cc-3003-44ac-8f84-6b66bf5d432a"
      },
      "execution_count": null,
      "outputs": [
        {
          "output_type": "display_data",
          "data": {
            "text/plain": [
              "<Figure size 1080x360 with 2 Axes>"
            ],
            "image/png": "[encoded data removed]"
          },
          "metadata": {
            "needs_background": "light"
          }
        }
      ]
    },
    {
      "cell_type": "markdown",
      "source": [
        "Além disso, o modo de cobrança do frete também influencia no preço final do produto. E, ao contrário do que se espera, o preço tende a subir quando o frete é pago pelo vendedor. Isso provavelmente acontece porque geralmente o vendedor paga o frete para vendas mais caras como forma de impulsionamento."
      ],
      "metadata": {
        "id": "4jI9G700qQIY"
      }
    },
    {
      "cell_type": "code",
      "source": [
        "train[train['gen_cat'] == 'Women']['sub1_cat'].unique()"
      ],
      "metadata": {
        "colab": {
          "base_uri": "https://localhost:8080/"
        },
        "id": "tXwAXYZ75Itt",
        "outputId": "74002e44-1515-4413-fc2f-eec22a38a9a4"
      },
      "execution_count": null,
      "outputs": [
        {
          "output_type": "execute_result",
          "data": {
            "text/plain": [
              "array(['Tops & Blouses', 'Jewelry', 'Other', 'Swimwear', 'Dresses',\n",
              "       'Shoes', 'Athletic Apparel', 'Jeans', 'Underwear',\n",
              "       \"Women's Handbags\", 'Coats & Jackets', 'Pants', 'Sweaters',\n",
              "       'Maternity', \"Women's Accessories\", 'Skirts', 'Suits & Blazers'],\n",
              "      dtype=object)"
            ]
          },
          "metadata": {},
          "execution_count": 15
        }
      ]
    },
    {
      "cell_type": "code",
      "source": [
        "train[train['sub1_cat'] == 'Tops & Blouses']['sub2_cat'].unique()"
      ],
      "metadata": {
        "colab": {
          "base_uri": "https://localhost:8080/"
        },
        "id": "ifIARLxSn2WA",
        "outputId": "84129b95-124a-4c9a-98f5-e2b811ec3240"
      },
      "execution_count": null,
      "outputs": [
        {
          "output_type": "execute_result",
          "data": {
            "text/plain": [
              "array(['Blouse', 'Tank, Cami', 'T-Shirts', 'Halter', 'Other', 'Tunic',\n",
              "       'Button Down Shirt', 'Polo Shirt', 'Wrap', 'Knit Top',\n",
              "       'Turtleneck'], dtype=object)"
            ]
          },
          "metadata": {},
          "execution_count": 16
        }
      ]
    },
    {
      "cell_type": "code",
      "source": [
        "len(train['category_name'].unique())"
      ],
      "metadata": {
        "colab": {
          "base_uri": "https://localhost:8080/"
        },
        "id": "sPUKiW_3o_La",
        "outputId": "605d426b-683a-41ff-ab28-b01d6387305c"
      },
      "execution_count": null,
      "outputs": [
        {
          "output_type": "execute_result",
          "data": {
            "text/plain": [
              "1288"
            ]
          },
          "metadata": {},
          "execution_count": 17
        }
      ]
    },
    {
      "cell_type": "markdown",
      "source": [
        "Estas estatísticas indicam a dimensão do problema que será enfrentado durante a modelagem."
      ],
      "metadata": {
        "id": "XS6tSL2FrIm8"
      }
    },
    {
      "cell_type": "code",
      "source": [
        "train"
      ],
      "metadata": {
        "colab": {
          "base_uri": "https://localhost:8080/",
          "height": 884
        },
        "id": "noDMoa7AIpF2",
        "outputId": "aeff8af1-35bc-46e1-bd24-f9705916ea57"
      },
      "execution_count": null,
      "outputs": [
        {
          "output_type": "execute_result",
          "data": {
            "text/plain": [
              "                                          name item_condition_id  \\\n",
              "0          MLB Cincinnati Reds T Shirt Size XL                 3   \n",
              "1             Razer BlackWidow Chroma Keyboard                 3   \n",
              "2                               AVA-VIV Blouse                 1   \n",
              "3                        Leather Horse Statues                 1   \n",
              "4                         24K GOLD plated rose                 1   \n",
              "...                                        ...               ...   \n",
              "1482530             Free People Inspired Dress                 2   \n",
              "1482531          Little mermaid handmade dress                 2   \n",
              "1482532  21 day fix containers and eating plan                 2   \n",
              "1482533                 World markets lanterns                 3   \n",
              "1482534          Brand new lux de ville wallet                 1   \n",
              "\n",
              "                                             category_name   brand_name  \\\n",
              "0                                        Men/Tops/T-shirts          NaN   \n",
              "1        Electronics/Computers & Tablets/Components & P...        Razer   \n",
              "2                              Women/Tops & Blouses/Blouse       Target   \n",
              "3                       Home/Home Décor/Home Décor Accents          NaN   \n",
              "4                                  Women/Jewelry/Necklaces          NaN   \n",
              "...                                                    ...          ...   \n",
              "1482530                             Women/Dresses/Mid-Calf  Free People   \n",
              "1482531                           Kids/Girls 2T-5T/Dresses       Disney   \n",
              "1482532     Sports & Outdoors/Exercise/Fitness accessories          NaN   \n",
              "1482533                 Home/Home Décor/Home Décor Accents          NaN   \n",
              "1482534                  Women/Women's Accessories/Wallets          NaN   \n",
              "\n",
              "         price  shipping                                   item_description  \\\n",
              "0         10.0         1                                 No description yet   \n",
              "1         52.0         0  This keyboard is in great condition and works ...   \n",
              "2         10.0         1  Adorable top with a hint of lace and a key hol...   \n",
              "3         35.0         1  New with tags. Leather horses. Retail for [rm]...   \n",
              "4         44.0         0          Complete with certificate of authenticity   \n",
              "...        ...       ...                                                ...   \n",
              "1482530   20.0         1  Lace, says size small but fits medium perfectl...   \n",
              "1482531   14.0         0   Little mermaid handmade dress never worn size 2t   \n",
              "1482532   12.0         0          Used once or twice, still in great shape.   \n",
              "1482533   45.0         1  There is 2 of each one that you see! So 2 red ...   \n",
              "1482534   22.0         0  New with tag, red with sparkle. Firm price, no...   \n",
              "\n",
              "         stock            gen_cat             sub1_cat             sub2_cat  \\\n",
              "0           27                Men                 Tops             T-shirts   \n",
              "1           15        Electronics  Computers & Tablets   Components & Parts   \n",
              "2           14              Women       Tops & Blouses               Blouse   \n",
              "3            1               Home           Home Décor   Home Décor Accents   \n",
              "4           13              Women              Jewelry            Necklaces   \n",
              "...        ...                ...                  ...                  ...   \n",
              "1482530      2              Women              Dresses             Mid-Calf   \n",
              "1482531     10               Kids          Girls 2T-5T              Dresses   \n",
              "1482532     15  Sports & Outdoors             Exercise  Fitness accessories   \n",
              "1482533     20               Home           Home Décor   Home Décor Accents   \n",
              "1482534      9              Women  Women's Accessories              Wallets   \n",
              "\n",
              "        datetime_date  datetime_month  \n",
              "0          2018-06-18             6.0  \n",
              "1          2018-03-18             3.0  \n",
              "2          2018-10-25            10.0  \n",
              "3          2018-03-20             3.0  \n",
              "4          2018-05-16             5.0  \n",
              "...               ...             ...  \n",
              "1482530    2018-10-13            10.0  \n",
              "1482531    2018-10-06            10.0  \n",
              "1482532    2018-08-06             8.0  \n",
              "1482533    2018-02-13             2.0  \n",
              "1482534    2018-10-28            10.0  \n",
              "\n",
              "[1482535 rows x 13 columns]"
            ],
            "text/html": [
              "\n",
              "  <div id=\"df-3226fbb0-cf6e-4ddb-9c45-d0ec98d7ca5c\">\n",
              "    <div class=\"colab-df-container\">\n",
              "      <div>\n",
              "<style scoped>\n",
              "    .dataframe tbody tr th:only-of-type {\n",
              "        vertical-align: middle;\n",
              "    }\n",
              "\n",
              "    .dataframe tbody tr th {\n",
              "        vertical-align: top;\n",
              "    }\n",
              "\n",
              "    .dataframe thead th {\n",
              "        text-align: right;\n",
              "    }\n",
              "</style>\n",
              "<table border=\"1\" class=\"dataframe\">\n",
              "  <thead>\n",
              "    <tr style=\"text-align: right;\">\n",
              "      <th></th>\n",
              "      <th>name</th>\n",
              "      <th>item_condition_id</th>\n",
              "      <th>category_name</th>\n",
              "      <th>brand_name</th>\n",
              "      <th>price</th>\n",
              "      <th>shipping</th>\n",
              "      <th>item_description</th>\n",
              "      <th>stock</th>\n",
              "      <th>gen_cat</th>\n",
              "      <th>sub1_cat</th>\n",
              "      <th>sub2_cat</th>\n",
              "      <th>datetime_date</th>\n",
              "      <th>datetime_month</th>\n",
              "    </tr>\n",
              "  </thead>\n",
              "  <tbody>\n",
              "    <tr>\n",
              "      <th>0</th>\n",
              "      <td>MLB Cincinnati Reds T Shirt Size XL</td>\n",
              "      <td>3</td>\n",
              "      <td>Men/Tops/T-shirts</td>\n",
              "      <td>NaN</td>\n",
              "      <td>10.0</td>\n",
              "      <td>1</td>\n",
              "      <td>No description yet</td>\n",
              "      <td>27</td>\n",
              "      <td>Men</td>\n",
              "      <td>Tops</td>\n",
              "      <td>T-shirts</td>\n",
              "      <td>2018-06-18</td>\n",
              "      <td>6.0</td>\n",
              "    </tr>\n",
              "    <tr>\n",
              "      <th>1</th>\n",
              "      <td>Razer BlackWidow Chroma Keyboard</td>\n",
              "      <td>3</td>\n",
              "      <td>Electronics/Computers &amp; Tablets/Components &amp; P...</td>\n",
              "      <td>Razer</td>\n",
              "      <td>52.0</td>\n",
              "      <td>0</td>\n",
              "      <td>This keyboard is in great condition and works ...</td>\n",
              "      <td>15</td>\n",
              "      <td>Electronics</td>\n",
              "      <td>Computers &amp; Tablets</td>\n",
              "      <td>Components &amp; Parts</td>\n",
              "      <td>2018-03-18</td>\n",
              "      <td>3.0</td>\n",
              "    </tr>\n",
              "    <tr>\n",
              "      <th>2</th>\n",
              "      <td>AVA-VIV Blouse</td>\n",
              "      <td>1</td>\n",
              "      <td>Women/Tops &amp; Blouses/Blouse</td>\n",
              "      <td>Target</td>\n",
              "      <td>10.0</td>\n",
              "      <td>1</td>\n",
              "      <td>Adorable top with a hint of lace and a key hol...</td>\n",
              "      <td>14</td>\n",
              "      <td>Women</td>\n",
              "      <td>Tops &amp; Blouses</td>\n",
              "      <td>Blouse</td>\n",
              "      <td>2018-10-25</td>\n",
              "      <td>10.0</td>\n",
              "    </tr>\n",
              "    <tr>\n",
              "      <th>3</th>\n",
              "      <td>Leather Horse Statues</td>\n",
              "      <td>1</td>\n",
              "      <td>Home/Home Décor/Home Décor Accents</td>\n",
              "      <td>NaN</td>\n",
              "      <td>35.0</td>\n",
              "      <td>1</td>\n",
              "      <td>New with tags. Leather horses. Retail for [rm]...</td>\n",
              "      <td>1</td>\n",
              "      <td>Home</td>\n",
              "      <td>Home Décor</td>\n",
              "      <td>Home Décor Accents</td>\n",
              "      <td>2018-03-20</td>\n",
              "      <td>3.0</td>\n",
              "    </tr>\n",
              "    <tr>\n",
              "      <th>4</th>\n",
              "      <td>24K GOLD plated rose</td>\n",
              "      <td>1</td>\n",
              "      <td>Women/Jewelry/Necklaces</td>\n",
              "      <td>NaN</td>\n",
              "      <td>44.0</td>\n",
              "      <td>0</td>\n",
              "      <td>Complete with certificate of authenticity</td>\n",
              "      <td>13</td>\n",
              "      <td>Women</td>\n",
              "      <td>Jewelry</td>\n",
              "      <td>Necklaces</td>\n",
              "      <td>2018-05-16</td>\n",
              "      <td>5.0</td>\n",
              "    </tr>\n",
              "    <tr>\n",
              "      <th>...</th>\n",
              "      <td>...</td>\n",
              "      <td>...</td>\n",
              "      <td>...</td>\n",
              "      <td>...</td>\n",
              "      <td>...</td>\n",
              "      <td>...</td>\n",
              "      <td>...</td>\n",
              "      <td>...</td>\n",
              "      <td>...</td>\n",
              "      <td>...</td>\n",
              "      <td>...</td>\n",
              "      <td>...</td>\n",
              "      <td>...</td>\n",
              "    </tr>\n",
              "    <tr>\n",
              "      <th>1482530</th>\n",
              "      <td>Free People Inspired Dress</td>\n",
              "      <td>2</td>\n",
              "      <td>Women/Dresses/Mid-Calf</td>\n",
              "      <td>Free People</td>\n",
              "      <td>20.0</td>\n",
              "      <td>1</td>\n",
              "      <td>Lace, says size small but fits medium perfectl...</td>\n",
              "      <td>2</td>\n",
              "      <td>Women</td>\n",
              "      <td>Dresses</td>\n",
              "      <td>Mid-Calf</td>\n",
              "      <td>2018-10-13</td>\n",
              "      <td>10.0</td>\n",
              "    </tr>\n",
              "    <tr>\n",
              "      <th>1482531</th>\n",
              "      <td>Little mermaid handmade dress</td>\n",
              "      <td>2</td>\n",
              "      <td>Kids/Girls 2T-5T/Dresses</td>\n",
              "      <td>Disney</td>\n",
              "      <td>14.0</td>\n",
              "      <td>0</td>\n",
              "      <td>Little mermaid handmade dress never worn size 2t</td>\n",
              "      <td>10</td>\n",
              "      <td>Kids</td>\n",
              "      <td>Girls 2T-5T</td>\n",
              "      <td>Dresses</td>\n",
              "      <td>2018-10-06</td>\n",
              "      <td>10.0</td>\n",
              "    </tr>\n",
              "    <tr>\n",
              "      <th>1482532</th>\n",
              "      <td>21 day fix containers and eating plan</td>\n",
              "      <td>2</td>\n",
              "      <td>Sports &amp; Outdoors/Exercise/Fitness accessories</td>\n",
              "      <td>NaN</td>\n",
              "      <td>12.0</td>\n",
              "      <td>0</td>\n",
              "      <td>Used once or twice, still in great shape.</td>\n",
              "      <td>15</td>\n",
              "      <td>Sports &amp; Outdoors</td>\n",
              "      <td>Exercise</td>\n",
              "      <td>Fitness accessories</td>\n",
              "      <td>2018-08-06</td>\n",
              "      <td>8.0</td>\n",
              "    </tr>\n",
              "    <tr>\n",
              "      <th>1482533</th>\n",
              "      <td>World markets lanterns</td>\n",
              "      <td>3</td>\n",
              "      <td>Home/Home Décor/Home Décor Accents</td>\n",
              "      <td>NaN</td>\n",
              "      <td>45.0</td>\n",
              "      <td>1</td>\n",
              "      <td>There is 2 of each one that you see! So 2 red ...</td>\n",
              "      <td>20</td>\n",
              "      <td>Home</td>\n",
              "      <td>Home Décor</td>\n",
              "      <td>Home Décor Accents</td>\n",
              "      <td>2018-02-13</td>\n",
              "      <td>2.0</td>\n",
              "    </tr>\n",
              "    <tr>\n",
              "      <th>1482534</th>\n",
              "      <td>Brand new lux de ville wallet</td>\n",
              "      <td>1</td>\n",
              "      <td>Women/Women's Accessories/Wallets</td>\n",
              "      <td>NaN</td>\n",
              "      <td>22.0</td>\n",
              "      <td>0</td>\n",
              "      <td>New with tag, red with sparkle. Firm price, no...</td>\n",
              "      <td>9</td>\n",
              "      <td>Women</td>\n",
              "      <td>Women's Accessories</td>\n",
              "      <td>Wallets</td>\n",
              "      <td>2018-10-28</td>\n",
              "      <td>10.0</td>\n",
              "    </tr>\n",
              "  </tbody>\n",
              "</table>\n",
              "<p>1482535 rows × 13 columns</p>\n",
              "</div>\n",
              "      <button class=\"colab-df-convert\" onclick=\"convertToInteractive('df-3226fbb0-cf6e-4ddb-9c45-d0ec98d7ca5c')\"\n",
              "              title=\"Convert this dataframe to an interactive table.\"\n",
              "              style=\"display:none;\">\n",
              "        \n",
              "  <svg xmlns=\"http://www.w3.org/2000/svg\" height=\"24px\"viewBox=\"0 0 24 24\"\n",
              "       width=\"24px\">\n",
              "    <path d=\"M0 0h24v24H0V0z\" fill=\"none\"/>\n",
              "    <path d=\"M18.56 5.44l.94 2.06.94-2.06 2.06-.94-2.06-.94-.94-2.06-.94 2.06-2.06.94zm-11 1L8.5 8.5l.94-2.06 2.06-.94-2.06-.94L8.5 2.5l-.94 2.06-2.06.94zm10 10l.94 2.06.94-2.06 2.06-.94-2.06-.94-.94-2.06-.94 2.06-2.06.94z\"/><path d=\"M17.41 7.96l-1.37-1.37c-.4-.4-.92-.59-1.43-.59-.52 0-1.04.2-1.43.59L10.3 9.45l-7.72 7.72c-.78.78-.78 2.05 0 2.83L4 21.41c.39.39.9.59 1.41.59.51 0 1.02-.2 1.41-.59l7.78-7.78 2.81-2.81c.8-.78.8-2.07 0-2.86zM5.41 20L4 18.59l7.72-7.72 1.47 1.35L5.41 20z\"/>\n",
              "  </svg>\n",
              "      </button>\n",
              "      \n",
              "  <style>\n",
              "    .colab-df-container {\n",
              "      display:flex;\n",
              "      flex-wrap:wrap;\n",
              "      gap: 12px;\n",
              "    }\n",
              "\n",
              "    .colab-df-convert {\n",
              "      background-color: #E8F0FE;\n",
              "      border: none;\n",
              "      border-radius: 50%;\n",
              "      cursor: pointer;\n",
              "      display: none;\n",
              "      fill: #1967D2;\n",
              "      height: 32px;\n",
              "      padding: 0 0 0 0;\n",
              "      width: 32px;\n",
              "    }\n",
              "\n",
              "    .colab-df-convert:hover {\n",
              "      background-color: #E2EBFA;\n",
              "      box-shadow: 0px 1px 2px rgba(60, 64, 67, 0.3), 0px 1px 3px 1px rgba(60, 64, 67, 0.15);\n",
              "      fill: #174EA6;\n",
              "    }\n",
              "\n",
              "    [theme=dark] .colab-df-convert {\n",
              "      background-color: #3B4455;\n",
              "      fill: #D2E3FC;\n",
              "    }\n",
              "\n",
              "    [theme=dark] .colab-df-convert:hover {\n",
              "      background-color: #434B5C;\n",
              "      box-shadow: 0px 1px 3px 1px rgba(0, 0, 0, 0.15);\n",
              "      filter: drop-shadow(0px 1px 2px rgba(0, 0, 0, 0.3));\n",
              "      fill: #FFFFFF;\n",
              "    }\n",
              "  </style>\n",
              "\n",
              "      <script>\n",
              "        const buttonEl =\n",
              "          document.querySelector('#df-3226fbb0-cf6e-4ddb-9c45-d0ec98d7ca5c button.colab-df-convert');\n",
              "        buttonEl.style.display =\n",
              "          google.colab.kernel.accessAllowed ? 'block' : 'none';\n",
              "\n",
              "        async function convertToInteractive(key) {\n",
              "          const element = document.querySelector('#df-3226fbb0-cf6e-4ddb-9c45-d0ec98d7ca5c');\n",
              "          const dataTable =\n",
              "            await google.colab.kernel.invokeFunction('convertToInteractive',\n",
              "                                                     [key], {});\n",
              "          if (!dataTable) return;\n",
              "\n",
              "          const docLinkHtml = 'Like what you see? Visit the ' +\n",
              "            '<a target=\"_blank\" href=https://colab.research.google.com/notebooks/data_table.ipynb>data table notebook</a>'\n",
              "            + ' to learn more about interactive tables.';\n",
              "          element.innerHTML = '';\n",
              "          dataTable['output_type'] = 'display_data';\n",
              "          await google.colab.output.renderOutput(dataTable, element);\n",
              "          const docLink = document.createElement('div');\n",
              "          docLink.innerHTML = docLinkHtml;\n",
              "          element.appendChild(docLink);\n",
              "        }\n",
              "      </script>\n",
              "    </div>\n",
              "  </div>\n",
              "  "
            ]
          },
          "metadata": {},
          "execution_count": 18
        }
      ]
    },
    {
      "cell_type": "markdown",
      "source": [
        "Verificando a qualidade da maior parte dos produtos oferecidos pelo mercari."
      ],
      "metadata": {
        "id": "lFeqnU-K6wMb"
      }
    },
    {
      "cell_type": "code",
      "source": [
        "train['item_condition_id'].value_counts()"
      ],
      "metadata": {
        "colab": {
          "base_uri": "https://localhost:8080/"
        },
        "id": "yQeg64g-32-P",
        "outputId": "7f8343a8-c184-4f7e-91a5-bc965093edb6"
      },
      "execution_count": null,
      "outputs": [
        {
          "output_type": "execute_result",
          "data": {
            "text/plain": [
              "1    640549\n",
              "3    432161\n",
              "2    375479\n",
              "4     31962\n",
              "5      2384\n",
              "Name: item_condition_id, dtype: int64"
            ]
          },
          "metadata": {},
          "execution_count": 19
        }
      ]
    },
    {
      "cell_type": "markdown",
      "source": [
        "Quais features tem correlação com o preço."
      ],
      "metadata": {
        "id": "ZY6gaQId63xR"
      }
    },
    {
      "cell_type": "code",
      "source": [
        "train.corr()[\"price\"].sort_values(ascending=False)"
      ],
      "metadata": {
        "colab": {
          "base_uri": "https://localhost:8080/"
        },
        "id": "pDfJxGxN4LeX",
        "outputId": "fc58e493-08a7-4e54-fdf8-646d024cc839"
      },
      "execution_count": null,
      "outputs": [
        {
          "output_type": "execute_result",
          "data": {
            "text/plain": [
              "price             1.000000\n",
              "stock             0.001404\n",
              "datetime_month   -0.000223\n",
              "shipping         -0.097211\n",
              "Name: price, dtype: float64"
            ]
          },
          "metadata": {},
          "execution_count": 20
        }
      ]
    },
    {
      "cell_type": "code",
      "source": [
        "sns.heatmap(train.corr(), annot=True)"
      ],
      "metadata": {
        "id": "s39--jQMeiol",
        "outputId": "ac1af713-49c3-463c-e1de-e847d5ad8f2a",
        "colab": {
          "base_uri": "https://localhost:8080/",
          "height": 288
        }
      },
      "execution_count": null,
      "outputs": [
        {
          "output_type": "execute_result",
          "data": {
            "text/plain": [
              "<matplotlib.axes._subplots.AxesSubplot at 0x7fbb637d4f50>"
            ]
          },
          "metadata": {},
          "execution_count": 50
        },
        {
          "output_type": "display_data",
          "data": {
            "text/plain": [
              "<Figure size 432x288 with 2 Axes>"
            ],
            "image/png": "[encoded data removed]"
          },
          "metadata": {
            "needs_background": "light"
          }
        }
      ]
    },
    {
      "cell_type": "markdown",
      "source": [
        "A partir das correlações acima, observa-se que o frete é inversamente proporcionais ao preço."
      ],
      "metadata": {
        "id": "A0rGWw2ngr6J"
      }
    },
    {
      "cell_type": "markdown",
      "source": [
        "Copiando o dataset para verificar os valores nulos."
      ],
      "metadata": {
        "id": "WH1jNVjb7A2T"
      }
    },
    {
      "cell_type": "code",
      "source": [
        "# Faça uma cópia de trabalho dos dados \n",
        "df = train.copy() \n",
        "df.isna().sum().loc[df.isna().sum()>0].sort_values()"
      ],
      "metadata": {
        "colab": {
          "base_uri": "https://localhost:8080/"
        },
        "id": "9HEt1w7b4Ter",
        "outputId": "03d77f1b-dda8-4158-aec6-6f9b10472029"
      },
      "execution_count": null,
      "outputs": [
        {
          "output_type": "execute_result",
          "data": {
            "text/plain": [
              "item_description         4\n",
              "category_name         6327\n",
              "datetime_date         6897\n",
              "datetime_month        6897\n",
              "brand_name          632682\n",
              "dtype: int64"
            ]
          },
          "metadata": {},
          "execution_count": 21
        }
      ]
    },
    {
      "cell_type": "code",
      "source": [
        "train.shape"
      ],
      "metadata": {
        "id": "zWarVkqdX5E-",
        "outputId": "5b6ac76c-0fd8-43c4-f201-1417d86bbf4c",
        "colab": {
          "base_uri": "https://localhost:8080/"
        }
      },
      "execution_count": null,
      "outputs": [
        {
          "output_type": "execute_result",
          "data": {
            "text/plain": [
              "(1482535, 13)"
            ]
          },
          "metadata": {},
          "execution_count": 35
        }
      ]
    },
    {
      "cell_type": "markdown",
      "source": [
        "* 43% dos registros não tem nomes de marca\n",
        "* 0,4% dos registros não tem categorias\n",
        "* 0,0003% não possuí descrição do item"
      ],
      "metadata": {
        "id": "2RTCjWHNXrL2"
      }
    },
    {
      "cell_type": "markdown",
      "source": [
        "Será excluído os valores nulos, pois as linhas nulas, são insignificantes a quantidade de linhas existentes."
      ],
      "metadata": {
        "id": "d0ZqkHcp7FlH"
      }
    },
    {
      "cell_type": "markdown",
      "source": [
        "Deixamos as marcas, pois acreditamos que os valores nulos, são importantes para a precificação. Provavelmente usaremos em dummies no modelo, entre com e sem marca e não por marca individualmente."
      ],
      "metadata": {
        "id": "nMazrSHB7Ssh"
      }
    },
    {
      "cell_type": "markdown",
      "source": [
        "Filtrando uma marca ‘Apple’ e avaliando os produtos apresentados, entre aparelhos celulares, capinhas, tablets."
      ],
      "metadata": {
        "id": "iXG9ttn2dzJt"
      }
    },
    {
      "cell_type": "code",
      "source": [
        "apple = train[train['brand_name'] == 'Apple']\n"
      ],
      "metadata": {
        "id": "K1QpN7BqSGix"
      },
      "execution_count": null,
      "outputs": []
    },
    {
      "cell_type": "code",
      "source": [
        "apple"
      ],
      "metadata": {
        "id": "mpxTvGAZcIjb",
        "outputId": "ad6041c7-41d2-43d8-b052-635ee2bfa171",
        "colab": {
          "base_uri": "https://localhost:8080/",
          "height": 849
        }
      },
      "execution_count": null,
      "outputs": [
        {
          "output_type": "execute_result",
          "data": {
            "text/plain": [
              "                                            name item_condition_id  \\\n",
              "26       Otterbox Defender iPhone 6 Plus/6s Plus                 1   \n",
              "149                           LIKE NEW IPHONE 5C                 2   \n",
              "300             Jordan iPhone case only for plus                 1   \n",
              "582                       iPhone 6/6s plus cases                 3   \n",
              "757                     iPod nano 7th generation                 3   \n",
              "...                                          ...               ...   \n",
              "1482223   LuMee Duo iPhone 6 Plus 6s Plus 7 Plus                 1   \n",
              "1482230                            iPhone 7 case                 1   \n",
              "1482291                       iPhone 7 Plus Case                 1   \n",
              "1482387                   IPAD PRO 8.7 INCH 32GB                 1   \n",
              "1482499                                iPhone 7+                 2   \n",
              "\n",
              "                                             category_name brand_name  price  \\\n",
              "26       Electronics/Cell Phones & Accessories/Cases, C...      Apple   13.0   \n",
              "149      Electronics/Cell Phones & Accessories/Cell Pho...      Apple  104.0   \n",
              "300      Electronics/Cell Phones & Accessories/Cases, C...      Apple    5.0   \n",
              "582      Electronics/Cell Phones & Accessories/Cases, C...      Apple   20.0   \n",
              "757      Electronics/TV, Audio & Surveillance/Portable ...      Apple   62.0   \n",
              "...                                                    ...        ...    ...   \n",
              "1482223  Electronics/Cell Phones & Accessories/Cases, C...      Apple   24.0   \n",
              "1482230  Electronics/Cell Phones & Accessories/Cases, C...      Apple   10.0   \n",
              "1482291  Electronics/Cell Phones & Accessories/Cases, C...      Apple    7.0   \n",
              "1482387  Electronics/Computers & Tablets/iPad/Tablet/eB...      Apple  509.0   \n",
              "1482499  Electronics/Cell Phones & Accessories/Cell Pho...      Apple  400.0   \n",
              "\n",
              "         shipping                                   item_description  stock  \\\n",
              "26              1  Brand new Otterbox Defender iPhone 6 Plus/6s Plus      2   \n",
              "149             0  Just Upgraded So Now Finally Getting Rid Of My...     23   \n",
              "300             1  JORDAN IPHONE CASE ONLY FOR IPHONE 6 plus iPho...     16   \n",
              "582             1                          4 iPhone 6/6s plus cases.      7   \n",
              "757             1  In perfect working condition. One light scratc...      3   \n",
              "...           ...                                                ...    ...   \n",
              "1482223         1                         Black Marble Free Shipping     18   \n",
              "1482230         1  Brand new iPhone 7 glitter case. Protects phon...      5   \n",
              "1482291         1               Flexible slim glitter bling case new     25   \n",
              "1482387         0  BRAND NEW IN BOX NEVER OPEN ,IPAD PRO 32GB,8.9...      1   \n",
              "1482499         1                                         For Serena      6   \n",
              "\n",
              "             gen_cat                   sub1_cat                      sub2_cat  \\\n",
              "26       Electronics  Cell Phones & Accessories         Cases, Covers & Skins   \n",
              "149      Electronics  Cell Phones & Accessories     Cell Phones & Smartphones   \n",
              "300      Electronics  Cell Phones & Accessories         Cases, Covers & Skins   \n",
              "582      Electronics  Cell Phones & Accessories         Cases, Covers & Skins   \n",
              "757      Electronics   TV, Audio & Surveillance  Portable Audio & Accessories   \n",
              "...              ...                        ...                           ...   \n",
              "1482223  Electronics  Cell Phones & Accessories         Cases, Covers & Skins   \n",
              "1482230  Electronics  Cell Phones & Accessories         Cases, Covers & Skins   \n",
              "1482291  Electronics  Cell Phones & Accessories         Cases, Covers & Skins   \n",
              "1482387  Electronics        Computers & Tablets                          iPad   \n",
              "1482499  Electronics  Cell Phones & Accessories     Cell Phones & Smartphones   \n",
              "\n",
              "        datetime_date  datetime_month  \n",
              "26         2018-02-18             2.0  \n",
              "149               NaT             NaN  \n",
              "300        2018-12-15            12.0  \n",
              "582        2018-06-26             6.0  \n",
              "757        2018-04-15             4.0  \n",
              "...               ...             ...  \n",
              "1482223    2018-02-09             2.0  \n",
              "1482230    2018-09-14             9.0  \n",
              "1482291    2018-07-13             7.0  \n",
              "1482387    2018-11-15            11.0  \n",
              "1482499    2018-02-02             2.0  \n",
              "\n",
              "[17322 rows x 13 columns]"
            ],
            "text/html": [
              "\n",
              "  <div id=\"df-66deaf1a-ca05-4947-87b2-726dece5593c\">\n",
              "    <div class=\"colab-df-container\">\n",
              "      <div>\n",
              "<style scoped>\n",
              "    .dataframe tbody tr th:only-of-type {\n",
              "        vertical-align: middle;\n",
              "    }\n",
              "\n",
              "    .dataframe tbody tr th {\n",
              "        vertical-align: top;\n",
              "    }\n",
              "\n",
              "    .dataframe thead th {\n",
              "        text-align: right;\n",
              "    }\n",
              "</style>\n",
              "<table border=\"1\" class=\"dataframe\">\n",
              "  <thead>\n",
              "    <tr style=\"text-align: right;\">\n",
              "      <th></th>\n",
              "      <th>name</th>\n",
              "      <th>item_condition_id</th>\n",
              "      <th>category_name</th>\n",
              "      <th>brand_name</th>\n",
              "      <th>price</th>\n",
              "      <th>shipping</th>\n",
              "      <th>item_description</th>\n",
              "      <th>stock</th>\n",
              "      <th>gen_cat</th>\n",
              "      <th>sub1_cat</th>\n",
              "      <th>sub2_cat</th>\n",
              "      <th>datetime_date</th>\n",
              "      <th>datetime_month</th>\n",
              "    </tr>\n",
              "  </thead>\n",
              "  <tbody>\n",
              "    <tr>\n",
              "      <th>26</th>\n",
              "      <td>Otterbox Defender iPhone 6 Plus/6s Plus</td>\n",
              "      <td>1</td>\n",
              "      <td>Electronics/Cell Phones &amp; Accessories/Cases, C...</td>\n",
              "      <td>Apple</td>\n",
              "      <td>13.0</td>\n",
              "      <td>1</td>\n",
              "      <td>Brand new Otterbox Defender iPhone 6 Plus/6s Plus</td>\n",
              "      <td>2</td>\n",
              "      <td>Electronics</td>\n",
              "      <td>Cell Phones &amp; Accessories</td>\n",
              "      <td>Cases, Covers &amp; Skins</td>\n",
              "      <td>2018-02-18</td>\n",
              "      <td>2.0</td>\n",
              "    </tr>\n",
              "    <tr>\n",
              "      <th>149</th>\n",
              "      <td>LIKE NEW IPHONE 5C</td>\n",
              "      <td>2</td>\n",
              "      <td>Electronics/Cell Phones &amp; Accessories/Cell Pho...</td>\n",
              "      <td>Apple</td>\n",
              "      <td>104.0</td>\n",
              "      <td>0</td>\n",
              "      <td>Just Upgraded So Now Finally Getting Rid Of My...</td>\n",
              "      <td>23</td>\n",
              "      <td>Electronics</td>\n",
              "      <td>Cell Phones &amp; Accessories</td>\n",
              "      <td>Cell Phones &amp; Smartphones</td>\n",
              "      <td>NaT</td>\n",
              "      <td>NaN</td>\n",
              "    </tr>\n",
              "    <tr>\n",
              "      <th>300</th>\n",
              "      <td>Jordan iPhone case only for plus</td>\n",
              "      <td>1</td>\n",
              "      <td>Electronics/Cell Phones &amp; Accessories/Cases, C...</td>\n",
              "      <td>Apple</td>\n",
              "      <td>5.0</td>\n",
              "      <td>1</td>\n",
              "      <td>JORDAN IPHONE CASE ONLY FOR IPHONE 6 plus iPho...</td>\n",
              "      <td>16</td>\n",
              "      <td>Electronics</td>\n",
              "      <td>Cell Phones &amp; Accessories</td>\n",
              "      <td>Cases, Covers &amp; Skins</td>\n",
              "      <td>2018-12-15</td>\n",
              "      <td>12.0</td>\n",
              "    </tr>\n",
              "    <tr>\n",
              "      <th>582</th>\n",
              "      <td>iPhone 6/6s plus cases</td>\n",
              "      <td>3</td>\n",
              "      <td>Electronics/Cell Phones &amp; Accessories/Cases, C...</td>\n",
              "      <td>Apple</td>\n",
              "      <td>20.0</td>\n",
              "      <td>1</td>\n",
              "      <td>4 iPhone 6/6s plus cases.</td>\n",
              "      <td>7</td>\n",
              "      <td>Electronics</td>\n",
              "      <td>Cell Phones &amp; Accessories</td>\n",
              "      <td>Cases, Covers &amp; Skins</td>\n",
              "      <td>2018-06-26</td>\n",
              "      <td>6.0</td>\n",
              "    </tr>\n",
              "    <tr>\n",
              "      <th>757</th>\n",
              "      <td>iPod nano 7th generation</td>\n",
              "      <td>3</td>\n",
              "      <td>Electronics/TV, Audio &amp; Surveillance/Portable ...</td>\n",
              "      <td>Apple</td>\n",
              "      <td>62.0</td>\n",
              "      <td>1</td>\n",
              "      <td>In perfect working condition. One light scratc...</td>\n",
              "      <td>3</td>\n",
              "      <td>Electronics</td>\n",
              "      <td>TV, Audio &amp; Surveillance</td>\n",
              "      <td>Portable Audio &amp; Accessories</td>\n",
              "      <td>2018-04-15</td>\n",
              "      <td>4.0</td>\n",
              "    </tr>\n",
              "    <tr>\n",
              "      <th>...</th>\n",
              "      <td>...</td>\n",
              "      <td>...</td>\n",
              "      <td>...</td>\n",
              "      <td>...</td>\n",
              "      <td>...</td>\n",
              "      <td>...</td>\n",
              "      <td>...</td>\n",
              "      <td>...</td>\n",
              "      <td>...</td>\n",
              "      <td>...</td>\n",
              "      <td>...</td>\n",
              "      <td>...</td>\n",
              "      <td>...</td>\n",
              "    </tr>\n",
              "    <tr>\n",
              "      <th>1482223</th>\n",
              "      <td>LuMee Duo iPhone 6 Plus 6s Plus 7 Plus</td>\n",
              "      <td>1</td>\n",
              "      <td>Electronics/Cell Phones &amp; Accessories/Cases, C...</td>\n",
              "      <td>Apple</td>\n",
              "      <td>24.0</td>\n",
              "      <td>1</td>\n",
              "      <td>Black Marble Free Shipping</td>\n",
              "      <td>18</td>\n",
              "      <td>Electronics</td>\n",
              "      <td>Cell Phones &amp; Accessories</td>\n",
              "      <td>Cases, Covers &amp; Skins</td>\n",
              "      <td>2018-02-09</td>\n",
              "      <td>2.0</td>\n",
              "    </tr>\n",
              "    <tr>\n",
              "      <th>1482230</th>\n",
              "      <td>iPhone 7 case</td>\n",
              "      <td>1</td>\n",
              "      <td>Electronics/Cell Phones &amp; Accessories/Cases, C...</td>\n",
              "      <td>Apple</td>\n",
              "      <td>10.0</td>\n",
              "      <td>1</td>\n",
              "      <td>Brand new iPhone 7 glitter case. Protects phon...</td>\n",
              "      <td>5</td>\n",
              "      <td>Electronics</td>\n",
              "      <td>Cell Phones &amp; Accessories</td>\n",
              "      <td>Cases, Covers &amp; Skins</td>\n",
              "      <td>2018-09-14</td>\n",
              "      <td>9.0</td>\n",
              "    </tr>\n",
              "    <tr>\n",
              "      <th>1482291</th>\n",
              "      <td>iPhone 7 Plus Case</td>\n",
              "      <td>1</td>\n",
              "      <td>Electronics/Cell Phones &amp; Accessories/Cases, C...</td>\n",
              "      <td>Apple</td>\n",
              "      <td>7.0</td>\n",
              "      <td>1</td>\n",
              "      <td>Flexible slim glitter bling case new</td>\n",
              "      <td>25</td>\n",
              "      <td>Electronics</td>\n",
              "      <td>Cell Phones &amp; Accessories</td>\n",
              "      <td>Cases, Covers &amp; Skins</td>\n",
              "      <td>2018-07-13</td>\n",
              "      <td>7.0</td>\n",
              "    </tr>\n",
              "    <tr>\n",
              "      <th>1482387</th>\n",
              "      <td>IPAD PRO 8.7 INCH 32GB</td>\n",
              "      <td>1</td>\n",
              "      <td>Electronics/Computers &amp; Tablets/iPad/Tablet/eB...</td>\n",
              "      <td>Apple</td>\n",
              "      <td>509.0</td>\n",
              "      <td>0</td>\n",
              "      <td>BRAND NEW IN BOX NEVER OPEN ,IPAD PRO 32GB,8.9...</td>\n",
              "      <td>1</td>\n",
              "      <td>Electronics</td>\n",
              "      <td>Computers &amp; Tablets</td>\n",
              "      <td>iPad</td>\n",
              "      <td>2018-11-15</td>\n",
              "      <td>11.0</td>\n",
              "    </tr>\n",
              "    <tr>\n",
              "      <th>1482499</th>\n",
              "      <td>iPhone 7+</td>\n",
              "      <td>2</td>\n",
              "      <td>Electronics/Cell Phones &amp; Accessories/Cell Pho...</td>\n",
              "      <td>Apple</td>\n",
              "      <td>400.0</td>\n",
              "      <td>1</td>\n",
              "      <td>For Serena</td>\n",
              "      <td>6</td>\n",
              "      <td>Electronics</td>\n",
              "      <td>Cell Phones &amp; Accessories</td>\n",
              "      <td>Cell Phones &amp; Smartphones</td>\n",
              "      <td>2018-02-02</td>\n",
              "      <td>2.0</td>\n",
              "    </tr>\n",
              "  </tbody>\n",
              "</table>\n",
              "<p>17322 rows × 13 columns</p>\n",
              "</div>\n",
              "      <button class=\"colab-df-convert\" onclick=\"convertToInteractive('df-66deaf1a-ca05-4947-87b2-726dece5593c')\"\n",
              "              title=\"Convert this dataframe to an interactive table.\"\n",
              "              style=\"display:none;\">\n",
              "        \n",
              "  <svg xmlns=\"http://www.w3.org/2000/svg\" height=\"24px\"viewBox=\"0 0 24 24\"\n",
              "       width=\"24px\">\n",
              "    <path d=\"M0 0h24v24H0V0z\" fill=\"none\"/>\n",
              "    <path d=\"M18.56 5.44l.94 2.06.94-2.06 2.06-.94-2.06-.94-.94-2.06-.94 2.06-2.06.94zm-11 1L8.5 8.5l.94-2.06 2.06-.94-2.06-.94L8.5 2.5l-.94 2.06-2.06.94zm10 10l.94 2.06.94-2.06 2.06-.94-2.06-.94-.94-2.06-.94 2.06-2.06.94z\"/><path d=\"M17.41 7.96l-1.37-1.37c-.4-.4-.92-.59-1.43-.59-.52 0-1.04.2-1.43.59L10.3 9.45l-7.72 7.72c-.78.78-.78 2.05 0 2.83L4 21.41c.39.39.9.59 1.41.59.51 0 1.02-.2 1.41-.59l7.78-7.78 2.81-2.81c.8-.78.8-2.07 0-2.86zM5.41 20L4 18.59l7.72-7.72 1.47 1.35L5.41 20z\"/>\n",
              "  </svg>\n",
              "      </button>\n",
              "      \n",
              "  <style>\n",
              "    .colab-df-container {\n",
              "      display:flex;\n",
              "      flex-wrap:wrap;\n",
              "      gap: 12px;\n",
              "    }\n",
              "\n",
              "    .colab-df-convert {\n",
              "      background-color: #E8F0FE;\n",
              "      border: none;\n",
              "      border-radius: 50%;\n",
              "      cursor: pointer;\n",
              "      display: none;\n",
              "      fill: #1967D2;\n",
              "      height: 32px;\n",
              "      padding: 0 0 0 0;\n",
              "      width: 32px;\n",
              "    }\n",
              "\n",
              "    .colab-df-convert:hover {\n",
              "      background-color: #E2EBFA;\n",
              "      box-shadow: 0px 1px 2px rgba(60, 64, 67, 0.3), 0px 1px 3px 1px rgba(60, 64, 67, 0.15);\n",
              "      fill: #174EA6;\n",
              "    }\n",
              "\n",
              "    [theme=dark] .colab-df-convert {\n",
              "      background-color: #3B4455;\n",
              "      fill: #D2E3FC;\n",
              "    }\n",
              "\n",
              "    [theme=dark] .colab-df-convert:hover {\n",
              "      background-color: #434B5C;\n",
              "      box-shadow: 0px 1px 3px 1px rgba(0, 0, 0, 0.15);\n",
              "      filter: drop-shadow(0px 1px 2px rgba(0, 0, 0, 0.3));\n",
              "      fill: #FFFFFF;\n",
              "    }\n",
              "  </style>\n",
              "\n",
              "      <script>\n",
              "        const buttonEl =\n",
              "          document.querySelector('#df-66deaf1a-ca05-4947-87b2-726dece5593c button.colab-df-convert');\n",
              "        buttonEl.style.display =\n",
              "          google.colab.kernel.accessAllowed ? 'block' : 'none';\n",
              "\n",
              "        async function convertToInteractive(key) {\n",
              "          const element = document.querySelector('#df-66deaf1a-ca05-4947-87b2-726dece5593c');\n",
              "          const dataTable =\n",
              "            await google.colab.kernel.invokeFunction('convertToInteractive',\n",
              "                                                     [key], {});\n",
              "          if (!dataTable) return;\n",
              "\n",
              "          const docLinkHtml = 'Like what you see? Visit the ' +\n",
              "            '<a target=\"_blank\" href=https://colab.research.google.com/notebooks/data_table.ipynb>data table notebook</a>'\n",
              "            + ' to learn more about interactive tables.';\n",
              "          element.innerHTML = '';\n",
              "          dataTable['output_type'] = 'display_data';\n",
              "          await google.colab.output.renderOutput(dataTable, element);\n",
              "          const docLink = document.createElement('div');\n",
              "          docLink.innerHTML = docLinkHtml;\n",
              "          element.appendChild(docLink);\n",
              "        }\n",
              "      </script>\n",
              "    </div>\n",
              "  </div>\n",
              "  "
            ]
          },
          "metadata": {},
          "execution_count": 39
        }
      ]
    },
    {
      "cell_type": "markdown",
      "source": [
        "Analisando sobre a sub-categoria2 ‘Cell Phones & Smartphones’, verificamos vários aparelhos, de modelos distintos, preços variados, pois alguns modelos são obsoletos."
      ],
      "metadata": {
        "id": "6G1HJhKfdvM3"
      }
    },
    {
      "cell_type": "code",
      "source": [
        "Cell = apple[apple['sub2_cat'] == 'Cell Phones & Smartphones']"
      ],
      "metadata": {
        "id": "jItOhXKBcURG"
      },
      "execution_count": null,
      "outputs": []
    },
    {
      "cell_type": "code",
      "source": [
        "Cell"
      ],
      "metadata": {
        "id": "QptVyfpcc2mZ",
        "outputId": "e19969bc-bb53-4de2-a0f7-0135916b68e4",
        "colab": {
          "base_uri": "https://localhost:8080/",
          "height": 988
        }
      },
      "execution_count": null,
      "outputs": [
        {
          "output_type": "execute_result",
          "data": {
            "text/plain": [
              "                                name item_condition_id  \\\n",
              "149               LIKE NEW IPHONE 5C                 2   \n",
              "796                         iPhone 4                 3   \n",
              "1330     iPhone 6 64gb Gold (Sprint)                 3   \n",
              "1536                   iPhone 6 Plus                 2   \n",
              "1593                       iPhone 5c                 3   \n",
              "...                              ...               ...   \n",
              "1481376          iPod 5th generation                 2   \n",
              "1481408      IPhone 5s 32gb unlocked                 3   \n",
              "1481709   iPhone 5s Verizon unlocked                 5   \n",
              "1481811                     IPhone 6                 5   \n",
              "1482499                    iPhone 7+                 2   \n",
              "\n",
              "                                             category_name brand_name  price  \\\n",
              "149      Electronics/Cell Phones & Accessories/Cell Pho...      Apple  104.0   \n",
              "796      Electronics/Cell Phones & Accessories/Cell Pho...      Apple   30.0   \n",
              "1330     Electronics/Cell Phones & Accessories/Cell Pho...      Apple  305.0   \n",
              "1536     Electronics/Cell Phones & Accessories/Cell Pho...      Apple  310.0   \n",
              "1593     Electronics/Cell Phones & Accessories/Cell Pho...      Apple   34.0   \n",
              "...                                                    ...        ...    ...   \n",
              "1481376  Electronics/Cell Phones & Accessories/Cell Pho...      Apple   15.0   \n",
              "1481408  Electronics/Cell Phones & Accessories/Cell Pho...      Apple  167.0   \n",
              "1481709  Electronics/Cell Phones & Accessories/Cell Pho...      Apple   49.0   \n",
              "1481811  Electronics/Cell Phones & Accessories/Cell Pho...      Apple   40.0   \n",
              "1482499  Electronics/Cell Phones & Accessories/Cell Pho...      Apple  400.0   \n",
              "\n",
              "         shipping                                   item_description  stock  \\\n",
              "149             0  Just Upgraded So Now Finally Getting Rid Of My...     23   \n",
              "796             1      Black iPhone 4 for Verizon comes with charger      1   \n",
              "1330            1  Fully functional iPhone 6 64gb Rose Gold. Only...     20   \n",
              "1536            1  iPhone 6 Plus US Cellular. Clean ESN. Excellen...     44   \n",
              "1593            0  Blue iPhone 5c Screen Was Recently Replaced An...      9   \n",
              "...           ...                                                ...    ...   \n",
              "1481376         1  This iPod 5th generation is iCloud locked and ...     34   \n",
              "1481408         1  For sale is an Apple iphone 5S 32GB unlocked. ...     11   \n",
              "1481709         0  This phone is iCloud unlocked. It will also ne...     10   \n",
              "1481811         0  Activation lock cracked comes with case no cha...     11   \n",
              "1482499         1                                         For Serena      6   \n",
              "\n",
              "             gen_cat                   sub1_cat                   sub2_cat  \\\n",
              "149      Electronics  Cell Phones & Accessories  Cell Phones & Smartphones   \n",
              "796      Electronics  Cell Phones & Accessories  Cell Phones & Smartphones   \n",
              "1330     Electronics  Cell Phones & Accessories  Cell Phones & Smartphones   \n",
              "1536     Electronics  Cell Phones & Accessories  Cell Phones & Smartphones   \n",
              "1593     Electronics  Cell Phones & Accessories  Cell Phones & Smartphones   \n",
              "...              ...                        ...                        ...   \n",
              "1481376  Electronics  Cell Phones & Accessories  Cell Phones & Smartphones   \n",
              "1481408  Electronics  Cell Phones & Accessories  Cell Phones & Smartphones   \n",
              "1481709  Electronics  Cell Phones & Accessories  Cell Phones & Smartphones   \n",
              "1481811  Electronics  Cell Phones & Accessories  Cell Phones & Smartphones   \n",
              "1482499  Electronics  Cell Phones & Accessories  Cell Phones & Smartphones   \n",
              "\n",
              "        datetime_date  datetime_month  \n",
              "149               NaT             NaN  \n",
              "796        2018-06-12             6.0  \n",
              "1330       2018-07-02             7.0  \n",
              "1536       2018-02-06             2.0  \n",
              "1593       2018-04-15             4.0  \n",
              "...               ...             ...  \n",
              "1481376    2018-12-08            12.0  \n",
              "1481408    2018-04-20             4.0  \n",
              "1481709    2018-02-03             2.0  \n",
              "1481811    2018-04-14             4.0  \n",
              "1482499    2018-02-02             2.0  \n",
              "\n",
              "[4570 rows x 13 columns]"
            ],
            "text/html": [
              "\n",
              "  <div id=\"df-3ff715a4-cbb1-4c23-a32b-7cafedaf3722\">\n",
              "    <div class=\"colab-df-container\">\n",
              "      <div>\n",
              "<style scoped>\n",
              "    .dataframe tbody tr th:only-of-type {\n",
              "        vertical-align: middle;\n",
              "    }\n",
              "\n",
              "    .dataframe tbody tr th {\n",
              "        vertical-align: top;\n",
              "    }\n",
              "\n",
              "    .dataframe thead th {\n",
              "        text-align: right;\n",
              "    }\n",
              "</style>\n",
              "<table border=\"1\" class=\"dataframe\">\n",
              "  <thead>\n",
              "    <tr style=\"text-align: right;\">\n",
              "      <th></th>\n",
              "      <th>name</th>\n",
              "      <th>item_condition_id</th>\n",
              "      <th>category_name</th>\n",
              "      <th>brand_name</th>\n",
              "      <th>price</th>\n",
              "      <th>shipping</th>\n",
              "      <th>item_description</th>\n",
              "      <th>stock</th>\n",
              "      <th>gen_cat</th>\n",
              "      <th>sub1_cat</th>\n",
              "      <th>sub2_cat</th>\n",
              "      <th>datetime_date</th>\n",
              "      <th>datetime_month</th>\n",
              "    </tr>\n",
              "  </thead>\n",
              "  <tbody>\n",
              "    <tr>\n",
              "      <th>149</th>\n",
              "      <td>LIKE NEW IPHONE 5C</td>\n",
              "      <td>2</td>\n",
              "      <td>Electronics/Cell Phones &amp; Accessories/Cell Pho...</td>\n",
              "      <td>Apple</td>\n",
              "      <td>104.0</td>\n",
              "      <td>0</td>\n",
              "      <td>Just Upgraded So Now Finally Getting Rid Of My...</td>\n",
              "      <td>23</td>\n",
              "      <td>Electronics</td>\n",
              "      <td>Cell Phones &amp; Accessories</td>\n",
              "      <td>Cell Phones &amp; Smartphones</td>\n",
              "      <td>NaT</td>\n",
              "      <td>NaN</td>\n",
              "    </tr>\n",
              "    <tr>\n",
              "      <th>796</th>\n",
              "      <td>iPhone 4</td>\n",
              "      <td>3</td>\n",
              "      <td>Electronics/Cell Phones &amp; Accessories/Cell Pho...</td>\n",
              "      <td>Apple</td>\n",
              "      <td>30.0</td>\n",
              "      <td>1</td>\n",
              "      <td>Black iPhone 4 for Verizon comes with charger</td>\n",
              "      <td>1</td>\n",
              "      <td>Electronics</td>\n",
              "      <td>Cell Phones &amp; Accessories</td>\n",
              "      <td>Cell Phones &amp; Smartphones</td>\n",
              "      <td>2018-06-12</td>\n",
              "      <td>6.0</td>\n",
              "    </tr>\n",
              "    <tr>\n",
              "      <th>1330</th>\n",
              "      <td>iPhone 6 64gb Gold (Sprint)</td>\n",
              "      <td>3</td>\n",
              "      <td>Electronics/Cell Phones &amp; Accessories/Cell Pho...</td>\n",
              "      <td>Apple</td>\n",
              "      <td>305.0</td>\n",
              "      <td>1</td>\n",
              "      <td>Fully functional iPhone 6 64gb Rose Gold. Only...</td>\n",
              "      <td>20</td>\n",
              "      <td>Electronics</td>\n",
              "      <td>Cell Phones &amp; Accessories</td>\n",
              "      <td>Cell Phones &amp; Smartphones</td>\n",
              "      <td>2018-07-02</td>\n",
              "      <td>7.0</td>\n",
              "    </tr>\n",
              "    <tr>\n",
              "      <th>1536</th>\n",
              "      <td>iPhone 6 Plus</td>\n",
              "      <td>2</td>\n",
              "      <td>Electronics/Cell Phones &amp; Accessories/Cell Pho...</td>\n",
              "      <td>Apple</td>\n",
              "      <td>310.0</td>\n",
              "      <td>1</td>\n",
              "      <td>iPhone 6 Plus US Cellular. Clean ESN. Excellen...</td>\n",
              "      <td>44</td>\n",
              "      <td>Electronics</td>\n",
              "      <td>Cell Phones &amp; Accessories</td>\n",
              "      <td>Cell Phones &amp; Smartphones</td>\n",
              "      <td>2018-02-06</td>\n",
              "      <td>2.0</td>\n",
              "    </tr>\n",
              "    <tr>\n",
              "      <th>1593</th>\n",
              "      <td>iPhone 5c</td>\n",
              "      <td>3</td>\n",
              "      <td>Electronics/Cell Phones &amp; Accessories/Cell Pho...</td>\n",
              "      <td>Apple</td>\n",
              "      <td>34.0</td>\n",
              "      <td>0</td>\n",
              "      <td>Blue iPhone 5c Screen Was Recently Replaced An...</td>\n",
              "      <td>9</td>\n",
              "      <td>Electronics</td>\n",
              "      <td>Cell Phones &amp; Accessories</td>\n",
              "      <td>Cell Phones &amp; Smartphones</td>\n",
              "      <td>2018-04-15</td>\n",
              "      <td>4.0</td>\n",
              "    </tr>\n",
              "    <tr>\n",
              "      <th>...</th>\n",
              "      <td>...</td>\n",
              "      <td>...</td>\n",
              "      <td>...</td>\n",
              "      <td>...</td>\n",
              "      <td>...</td>\n",
              "      <td>...</td>\n",
              "      <td>...</td>\n",
              "      <td>...</td>\n",
              "      <td>...</td>\n",
              "      <td>...</td>\n",
              "      <td>...</td>\n",
              "      <td>...</td>\n",
              "      <td>...</td>\n",
              "    </tr>\n",
              "    <tr>\n",
              "      <th>1481376</th>\n",
              "      <td>iPod 5th generation</td>\n",
              "      <td>2</td>\n",
              "      <td>Electronics/Cell Phones &amp; Accessories/Cell Pho...</td>\n",
              "      <td>Apple</td>\n",
              "      <td>15.0</td>\n",
              "      <td>1</td>\n",
              "      <td>This iPod 5th generation is iCloud locked and ...</td>\n",
              "      <td>34</td>\n",
              "      <td>Electronics</td>\n",
              "      <td>Cell Phones &amp; Accessories</td>\n",
              "      <td>Cell Phones &amp; Smartphones</td>\n",
              "      <td>2018-12-08</td>\n",
              "      <td>12.0</td>\n",
              "    </tr>\n",
              "    <tr>\n",
              "      <th>1481408</th>\n",
              "      <td>IPhone 5s 32gb unlocked</td>\n",
              "      <td>3</td>\n",
              "      <td>Electronics/Cell Phones &amp; Accessories/Cell Pho...</td>\n",
              "      <td>Apple</td>\n",
              "      <td>167.0</td>\n",
              "      <td>1</td>\n",
              "      <td>For sale is an Apple iphone 5S 32GB unlocked. ...</td>\n",
              "      <td>11</td>\n",
              "      <td>Electronics</td>\n",
              "      <td>Cell Phones &amp; Accessories</td>\n",
              "      <td>Cell Phones &amp; Smartphones</td>\n",
              "      <td>2018-04-20</td>\n",
              "      <td>4.0</td>\n",
              "    </tr>\n",
              "    <tr>\n",
              "      <th>1481709</th>\n",
              "      <td>iPhone 5s Verizon unlocked</td>\n",
              "      <td>5</td>\n",
              "      <td>Electronics/Cell Phones &amp; Accessories/Cell Pho...</td>\n",
              "      <td>Apple</td>\n",
              "      <td>49.0</td>\n",
              "      <td>0</td>\n",
              "      <td>This phone is iCloud unlocked. It will also ne...</td>\n",
              "      <td>10</td>\n",
              "      <td>Electronics</td>\n",
              "      <td>Cell Phones &amp; Accessories</td>\n",
              "      <td>Cell Phones &amp; Smartphones</td>\n",
              "      <td>2018-02-03</td>\n",
              "      <td>2.0</td>\n",
              "    </tr>\n",
              "    <tr>\n",
              "      <th>1481811</th>\n",
              "      <td>IPhone 6</td>\n",
              "      <td>5</td>\n",
              "      <td>Electronics/Cell Phones &amp; Accessories/Cell Pho...</td>\n",
              "      <td>Apple</td>\n",
              "      <td>40.0</td>\n",
              "      <td>0</td>\n",
              "      <td>Activation lock cracked comes with case no cha...</td>\n",
              "      <td>11</td>\n",
              "      <td>Electronics</td>\n",
              "      <td>Cell Phones &amp; Accessories</td>\n",
              "      <td>Cell Phones &amp; Smartphones</td>\n",
              "      <td>2018-04-14</td>\n",
              "      <td>4.0</td>\n",
              "    </tr>\n",
              "    <tr>\n",
              "      <th>1482499</th>\n",
              "      <td>iPhone 7+</td>\n",
              "      <td>2</td>\n",
              "      <td>Electronics/Cell Phones &amp; Accessories/Cell Pho...</td>\n",
              "      <td>Apple</td>\n",
              "      <td>400.0</td>\n",
              "      <td>1</td>\n",
              "      <td>For Serena</td>\n",
              "      <td>6</td>\n",
              "      <td>Electronics</td>\n",
              "      <td>Cell Phones &amp; Accessories</td>\n",
              "      <td>Cell Phones &amp; Smartphones</td>\n",
              "      <td>2018-02-02</td>\n",
              "      <td>2.0</td>\n",
              "    </tr>\n",
              "  </tbody>\n",
              "</table>\n",
              "<p>4570 rows × 13 columns</p>\n",
              "</div>\n",
              "      <button class=\"colab-df-convert\" onclick=\"convertToInteractive('df-3ff715a4-cbb1-4c23-a32b-7cafedaf3722')\"\n",
              "              title=\"Convert this dataframe to an interactive table.\"\n",
              "              style=\"display:none;\">\n",
              "        \n",
              "  <svg xmlns=\"http://www.w3.org/2000/svg\" height=\"24px\"viewBox=\"0 0 24 24\"\n",
              "       width=\"24px\">\n",
              "    <path d=\"M0 0h24v24H0V0z\" fill=\"none\"/>\n",
              "    <path d=\"M18.56 5.44l.94 2.06.94-2.06 2.06-.94-2.06-.94-.94-2.06-.94 2.06-2.06.94zm-11 1L8.5 8.5l.94-2.06 2.06-.94-2.06-.94L8.5 2.5l-.94 2.06-2.06.94zm10 10l.94 2.06.94-2.06 2.06-.94-2.06-.94-.94-2.06-.94 2.06-2.06.94z\"/><path d=\"M17.41 7.96l-1.37-1.37c-.4-.4-.92-.59-1.43-.59-.52 0-1.04.2-1.43.59L10.3 9.45l-7.72 7.72c-.78.78-.78 2.05 0 2.83L4 21.41c.39.39.9.59 1.41.59.51 0 1.02-.2 1.41-.59l7.78-7.78 2.81-2.81c.8-.78.8-2.07 0-2.86zM5.41 20L4 18.59l7.72-7.72 1.47 1.35L5.41 20z\"/>\n",
              "  </svg>\n",
              "      </button>\n",
              "      \n",
              "  <style>\n",
              "    .colab-df-container {\n",
              "      display:flex;\n",
              "      flex-wrap:wrap;\n",
              "      gap: 12px;\n",
              "    }\n",
              "\n",
              "    .colab-df-convert {\n",
              "      background-color: #E8F0FE;\n",
              "      border: none;\n",
              "      border-radius: 50%;\n",
              "      cursor: pointer;\n",
              "      display: none;\n",
              "      fill: #1967D2;\n",
              "      height: 32px;\n",
              "      padding: 0 0 0 0;\n",
              "      width: 32px;\n",
              "    }\n",
              "\n",
              "    .colab-df-convert:hover {\n",
              "      background-color: #E2EBFA;\n",
              "      box-shadow: 0px 1px 2px rgba(60, 64, 67, 0.3), 0px 1px 3px 1px rgba(60, 64, 67, 0.15);\n",
              "      fill: #174EA6;\n",
              "    }\n",
              "\n",
              "    [theme=dark] .colab-df-convert {\n",
              "      background-color: #3B4455;\n",
              "      fill: #D2E3FC;\n",
              "    }\n",
              "\n",
              "    [theme=dark] .colab-df-convert:hover {\n",
              "      background-color: #434B5C;\n",
              "      box-shadow: 0px 1px 3px 1px rgba(0, 0, 0, 0.15);\n",
              "      filter: drop-shadow(0px 1px 2px rgba(0, 0, 0, 0.3));\n",
              "      fill: #FFFFFF;\n",
              "    }\n",
              "  </style>\n",
              "\n",
              "      <script>\n",
              "        const buttonEl =\n",
              "          document.querySelector('#df-3ff715a4-cbb1-4c23-a32b-7cafedaf3722 button.colab-df-convert');\n",
              "        buttonEl.style.display =\n",
              "          google.colab.kernel.accessAllowed ? 'block' : 'none';\n",
              "\n",
              "        async function convertToInteractive(key) {\n",
              "          const element = document.querySelector('#df-3ff715a4-cbb1-4c23-a32b-7cafedaf3722');\n",
              "          const dataTable =\n",
              "            await google.colab.kernel.invokeFunction('convertToInteractive',\n",
              "                                                     [key], {});\n",
              "          if (!dataTable) return;\n",
              "\n",
              "          const docLinkHtml = 'Like what you see? Visit the ' +\n",
              "            '<a target=\"_blank\" href=https://colab.research.google.com/notebooks/data_table.ipynb>data table notebook</a>'\n",
              "            + ' to learn more about interactive tables.';\n",
              "          element.innerHTML = '';\n",
              "          dataTable['output_type'] = 'display_data';\n",
              "          await google.colab.output.renderOutput(dataTable, element);\n",
              "          const docLink = document.createElement('div');\n",
              "          docLink.innerHTML = docLinkHtml;\n",
              "          element.appendChild(docLink);\n",
              "        }\n",
              "      </script>\n",
              "    </div>\n",
              "  </div>\n",
              "  "
            ]
          },
          "metadata": {},
          "execution_count": 48
        }
      ]
    }
  ],
  "metadata": {
    "kernelspec": {
      "display_name": "Python 3.9.13 64-bit (microsoft store)",
      "language": "python",
      "name": "python3"
    },
    "language_info": {
      "codemirror_mode": {
        "name": "ipython",
        "version": 3
      },
      "file_extension": ".py",
      "mimetype": "text/x-python",
      "name": "python",
      "nbconvert_exporter": "python",
      "pygments_lexer": "ipython3",
      "version": "3.9.13"
    },
    "orig_nbformat": 4,
    "vscode": {
      "interpreter": {
        "hash": "ad7b75af0c7805cb18e35c82102a8f454a04b3bfd116e571cb4f5885c211fa58"
      }
    },
    "colab": {
      "provenance": [],
      "collapsed_sections": [],
      "include_colab_link": true
    }
  },
  "nbformat": 4,
  "nbformat_minor": 0
}